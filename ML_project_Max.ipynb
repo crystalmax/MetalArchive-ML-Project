{
 "cells": [
  {
   "cell_type": "markdown",
   "metadata": {},
   "source": [
    "# Machine Learning Project - MA Reviews Prediction"
   ]
  },
  {
   "cell_type": "markdown",
   "metadata": {},
   "source": [
    "## Overview & Objective"
   ]
  },
  {
   "cell_type": "markdown",
   "metadata": {},
   "source": [
    "  The dataset contains data collected from the https://www.metal-archives.com/, which is the 'Wikipedia' of metal music. Metal heads use this site to discover band information, ask for recommendations and write their reviews upon the albums.\n",
    "\n",
    "  This particular dataset collects all the bands and albums info from the 'Death Metal' genre. 3 tables are included: bands table, albums table and reviews table. In all there are over 20000 valid reviews.\n",
    "\n",
    "  The goal of this project is to use the given tables to predict the review score for each albums."
   ]
  },
  {
   "cell_type": "code",
   "execution_count": 1,
   "metadata": {},
   "outputs": [],
   "source": [
    "import pandas as pd\n",
    "import numpy as np\n",
    "import matplotlib.pyplot as plt\n",
    "import nltk\n",
    "from sklearn.feature_extraction.text import TfidfVectorizer\n",
    "from nltk.corpus import stopwords\n",
    "from nltk.sentiment.vader import SentimentIntensityAnalyzer\n",
    "from sklearn.model_selection import train_test_split\n",
    "from sklearn.model_selection import KFold\n",
    "from sklearn.linear_model import LogisticRegression\n",
    "from sklearn.tree import DecisionTreeClassifier\n",
    "from sklearn.ensemble import RandomForestClassifier\n",
    "from xgboost import XGBClassifier\n",
    "from sklearn.model_selection import GridSearchCV\n",
    "from sklearn.metrics import classification_report,precision_score,accuracy_score,f1_score\n",
    "\n",
    "%matplotlib inline"
   ]
  },
  {
   "cell_type": "code",
   "execution_count": 89,
   "metadata": {},
   "outputs": [],
   "source": [
    "albums = pd.read_csv('albums.csv')\n",
    "bands = pd.read_csv('bands.csv')\n",
    "reviews = pd.read_csv('reviews.csv')"
   ]
  },
  {
   "cell_type": "code",
   "execution_count": 145,
   "metadata": {},
   "outputs": [],
   "source": [
    "country_list = list(bands['country'].value_counts().head().index)\n",
    "bands['country']=bands['country'].apply(lambda x: x if x in country_list else 'Other')"
   ]
  },
  {
   "cell_type": "code",
   "execution_count": 90,
   "metadata": {},
   "outputs": [],
   "source": [
    "albums.drop(columns='id',inplace=True)\n",
    "reviews.drop(columns='id',inplace=True)"
   ]
  },
  {
   "cell_type": "code",
   "execution_count": 91,
   "metadata": {},
   "outputs": [],
   "source": [
    "data = reviews.merge(albums,how='left',left_on='album',right_index=True).merge(bands,how='left',left_on='band',right_on='id')"
   ]
  },
  {
   "cell_type": "code",
   "execution_count": 92,
   "metadata": {},
   "outputs": [],
   "source": [
    "data.rename(columns={'title_x':'review_title','title_y':'album_title','name':'band_name'},inplace=True)\n",
    "data.drop(columns='id',inplace=True)"
   ]
  },
  {
   "cell_type": "code",
   "execution_count": 82,
   "metadata": {},
   "outputs": [
    {
     "data": {
      "text/plain": [
       "album              0\n",
       "review_title       0\n",
       "score              0\n",
       "content            0\n",
       "band               0\n",
       "album_title        0\n",
       "year               0\n",
       "band_name          0\n",
       "country            0\n",
       "status             0\n",
       "formed_in        435\n",
       "genre              0\n",
       "theme           2867\n",
       "active           373\n",
       "dtype: int64"
      ]
     },
     "execution_count": 82,
     "metadata": {},
     "output_type": "execute_result"
    }
   ],
   "source": [
    "data.isnull().sum()"
   ]
  },
  {
   "cell_type": "code",
   "execution_count": 80,
   "metadata": {},
   "outputs": [
    {
     "data": {
      "text/html": [
       "<div>\n",
       "<style scoped>\n",
       "    .dataframe tbody tr th:only-of-type {\n",
       "        vertical-align: middle;\n",
       "    }\n",
       "\n",
       "    .dataframe tbody tr th {\n",
       "        vertical-align: top;\n",
       "    }\n",
       "\n",
       "    .dataframe thead th {\n",
       "        text-align: right;\n",
       "    }\n",
       "</style>\n",
       "<table border=\"1\" class=\"dataframe\">\n",
       "  <thead>\n",
       "    <tr style=\"text-align: right;\">\n",
       "      <th></th>\n",
       "      <th>album</th>\n",
       "      <th>review_title</th>\n",
       "      <th>score</th>\n",
       "      <th>content</th>\n",
       "      <th>band</th>\n",
       "      <th>album_title</th>\n",
       "      <th>year</th>\n",
       "      <th>band_name</th>\n",
       "      <th>country</th>\n",
       "      <th>status</th>\n",
       "      <th>formed_in</th>\n",
       "      <th>genre</th>\n",
       "      <th>theme</th>\n",
       "      <th>active</th>\n",
       "    </tr>\n",
       "  </thead>\n",
       "  <tbody>\n",
       "    <tr>\n",
       "      <td>0</td>\n",
       "      <td>4</td>\n",
       "      <td>The Killer Count Just Keeps Rising</td>\n",
       "      <td>0.88</td>\n",
       "      <td>When I first threw this on I really didnt know...</td>\n",
       "      <td>7</td>\n",
       "      <td>Génesis &amp; horror</td>\n",
       "      <td>2002</td>\n",
       "      <td>1917</td>\n",
       "      <td>Argentina</td>\n",
       "      <td>Active</td>\n",
       "      <td>1994.0</td>\n",
       "      <td>Death Metal</td>\n",
       "      <td>Dark Philosophical Poetry| Art| Religion| Psyc...</td>\n",
       "      <td>1994-present</td>\n",
       "    </tr>\n",
       "    <tr>\n",
       "      <td>1</td>\n",
       "      <td>5</td>\n",
       "      <td>A gem of heterogeneous death metal...</td>\n",
       "      <td>0.96</td>\n",
       "      <td>Several years ago I bought from a band member|...</td>\n",
       "      <td>7</td>\n",
       "      <td>Vision</td>\n",
       "      <td>2004</td>\n",
       "      <td>1917</td>\n",
       "      <td>Argentina</td>\n",
       "      <td>Active</td>\n",
       "      <td>1994.0</td>\n",
       "      <td>Death Metal</td>\n",
       "      <td>Dark Philosophical Poetry| Art| Religion| Psyc...</td>\n",
       "      <td>1994-present</td>\n",
       "    </tr>\n",
       "    <tr>\n",
       "      <td>2</td>\n",
       "      <td>8</td>\n",
       "      <td>Fantasic| if mostly for its influences</td>\n",
       "      <td>0.83</td>\n",
       "      <td>What a wonderful release this is. ‘Vox Fatum’ ...</td>\n",
       "      <td>7</td>\n",
       "      <td>Brutal Miserable Drama</td>\n",
       "      <td>2010</td>\n",
       "      <td>1917</td>\n",
       "      <td>Argentina</td>\n",
       "      <td>Active</td>\n",
       "      <td>1994.0</td>\n",
       "      <td>Death Metal</td>\n",
       "      <td>Dark Philosophical Poetry| Art| Religion| Psyc...</td>\n",
       "      <td>1994-present</td>\n",
       "    </tr>\n",
       "    <tr>\n",
       "      <td>3</td>\n",
       "      <td>45</td>\n",
       "      <td>A rare| lost hidden gem</td>\n",
       "      <td>0.80</td>\n",
       "      <td>Picture this: crushing| brutal death metal| wi...</td>\n",
       "      <td>43</td>\n",
       "      <td>Virtus Diaboli</td>\n",
       "      <td>2013</td>\n",
       "      <td>Abdicated</td>\n",
       "      <td>Brazil</td>\n",
       "      <td>Active</td>\n",
       "      <td>2009.0</td>\n",
       "      <td>Death Metal</td>\n",
       "      <td>Evil| Anti-Christianity| Satanism</td>\n",
       "      <td>2009-present</td>\n",
       "    </tr>\n",
       "    <tr>\n",
       "      <td>4</td>\n",
       "      <td>54</td>\n",
       "      <td>Pure| but flayed and covered in soot</td>\n",
       "      <td>0.92</td>\n",
       "      <td>Abhordium's When Depravity Incarnates is an ex...</td>\n",
       "      <td>60</td>\n",
       "      <td>You Only Die Once</td>\n",
       "      <td>2015</td>\n",
       "      <td>Abhorrent Aggression</td>\n",
       "      <td>United States</td>\n",
       "      <td>Split-up</td>\n",
       "      <td>2012.0</td>\n",
       "      <td>Death Metal</td>\n",
       "      <td>NaN</td>\n",
       "      <td>2012-2015</td>\n",
       "    </tr>\n",
       "  </tbody>\n",
       "</table>\n",
       "</div>"
      ],
      "text/plain": [
       "   album                            review_title  score  \\\n",
       "0      4      The Killer Count Just Keeps Rising   0.88   \n",
       "1      5   A gem of heterogeneous death metal...   0.96   \n",
       "2      8  Fantasic| if mostly for its influences   0.83   \n",
       "3     45                 A rare| lost hidden gem   0.80   \n",
       "4     54    Pure| but flayed and covered in soot   0.92   \n",
       "\n",
       "                                             content  band  \\\n",
       "0  When I first threw this on I really didnt know...     7   \n",
       "1  Several years ago I bought from a band member|...     7   \n",
       "2  What a wonderful release this is. ‘Vox Fatum’ ...     7   \n",
       "3  Picture this: crushing| brutal death metal| wi...    43   \n",
       "4  Abhordium's When Depravity Incarnates is an ex...    60   \n",
       "\n",
       "              album_title  year             band_name        country  \\\n",
       "0        Génesis & horror  2002                  1917      Argentina   \n",
       "1                  Vision  2004                  1917      Argentina   \n",
       "2  Brutal Miserable Drama  2010                  1917      Argentina   \n",
       "3          Virtus Diaboli  2013             Abdicated         Brazil   \n",
       "4       You Only Die Once  2015  Abhorrent Aggression  United States   \n",
       "\n",
       "     status  formed_in        genre  \\\n",
       "0    Active     1994.0  Death Metal   \n",
       "1    Active     1994.0  Death Metal   \n",
       "2    Active     1994.0  Death Metal   \n",
       "3    Active     2009.0  Death Metal   \n",
       "4  Split-up     2012.0  Death Metal   \n",
       "\n",
       "                                               theme        active  \n",
       "0  Dark Philosophical Poetry| Art| Religion| Psyc...  1994-present  \n",
       "1  Dark Philosophical Poetry| Art| Religion| Psyc...  1994-present  \n",
       "2  Dark Philosophical Poetry| Art| Religion| Psyc...  1994-present  \n",
       "3                  Evil| Anti-Christianity| Satanism  2009-present  \n",
       "4                                                NaN     2012-2015  "
      ]
     },
     "execution_count": 80,
     "metadata": {},
     "output_type": "execute_result"
    }
   ],
   "source": [
    "data.head()"
   ]
  },
  {
   "cell_type": "markdown",
   "metadata": {},
   "source": [
    "## Data Cleaning"
   ]
  },
  {
   "cell_type": "markdown",
   "metadata": {},
   "source": [
    "- Original table has so many sub-genres, extract the main stream genres and convert rest as 'Other'\n",
    "- Convert 'status' to 'active' and 'non-active'\n",
    "- Extract the 5 most frequent countries and convert rest as 'Other'\n",
    "- Convert 'year' to categorical features\n",
    "- There are NaN values in 'formed_in' column, use the first album year as formed year\n",
    "- For active bands, use 2019 as end year, for non-active bands, use split-up year as end year"
   ]
  },
  {
   "cell_type": "code",
   "execution_count": 93,
   "metadata": {},
   "outputs": [],
   "source": [
    "genre_list = ['Doom','Progressive','Technical','Black','Melodic','Thrash','Brutal']"
   ]
  },
  {
   "cell_type": "code",
   "execution_count": 94,
   "metadata": {},
   "outputs": [],
   "source": [
    "for i in genre_list:\n",
    "    data['genre'] = data.apply(lambda x: f'{i}/Death Metal' if i in x['genre'] else x['genre'],axis=1)"
   ]
  },
  {
   "cell_type": "code",
   "execution_count": 95,
   "metadata": {},
   "outputs": [],
   "source": [
    "data['genre'] = \\\n",
    "data.apply(lambda x: 'Other Genre' if x['genre'] not in ['Death Metal','Doom/Death Metal','Progressive Death Metal',\n",
    "                                                     'Technical Death Metal','Black/Death Metal','Melodic Death Metal',\n",
    "                                                     'Thrash/Death Metal','Symphonic Death Metal','Brutal Death Metal'\n",
    "                                                     ] else x['genre'],axis=1)"
   ]
  },
  {
   "cell_type": "code",
   "execution_count": 96,
   "metadata": {},
   "outputs": [],
   "source": [
    "data['active_status'] = data['status'].apply(lambda x:'Non-Active' if x!='Active' else x)"
   ]
  },
  {
   "cell_type": "code",
   "execution_count": 97,
   "metadata": {},
   "outputs": [],
   "source": [
    "country_list = list(data['country'].value_counts().head().index)\n",
    "data['country']=data['country'].apply(lambda x: x if x in country_list else 'Other')"
   ]
  },
  {
   "cell_type": "code",
   "execution_count": 98,
   "metadata": {},
   "outputs": [],
   "source": [
    "data['theme'] = data['theme'].apply(lambda x:str(x).replace('|',','))\n",
    "data['review_title'] = data['review_title'].apply(lambda x:str(x).replace('|',','))\n",
    "data['content'] = data['content'].apply(lambda x:str(x).replace('|',','))"
   ]
  },
  {
   "cell_type": "code",
   "execution_count": 99,
   "metadata": {},
   "outputs": [],
   "source": [
    "def cate_year(x):\n",
    "    if 1995>=x>=1985:\n",
    "        return '1985-1995'\n",
    "    elif 2005>=x>1995:\n",
    "        return '1995-2005'\n",
    "    else:\n",
    "        return '2005-Now'\n",
    "    \n",
    "data['year_cate'] = data['year'].apply(cate_year)"
   ]
  },
  {
   "cell_type": "code",
   "execution_count": 100,
   "metadata": {},
   "outputs": [],
   "source": [
    "data['ended_in'] = data.apply(lambda x:str(x['active']).split('|')[-1].split('-')[-1]\\\n",
    "                   if x['status']=='Split-up' else '2019',axis=1)\n",
    "data['ended_in'] = data['ended_in'].str.replace('?','2019').replace('nan','2019')\n",
    "data['ended_in'] = data['ended_in'].apply(lambda x: int(x[:4]) if 'as' in x else int(x))"
   ]
  },
  {
   "cell_type": "code",
   "execution_count": 101,
   "metadata": {},
   "outputs": [],
   "source": [
    "data = data.merge(\n",
    "    data[data['formed_in'].isnull()].groupby('band').agg({'year':'min'})\n",
    "    .reset_index().rename(columns={'year':'first_album_year'}),how='left',left_on='band',right_on='band')"
   ]
  },
  {
   "cell_type": "code",
   "execution_count": 102,
   "metadata": {},
   "outputs": [],
   "source": [
    "data['formed_in'] = data.apply(lambda x:int(x['first_album_year']) if str(x['first_album_year'])!='nan' \n",
    "                               else int(x['formed_in']),axis=1)\n",
    "data.drop(columns='first_album_year',inplace=True)"
   ]
  },
  {
   "cell_type": "markdown",
   "metadata": {},
   "source": [
    "## Data Exploration"
   ]
  },
  {
   "cell_type": "code",
   "execution_count": 83,
   "metadata": {},
   "outputs": [
    {
     "data": {
      "text/html": [
       "        <script type=\"text/javascript\">\n",
       "        window.PlotlyConfig = {MathJaxConfig: 'local'};\n",
       "        if (window.MathJax) {MathJax.Hub.Config({SVG: {font: \"STIX-Web\"}});}\n",
       "        if (typeof require !== 'undefined') {\n",
       "        require.undef(\"plotly\");\n",
       "        requirejs.config({\n",
       "            paths: {\n",
       "                'plotly': ['https://cdn.plot.ly/plotly-latest.min']\n",
       "            }\n",
       "        });\n",
       "        require(['plotly'], function(Plotly) {\n",
       "            window._Plotly = Plotly;\n",
       "        });\n",
       "        }\n",
       "        </script>\n",
       "        "
      ]
     },
     "metadata": {},
     "output_type": "display_data"
    }
   ],
   "source": [
    "import plotly.graph_objs as go\n",
    "import plotly.offline as py\n",
    "\n",
    "py.init_notebook_mode(connected=True)"
   ]
  },
  {
   "cell_type": "code",
   "execution_count": 116,
   "metadata": {},
   "outputs": [
    {
     "data": {
      "application/vnd.plotly.v1+json": {
       "config": {
        "linkText": "Export to plot.ly",
        "plotlyServerURL": "https://plot.ly",
        "showLink": false
       },
       "data": [
        {
         "text": [
          1,
          30,
          45,
          66,
          86,
          106,
          322,
          294,
          373,
          295
         ],
         "textposition": "outside",
         "type": "bar",
         "x": [
          1985,
          1986,
          1987,
          1988,
          1989,
          1990,
          1991,
          1992,
          1993,
          1994
         ],
         "y": [
          1,
          30,
          45,
          66,
          86,
          106,
          322,
          294,
          373,
          295
         ]
        }
       ],
       "layout": {
        "template": {
         "data": {
          "bar": [
           {
            "error_x": {
             "color": "#2a3f5f"
            },
            "error_y": {
             "color": "#2a3f5f"
            },
            "marker": {
             "line": {
              "color": "#E5ECF6",
              "width": 0.5
             }
            },
            "type": "bar"
           }
          ],
          "barpolar": [
           {
            "marker": {
             "line": {
              "color": "#E5ECF6",
              "width": 0.5
             }
            },
            "type": "barpolar"
           }
          ],
          "carpet": [
           {
            "aaxis": {
             "endlinecolor": "#2a3f5f",
             "gridcolor": "white",
             "linecolor": "white",
             "minorgridcolor": "white",
             "startlinecolor": "#2a3f5f"
            },
            "baxis": {
             "endlinecolor": "#2a3f5f",
             "gridcolor": "white",
             "linecolor": "white",
             "minorgridcolor": "white",
             "startlinecolor": "#2a3f5f"
            },
            "type": "carpet"
           }
          ],
          "choropleth": [
           {
            "colorbar": {
             "outlinewidth": 0,
             "ticks": ""
            },
            "type": "choropleth"
           }
          ],
          "contour": [
           {
            "colorbar": {
             "outlinewidth": 0,
             "ticks": ""
            },
            "colorscale": [
             [
              0,
              "#0d0887"
             ],
             [
              0.1111111111111111,
              "#46039f"
             ],
             [
              0.2222222222222222,
              "#7201a8"
             ],
             [
              0.3333333333333333,
              "#9c179e"
             ],
             [
              0.4444444444444444,
              "#bd3786"
             ],
             [
              0.5555555555555556,
              "#d8576b"
             ],
             [
              0.6666666666666666,
              "#ed7953"
             ],
             [
              0.7777777777777778,
              "#fb9f3a"
             ],
             [
              0.8888888888888888,
              "#fdca26"
             ],
             [
              1,
              "#f0f921"
             ]
            ],
            "type": "contour"
           }
          ],
          "contourcarpet": [
           {
            "colorbar": {
             "outlinewidth": 0,
             "ticks": ""
            },
            "type": "contourcarpet"
           }
          ],
          "heatmap": [
           {
            "colorbar": {
             "outlinewidth": 0,
             "ticks": ""
            },
            "colorscale": [
             [
              0,
              "#0d0887"
             ],
             [
              0.1111111111111111,
              "#46039f"
             ],
             [
              0.2222222222222222,
              "#7201a8"
             ],
             [
              0.3333333333333333,
              "#9c179e"
             ],
             [
              0.4444444444444444,
              "#bd3786"
             ],
             [
              0.5555555555555556,
              "#d8576b"
             ],
             [
              0.6666666666666666,
              "#ed7953"
             ],
             [
              0.7777777777777778,
              "#fb9f3a"
             ],
             [
              0.8888888888888888,
              "#fdca26"
             ],
             [
              1,
              "#f0f921"
             ]
            ],
            "type": "heatmap"
           }
          ],
          "heatmapgl": [
           {
            "colorbar": {
             "outlinewidth": 0,
             "ticks": ""
            },
            "colorscale": [
             [
              0,
              "#0d0887"
             ],
             [
              0.1111111111111111,
              "#46039f"
             ],
             [
              0.2222222222222222,
              "#7201a8"
             ],
             [
              0.3333333333333333,
              "#9c179e"
             ],
             [
              0.4444444444444444,
              "#bd3786"
             ],
             [
              0.5555555555555556,
              "#d8576b"
             ],
             [
              0.6666666666666666,
              "#ed7953"
             ],
             [
              0.7777777777777778,
              "#fb9f3a"
             ],
             [
              0.8888888888888888,
              "#fdca26"
             ],
             [
              1,
              "#f0f921"
             ]
            ],
            "type": "heatmapgl"
           }
          ],
          "histogram": [
           {
            "marker": {
             "colorbar": {
              "outlinewidth": 0,
              "ticks": ""
             }
            },
            "type": "histogram"
           }
          ],
          "histogram2d": [
           {
            "colorbar": {
             "outlinewidth": 0,
             "ticks": ""
            },
            "colorscale": [
             [
              0,
              "#0d0887"
             ],
             [
              0.1111111111111111,
              "#46039f"
             ],
             [
              0.2222222222222222,
              "#7201a8"
             ],
             [
              0.3333333333333333,
              "#9c179e"
             ],
             [
              0.4444444444444444,
              "#bd3786"
             ],
             [
              0.5555555555555556,
              "#d8576b"
             ],
             [
              0.6666666666666666,
              "#ed7953"
             ],
             [
              0.7777777777777778,
              "#fb9f3a"
             ],
             [
              0.8888888888888888,
              "#fdca26"
             ],
             [
              1,
              "#f0f921"
             ]
            ],
            "type": "histogram2d"
           }
          ],
          "histogram2dcontour": [
           {
            "colorbar": {
             "outlinewidth": 0,
             "ticks": ""
            },
            "colorscale": [
             [
              0,
              "#0d0887"
             ],
             [
              0.1111111111111111,
              "#46039f"
             ],
             [
              0.2222222222222222,
              "#7201a8"
             ],
             [
              0.3333333333333333,
              "#9c179e"
             ],
             [
              0.4444444444444444,
              "#bd3786"
             ],
             [
              0.5555555555555556,
              "#d8576b"
             ],
             [
              0.6666666666666666,
              "#ed7953"
             ],
             [
              0.7777777777777778,
              "#fb9f3a"
             ],
             [
              0.8888888888888888,
              "#fdca26"
             ],
             [
              1,
              "#f0f921"
             ]
            ],
            "type": "histogram2dcontour"
           }
          ],
          "mesh3d": [
           {
            "colorbar": {
             "outlinewidth": 0,
             "ticks": ""
            },
            "type": "mesh3d"
           }
          ],
          "parcoords": [
           {
            "line": {
             "colorbar": {
              "outlinewidth": 0,
              "ticks": ""
             }
            },
            "type": "parcoords"
           }
          ],
          "scatter": [
           {
            "marker": {
             "colorbar": {
              "outlinewidth": 0,
              "ticks": ""
             }
            },
            "type": "scatter"
           }
          ],
          "scatter3d": [
           {
            "line": {
             "colorbar": {
              "outlinewidth": 0,
              "ticks": ""
             }
            },
            "marker": {
             "colorbar": {
              "outlinewidth": 0,
              "ticks": ""
             }
            },
            "type": "scatter3d"
           }
          ],
          "scattercarpet": [
           {
            "marker": {
             "colorbar": {
              "outlinewidth": 0,
              "ticks": ""
             }
            },
            "type": "scattercarpet"
           }
          ],
          "scattergeo": [
           {
            "marker": {
             "colorbar": {
              "outlinewidth": 0,
              "ticks": ""
             }
            },
            "type": "scattergeo"
           }
          ],
          "scattergl": [
           {
            "marker": {
             "colorbar": {
              "outlinewidth": 0,
              "ticks": ""
             }
            },
            "type": "scattergl"
           }
          ],
          "scattermapbox": [
           {
            "marker": {
             "colorbar": {
              "outlinewidth": 0,
              "ticks": ""
             }
            },
            "type": "scattermapbox"
           }
          ],
          "scatterpolar": [
           {
            "marker": {
             "colorbar": {
              "outlinewidth": 0,
              "ticks": ""
             }
            },
            "type": "scatterpolar"
           }
          ],
          "scatterpolargl": [
           {
            "marker": {
             "colorbar": {
              "outlinewidth": 0,
              "ticks": ""
             }
            },
            "type": "scatterpolargl"
           }
          ],
          "scatterternary": [
           {
            "marker": {
             "colorbar": {
              "outlinewidth": 0,
              "ticks": ""
             }
            },
            "type": "scatterternary"
           }
          ],
          "surface": [
           {
            "colorbar": {
             "outlinewidth": 0,
             "ticks": ""
            },
            "colorscale": [
             [
              0,
              "#0d0887"
             ],
             [
              0.1111111111111111,
              "#46039f"
             ],
             [
              0.2222222222222222,
              "#7201a8"
             ],
             [
              0.3333333333333333,
              "#9c179e"
             ],
             [
              0.4444444444444444,
              "#bd3786"
             ],
             [
              0.5555555555555556,
              "#d8576b"
             ],
             [
              0.6666666666666666,
              "#ed7953"
             ],
             [
              0.7777777777777778,
              "#fb9f3a"
             ],
             [
              0.8888888888888888,
              "#fdca26"
             ],
             [
              1,
              "#f0f921"
             ]
            ],
            "type": "surface"
           }
          ],
          "table": [
           {
            "cells": {
             "fill": {
              "color": "#EBF0F8"
             },
             "line": {
              "color": "white"
             }
            },
            "header": {
             "fill": {
              "color": "#C8D4E3"
             },
             "line": {
              "color": "white"
             }
            },
            "type": "table"
           }
          ]
         },
         "layout": {
          "annotationdefaults": {
           "arrowcolor": "#2a3f5f",
           "arrowhead": 0,
           "arrowwidth": 1
          },
          "colorscale": {
           "diverging": [
            [
             0,
             "#8e0152"
            ],
            [
             0.1,
             "#c51b7d"
            ],
            [
             0.2,
             "#de77ae"
            ],
            [
             0.3,
             "#f1b6da"
            ],
            [
             0.4,
             "#fde0ef"
            ],
            [
             0.5,
             "#f7f7f7"
            ],
            [
             0.6,
             "#e6f5d0"
            ],
            [
             0.7,
             "#b8e186"
            ],
            [
             0.8,
             "#7fbc41"
            ],
            [
             0.9,
             "#4d9221"
            ],
            [
             1,
             "#276419"
            ]
           ],
           "sequential": [
            [
             0,
             "#0d0887"
            ],
            [
             0.1111111111111111,
             "#46039f"
            ],
            [
             0.2222222222222222,
             "#7201a8"
            ],
            [
             0.3333333333333333,
             "#9c179e"
            ],
            [
             0.4444444444444444,
             "#bd3786"
            ],
            [
             0.5555555555555556,
             "#d8576b"
            ],
            [
             0.6666666666666666,
             "#ed7953"
            ],
            [
             0.7777777777777778,
             "#fb9f3a"
            ],
            [
             0.8888888888888888,
             "#fdca26"
            ],
            [
             1,
             "#f0f921"
            ]
           ],
           "sequentialminus": [
            [
             0,
             "#0d0887"
            ],
            [
             0.1111111111111111,
             "#46039f"
            ],
            [
             0.2222222222222222,
             "#7201a8"
            ],
            [
             0.3333333333333333,
             "#9c179e"
            ],
            [
             0.4444444444444444,
             "#bd3786"
            ],
            [
             0.5555555555555556,
             "#d8576b"
            ],
            [
             0.6666666666666666,
             "#ed7953"
            ],
            [
             0.7777777777777778,
             "#fb9f3a"
            ],
            [
             0.8888888888888888,
             "#fdca26"
            ],
            [
             1,
             "#f0f921"
            ]
           ]
          },
          "colorway": [
           "#636efa",
           "#EF553B",
           "#00cc96",
           "#ab63fa",
           "#FFA15A",
           "#19d3f3",
           "#FF6692",
           "#B6E880",
           "#FF97FF",
           "#FECB52"
          ],
          "font": {
           "color": "#2a3f5f"
          },
          "geo": {
           "bgcolor": "white",
           "lakecolor": "white",
           "landcolor": "#E5ECF6",
           "showlakes": true,
           "showland": true,
           "subunitcolor": "white"
          },
          "hoverlabel": {
           "align": "left"
          },
          "hovermode": "closest",
          "mapbox": {
           "style": "light"
          },
          "paper_bgcolor": "white",
          "plot_bgcolor": "#E5ECF6",
          "polar": {
           "angularaxis": {
            "gridcolor": "white",
            "linecolor": "white",
            "ticks": ""
           },
           "bgcolor": "#E5ECF6",
           "radialaxis": {
            "gridcolor": "white",
            "linecolor": "white",
            "ticks": ""
           }
          },
          "scene": {
           "xaxis": {
            "backgroundcolor": "#E5ECF6",
            "gridcolor": "white",
            "gridwidth": 2,
            "linecolor": "white",
            "showbackground": true,
            "ticks": "",
            "zerolinecolor": "white"
           },
           "yaxis": {
            "backgroundcolor": "#E5ECF6",
            "gridcolor": "white",
            "gridwidth": 2,
            "linecolor": "white",
            "showbackground": true,
            "ticks": "",
            "zerolinecolor": "white"
           },
           "zaxis": {
            "backgroundcolor": "#E5ECF6",
            "gridcolor": "white",
            "gridwidth": 2,
            "linecolor": "white",
            "showbackground": true,
            "ticks": "",
            "zerolinecolor": "white"
           }
          },
          "shapedefaults": {
           "line": {
            "color": "#2a3f5f"
           }
          },
          "ternary": {
           "aaxis": {
            "gridcolor": "white",
            "linecolor": "white",
            "ticks": ""
           },
           "baxis": {
            "gridcolor": "white",
            "linecolor": "white",
            "ticks": ""
           },
           "bgcolor": "#E5ECF6",
           "caxis": {
            "gridcolor": "white",
            "linecolor": "white",
            "ticks": ""
           }
          },
          "title": {
           "x": 0.05
          },
          "xaxis": {
           "automargin": true,
           "gridcolor": "white",
           "linecolor": "white",
           "ticks": "",
           "zerolinecolor": "white",
           "zerolinewidth": 2
          },
          "yaxis": {
           "automargin": true,
           "gridcolor": "white",
           "linecolor": "white",
           "ticks": "",
           "zerolinecolor": "white",
           "zerolinewidth": 2
          }
         }
        },
        "title": {
         "text": "Albums Released by Year - Golden Years of Death Metal"
        },
        "xaxis": {
         "dtick": 1,
         "tick0": 1985,
         "tickmode": "linear",
         "title": {
          "text": "Year"
         }
        },
        "yaxis": {
         "title": {
          "text": "Album Count"
         }
        }
       }
      },
      "text/html": [
       "<div>\n",
       "        \n",
       "        \n",
       "            <div id=\"0c961b7d-d8cf-456a-81cb-577fec34e590\" class=\"plotly-graph-div\" style=\"height:525px; width:100%;\"></div>\n",
       "            <script type=\"text/javascript\">\n",
       "                require([\"plotly\"], function(Plotly) {\n",
       "                    window.PLOTLYENV=window.PLOTLYENV || {};\n",
       "                    \n",
       "                if (document.getElementById(\"0c961b7d-d8cf-456a-81cb-577fec34e590\")) {\n",
       "                    Plotly.newPlot(\n",
       "                        '0c961b7d-d8cf-456a-81cb-577fec34e590',\n",
       "                        [{\"text\": [1.0, 30.0, 45.0, 66.0, 86.0, 106.0, 322.0, 294.0, 373.0, 295.0], \"textposition\": \"outside\", \"type\": \"bar\", \"x\": [1985, 1986, 1987, 1988, 1989, 1990, 1991, 1992, 1993, 1994], \"y\": [1, 30, 45, 66, 86, 106, 322, 294, 373, 295]}],\n",
       "                        {\"template\": {\"data\": {\"bar\": [{\"error_x\": {\"color\": \"#2a3f5f\"}, \"error_y\": {\"color\": \"#2a3f5f\"}, \"marker\": {\"line\": {\"color\": \"#E5ECF6\", \"width\": 0.5}}, \"type\": \"bar\"}], \"barpolar\": [{\"marker\": {\"line\": {\"color\": \"#E5ECF6\", \"width\": 0.5}}, \"type\": \"barpolar\"}], \"carpet\": [{\"aaxis\": {\"endlinecolor\": \"#2a3f5f\", \"gridcolor\": \"white\", \"linecolor\": \"white\", \"minorgridcolor\": \"white\", \"startlinecolor\": \"#2a3f5f\"}, \"baxis\": {\"endlinecolor\": \"#2a3f5f\", \"gridcolor\": \"white\", \"linecolor\": \"white\", \"minorgridcolor\": \"white\", \"startlinecolor\": \"#2a3f5f\"}, \"type\": \"carpet\"}], \"choropleth\": [{\"colorbar\": {\"outlinewidth\": 0, \"ticks\": \"\"}, \"type\": \"choropleth\"}], \"contour\": [{\"colorbar\": {\"outlinewidth\": 0, \"ticks\": \"\"}, \"colorscale\": [[0.0, \"#0d0887\"], [0.1111111111111111, \"#46039f\"], [0.2222222222222222, \"#7201a8\"], [0.3333333333333333, \"#9c179e\"], [0.4444444444444444, \"#bd3786\"], [0.5555555555555556, \"#d8576b\"], [0.6666666666666666, \"#ed7953\"], [0.7777777777777778, \"#fb9f3a\"], [0.8888888888888888, \"#fdca26\"], [1.0, \"#f0f921\"]], \"type\": \"contour\"}], \"contourcarpet\": [{\"colorbar\": {\"outlinewidth\": 0, \"ticks\": \"\"}, \"type\": \"contourcarpet\"}], \"heatmap\": [{\"colorbar\": {\"outlinewidth\": 0, \"ticks\": \"\"}, \"colorscale\": [[0.0, \"#0d0887\"], [0.1111111111111111, \"#46039f\"], [0.2222222222222222, \"#7201a8\"], [0.3333333333333333, \"#9c179e\"], [0.4444444444444444, \"#bd3786\"], [0.5555555555555556, \"#d8576b\"], [0.6666666666666666, \"#ed7953\"], [0.7777777777777778, \"#fb9f3a\"], [0.8888888888888888, \"#fdca26\"], [1.0, \"#f0f921\"]], \"type\": \"heatmap\"}], \"heatmapgl\": [{\"colorbar\": {\"outlinewidth\": 0, \"ticks\": \"\"}, \"colorscale\": [[0.0, \"#0d0887\"], [0.1111111111111111, \"#46039f\"], [0.2222222222222222, \"#7201a8\"], [0.3333333333333333, \"#9c179e\"], [0.4444444444444444, \"#bd3786\"], [0.5555555555555556, \"#d8576b\"], [0.6666666666666666, \"#ed7953\"], [0.7777777777777778, \"#fb9f3a\"], [0.8888888888888888, \"#fdca26\"], [1.0, \"#f0f921\"]], \"type\": \"heatmapgl\"}], \"histogram\": [{\"marker\": {\"colorbar\": {\"outlinewidth\": 0, \"ticks\": \"\"}}, \"type\": \"histogram\"}], \"histogram2d\": [{\"colorbar\": {\"outlinewidth\": 0, \"ticks\": \"\"}, \"colorscale\": [[0.0, \"#0d0887\"], [0.1111111111111111, \"#46039f\"], [0.2222222222222222, \"#7201a8\"], [0.3333333333333333, \"#9c179e\"], [0.4444444444444444, \"#bd3786\"], [0.5555555555555556, \"#d8576b\"], [0.6666666666666666, \"#ed7953\"], [0.7777777777777778, \"#fb9f3a\"], [0.8888888888888888, \"#fdca26\"], [1.0, \"#f0f921\"]], \"type\": \"histogram2d\"}], \"histogram2dcontour\": [{\"colorbar\": {\"outlinewidth\": 0, \"ticks\": \"\"}, \"colorscale\": [[0.0, \"#0d0887\"], [0.1111111111111111, \"#46039f\"], [0.2222222222222222, \"#7201a8\"], [0.3333333333333333, \"#9c179e\"], [0.4444444444444444, \"#bd3786\"], [0.5555555555555556, \"#d8576b\"], [0.6666666666666666, \"#ed7953\"], [0.7777777777777778, \"#fb9f3a\"], [0.8888888888888888, \"#fdca26\"], [1.0, \"#f0f921\"]], \"type\": \"histogram2dcontour\"}], \"mesh3d\": [{\"colorbar\": {\"outlinewidth\": 0, \"ticks\": \"\"}, \"type\": \"mesh3d\"}], \"parcoords\": [{\"line\": {\"colorbar\": {\"outlinewidth\": 0, \"ticks\": \"\"}}, \"type\": \"parcoords\"}], \"scatter\": [{\"marker\": {\"colorbar\": {\"outlinewidth\": 0, \"ticks\": \"\"}}, \"type\": \"scatter\"}], \"scatter3d\": [{\"line\": {\"colorbar\": {\"outlinewidth\": 0, \"ticks\": \"\"}}, \"marker\": {\"colorbar\": {\"outlinewidth\": 0, \"ticks\": \"\"}}, \"type\": \"scatter3d\"}], \"scattercarpet\": [{\"marker\": {\"colorbar\": {\"outlinewidth\": 0, \"ticks\": \"\"}}, \"type\": \"scattercarpet\"}], \"scattergeo\": [{\"marker\": {\"colorbar\": {\"outlinewidth\": 0, \"ticks\": \"\"}}, \"type\": \"scattergeo\"}], \"scattergl\": [{\"marker\": {\"colorbar\": {\"outlinewidth\": 0, \"ticks\": \"\"}}, \"type\": \"scattergl\"}], \"scattermapbox\": [{\"marker\": {\"colorbar\": {\"outlinewidth\": 0, \"ticks\": \"\"}}, \"type\": \"scattermapbox\"}], \"scatterpolar\": [{\"marker\": {\"colorbar\": {\"outlinewidth\": 0, \"ticks\": \"\"}}, \"type\": \"scatterpolar\"}], \"scatterpolargl\": [{\"marker\": {\"colorbar\": {\"outlinewidth\": 0, \"ticks\": \"\"}}, \"type\": \"scatterpolargl\"}], \"scatterternary\": [{\"marker\": {\"colorbar\": {\"outlinewidth\": 0, \"ticks\": \"\"}}, \"type\": \"scatterternary\"}], \"surface\": [{\"colorbar\": {\"outlinewidth\": 0, \"ticks\": \"\"}, \"colorscale\": [[0.0, \"#0d0887\"], [0.1111111111111111, \"#46039f\"], [0.2222222222222222, \"#7201a8\"], [0.3333333333333333, \"#9c179e\"], [0.4444444444444444, \"#bd3786\"], [0.5555555555555556, \"#d8576b\"], [0.6666666666666666, \"#ed7953\"], [0.7777777777777778, \"#fb9f3a\"], [0.8888888888888888, \"#fdca26\"], [1.0, \"#f0f921\"]], \"type\": \"surface\"}], \"table\": [{\"cells\": {\"fill\": {\"color\": \"#EBF0F8\"}, \"line\": {\"color\": \"white\"}}, \"header\": {\"fill\": {\"color\": \"#C8D4E3\"}, \"line\": {\"color\": \"white\"}}, \"type\": \"table\"}]}, \"layout\": {\"annotationdefaults\": {\"arrowcolor\": \"#2a3f5f\", \"arrowhead\": 0, \"arrowwidth\": 1}, \"colorscale\": {\"diverging\": [[0, \"#8e0152\"], [0.1, \"#c51b7d\"], [0.2, \"#de77ae\"], [0.3, \"#f1b6da\"], [0.4, \"#fde0ef\"], [0.5, \"#f7f7f7\"], [0.6, \"#e6f5d0\"], [0.7, \"#b8e186\"], [0.8, \"#7fbc41\"], [0.9, \"#4d9221\"], [1, \"#276419\"]], \"sequential\": [[0.0, \"#0d0887\"], [0.1111111111111111, \"#46039f\"], [0.2222222222222222, \"#7201a8\"], [0.3333333333333333, \"#9c179e\"], [0.4444444444444444, \"#bd3786\"], [0.5555555555555556, \"#d8576b\"], [0.6666666666666666, \"#ed7953\"], [0.7777777777777778, \"#fb9f3a\"], [0.8888888888888888, \"#fdca26\"], [1.0, \"#f0f921\"]], \"sequentialminus\": [[0.0, \"#0d0887\"], [0.1111111111111111, \"#46039f\"], [0.2222222222222222, \"#7201a8\"], [0.3333333333333333, \"#9c179e\"], [0.4444444444444444, \"#bd3786\"], [0.5555555555555556, \"#d8576b\"], [0.6666666666666666, \"#ed7953\"], [0.7777777777777778, \"#fb9f3a\"], [0.8888888888888888, \"#fdca26\"], [1.0, \"#f0f921\"]]}, \"colorway\": [\"#636efa\", \"#EF553B\", \"#00cc96\", \"#ab63fa\", \"#FFA15A\", \"#19d3f3\", \"#FF6692\", \"#B6E880\", \"#FF97FF\", \"#FECB52\"], \"font\": {\"color\": \"#2a3f5f\"}, \"geo\": {\"bgcolor\": \"white\", \"lakecolor\": \"white\", \"landcolor\": \"#E5ECF6\", \"showlakes\": true, \"showland\": true, \"subunitcolor\": \"white\"}, \"hoverlabel\": {\"align\": \"left\"}, \"hovermode\": \"closest\", \"mapbox\": {\"style\": \"light\"}, \"paper_bgcolor\": \"white\", \"plot_bgcolor\": \"#E5ECF6\", \"polar\": {\"angularaxis\": {\"gridcolor\": \"white\", \"linecolor\": \"white\", \"ticks\": \"\"}, \"bgcolor\": \"#E5ECF6\", \"radialaxis\": {\"gridcolor\": \"white\", \"linecolor\": \"white\", \"ticks\": \"\"}}, \"scene\": {\"xaxis\": {\"backgroundcolor\": \"#E5ECF6\", \"gridcolor\": \"white\", \"gridwidth\": 2, \"linecolor\": \"white\", \"showbackground\": true, \"ticks\": \"\", \"zerolinecolor\": \"white\"}, \"yaxis\": {\"backgroundcolor\": \"#E5ECF6\", \"gridcolor\": \"white\", \"gridwidth\": 2, \"linecolor\": \"white\", \"showbackground\": true, \"ticks\": \"\", \"zerolinecolor\": \"white\"}, \"zaxis\": {\"backgroundcolor\": \"#E5ECF6\", \"gridcolor\": \"white\", \"gridwidth\": 2, \"linecolor\": \"white\", \"showbackground\": true, \"ticks\": \"\", \"zerolinecolor\": \"white\"}}, \"shapedefaults\": {\"line\": {\"color\": \"#2a3f5f\"}}, \"ternary\": {\"aaxis\": {\"gridcolor\": \"white\", \"linecolor\": \"white\", \"ticks\": \"\"}, \"baxis\": {\"gridcolor\": \"white\", \"linecolor\": \"white\", \"ticks\": \"\"}, \"bgcolor\": \"#E5ECF6\", \"caxis\": {\"gridcolor\": \"white\", \"linecolor\": \"white\", \"ticks\": \"\"}}, \"title\": {\"x\": 0.05}, \"xaxis\": {\"automargin\": true, \"gridcolor\": \"white\", \"linecolor\": \"white\", \"ticks\": \"\", \"zerolinecolor\": \"white\", \"zerolinewidth\": 2}, \"yaxis\": {\"automargin\": true, \"gridcolor\": \"white\", \"linecolor\": \"white\", \"ticks\": \"\", \"zerolinecolor\": \"white\", \"zerolinewidth\": 2}}}, \"title\": {\"text\": \"Albums Released by Year - Golden Years of Death Metal\"}, \"xaxis\": {\"dtick\": 1, \"tick0\": 1985, \"tickmode\": \"linear\", \"title\": {\"text\": \"Year\"}}, \"yaxis\": {\"title\": {\"text\": \"Album Count\"}}},\n",
       "                        {\"responsive\": true}\n",
       "                    ).then(function(){\n",
       "                            \n",
       "var gd = document.getElementById('0c961b7d-d8cf-456a-81cb-577fec34e590');\n",
       "var x = new MutationObserver(function (mutations, observer) {{\n",
       "        var display = window.getComputedStyle(gd).display;\n",
       "        if (!display || display === 'none') {{\n",
       "            console.log([gd, 'removed!']);\n",
       "            Plotly.purge(gd);\n",
       "            observer.disconnect();\n",
       "        }}\n",
       "}});\n",
       "\n",
       "// Listen for the removal of the full notebook cells\n",
       "var notebookContainer = gd.closest('#notebook-container');\n",
       "if (notebookContainer) {{\n",
       "    x.observe(notebookContainer, {childList: true});\n",
       "}}\n",
       "\n",
       "// Listen for the clearing of the current output cell\n",
       "var outputEl = gd.closest('.output');\n",
       "if (outputEl) {{\n",
       "    x.observe(outputEl, {childList: true});\n",
       "}}\n",
       "\n",
       "                        })\n",
       "                };\n",
       "                });\n",
       "            </script>\n",
       "        </div>"
      ]
     },
     "metadata": {},
     "output_type": "display_data"
    }
   ],
   "source": [
    "#Death metal was growing starting from 1985\n",
    "data_plot = go.Bar(\n",
    "    x=data['year'].value_counts().sort_index().head(10).index,\n",
    "    y=data['year'].value_counts().sort_index().head(10).values,\n",
    "    text=data['year'].value_counts().sort_index().head(10).values,\n",
    "    textposition='outside'\n",
    ")\n",
    "\n",
    "layout = go.Layout(\n",
    "    title='Albums Released by Year - Golden Years of Death Metal',\n",
    "    xaxis=dict(title='Year',\n",
    "              tickmode = 'linear',\n",
    "              tick0 = 1985,\n",
    "              dtick = 1),\n",
    "    yaxis={'title':'Album Count'}\n",
    ")\n",
    "\n",
    "fig = go.Figure(data=data_plot, layout=layout)\n",
    "\n",
    "py.iplot(fig)"
   ]
  },
  {
   "cell_type": "code",
   "execution_count": 115,
   "metadata": {},
   "outputs": [
    {
     "data": {
      "application/vnd.plotly.v1+json": {
       "config": {
        "linkText": "Export to plot.ly",
        "plotlyServerURL": "https://plot.ly",
        "showLink": false
       },
       "data": [
        {
         "hoverinfo": "label+percent",
         "labels": [
          "Active",
          "Split-up",
          "On hold",
          "Unknown",
          "Changed name",
          "Disputed"
         ],
         "text": [
          "Active",
          "Split-up",
          "On hold",
          "Unknown",
          "Changed name",
          "Disputed"
         ],
         "type": "pie",
         "values": [
          17299,
          3078,
          434,
          394,
          258,
          47
         ]
        }
       ],
       "layout": {
        "hovermode": "closest",
        "template": {
         "data": {
          "bar": [
           {
            "error_x": {
             "color": "#2a3f5f"
            },
            "error_y": {
             "color": "#2a3f5f"
            },
            "marker": {
             "line": {
              "color": "#E5ECF6",
              "width": 0.5
             }
            },
            "type": "bar"
           }
          ],
          "barpolar": [
           {
            "marker": {
             "line": {
              "color": "#E5ECF6",
              "width": 0.5
             }
            },
            "type": "barpolar"
           }
          ],
          "carpet": [
           {
            "aaxis": {
             "endlinecolor": "#2a3f5f",
             "gridcolor": "white",
             "linecolor": "white",
             "minorgridcolor": "white",
             "startlinecolor": "#2a3f5f"
            },
            "baxis": {
             "endlinecolor": "#2a3f5f",
             "gridcolor": "white",
             "linecolor": "white",
             "minorgridcolor": "white",
             "startlinecolor": "#2a3f5f"
            },
            "type": "carpet"
           }
          ],
          "choropleth": [
           {
            "colorbar": {
             "outlinewidth": 0,
             "ticks": ""
            },
            "type": "choropleth"
           }
          ],
          "contour": [
           {
            "colorbar": {
             "outlinewidth": 0,
             "ticks": ""
            },
            "colorscale": [
             [
              0,
              "#0d0887"
             ],
             [
              0.1111111111111111,
              "#46039f"
             ],
             [
              0.2222222222222222,
              "#7201a8"
             ],
             [
              0.3333333333333333,
              "#9c179e"
             ],
             [
              0.4444444444444444,
              "#bd3786"
             ],
             [
              0.5555555555555556,
              "#d8576b"
             ],
             [
              0.6666666666666666,
              "#ed7953"
             ],
             [
              0.7777777777777778,
              "#fb9f3a"
             ],
             [
              0.8888888888888888,
              "#fdca26"
             ],
             [
              1,
              "#f0f921"
             ]
            ],
            "type": "contour"
           }
          ],
          "contourcarpet": [
           {
            "colorbar": {
             "outlinewidth": 0,
             "ticks": ""
            },
            "type": "contourcarpet"
           }
          ],
          "heatmap": [
           {
            "colorbar": {
             "outlinewidth": 0,
             "ticks": ""
            },
            "colorscale": [
             [
              0,
              "#0d0887"
             ],
             [
              0.1111111111111111,
              "#46039f"
             ],
             [
              0.2222222222222222,
              "#7201a8"
             ],
             [
              0.3333333333333333,
              "#9c179e"
             ],
             [
              0.4444444444444444,
              "#bd3786"
             ],
             [
              0.5555555555555556,
              "#d8576b"
             ],
             [
              0.6666666666666666,
              "#ed7953"
             ],
             [
              0.7777777777777778,
              "#fb9f3a"
             ],
             [
              0.8888888888888888,
              "#fdca26"
             ],
             [
              1,
              "#f0f921"
             ]
            ],
            "type": "heatmap"
           }
          ],
          "heatmapgl": [
           {
            "colorbar": {
             "outlinewidth": 0,
             "ticks": ""
            },
            "colorscale": [
             [
              0,
              "#0d0887"
             ],
             [
              0.1111111111111111,
              "#46039f"
             ],
             [
              0.2222222222222222,
              "#7201a8"
             ],
             [
              0.3333333333333333,
              "#9c179e"
             ],
             [
              0.4444444444444444,
              "#bd3786"
             ],
             [
              0.5555555555555556,
              "#d8576b"
             ],
             [
              0.6666666666666666,
              "#ed7953"
             ],
             [
              0.7777777777777778,
              "#fb9f3a"
             ],
             [
              0.8888888888888888,
              "#fdca26"
             ],
             [
              1,
              "#f0f921"
             ]
            ],
            "type": "heatmapgl"
           }
          ],
          "histogram": [
           {
            "marker": {
             "colorbar": {
              "outlinewidth": 0,
              "ticks": ""
             }
            },
            "type": "histogram"
           }
          ],
          "histogram2d": [
           {
            "colorbar": {
             "outlinewidth": 0,
             "ticks": ""
            },
            "colorscale": [
             [
              0,
              "#0d0887"
             ],
             [
              0.1111111111111111,
              "#46039f"
             ],
             [
              0.2222222222222222,
              "#7201a8"
             ],
             [
              0.3333333333333333,
              "#9c179e"
             ],
             [
              0.4444444444444444,
              "#bd3786"
             ],
             [
              0.5555555555555556,
              "#d8576b"
             ],
             [
              0.6666666666666666,
              "#ed7953"
             ],
             [
              0.7777777777777778,
              "#fb9f3a"
             ],
             [
              0.8888888888888888,
              "#fdca26"
             ],
             [
              1,
              "#f0f921"
             ]
            ],
            "type": "histogram2d"
           }
          ],
          "histogram2dcontour": [
           {
            "colorbar": {
             "outlinewidth": 0,
             "ticks": ""
            },
            "colorscale": [
             [
              0,
              "#0d0887"
             ],
             [
              0.1111111111111111,
              "#46039f"
             ],
             [
              0.2222222222222222,
              "#7201a8"
             ],
             [
              0.3333333333333333,
              "#9c179e"
             ],
             [
              0.4444444444444444,
              "#bd3786"
             ],
             [
              0.5555555555555556,
              "#d8576b"
             ],
             [
              0.6666666666666666,
              "#ed7953"
             ],
             [
              0.7777777777777778,
              "#fb9f3a"
             ],
             [
              0.8888888888888888,
              "#fdca26"
             ],
             [
              1,
              "#f0f921"
             ]
            ],
            "type": "histogram2dcontour"
           }
          ],
          "mesh3d": [
           {
            "colorbar": {
             "outlinewidth": 0,
             "ticks": ""
            },
            "type": "mesh3d"
           }
          ],
          "parcoords": [
           {
            "line": {
             "colorbar": {
              "outlinewidth": 0,
              "ticks": ""
             }
            },
            "type": "parcoords"
           }
          ],
          "scatter": [
           {
            "marker": {
             "colorbar": {
              "outlinewidth": 0,
              "ticks": ""
             }
            },
            "type": "scatter"
           }
          ],
          "scatter3d": [
           {
            "line": {
             "colorbar": {
              "outlinewidth": 0,
              "ticks": ""
             }
            },
            "marker": {
             "colorbar": {
              "outlinewidth": 0,
              "ticks": ""
             }
            },
            "type": "scatter3d"
           }
          ],
          "scattercarpet": [
           {
            "marker": {
             "colorbar": {
              "outlinewidth": 0,
              "ticks": ""
             }
            },
            "type": "scattercarpet"
           }
          ],
          "scattergeo": [
           {
            "marker": {
             "colorbar": {
              "outlinewidth": 0,
              "ticks": ""
             }
            },
            "type": "scattergeo"
           }
          ],
          "scattergl": [
           {
            "marker": {
             "colorbar": {
              "outlinewidth": 0,
              "ticks": ""
             }
            },
            "type": "scattergl"
           }
          ],
          "scattermapbox": [
           {
            "marker": {
             "colorbar": {
              "outlinewidth": 0,
              "ticks": ""
             }
            },
            "type": "scattermapbox"
           }
          ],
          "scatterpolar": [
           {
            "marker": {
             "colorbar": {
              "outlinewidth": 0,
              "ticks": ""
             }
            },
            "type": "scatterpolar"
           }
          ],
          "scatterpolargl": [
           {
            "marker": {
             "colorbar": {
              "outlinewidth": 0,
              "ticks": ""
             }
            },
            "type": "scatterpolargl"
           }
          ],
          "scatterternary": [
           {
            "marker": {
             "colorbar": {
              "outlinewidth": 0,
              "ticks": ""
             }
            },
            "type": "scatterternary"
           }
          ],
          "surface": [
           {
            "colorbar": {
             "outlinewidth": 0,
             "ticks": ""
            },
            "colorscale": [
             [
              0,
              "#0d0887"
             ],
             [
              0.1111111111111111,
              "#46039f"
             ],
             [
              0.2222222222222222,
              "#7201a8"
             ],
             [
              0.3333333333333333,
              "#9c179e"
             ],
             [
              0.4444444444444444,
              "#bd3786"
             ],
             [
              0.5555555555555556,
              "#d8576b"
             ],
             [
              0.6666666666666666,
              "#ed7953"
             ],
             [
              0.7777777777777778,
              "#fb9f3a"
             ],
             [
              0.8888888888888888,
              "#fdca26"
             ],
             [
              1,
              "#f0f921"
             ]
            ],
            "type": "surface"
           }
          ],
          "table": [
           {
            "cells": {
             "fill": {
              "color": "#EBF0F8"
             },
             "line": {
              "color": "white"
             }
            },
            "header": {
             "fill": {
              "color": "#C8D4E3"
             },
             "line": {
              "color": "white"
             }
            },
            "type": "table"
           }
          ]
         },
         "layout": {
          "annotationdefaults": {
           "arrowcolor": "#2a3f5f",
           "arrowhead": 0,
           "arrowwidth": 1
          },
          "colorscale": {
           "diverging": [
            [
             0,
             "#8e0152"
            ],
            [
             0.1,
             "#c51b7d"
            ],
            [
             0.2,
             "#de77ae"
            ],
            [
             0.3,
             "#f1b6da"
            ],
            [
             0.4,
             "#fde0ef"
            ],
            [
             0.5,
             "#f7f7f7"
            ],
            [
             0.6,
             "#e6f5d0"
            ],
            [
             0.7,
             "#b8e186"
            ],
            [
             0.8,
             "#7fbc41"
            ],
            [
             0.9,
             "#4d9221"
            ],
            [
             1,
             "#276419"
            ]
           ],
           "sequential": [
            [
             0,
             "#0d0887"
            ],
            [
             0.1111111111111111,
             "#46039f"
            ],
            [
             0.2222222222222222,
             "#7201a8"
            ],
            [
             0.3333333333333333,
             "#9c179e"
            ],
            [
             0.4444444444444444,
             "#bd3786"
            ],
            [
             0.5555555555555556,
             "#d8576b"
            ],
            [
             0.6666666666666666,
             "#ed7953"
            ],
            [
             0.7777777777777778,
             "#fb9f3a"
            ],
            [
             0.8888888888888888,
             "#fdca26"
            ],
            [
             1,
             "#f0f921"
            ]
           ],
           "sequentialminus": [
            [
             0,
             "#0d0887"
            ],
            [
             0.1111111111111111,
             "#46039f"
            ],
            [
             0.2222222222222222,
             "#7201a8"
            ],
            [
             0.3333333333333333,
             "#9c179e"
            ],
            [
             0.4444444444444444,
             "#bd3786"
            ],
            [
             0.5555555555555556,
             "#d8576b"
            ],
            [
             0.6666666666666666,
             "#ed7953"
            ],
            [
             0.7777777777777778,
             "#fb9f3a"
            ],
            [
             0.8888888888888888,
             "#fdca26"
            ],
            [
             1,
             "#f0f921"
            ]
           ]
          },
          "colorway": [
           "#636efa",
           "#EF553B",
           "#00cc96",
           "#ab63fa",
           "#FFA15A",
           "#19d3f3",
           "#FF6692",
           "#B6E880",
           "#FF97FF",
           "#FECB52"
          ],
          "font": {
           "color": "#2a3f5f"
          },
          "geo": {
           "bgcolor": "white",
           "lakecolor": "white",
           "landcolor": "#E5ECF6",
           "showlakes": true,
           "showland": true,
           "subunitcolor": "white"
          },
          "hoverlabel": {
           "align": "left"
          },
          "hovermode": "closest",
          "mapbox": {
           "style": "light"
          },
          "paper_bgcolor": "white",
          "plot_bgcolor": "#E5ECF6",
          "polar": {
           "angularaxis": {
            "gridcolor": "white",
            "linecolor": "white",
            "ticks": ""
           },
           "bgcolor": "#E5ECF6",
           "radialaxis": {
            "gridcolor": "white",
            "linecolor": "white",
            "ticks": ""
           }
          },
          "scene": {
           "xaxis": {
            "backgroundcolor": "#E5ECF6",
            "gridcolor": "white",
            "gridwidth": 2,
            "linecolor": "white",
            "showbackground": true,
            "ticks": "",
            "zerolinecolor": "white"
           },
           "yaxis": {
            "backgroundcolor": "#E5ECF6",
            "gridcolor": "white",
            "gridwidth": 2,
            "linecolor": "white",
            "showbackground": true,
            "ticks": "",
            "zerolinecolor": "white"
           },
           "zaxis": {
            "backgroundcolor": "#E5ECF6",
            "gridcolor": "white",
            "gridwidth": 2,
            "linecolor": "white",
            "showbackground": true,
            "ticks": "",
            "zerolinecolor": "white"
           }
          },
          "shapedefaults": {
           "line": {
            "color": "#2a3f5f"
           }
          },
          "ternary": {
           "aaxis": {
            "gridcolor": "white",
            "linecolor": "white",
            "ticks": ""
           },
           "baxis": {
            "gridcolor": "white",
            "linecolor": "white",
            "ticks": ""
           },
           "bgcolor": "#E5ECF6",
           "caxis": {
            "gridcolor": "white",
            "linecolor": "white",
            "ticks": ""
           }
          },
          "title": {
           "x": 0.05
          },
          "xaxis": {
           "automargin": true,
           "gridcolor": "white",
           "linecolor": "white",
           "ticks": "",
           "zerolinecolor": "white",
           "zerolinewidth": 2
          },
          "yaxis": {
           "automargin": true,
           "gridcolor": "white",
           "linecolor": "white",
           "ticks": "",
           "zerolinecolor": "white",
           "zerolinewidth": 2
          }
         }
        },
        "title": {
         "text": "Status"
        }
       }
      },
      "text/html": [
       "<div>\n",
       "        \n",
       "        \n",
       "            <div id=\"076ebe44-547a-4f40-b744-f37526366fd7\" class=\"plotly-graph-div\" style=\"height:525px; width:100%;\"></div>\n",
       "            <script type=\"text/javascript\">\n",
       "                require([\"plotly\"], function(Plotly) {\n",
       "                    window.PLOTLYENV=window.PLOTLYENV || {};\n",
       "                    \n",
       "                if (document.getElementById(\"076ebe44-547a-4f40-b744-f37526366fd7\")) {\n",
       "                    Plotly.newPlot(\n",
       "                        '076ebe44-547a-4f40-b744-f37526366fd7',\n",
       "                        [{\"hoverinfo\": \"label+percent\", \"labels\": [\"Active\", \"Split-up\", \"On hold\", \"Unknown\", \"Changed name\", \"Disputed\"], \"text\": [\"Active\", \"Split-up\", \"On hold\", \"Unknown\", \"Changed name\", \"Disputed\"], \"type\": \"pie\", \"values\": [17299, 3078, 434, 394, 258, 47]}],\n",
       "                        {\"hovermode\": \"closest\", \"template\": {\"data\": {\"bar\": [{\"error_x\": {\"color\": \"#2a3f5f\"}, \"error_y\": {\"color\": \"#2a3f5f\"}, \"marker\": {\"line\": {\"color\": \"#E5ECF6\", \"width\": 0.5}}, \"type\": \"bar\"}], \"barpolar\": [{\"marker\": {\"line\": {\"color\": \"#E5ECF6\", \"width\": 0.5}}, \"type\": \"barpolar\"}], \"carpet\": [{\"aaxis\": {\"endlinecolor\": \"#2a3f5f\", \"gridcolor\": \"white\", \"linecolor\": \"white\", \"minorgridcolor\": \"white\", \"startlinecolor\": \"#2a3f5f\"}, \"baxis\": {\"endlinecolor\": \"#2a3f5f\", \"gridcolor\": \"white\", \"linecolor\": \"white\", \"minorgridcolor\": \"white\", \"startlinecolor\": \"#2a3f5f\"}, \"type\": \"carpet\"}], \"choropleth\": [{\"colorbar\": {\"outlinewidth\": 0, \"ticks\": \"\"}, \"type\": \"choropleth\"}], \"contour\": [{\"colorbar\": {\"outlinewidth\": 0, \"ticks\": \"\"}, \"colorscale\": [[0.0, \"#0d0887\"], [0.1111111111111111, \"#46039f\"], [0.2222222222222222, \"#7201a8\"], [0.3333333333333333, \"#9c179e\"], [0.4444444444444444, \"#bd3786\"], [0.5555555555555556, \"#d8576b\"], [0.6666666666666666, \"#ed7953\"], [0.7777777777777778, \"#fb9f3a\"], [0.8888888888888888, \"#fdca26\"], [1.0, \"#f0f921\"]], \"type\": \"contour\"}], \"contourcarpet\": [{\"colorbar\": {\"outlinewidth\": 0, \"ticks\": \"\"}, \"type\": \"contourcarpet\"}], \"heatmap\": [{\"colorbar\": {\"outlinewidth\": 0, \"ticks\": \"\"}, \"colorscale\": [[0.0, \"#0d0887\"], [0.1111111111111111, \"#46039f\"], [0.2222222222222222, \"#7201a8\"], [0.3333333333333333, \"#9c179e\"], [0.4444444444444444, \"#bd3786\"], [0.5555555555555556, \"#d8576b\"], [0.6666666666666666, \"#ed7953\"], [0.7777777777777778, \"#fb9f3a\"], [0.8888888888888888, \"#fdca26\"], [1.0, \"#f0f921\"]], \"type\": \"heatmap\"}], \"heatmapgl\": [{\"colorbar\": {\"outlinewidth\": 0, \"ticks\": \"\"}, \"colorscale\": [[0.0, \"#0d0887\"], [0.1111111111111111, \"#46039f\"], [0.2222222222222222, \"#7201a8\"], [0.3333333333333333, \"#9c179e\"], [0.4444444444444444, \"#bd3786\"], [0.5555555555555556, \"#d8576b\"], [0.6666666666666666, \"#ed7953\"], [0.7777777777777778, \"#fb9f3a\"], [0.8888888888888888, \"#fdca26\"], [1.0, \"#f0f921\"]], \"type\": \"heatmapgl\"}], \"histogram\": [{\"marker\": {\"colorbar\": {\"outlinewidth\": 0, \"ticks\": \"\"}}, \"type\": \"histogram\"}], \"histogram2d\": [{\"colorbar\": {\"outlinewidth\": 0, \"ticks\": \"\"}, \"colorscale\": [[0.0, \"#0d0887\"], [0.1111111111111111, \"#46039f\"], [0.2222222222222222, \"#7201a8\"], [0.3333333333333333, \"#9c179e\"], [0.4444444444444444, \"#bd3786\"], [0.5555555555555556, \"#d8576b\"], [0.6666666666666666, \"#ed7953\"], [0.7777777777777778, \"#fb9f3a\"], [0.8888888888888888, \"#fdca26\"], [1.0, \"#f0f921\"]], \"type\": \"histogram2d\"}], \"histogram2dcontour\": [{\"colorbar\": {\"outlinewidth\": 0, \"ticks\": \"\"}, \"colorscale\": [[0.0, \"#0d0887\"], [0.1111111111111111, \"#46039f\"], [0.2222222222222222, \"#7201a8\"], [0.3333333333333333, \"#9c179e\"], [0.4444444444444444, \"#bd3786\"], [0.5555555555555556, \"#d8576b\"], [0.6666666666666666, \"#ed7953\"], [0.7777777777777778, \"#fb9f3a\"], [0.8888888888888888, \"#fdca26\"], [1.0, \"#f0f921\"]], \"type\": \"histogram2dcontour\"}], \"mesh3d\": [{\"colorbar\": {\"outlinewidth\": 0, \"ticks\": \"\"}, \"type\": \"mesh3d\"}], \"parcoords\": [{\"line\": {\"colorbar\": {\"outlinewidth\": 0, \"ticks\": \"\"}}, \"type\": \"parcoords\"}], \"scatter\": [{\"marker\": {\"colorbar\": {\"outlinewidth\": 0, \"ticks\": \"\"}}, \"type\": \"scatter\"}], \"scatter3d\": [{\"line\": {\"colorbar\": {\"outlinewidth\": 0, \"ticks\": \"\"}}, \"marker\": {\"colorbar\": {\"outlinewidth\": 0, \"ticks\": \"\"}}, \"type\": \"scatter3d\"}], \"scattercarpet\": [{\"marker\": {\"colorbar\": {\"outlinewidth\": 0, \"ticks\": \"\"}}, \"type\": \"scattercarpet\"}], \"scattergeo\": [{\"marker\": {\"colorbar\": {\"outlinewidth\": 0, \"ticks\": \"\"}}, \"type\": \"scattergeo\"}], \"scattergl\": [{\"marker\": {\"colorbar\": {\"outlinewidth\": 0, \"ticks\": \"\"}}, \"type\": \"scattergl\"}], \"scattermapbox\": [{\"marker\": {\"colorbar\": {\"outlinewidth\": 0, \"ticks\": \"\"}}, \"type\": \"scattermapbox\"}], \"scatterpolar\": [{\"marker\": {\"colorbar\": {\"outlinewidth\": 0, \"ticks\": \"\"}}, \"type\": \"scatterpolar\"}], \"scatterpolargl\": [{\"marker\": {\"colorbar\": {\"outlinewidth\": 0, \"ticks\": \"\"}}, \"type\": \"scatterpolargl\"}], \"scatterternary\": [{\"marker\": {\"colorbar\": {\"outlinewidth\": 0, \"ticks\": \"\"}}, \"type\": \"scatterternary\"}], \"surface\": [{\"colorbar\": {\"outlinewidth\": 0, \"ticks\": \"\"}, \"colorscale\": [[0.0, \"#0d0887\"], [0.1111111111111111, \"#46039f\"], [0.2222222222222222, \"#7201a8\"], [0.3333333333333333, \"#9c179e\"], [0.4444444444444444, \"#bd3786\"], [0.5555555555555556, \"#d8576b\"], [0.6666666666666666, \"#ed7953\"], [0.7777777777777778, \"#fb9f3a\"], [0.8888888888888888, \"#fdca26\"], [1.0, \"#f0f921\"]], \"type\": \"surface\"}], \"table\": [{\"cells\": {\"fill\": {\"color\": \"#EBF0F8\"}, \"line\": {\"color\": \"white\"}}, \"header\": {\"fill\": {\"color\": \"#C8D4E3\"}, \"line\": {\"color\": \"white\"}}, \"type\": \"table\"}]}, \"layout\": {\"annotationdefaults\": {\"arrowcolor\": \"#2a3f5f\", \"arrowhead\": 0, \"arrowwidth\": 1}, \"colorscale\": {\"diverging\": [[0, \"#8e0152\"], [0.1, \"#c51b7d\"], [0.2, \"#de77ae\"], [0.3, \"#f1b6da\"], [0.4, \"#fde0ef\"], [0.5, \"#f7f7f7\"], [0.6, \"#e6f5d0\"], [0.7, \"#b8e186\"], [0.8, \"#7fbc41\"], [0.9, \"#4d9221\"], [1, \"#276419\"]], \"sequential\": [[0.0, \"#0d0887\"], [0.1111111111111111, \"#46039f\"], [0.2222222222222222, \"#7201a8\"], [0.3333333333333333, \"#9c179e\"], [0.4444444444444444, \"#bd3786\"], [0.5555555555555556, \"#d8576b\"], [0.6666666666666666, \"#ed7953\"], [0.7777777777777778, \"#fb9f3a\"], [0.8888888888888888, \"#fdca26\"], [1.0, \"#f0f921\"]], \"sequentialminus\": [[0.0, \"#0d0887\"], [0.1111111111111111, \"#46039f\"], [0.2222222222222222, \"#7201a8\"], [0.3333333333333333, \"#9c179e\"], [0.4444444444444444, \"#bd3786\"], [0.5555555555555556, \"#d8576b\"], [0.6666666666666666, \"#ed7953\"], [0.7777777777777778, \"#fb9f3a\"], [0.8888888888888888, \"#fdca26\"], [1.0, \"#f0f921\"]]}, \"colorway\": [\"#636efa\", \"#EF553B\", \"#00cc96\", \"#ab63fa\", \"#FFA15A\", \"#19d3f3\", \"#FF6692\", \"#B6E880\", \"#FF97FF\", \"#FECB52\"], \"font\": {\"color\": \"#2a3f5f\"}, \"geo\": {\"bgcolor\": \"white\", \"lakecolor\": \"white\", \"landcolor\": \"#E5ECF6\", \"showlakes\": true, \"showland\": true, \"subunitcolor\": \"white\"}, \"hoverlabel\": {\"align\": \"left\"}, \"hovermode\": \"closest\", \"mapbox\": {\"style\": \"light\"}, \"paper_bgcolor\": \"white\", \"plot_bgcolor\": \"#E5ECF6\", \"polar\": {\"angularaxis\": {\"gridcolor\": \"white\", \"linecolor\": \"white\", \"ticks\": \"\"}, \"bgcolor\": \"#E5ECF6\", \"radialaxis\": {\"gridcolor\": \"white\", \"linecolor\": \"white\", \"ticks\": \"\"}}, \"scene\": {\"xaxis\": {\"backgroundcolor\": \"#E5ECF6\", \"gridcolor\": \"white\", \"gridwidth\": 2, \"linecolor\": \"white\", \"showbackground\": true, \"ticks\": \"\", \"zerolinecolor\": \"white\"}, \"yaxis\": {\"backgroundcolor\": \"#E5ECF6\", \"gridcolor\": \"white\", \"gridwidth\": 2, \"linecolor\": \"white\", \"showbackground\": true, \"ticks\": \"\", \"zerolinecolor\": \"white\"}, \"zaxis\": {\"backgroundcolor\": \"#E5ECF6\", \"gridcolor\": \"white\", \"gridwidth\": 2, \"linecolor\": \"white\", \"showbackground\": true, \"ticks\": \"\", \"zerolinecolor\": \"white\"}}, \"shapedefaults\": {\"line\": {\"color\": \"#2a3f5f\"}}, \"ternary\": {\"aaxis\": {\"gridcolor\": \"white\", \"linecolor\": \"white\", \"ticks\": \"\"}, \"baxis\": {\"gridcolor\": \"white\", \"linecolor\": \"white\", \"ticks\": \"\"}, \"bgcolor\": \"#E5ECF6\", \"caxis\": {\"gridcolor\": \"white\", \"linecolor\": \"white\", \"ticks\": \"\"}}, \"title\": {\"x\": 0.05}, \"xaxis\": {\"automargin\": true, \"gridcolor\": \"white\", \"linecolor\": \"white\", \"ticks\": \"\", \"zerolinecolor\": \"white\", \"zerolinewidth\": 2}, \"yaxis\": {\"automargin\": true, \"gridcolor\": \"white\", \"linecolor\": \"white\", \"ticks\": \"\", \"zerolinecolor\": \"white\", \"zerolinewidth\": 2}}}, \"title\": {\"text\": \"Status\"}},\n",
       "                        {\"responsive\": true}\n",
       "                    ).then(function(){\n",
       "                            \n",
       "var gd = document.getElementById('076ebe44-547a-4f40-b744-f37526366fd7');\n",
       "var x = new MutationObserver(function (mutations, observer) {{\n",
       "        var display = window.getComputedStyle(gd).display;\n",
       "        if (!display || display === 'none') {{\n",
       "            console.log([gd, 'removed!']);\n",
       "            Plotly.purge(gd);\n",
       "            observer.disconnect();\n",
       "        }}\n",
       "}});\n",
       "\n",
       "// Listen for the removal of the full notebook cells\n",
       "var notebookContainer = gd.closest('#notebook-container');\n",
       "if (notebookContainer) {{\n",
       "    x.observe(notebookContainer, {childList: true});\n",
       "}}\n",
       "\n",
       "// Listen for the clearing of the current output cell\n",
       "var outputEl = gd.closest('.output');\n",
       "if (outputEl) {{\n",
       "    x.observe(outputEl, {childList: true});\n",
       "}}\n",
       "\n",
       "                        })\n",
       "                };\n",
       "                });\n",
       "            </script>\n",
       "        </div>"
      ]
     },
     "metadata": {},
     "output_type": "display_data"
    }
   ],
   "source": [
    "data_plot = go.Pie(labels=data['status'].value_counts().index,\n",
    "                   values=data['status'].value_counts(),\n",
    "                   hoverinfo='label+percent',\n",
    "                   text=data['status'].value_counts().index\n",
    "),\n",
    "layout = go.Layout(title='Status',     \n",
    "                    hovermode='closest'\n",
    ")\n",
    "    \n",
    "fig = go.Figure(data=data_plot, layout=layout)\n",
    "py.iplot(fig)"
   ]
  },
  {
   "cell_type": "code",
   "execution_count": 19,
   "metadata": {},
   "outputs": [
    {
     "data": {
      "image/png": "[encoded data removed]",
      "text/plain": [
       "<Figure size 432x288 with 1 Axes>"
      ]
     },
     "metadata": {
      "needs_background": "light"
     },
     "output_type": "display_data"
    }
   ],
   "source": [
    "#Genre count\n",
    "data['genre'].value_counts().sort_values().plot(kind='bar');"
   ]
  },
  {
   "cell_type": "code",
   "execution_count": 152,
   "metadata": {},
   "outputs": [
    {
     "data": {
      "application/vnd.plotly.v1+json": {
       "config": {
        "linkText": "Export to plot.ly",
        "plotlyServerURL": "https://plot.ly",
        "showLink": false
       },
       "data": [
        {
         "text": [
          1578,
          1592,
          1625,
          3318,
          7899
         ],
         "textposition": "outside",
         "type": "bar",
         "x": [
          "Sweden",
          "Brazil",
          "Italy",
          "Germany",
          "United States"
         ],
         "y": [
          1578,
          1592,
          1625,
          3318,
          7899
         ]
        }
       ],
       "layout": {
        "template": {
         "data": {
          "bar": [
           {
            "error_x": {
             "color": "#2a3f5f"
            },
            "error_y": {
             "color": "#2a3f5f"
            },
            "marker": {
             "line": {
              "color": "#E5ECF6",
              "width": 0.5
             }
            },
            "type": "bar"
           }
          ],
          "barpolar": [
           {
            "marker": {
             "line": {
              "color": "#E5ECF6",
              "width": 0.5
             }
            },
            "type": "barpolar"
           }
          ],
          "carpet": [
           {
            "aaxis": {
             "endlinecolor": "#2a3f5f",
             "gridcolor": "white",
             "linecolor": "white",
             "minorgridcolor": "white",
             "startlinecolor": "#2a3f5f"
            },
            "baxis": {
             "endlinecolor": "#2a3f5f",
             "gridcolor": "white",
             "linecolor": "white",
             "minorgridcolor": "white",
             "startlinecolor": "#2a3f5f"
            },
            "type": "carpet"
           }
          ],
          "choropleth": [
           {
            "colorbar": {
             "outlinewidth": 0,
             "ticks": ""
            },
            "type": "choropleth"
           }
          ],
          "contour": [
           {
            "colorbar": {
             "outlinewidth": 0,
             "ticks": ""
            },
            "colorscale": [
             [
              0,
              "#0d0887"
             ],
             [
              0.1111111111111111,
              "#46039f"
             ],
             [
              0.2222222222222222,
              "#7201a8"
             ],
             [
              0.3333333333333333,
              "#9c179e"
             ],
             [
              0.4444444444444444,
              "#bd3786"
             ],
             [
              0.5555555555555556,
              "#d8576b"
             ],
             [
              0.6666666666666666,
              "#ed7953"
             ],
             [
              0.7777777777777778,
              "#fb9f3a"
             ],
             [
              0.8888888888888888,
              "#fdca26"
             ],
             [
              1,
              "#f0f921"
             ]
            ],
            "type": "contour"
           }
          ],
          "contourcarpet": [
           {
            "colorbar": {
             "outlinewidth": 0,
             "ticks": ""
            },
            "type": "contourcarpet"
           }
          ],
          "heatmap": [
           {
            "colorbar": {
             "outlinewidth": 0,
             "ticks": ""
            },
            "colorscale": [
             [
              0,
              "#0d0887"
             ],
             [
              0.1111111111111111,
              "#46039f"
             ],
             [
              0.2222222222222222,
              "#7201a8"
             ],
             [
              0.3333333333333333,
              "#9c179e"
             ],
             [
              0.4444444444444444,
              "#bd3786"
             ],
             [
              0.5555555555555556,
              "#d8576b"
             ],
             [
              0.6666666666666666,
              "#ed7953"
             ],
             [
              0.7777777777777778,
              "#fb9f3a"
             ],
             [
              0.8888888888888888,
              "#fdca26"
             ],
             [
              1,
              "#f0f921"
             ]
            ],
            "type": "heatmap"
           }
          ],
          "heatmapgl": [
           {
            "colorbar": {
             "outlinewidth": 0,
             "ticks": ""
            },
            "colorscale": [
             [
              0,
              "#0d0887"
             ],
             [
              0.1111111111111111,
              "#46039f"
             ],
             [
              0.2222222222222222,
              "#7201a8"
             ],
             [
              0.3333333333333333,
              "#9c179e"
             ],
             [
              0.4444444444444444,
              "#bd3786"
             ],
             [
              0.5555555555555556,
              "#d8576b"
             ],
             [
              0.6666666666666666,
              "#ed7953"
             ],
             [
              0.7777777777777778,
              "#fb9f3a"
             ],
             [
              0.8888888888888888,
              "#fdca26"
             ],
             [
              1,
              "#f0f921"
             ]
            ],
            "type": "heatmapgl"
           }
          ],
          "histogram": [
           {
            "marker": {
             "colorbar": {
              "outlinewidth": 0,
              "ticks": ""
             }
            },
            "type": "histogram"
           }
          ],
          "histogram2d": [
           {
            "colorbar": {
             "outlinewidth": 0,
             "ticks": ""
            },
            "colorscale": [
             [
              0,
              "#0d0887"
             ],
             [
              0.1111111111111111,
              "#46039f"
             ],
             [
              0.2222222222222222,
              "#7201a8"
             ],
             [
              0.3333333333333333,
              "#9c179e"
             ],
             [
              0.4444444444444444,
              "#bd3786"
             ],
             [
              0.5555555555555556,
              "#d8576b"
             ],
             [
              0.6666666666666666,
              "#ed7953"
             ],
             [
              0.7777777777777778,
              "#fb9f3a"
             ],
             [
              0.8888888888888888,
              "#fdca26"
             ],
             [
              1,
              "#f0f921"
             ]
            ],
            "type": "histogram2d"
           }
          ],
          "histogram2dcontour": [
           {
            "colorbar": {
             "outlinewidth": 0,
             "ticks": ""
            },
            "colorscale": [
             [
              0,
              "#0d0887"
             ],
             [
              0.1111111111111111,
              "#46039f"
             ],
             [
              0.2222222222222222,
              "#7201a8"
             ],
             [
              0.3333333333333333,
              "#9c179e"
             ],
             [
              0.4444444444444444,
              "#bd3786"
             ],
             [
              0.5555555555555556,
              "#d8576b"
             ],
             [
              0.6666666666666666,
              "#ed7953"
             ],
             [
              0.7777777777777778,
              "#fb9f3a"
             ],
             [
              0.8888888888888888,
              "#fdca26"
             ],
             [
              1,
              "#f0f921"
             ]
            ],
            "type": "histogram2dcontour"
           }
          ],
          "mesh3d": [
           {
            "colorbar": {
             "outlinewidth": 0,
             "ticks": ""
            },
            "type": "mesh3d"
           }
          ],
          "parcoords": [
           {
            "line": {
             "colorbar": {
              "outlinewidth": 0,
              "ticks": ""
             }
            },
            "type": "parcoords"
           }
          ],
          "scatter": [
           {
            "marker": {
             "colorbar": {
              "outlinewidth": 0,
              "ticks": ""
             }
            },
            "type": "scatter"
           }
          ],
          "scatter3d": [
           {
            "line": {
             "colorbar": {
              "outlinewidth": 0,
              "ticks": ""
             }
            },
            "marker": {
             "colorbar": {
              "outlinewidth": 0,
              "ticks": ""
             }
            },
            "type": "scatter3d"
           }
          ],
          "scattercarpet": [
           {
            "marker": {
             "colorbar": {
              "outlinewidth": 0,
              "ticks": ""
             }
            },
            "type": "scattercarpet"
           }
          ],
          "scattergeo": [
           {
            "marker": {
             "colorbar": {
              "outlinewidth": 0,
              "ticks": ""
             }
            },
            "type": "scattergeo"
           }
          ],
          "scattergl": [
           {
            "marker": {
             "colorbar": {
              "outlinewidth": 0,
              "ticks": ""
             }
            },
            "type": "scattergl"
           }
          ],
          "scattermapbox": [
           {
            "marker": {
             "colorbar": {
              "outlinewidth": 0,
              "ticks": ""
             }
            },
            "type": "scattermapbox"
           }
          ],
          "scatterpolar": [
           {
            "marker": {
             "colorbar": {
              "outlinewidth": 0,
              "ticks": ""
             }
            },
            "type": "scatterpolar"
           }
          ],
          "scatterpolargl": [
           {
            "marker": {
             "colorbar": {
              "outlinewidth": 0,
              "ticks": ""
             }
            },
            "type": "scatterpolargl"
           }
          ],
          "scatterternary": [
           {
            "marker": {
             "colorbar": {
              "outlinewidth": 0,
              "ticks": ""
             }
            },
            "type": "scatterternary"
           }
          ],
          "surface": [
           {
            "colorbar": {
             "outlinewidth": 0,
             "ticks": ""
            },
            "colorscale": [
             [
              0,
              "#0d0887"
             ],
             [
              0.1111111111111111,
              "#46039f"
             ],
             [
              0.2222222222222222,
              "#7201a8"
             ],
             [
              0.3333333333333333,
              "#9c179e"
             ],
             [
              0.4444444444444444,
              "#bd3786"
             ],
             [
              0.5555555555555556,
              "#d8576b"
             ],
             [
              0.6666666666666666,
              "#ed7953"
             ],
             [
              0.7777777777777778,
              "#fb9f3a"
             ],
             [
              0.8888888888888888,
              "#fdca26"
             ],
             [
              1,
              "#f0f921"
             ]
            ],
            "type": "surface"
           }
          ],
          "table": [
           {
            "cells": {
             "fill": {
              "color": "#EBF0F8"
             },
             "line": {
              "color": "white"
             }
            },
            "header": {
             "fill": {
              "color": "#C8D4E3"
             },
             "line": {
              "color": "white"
             }
            },
            "type": "table"
           }
          ]
         },
         "layout": {
          "annotationdefaults": {
           "arrowcolor": "#2a3f5f",
           "arrowhead": 0,
           "arrowwidth": 1
          },
          "colorscale": {
           "diverging": [
            [
             0,
             "#8e0152"
            ],
            [
             0.1,
             "#c51b7d"
            ],
            [
             0.2,
             "#de77ae"
            ],
            [
             0.3,
             "#f1b6da"
            ],
            [
             0.4,
             "#fde0ef"
            ],
            [
             0.5,
             "#f7f7f7"
            ],
            [
             0.6,
             "#e6f5d0"
            ],
            [
             0.7,
             "#b8e186"
            ],
            [
             0.8,
             "#7fbc41"
            ],
            [
             0.9,
             "#4d9221"
            ],
            [
             1,
             "#276419"
            ]
           ],
           "sequential": [
            [
             0,
             "#0d0887"
            ],
            [
             0.1111111111111111,
             "#46039f"
            ],
            [
             0.2222222222222222,
             "#7201a8"
            ],
            [
             0.3333333333333333,
             "#9c179e"
            ],
            [
             0.4444444444444444,
             "#bd3786"
            ],
            [
             0.5555555555555556,
             "#d8576b"
            ],
            [
             0.6666666666666666,
             "#ed7953"
            ],
            [
             0.7777777777777778,
             "#fb9f3a"
            ],
            [
             0.8888888888888888,
             "#fdca26"
            ],
            [
             1,
             "#f0f921"
            ]
           ],
           "sequentialminus": [
            [
             0,
             "#0d0887"
            ],
            [
             0.1111111111111111,
             "#46039f"
            ],
            [
             0.2222222222222222,
             "#7201a8"
            ],
            [
             0.3333333333333333,
             "#9c179e"
            ],
            [
             0.4444444444444444,
             "#bd3786"
            ],
            [
             0.5555555555555556,
             "#d8576b"
            ],
            [
             0.6666666666666666,
             "#ed7953"
            ],
            [
             0.7777777777777778,
             "#fb9f3a"
            ],
            [
             0.8888888888888888,
             "#fdca26"
            ],
            [
             1,
             "#f0f921"
            ]
           ]
          },
          "colorway": [
           "#636efa",
           "#EF553B",
           "#00cc96",
           "#ab63fa",
           "#FFA15A",
           "#19d3f3",
           "#FF6692",
           "#B6E880",
           "#FF97FF",
           "#FECB52"
          ],
          "font": {
           "color": "#2a3f5f"
          },
          "geo": {
           "bgcolor": "white",
           "lakecolor": "white",
           "landcolor": "#E5ECF6",
           "showlakes": true,
           "showland": true,
           "subunitcolor": "white"
          },
          "hoverlabel": {
           "align": "left"
          },
          "hovermode": "closest",
          "mapbox": {
           "style": "light"
          },
          "paper_bgcolor": "white",
          "plot_bgcolor": "#E5ECF6",
          "polar": {
           "angularaxis": {
            "gridcolor": "white",
            "linecolor": "white",
            "ticks": ""
           },
           "bgcolor": "#E5ECF6",
           "radialaxis": {
            "gridcolor": "white",
            "linecolor": "white",
            "ticks": ""
           }
          },
          "scene": {
           "xaxis": {
            "backgroundcolor": "#E5ECF6",
            "gridcolor": "white",
            "gridwidth": 2,
            "linecolor": "white",
            "showbackground": true,
            "ticks": "",
            "zerolinecolor": "white"
           },
           "yaxis": {
            "backgroundcolor": "#E5ECF6",
            "gridcolor": "white",
            "gridwidth": 2,
            "linecolor": "white",
            "showbackground": true,
            "ticks": "",
            "zerolinecolor": "white"
           },
           "zaxis": {
            "backgroundcolor": "#E5ECF6",
            "gridcolor": "white",
            "gridwidth": 2,
            "linecolor": "white",
            "showbackground": true,
            "ticks": "",
            "zerolinecolor": "white"
           }
          },
          "shapedefaults": {
           "line": {
            "color": "#2a3f5f"
           }
          },
          "ternary": {
           "aaxis": {
            "gridcolor": "white",
            "linecolor": "white",
            "ticks": ""
           },
           "baxis": {
            "gridcolor": "white",
            "linecolor": "white",
            "ticks": ""
           },
           "bgcolor": "#E5ECF6",
           "caxis": {
            "gridcolor": "white",
            "linecolor": "white",
            "ticks": ""
           }
          },
          "title": {
           "x": 0.05
          },
          "xaxis": {
           "automargin": true,
           "gridcolor": "white",
           "linecolor": "white",
           "ticks": "",
           "zerolinecolor": "white",
           "zerolinewidth": 2
          },
          "yaxis": {
           "automargin": true,
           "gridcolor": "white",
           "linecolor": "white",
           "ticks": "",
           "zerolinecolor": "white",
           "zerolinewidth": 2
          }
         }
        },
        "title": {
         "text": "Bands by Country"
        },
        "xaxis": {
         "title": {
          "text": "Country"
         }
        },
        "yaxis": {
         "title": {
          "text": "Band Count"
         }
        }
       }
      },
      "text/html": [
       "<div>\n",
       "        \n",
       "        \n",
       "            <div id=\"9d54c337-c24c-48e6-8ddb-4000b930195d\" class=\"plotly-graph-div\" style=\"height:525px; width:100%;\"></div>\n",
       "            <script type=\"text/javascript\">\n",
       "                require([\"plotly\"], function(Plotly) {\n",
       "                    window.PLOTLYENV=window.PLOTLYENV || {};\n",
       "                    \n",
       "                if (document.getElementById(\"9d54c337-c24c-48e6-8ddb-4000b930195d\")) {\n",
       "                    Plotly.newPlot(\n",
       "                        '9d54c337-c24c-48e6-8ddb-4000b930195d',\n",
       "                        [{\"text\": [1578.0, 1592.0, 1625.0, 3318.0, 7899.0], \"textposition\": \"outside\", \"type\": \"bar\", \"x\": [\"Sweden\", \"Brazil\", \"Italy\", \"Germany\", \"United States\"], \"y\": [1578, 1592, 1625, 3318, 7899]}],\n",
       "                        {\"template\": {\"data\": {\"bar\": [{\"error_x\": {\"color\": \"#2a3f5f\"}, \"error_y\": {\"color\": \"#2a3f5f\"}, \"marker\": {\"line\": {\"color\": \"#E5ECF6\", \"width\": 0.5}}, \"type\": \"bar\"}], \"barpolar\": [{\"marker\": {\"line\": {\"color\": \"#E5ECF6\", \"width\": 0.5}}, \"type\": \"barpolar\"}], \"carpet\": [{\"aaxis\": {\"endlinecolor\": \"#2a3f5f\", \"gridcolor\": \"white\", \"linecolor\": \"white\", \"minorgridcolor\": \"white\", \"startlinecolor\": \"#2a3f5f\"}, \"baxis\": {\"endlinecolor\": \"#2a3f5f\", \"gridcolor\": \"white\", \"linecolor\": \"white\", \"minorgridcolor\": \"white\", \"startlinecolor\": \"#2a3f5f\"}, \"type\": \"carpet\"}], \"choropleth\": [{\"colorbar\": {\"outlinewidth\": 0, \"ticks\": \"\"}, \"type\": \"choropleth\"}], \"contour\": [{\"colorbar\": {\"outlinewidth\": 0, \"ticks\": \"\"}, \"colorscale\": [[0.0, \"#0d0887\"], [0.1111111111111111, \"#46039f\"], [0.2222222222222222, \"#7201a8\"], [0.3333333333333333, \"#9c179e\"], [0.4444444444444444, \"#bd3786\"], [0.5555555555555556, \"#d8576b\"], [0.6666666666666666, \"#ed7953\"], [0.7777777777777778, \"#fb9f3a\"], [0.8888888888888888, \"#fdca26\"], [1.0, \"#f0f921\"]], \"type\": \"contour\"}], \"contourcarpet\": [{\"colorbar\": {\"outlinewidth\": 0, \"ticks\": \"\"}, \"type\": \"contourcarpet\"}], \"heatmap\": [{\"colorbar\": {\"outlinewidth\": 0, \"ticks\": \"\"}, \"colorscale\": [[0.0, \"#0d0887\"], [0.1111111111111111, \"#46039f\"], [0.2222222222222222, \"#7201a8\"], [0.3333333333333333, \"#9c179e\"], [0.4444444444444444, \"#bd3786\"], [0.5555555555555556, \"#d8576b\"], [0.6666666666666666, \"#ed7953\"], [0.7777777777777778, \"#fb9f3a\"], [0.8888888888888888, \"#fdca26\"], [1.0, \"#f0f921\"]], \"type\": \"heatmap\"}], \"heatmapgl\": [{\"colorbar\": {\"outlinewidth\": 0, \"ticks\": \"\"}, \"colorscale\": [[0.0, \"#0d0887\"], [0.1111111111111111, \"#46039f\"], [0.2222222222222222, \"#7201a8\"], [0.3333333333333333, \"#9c179e\"], [0.4444444444444444, \"#bd3786\"], [0.5555555555555556, \"#d8576b\"], [0.6666666666666666, \"#ed7953\"], [0.7777777777777778, \"#fb9f3a\"], [0.8888888888888888, \"#fdca26\"], [1.0, \"#f0f921\"]], \"type\": \"heatmapgl\"}], \"histogram\": [{\"marker\": {\"colorbar\": {\"outlinewidth\": 0, \"ticks\": \"\"}}, \"type\": \"histogram\"}], \"histogram2d\": [{\"colorbar\": {\"outlinewidth\": 0, \"ticks\": \"\"}, \"colorscale\": [[0.0, \"#0d0887\"], [0.1111111111111111, \"#46039f\"], [0.2222222222222222, \"#7201a8\"], [0.3333333333333333, \"#9c179e\"], [0.4444444444444444, \"#bd3786\"], [0.5555555555555556, \"#d8576b\"], [0.6666666666666666, \"#ed7953\"], [0.7777777777777778, \"#fb9f3a\"], [0.8888888888888888, \"#fdca26\"], [1.0, \"#f0f921\"]], \"type\": \"histogram2d\"}], \"histogram2dcontour\": [{\"colorbar\": {\"outlinewidth\": 0, \"ticks\": \"\"}, \"colorscale\": [[0.0, \"#0d0887\"], [0.1111111111111111, \"#46039f\"], [0.2222222222222222, \"#7201a8\"], [0.3333333333333333, \"#9c179e\"], [0.4444444444444444, \"#bd3786\"], [0.5555555555555556, \"#d8576b\"], [0.6666666666666666, \"#ed7953\"], [0.7777777777777778, \"#fb9f3a\"], [0.8888888888888888, \"#fdca26\"], [1.0, \"#f0f921\"]], \"type\": \"histogram2dcontour\"}], \"mesh3d\": [{\"colorbar\": {\"outlinewidth\": 0, \"ticks\": \"\"}, \"type\": \"mesh3d\"}], \"parcoords\": [{\"line\": {\"colorbar\": {\"outlinewidth\": 0, \"ticks\": \"\"}}, \"type\": \"parcoords\"}], \"scatter\": [{\"marker\": {\"colorbar\": {\"outlinewidth\": 0, \"ticks\": \"\"}}, \"type\": \"scatter\"}], \"scatter3d\": [{\"line\": {\"colorbar\": {\"outlinewidth\": 0, \"ticks\": \"\"}}, \"marker\": {\"colorbar\": {\"outlinewidth\": 0, \"ticks\": \"\"}}, \"type\": \"scatter3d\"}], \"scattercarpet\": [{\"marker\": {\"colorbar\": {\"outlinewidth\": 0, \"ticks\": \"\"}}, \"type\": \"scattercarpet\"}], \"scattergeo\": [{\"marker\": {\"colorbar\": {\"outlinewidth\": 0, \"ticks\": \"\"}}, \"type\": \"scattergeo\"}], \"scattergl\": [{\"marker\": {\"colorbar\": {\"outlinewidth\": 0, \"ticks\": \"\"}}, \"type\": \"scattergl\"}], \"scattermapbox\": [{\"marker\": {\"colorbar\": {\"outlinewidth\": 0, \"ticks\": \"\"}}, \"type\": \"scattermapbox\"}], \"scatterpolar\": [{\"marker\": {\"colorbar\": {\"outlinewidth\": 0, \"ticks\": \"\"}}, \"type\": \"scatterpolar\"}], \"scatterpolargl\": [{\"marker\": {\"colorbar\": {\"outlinewidth\": 0, \"ticks\": \"\"}}, \"type\": \"scatterpolargl\"}], \"scatterternary\": [{\"marker\": {\"colorbar\": {\"outlinewidth\": 0, \"ticks\": \"\"}}, \"type\": \"scatterternary\"}], \"surface\": [{\"colorbar\": {\"outlinewidth\": 0, \"ticks\": \"\"}, \"colorscale\": [[0.0, \"#0d0887\"], [0.1111111111111111, \"#46039f\"], [0.2222222222222222, \"#7201a8\"], [0.3333333333333333, \"#9c179e\"], [0.4444444444444444, \"#bd3786\"], [0.5555555555555556, \"#d8576b\"], [0.6666666666666666, \"#ed7953\"], [0.7777777777777778, \"#fb9f3a\"], [0.8888888888888888, \"#fdca26\"], [1.0, \"#f0f921\"]], \"type\": \"surface\"}], \"table\": [{\"cells\": {\"fill\": {\"color\": \"#EBF0F8\"}, \"line\": {\"color\": \"white\"}}, \"header\": {\"fill\": {\"color\": \"#C8D4E3\"}, \"line\": {\"color\": \"white\"}}, \"type\": \"table\"}]}, \"layout\": {\"annotationdefaults\": {\"arrowcolor\": \"#2a3f5f\", \"arrowhead\": 0, \"arrowwidth\": 1}, \"colorscale\": {\"diverging\": [[0, \"#8e0152\"], [0.1, \"#c51b7d\"], [0.2, \"#de77ae\"], [0.3, \"#f1b6da\"], [0.4, \"#fde0ef\"], [0.5, \"#f7f7f7\"], [0.6, \"#e6f5d0\"], [0.7, \"#b8e186\"], [0.8, \"#7fbc41\"], [0.9, \"#4d9221\"], [1, \"#276419\"]], \"sequential\": [[0.0, \"#0d0887\"], [0.1111111111111111, \"#46039f\"], [0.2222222222222222, \"#7201a8\"], [0.3333333333333333, \"#9c179e\"], [0.4444444444444444, \"#bd3786\"], [0.5555555555555556, \"#d8576b\"], [0.6666666666666666, \"#ed7953\"], [0.7777777777777778, \"#fb9f3a\"], [0.8888888888888888, \"#fdca26\"], [1.0, \"#f0f921\"]], \"sequentialminus\": [[0.0, \"#0d0887\"], [0.1111111111111111, \"#46039f\"], [0.2222222222222222, \"#7201a8\"], [0.3333333333333333, \"#9c179e\"], [0.4444444444444444, \"#bd3786\"], [0.5555555555555556, \"#d8576b\"], [0.6666666666666666, \"#ed7953\"], [0.7777777777777778, \"#fb9f3a\"], [0.8888888888888888, \"#fdca26\"], [1.0, \"#f0f921\"]]}, \"colorway\": [\"#636efa\", \"#EF553B\", \"#00cc96\", \"#ab63fa\", \"#FFA15A\", \"#19d3f3\", \"#FF6692\", \"#B6E880\", \"#FF97FF\", \"#FECB52\"], \"font\": {\"color\": \"#2a3f5f\"}, \"geo\": {\"bgcolor\": \"white\", \"lakecolor\": \"white\", \"landcolor\": \"#E5ECF6\", \"showlakes\": true, \"showland\": true, \"subunitcolor\": \"white\"}, \"hoverlabel\": {\"align\": \"left\"}, \"hovermode\": \"closest\", \"mapbox\": {\"style\": \"light\"}, \"paper_bgcolor\": \"white\", \"plot_bgcolor\": \"#E5ECF6\", \"polar\": {\"angularaxis\": {\"gridcolor\": \"white\", \"linecolor\": \"white\", \"ticks\": \"\"}, \"bgcolor\": \"#E5ECF6\", \"radialaxis\": {\"gridcolor\": \"white\", \"linecolor\": \"white\", \"ticks\": \"\"}}, \"scene\": {\"xaxis\": {\"backgroundcolor\": \"#E5ECF6\", \"gridcolor\": \"white\", \"gridwidth\": 2, \"linecolor\": \"white\", \"showbackground\": true, \"ticks\": \"\", \"zerolinecolor\": \"white\"}, \"yaxis\": {\"backgroundcolor\": \"#E5ECF6\", \"gridcolor\": \"white\", \"gridwidth\": 2, \"linecolor\": \"white\", \"showbackground\": true, \"ticks\": \"\", \"zerolinecolor\": \"white\"}, \"zaxis\": {\"backgroundcolor\": \"#E5ECF6\", \"gridcolor\": \"white\", \"gridwidth\": 2, \"linecolor\": \"white\", \"showbackground\": true, \"ticks\": \"\", \"zerolinecolor\": \"white\"}}, \"shapedefaults\": {\"line\": {\"color\": \"#2a3f5f\"}}, \"ternary\": {\"aaxis\": {\"gridcolor\": \"white\", \"linecolor\": \"white\", \"ticks\": \"\"}, \"baxis\": {\"gridcolor\": \"white\", \"linecolor\": \"white\", \"ticks\": \"\"}, \"bgcolor\": \"#E5ECF6\", \"caxis\": {\"gridcolor\": \"white\", \"linecolor\": \"white\", \"ticks\": \"\"}}, \"title\": {\"x\": 0.05}, \"xaxis\": {\"automargin\": true, \"gridcolor\": \"white\", \"linecolor\": \"white\", \"ticks\": \"\", \"zerolinecolor\": \"white\", \"zerolinewidth\": 2}, \"yaxis\": {\"automargin\": true, \"gridcolor\": \"white\", \"linecolor\": \"white\", \"ticks\": \"\", \"zerolinecolor\": \"white\", \"zerolinewidth\": 2}}}, \"title\": {\"text\": \"Bands by Country\"}, \"xaxis\": {\"title\": {\"text\": \"Country\"}}, \"yaxis\": {\"title\": {\"text\": \"Band Count\"}}},\n",
       "                        {\"responsive\": true}\n",
       "                    ).then(function(){\n",
       "                            \n",
       "var gd = document.getElementById('9d54c337-c24c-48e6-8ddb-4000b930195d');\n",
       "var x = new MutationObserver(function (mutations, observer) {{\n",
       "        var display = window.getComputedStyle(gd).display;\n",
       "        if (!display || display === 'none') {{\n",
       "            console.log([gd, 'removed!']);\n",
       "            Plotly.purge(gd);\n",
       "            observer.disconnect();\n",
       "        }}\n",
       "}});\n",
       "\n",
       "// Listen for the removal of the full notebook cells\n",
       "var notebookContainer = gd.closest('#notebook-container');\n",
       "if (notebookContainer) {{\n",
       "    x.observe(notebookContainer, {childList: true});\n",
       "}}\n",
       "\n",
       "// Listen for the clearing of the current output cell\n",
       "var outputEl = gd.closest('.output');\n",
       "if (outputEl) {{\n",
       "    x.observe(outputEl, {childList: true});\n",
       "}}\n",
       "\n",
       "                        })\n",
       "                };\n",
       "                });\n",
       "            </script>\n",
       "        </div>"
      ]
     },
     "metadata": {},
     "output_type": "display_data"
    }
   ],
   "source": [
    "#Country count\n",
    "data_plot = go.Bar(\n",
    "    x=bands['country'].value_counts().sort_values().head(5).index,\n",
    "    y=bands['country'].value_counts().sort_values().head(5).values,\n",
    "    text=bands['country'].value_counts().sort_values().head(5).values,\n",
    "    textposition='outside'\n",
    ")\n",
    "\n",
    "layout = go.Layout(\n",
    "    title='Bands by Country',\n",
    "    xaxis=dict(title='Country'),\n",
    "    yaxis={'title':'Band Count'}\n",
    ")\n",
    "\n",
    "fig = go.Figure(data=data_plot, layout=layout)\n",
    "\n",
    "py.iplot(fig)"
   ]
  },
  {
   "cell_type": "code",
   "execution_count": 21,
   "metadata": {},
   "outputs": [
    {
     "data": {
      "image/png": "[encoded data removed]",
      "text/plain": [
       "<Figure size 432x288 with 1 Axes>"
      ]
     },
     "metadata": {
      "needs_background": "light"
     },
     "output_type": "display_data"
    }
   ],
   "source": [
    "#Average score for each time period\n",
    "data.groupby('year_cate').agg({'score':'mean'}).plot(kind='bar');"
   ]
  },
  {
   "cell_type": "code",
   "execution_count": 188,
   "metadata": {},
   "outputs": [
    {
     "data": {
      "text/html": [
       "<div>\n",
       "<style scoped>\n",
       "    .dataframe tbody tr th:only-of-type {\n",
       "        vertical-align: middle;\n",
       "    }\n",
       "\n",
       "    .dataframe tbody tr th {\n",
       "        vertical-align: top;\n",
       "    }\n",
       "\n",
       "    .dataframe thead th {\n",
       "        text-align: right;\n",
       "    }\n",
       "</style>\n",
       "<table border=\"1\" class=\"dataframe\">\n",
       "  <thead>\n",
       "    <tr style=\"text-align: right;\">\n",
       "      <th></th>\n",
       "      <th>album</th>\n",
       "      <th>review_title</th>\n",
       "      <th>score</th>\n",
       "      <th>content</th>\n",
       "      <th>band</th>\n",
       "      <th>album_title</th>\n",
       "      <th>year</th>\n",
       "      <th>band_name</th>\n",
       "      <th>country</th>\n",
       "      <th>status</th>\n",
       "      <th>formed_in</th>\n",
       "      <th>genre</th>\n",
       "      <th>theme</th>\n",
       "      <th>active</th>\n",
       "      <th>active_status</th>\n",
       "      <th>year_cate</th>\n",
       "      <th>ended_in</th>\n",
       "    </tr>\n",
       "  </thead>\n",
       "  <tbody>\n",
       "    <tr>\n",
       "      <td>0</td>\n",
       "      <td>4</td>\n",
       "      <td>The Killer Count Just Keeps Rising</td>\n",
       "      <td>0.88</td>\n",
       "      <td>When I first threw this on I really didnt know...</td>\n",
       "      <td>7</td>\n",
       "      <td>Génesis &amp; horror</td>\n",
       "      <td>2002</td>\n",
       "      <td>1917</td>\n",
       "      <td>Other</td>\n",
       "      <td>Active</td>\n",
       "      <td>1994</td>\n",
       "      <td>Death Metal</td>\n",
       "      <td>Dark Philosophical Poetry, Art, Religion, Psyc...</td>\n",
       "      <td>1994-present</td>\n",
       "      <td>Active</td>\n",
       "      <td>1995-2005</td>\n",
       "      <td>2019</td>\n",
       "    </tr>\n",
       "    <tr>\n",
       "      <td>1</td>\n",
       "      <td>5</td>\n",
       "      <td>A gem of heterogeneous death metal...</td>\n",
       "      <td>0.96</td>\n",
       "      <td>Several years ago I bought from a band member,...</td>\n",
       "      <td>7</td>\n",
       "      <td>Vision</td>\n",
       "      <td>2004</td>\n",
       "      <td>1917</td>\n",
       "      <td>Other</td>\n",
       "      <td>Active</td>\n",
       "      <td>1994</td>\n",
       "      <td>Death Metal</td>\n",
       "      <td>Dark Philosophical Poetry, Art, Religion, Psyc...</td>\n",
       "      <td>1994-present</td>\n",
       "      <td>Active</td>\n",
       "      <td>1995-2005</td>\n",
       "      <td>2019</td>\n",
       "    </tr>\n",
       "    <tr>\n",
       "      <td>2</td>\n",
       "      <td>8</td>\n",
       "      <td>Fantasic, if mostly for its influences</td>\n",
       "      <td>0.83</td>\n",
       "      <td>What a wonderful release this is. ‘Vox Fatum’ ...</td>\n",
       "      <td>7</td>\n",
       "      <td>Brutal Miserable Drama</td>\n",
       "      <td>2010</td>\n",
       "      <td>1917</td>\n",
       "      <td>Other</td>\n",
       "      <td>Active</td>\n",
       "      <td>1994</td>\n",
       "      <td>Death Metal</td>\n",
       "      <td>Dark Philosophical Poetry, Art, Religion, Psyc...</td>\n",
       "      <td>1994-present</td>\n",
       "      <td>Active</td>\n",
       "      <td>2005-Now</td>\n",
       "      <td>2019</td>\n",
       "    </tr>\n",
       "    <tr>\n",
       "      <td>3</td>\n",
       "      <td>45</td>\n",
       "      <td>A rare, lost hidden gem</td>\n",
       "      <td>0.80</td>\n",
       "      <td>Picture this: crushing, brutal death metal, wi...</td>\n",
       "      <td>43</td>\n",
       "      <td>Virtus Diaboli</td>\n",
       "      <td>2013</td>\n",
       "      <td>Abdicated</td>\n",
       "      <td>Other</td>\n",
       "      <td>Active</td>\n",
       "      <td>2009</td>\n",
       "      <td>Death Metal</td>\n",
       "      <td>Evil, Anti-Christianity, Satanism</td>\n",
       "      <td>2009-present</td>\n",
       "      <td>Active</td>\n",
       "      <td>2005-Now</td>\n",
       "      <td>2019</td>\n",
       "    </tr>\n",
       "    <tr>\n",
       "      <td>4</td>\n",
       "      <td>54</td>\n",
       "      <td>Pure, but flayed and covered in soot</td>\n",
       "      <td>0.92</td>\n",
       "      <td>Abhordium's When Depravity Incarnates is an ex...</td>\n",
       "      <td>60</td>\n",
       "      <td>You Only Die Once</td>\n",
       "      <td>2015</td>\n",
       "      <td>Abhorrent Aggression</td>\n",
       "      <td>United States</td>\n",
       "      <td>Split-up</td>\n",
       "      <td>2012</td>\n",
       "      <td>Death Metal</td>\n",
       "      <td>nan</td>\n",
       "      <td>2012-2015</td>\n",
       "      <td>Non-Active</td>\n",
       "      <td>2005-Now</td>\n",
       "      <td>2015</td>\n",
       "    </tr>\n",
       "    <tr>\n",
       "      <td>...</td>\n",
       "      <td>...</td>\n",
       "      <td>...</td>\n",
       "      <td>...</td>\n",
       "      <td>...</td>\n",
       "      <td>...</td>\n",
       "      <td>...</td>\n",
       "      <td>...</td>\n",
       "      <td>...</td>\n",
       "      <td>...</td>\n",
       "      <td>...</td>\n",
       "      <td>...</td>\n",
       "      <td>...</td>\n",
       "      <td>...</td>\n",
       "      <td>...</td>\n",
       "      <td>...</td>\n",
       "      <td>...</td>\n",
       "      <td>...</td>\n",
       "    </tr>\n",
       "    <tr>\n",
       "      <td>21505</td>\n",
       "      <td>28061</td>\n",
       "      <td>Delightful</td>\n",
       "      <td>0.89</td>\n",
       "      <td>What can a man accomplish in two years? Well, ...</td>\n",
       "      <td>37723</td>\n",
       "      <td>Sapphiric</td>\n",
       "      <td>2006</td>\n",
       "      <td>Frozen Mist</td>\n",
       "      <td>United States</td>\n",
       "      <td>Active</td>\n",
       "      <td>2004</td>\n",
       "      <td>Black/Death Metal</td>\n",
       "      <td>Darkness, Despair, Death, Horror, Pagan Ancestry</td>\n",
       "      <td>2004-2014| 2014-2016| 2016-present</td>\n",
       "      <td>Active</td>\n",
       "      <td>2005-Now</td>\n",
       "      <td>2019</td>\n",
       "    </tr>\n",
       "    <tr>\n",
       "      <td>21506</td>\n",
       "      <td>28065</td>\n",
       "      <td>Frozen Mist White Noise Paranormal</td>\n",
       "      <td>0.80</td>\n",
       "      <td>Every now and then I stumble upon a really coo...</td>\n",
       "      <td>37723</td>\n",
       "      <td>Anomalies of the Forest</td>\n",
       "      <td>2011</td>\n",
       "      <td>Frozen Mist</td>\n",
       "      <td>United States</td>\n",
       "      <td>Active</td>\n",
       "      <td>2004</td>\n",
       "      <td>Black/Death Metal</td>\n",
       "      <td>Darkness, Despair, Death, Horror, Pagan Ancestry</td>\n",
       "      <td>2004-2014| 2014-2016| 2016-present</td>\n",
       "      <td>Active</td>\n",
       "      <td>2005-Now</td>\n",
       "      <td>2019</td>\n",
       "    </tr>\n",
       "    <tr>\n",
       "      <td>21507</td>\n",
       "      <td>28065</td>\n",
       "      <td>Terrifying experimental death metal</td>\n",
       "      <td>0.80</td>\n",
       "      <td>Crawling out from Montoursville Pennysylvania ...</td>\n",
       "      <td>37723</td>\n",
       "      <td>Anomalies of the Forest</td>\n",
       "      <td>2011</td>\n",
       "      <td>Frozen Mist</td>\n",
       "      <td>United States</td>\n",
       "      <td>Active</td>\n",
       "      <td>2004</td>\n",
       "      <td>Black/Death Metal</td>\n",
       "      <td>Darkness, Despair, Death, Horror, Pagan Ancestry</td>\n",
       "      <td>2004-2014| 2014-2016| 2016-present</td>\n",
       "      <td>Active</td>\n",
       "      <td>2005-Now</td>\n",
       "      <td>2019</td>\n",
       "    </tr>\n",
       "    <tr>\n",
       "      <td>21508</td>\n",
       "      <td>28066</td>\n",
       "      <td>Frozen Mist Anomalies Of The Forest</td>\n",
       "      <td>0.80</td>\n",
       "      <td>Deep in the mountain forest of Pennsylvania lu...</td>\n",
       "      <td>37723</td>\n",
       "      <td>Mother Earth Pantheon</td>\n",
       "      <td>2012</td>\n",
       "      <td>Frozen Mist</td>\n",
       "      <td>United States</td>\n",
       "      <td>Active</td>\n",
       "      <td>2004</td>\n",
       "      <td>Black/Death Metal</td>\n",
       "      <td>Darkness, Despair, Death, Horror, Pagan Ancestry</td>\n",
       "      <td>2004-2014| 2014-2016| 2016-present</td>\n",
       "      <td>Active</td>\n",
       "      <td>2005-Now</td>\n",
       "      <td>2019</td>\n",
       "    </tr>\n",
       "    <tr>\n",
       "      <td>21509</td>\n",
       "      <td>28067</td>\n",
       "      <td>Frozen Mist - Mother Earth Pantheon</td>\n",
       "      <td>0.70</td>\n",
       "      <td>I'm not really familiarized with the Pennsylva...</td>\n",
       "      <td>37723</td>\n",
       "      <td>Paganwinds</td>\n",
       "      <td>2014</td>\n",
       "      <td>Frozen Mist</td>\n",
       "      <td>United States</td>\n",
       "      <td>Active</td>\n",
       "      <td>2004</td>\n",
       "      <td>Black/Death Metal</td>\n",
       "      <td>Darkness, Despair, Death, Horror, Pagan Ancestry</td>\n",
       "      <td>2004-2014| 2014-2016| 2016-present</td>\n",
       "      <td>Active</td>\n",
       "      <td>2005-Now</td>\n",
       "      <td>2019</td>\n",
       "    </tr>\n",
       "  </tbody>\n",
       "</table>\n",
       "<p>21510 rows × 17 columns</p>\n",
       "</div>"
      ],
      "text/plain": [
       "       album                            review_title  score  \\\n",
       "0          4      The Killer Count Just Keeps Rising   0.88   \n",
       "1          5   A gem of heterogeneous death metal...   0.96   \n",
       "2          8  Fantasic, if mostly for its influences   0.83   \n",
       "3         45                 A rare, lost hidden gem   0.80   \n",
       "4         54    Pure, but flayed and covered in soot   0.92   \n",
       "...      ...                                     ...    ...   \n",
       "21505  28061                              Delightful   0.89   \n",
       "21506  28065      Frozen Mist White Noise Paranormal   0.80   \n",
       "21507  28065     Terrifying experimental death metal   0.80   \n",
       "21508  28066     Frozen Mist Anomalies Of The Forest   0.80   \n",
       "21509  28067     Frozen Mist - Mother Earth Pantheon   0.70   \n",
       "\n",
       "                                                 content   band  \\\n",
       "0      When I first threw this on I really didnt know...      7   \n",
       "1      Several years ago I bought from a band member,...      7   \n",
       "2      What a wonderful release this is. ‘Vox Fatum’ ...      7   \n",
       "3      Picture this: crushing, brutal death metal, wi...     43   \n",
       "4      Abhordium's When Depravity Incarnates is an ex...     60   \n",
       "...                                                  ...    ...   \n",
       "21505  What can a man accomplish in two years? Well, ...  37723   \n",
       "21506  Every now and then I stumble upon a really coo...  37723   \n",
       "21507  Crawling out from Montoursville Pennysylvania ...  37723   \n",
       "21508  Deep in the mountain forest of Pennsylvania lu...  37723   \n",
       "21509  I'm not really familiarized with the Pennsylva...  37723   \n",
       "\n",
       "                   album_title  year             band_name        country  \\\n",
       "0             Génesis & horror  2002                  1917          Other   \n",
       "1                       Vision  2004                  1917          Other   \n",
       "2       Brutal Miserable Drama  2010                  1917          Other   \n",
       "3               Virtus Diaboli  2013             Abdicated          Other   \n",
       "4            You Only Die Once  2015  Abhorrent Aggression  United States   \n",
       "...                        ...   ...                   ...            ...   \n",
       "21505                Sapphiric  2006           Frozen Mist  United States   \n",
       "21506  Anomalies of the Forest  2011           Frozen Mist  United States   \n",
       "21507  Anomalies of the Forest  2011           Frozen Mist  United States   \n",
       "21508    Mother Earth Pantheon  2012           Frozen Mist  United States   \n",
       "21509               Paganwinds  2014           Frozen Mist  United States   \n",
       "\n",
       "         status  formed_in              genre  \\\n",
       "0        Active       1994        Death Metal   \n",
       "1        Active       1994        Death Metal   \n",
       "2        Active       1994        Death Metal   \n",
       "3        Active       2009        Death Metal   \n",
       "4      Split-up       2012        Death Metal   \n",
       "...         ...        ...                ...   \n",
       "21505    Active       2004  Black/Death Metal   \n",
       "21506    Active       2004  Black/Death Metal   \n",
       "21507    Active       2004  Black/Death Metal   \n",
       "21508    Active       2004  Black/Death Metal   \n",
       "21509    Active       2004  Black/Death Metal   \n",
       "\n",
       "                                                   theme  \\\n",
       "0      Dark Philosophical Poetry, Art, Religion, Psyc...   \n",
       "1      Dark Philosophical Poetry, Art, Religion, Psyc...   \n",
       "2      Dark Philosophical Poetry, Art, Religion, Psyc...   \n",
       "3                      Evil, Anti-Christianity, Satanism   \n",
       "4                                                    nan   \n",
       "...                                                  ...   \n",
       "21505   Darkness, Despair, Death, Horror, Pagan Ancestry   \n",
       "21506   Darkness, Despair, Death, Horror, Pagan Ancestry   \n",
       "21507   Darkness, Despair, Death, Horror, Pagan Ancestry   \n",
       "21508   Darkness, Despair, Death, Horror, Pagan Ancestry   \n",
       "21509   Darkness, Despair, Death, Horror, Pagan Ancestry   \n",
       "\n",
       "                                   active active_status  year_cate  ended_in  \n",
       "0                            1994-present        Active  1995-2005      2019  \n",
       "1                            1994-present        Active  1995-2005      2019  \n",
       "2                            1994-present        Active   2005-Now      2019  \n",
       "3                            2009-present        Active   2005-Now      2019  \n",
       "4                               2012-2015    Non-Active   2005-Now      2015  \n",
       "...                                   ...           ...        ...       ...  \n",
       "21505  2004-2014| 2014-2016| 2016-present        Active   2005-Now      2019  \n",
       "21506  2004-2014| 2014-2016| 2016-present        Active   2005-Now      2019  \n",
       "21507  2004-2014| 2014-2016| 2016-present        Active   2005-Now      2019  \n",
       "21508  2004-2014| 2014-2016| 2016-present        Active   2005-Now      2019  \n",
       "21509  2004-2014| 2014-2016| 2016-present        Active   2005-Now      2019  \n",
       "\n",
       "[21510 rows x 17 columns]"
      ]
     },
     "execution_count": 188,
     "metadata": {},
     "output_type": "execute_result"
    }
   ],
   "source": [
    "data"
   ]
  },
  {
   "cell_type": "code",
   "execution_count": 198,
   "metadata": {},
   "outputs": [
    {
     "data": {
      "application/vnd.plotly.v1+json": {
       "config": {
        "linkText": "Export to plot.ly",
        "plotlyServerURL": "https://plot.ly",
        "showLink": false
       },
       "data": [
        {
         "autobinx": false,
         "type": "histogram",
         "x": [
          0.89,
          0.8,
          0.92,
          0.575,
          0.7786274509803923,
          0.8,
          0.8,
          0.8,
          0.83,
          0.7,
          0.7949999999999999,
          0.87,
          0.7366666666666667,
          0.74,
          0.8500000000000001,
          0.83,
          0.925,
          0.6000000000000001,
          0.7,
          0.752,
          0.9019999999999999,
          0.69,
          0.7047058823529411,
          0.725,
          0.175,
          0.75,
          0.7,
          0.6940000000000002,
          0.85,
          0.8533333333333332,
          0.05,
          0.95,
          0.7057142857142857,
          0.55,
          0.7,
          0.835,
          0.8,
          0.77,
          0.575,
          0.8,
          0.65,
          0.8779999999999999,
          0.915,
          0.85,
          0.7,
          0.65,
          0.8,
          0.75,
          0.71,
          0.75,
          0.6,
          0.72,
          0.8566666666666668,
          0.6,
          0.2,
          0.76,
          0.9,
          0.53,
          0.73,
          0.73,
          0.8133333333333334,
          0.7,
          0.79,
          0.53,
          0.74,
          0.9,
          0.84,
          0.85,
          0.8292187499999997,
          0.7016666666666667,
          0.8463636363636362,
          0.8400000000000001,
          0.8166666666666668,
          0.855,
          0.3,
          0.8333333333333334,
          0.9,
          0.8433333333333333,
          0.86125,
          0.8,
          0.8999999999999999,
          0.7825,
          0.69,
          0.71,
          0.6,
          0.8242105263157892,
          0.702,
          0.9099999999999999,
          0.72,
          0.88,
          0.8,
          0.6,
          0.9,
          0.65,
          0.72,
          0.784,
          0.8,
          0.95,
          0.6,
          0.7800000000000001,
          0.83,
          0.96,
          0.7623076923076924,
          0.7600000000000001,
          0.7843333333333333,
          0.8157142857142857,
          0.895,
          0.7,
          0.7,
          0.8,
          0.7933333333333333,
          0.8600000000000002,
          0.9225000000000001,
          0.5333333333333333,
          0.8200000000000001,
          0.8049999999999999,
          0.8,
          0.6276470588235296,
          0.565,
          0.85,
          0.8,
          0.8869999999999999,
          0.805,
          0.8,
          0.94,
          0.8866666666666667,
          0.65,
          0.8,
          0.7433333333333333,
          0.81,
          0.975,
          0.7833333333333333,
          0.9,
          0.8916666666666667,
          0.7789325842696629,
          0.8607142857142857,
          0.7879999999999999,
          0.95,
          0.8779999999999999,
          0.815,
          0.8,
          0.9,
          0.72,
          0.5966666666666667,
          0.9,
          0.75,
          0.7804999999999999,
          0.8133333333333334,
          0.8833333333333333,
          0.7042857142857143,
          0.81,
          0.65,
          0.9,
          0.65,
          0.732,
          0.825,
          0.8400000000000001,
          0.7,
          0.6,
          0.844,
          0.786,
          0.825,
          0.8,
          0.67,
          0.9,
          0.8,
          0.7,
          0.7875,
          0.735,
          0.65,
          0.85,
          0.82,
          0.79,
          0.08,
          0.9,
          0.5,
          0.81,
          0.7133333333333333,
          0.8333333333333334,
          0.86,
          0.87,
          0.8,
          0.5,
          0.8166666666666668,
          0.9,
          0.2,
          0.75,
          0.8,
          0.845,
          0.8590909090909092,
          0.6,
          0.85,
          0.8,
          0.8,
          0.8833333333333333,
          0.765,
          0.675,
          0.8325,
          0.7833333333333333,
          0.6833333333333332,
          0.5249999999999999,
          0.7,
          0.65,
          0.9499999999999998,
          0.9,
          0.925,
          0.87,
          0.95,
          0.7,
          0.755,
          1,
          0.45,
          0.6375,
          0.7566666666666667,
          0.79125,
          0.7849999999999999,
          0.785,
          0.65,
          0.65,
          0.6433333333333334,
          0.79,
          0.8,
          0.68,
          0.64,
          0.72,
          0.65,
          0.7,
          0.6,
          0.84,
          0.575,
          0.8655555555555555,
          0.715,
          0.68,
          0.65,
          0.73,
          0.7933333333333333,
          0.8,
          0.8992307692307692,
          0.884,
          0.785,
          0.8,
          0.75,
          0.93,
          0.7657142857142858,
          0.3,
          0,
          0.83,
          0.85,
          1,
          0.7999999999999999,
          0.7,
          0.9633333333333334,
          0.63,
          0.52,
          0.7350000000000001,
          0.65,
          0.86,
          0.825,
          0.775,
          0.87,
          0.86,
          0.7,
          0.8240000000000001,
          0.8633333333333333,
          0.34,
          0.57,
          0.7,
          0.7,
          0.7,
          0.95,
          0.85,
          0.675,
          1,
          0.7769230769230774,
          0.8233333333333333,
          0.8,
          0.44,
          0.8,
          0.9344444444444444,
          0.86,
          0.72,
          0.7,
          0.85,
          0.59,
          0.7,
          0.85,
          0.8407142857142859,
          0.794,
          0.8724999999999999,
          0.85,
          0.71,
          0.7899999999999999,
          0.91,
          0.79,
          0.8360000000000001,
          0.81,
          0.775,
          0.81,
          0.7983333333333333,
          0.695,
          0.8300000000000001,
          0.8,
          0.9650000000000001,
          0.82,
          0.6,
          0.7,
          0.7615384615384616,
          0.6825,
          0.75,
          0.8,
          0.925,
          0.75,
          0.8200000000000001,
          0.575,
          0.7233333333333335,
          0.85,
          0.75,
          0.6233333333333334,
          0.7,
          0.8,
          0.7999999999999999,
          0.43,
          0.9333333333333332,
          0.81,
          0.7274999999999999,
          0.75,
          0.725,
          0.5,
          0.8250000000000001,
          0.68,
          0.86,
          0.59,
          0.8636619718309857,
          0.8185714285714286,
          1,
          0.75,
          0.85,
          0.8400000000000001,
          0.7066666666666667,
          0.75,
          0.85,
          0.85,
          0.91,
          0.88,
          0.85,
          0.7775000000000001,
          0.7166666666666667,
          0.8125,
          0.855,
          0.7925000000000001,
          0.9,
          0.8083333333333335,
          0.87,
          0.93,
          0.7,
          0.47,
          0.95,
          0.78,
          0.6599999999999999,
          0.59,
          0.95,
          0.65,
          0.8233333333333333,
          0.8,
          0.5,
          0.67,
          0.85,
          0.8085714285714286,
          0.84,
          0.792,
          0.77,
          0.4925,
          0.57,
          0.83,
          0.8,
          0.8,
          0.96,
          0.6499999999999999,
          0.97,
          0.45,
          0.7399999999999999,
          1,
          0.9,
          0.7250000000000001,
          0.78,
          0.84,
          0.8280000000000001,
          0.6599999999999999,
          0.61,
          0.65,
          0.86,
          0.81,
          0.92,
          0.15,
          0.8220000000000001,
          0.78,
          0.76,
          0.7549999999999999,
          0.8,
          0.8500000000000001,
          0.72,
          0.845,
          0.9,
          0.89,
          0.8,
          0.75,
          0.6749999999999999,
          0.7733333333333334,
          0.6,
          0.7999999999999999,
          0.7875,
          0.7,
          0.8,
          0.74,
          0.7333333333333334,
          0.85,
          0.725,
          0.656,
          0.48,
          0.65,
          0.857142857142857,
          0.7949999999999999,
          0.75,
          0.6499999999999999,
          0.6,
          0.6,
          0.49,
          0.7,
          0.805,
          0.9,
          0.9133333333333332,
          0.8125,
          0.8028571428571427,
          0.71,
          0.8049999999999999,
          0.8300000000000001,
          0.4,
          0.95,
          0.5,
          0.6666666666666666,
          0.8,
          0.66,
          0.8,
          0.5425,
          0.89,
          0.9199999999999999,
          0.6699999999999999,
          0.8,
          0.94,
          0.83,
          0.72,
          0.7599999999999999,
          0.83,
          0.65,
          0.85,
          0.88,
          0.825,
          0.77,
          1,
          0.8300000000000001,
          0.65,
          0.76,
          0.6,
          0.845,
          0.85,
          0.766470588235294,
          0.825,
          0.755,
          0.78,
          0.8,
          0.8,
          0.9049999999999999,
          0.75,
          0.82,
          0.75,
          0.78,
          0.8157142857142857,
          0.9,
          0.98,
          0.876,
          0.65,
          0.685,
          0.85,
          0.6328571428571428,
          0.8706666666666668,
          0.726,
          0.8,
          0.88,
          0.8145454545454545,
          0.7346153846153847,
          0.8,
          0.7533333333333334,
          0.77,
          0.79,
          0.7983333333333333,
          0.91,
          0.7775,
          0.65,
          0.866,
          0.79,
          0.77,
          0.7516666666666666,
          0.75,
          0.75,
          0.54,
          0.8,
          0,
          0.8873333333333334,
          0.7799999999999999,
          0.65,
          0.8,
          0.865,
          0.8140000000000001,
          0.6,
          0.75,
          0.6799999999999999,
          0.7333333333333334,
          0.78,
          0.82,
          0.9,
          0.865,
          0.9,
          0.8897402597402599,
          0.7750000000000001,
          0.84,
          0.9286666666666666,
          0.58,
          0.7600000000000001,
          0.8324999999999999,
          0.95,
          0.89,
          0.915,
          0.83,
          0.92,
          0.75,
          0.35,
          0.45,
          0.95,
          0.8848780487804877,
          0.84,
          0.75,
          0.78,
          0.7350000000000001,
          0.8625,
          0.71,
          0.7,
          0.7,
          0.6,
          0.65,
          0.8,
          0.82,
          0.73,
          0.895,
          0.93,
          0.8300000000000001,
          0.2,
          1,
          0.8,
          0.8500000000000001,
          0.825,
          0.7,
          0.8016666666666666,
          0.77,
          0.76,
          0.855,
          0.7949999999999999,
          0.93,
          0.83,
          0.59,
          0.7599999999999999,
          0.93,
          0.85,
          0.7250000000000001,
          0.821851851851852,
          0.7375,
          0.7,
          0.8625,
          0.83375,
          0.7,
          0.85,
          0.8999999999999999,
          0.45,
          0.7033333333333335,
          0.68,
          0.785,
          0.85,
          0.7,
          0.7,
          0.8284615384615386,
          0.5,
          0.7885714285714285,
          0.78,
          0.85,
          0.675,
          0.875,
          0.5133333333333333,
          0.89,
          0.7266666666666667,
          0.75,
          0.7,
          0.85,
          0.65,
          0.76,
          0.64,
          0.5533333333333333,
          0.7266666666666666,
          0.8160000000000001,
          0.47,
          0.85,
          0.6066666666666666,
          0.68,
          0.7,
          0.57,
          0.7,
          0.8,
          0.8,
          0.8500000000000001,
          0.7433333333333333,
          0.91,
          0.745,
          0.77,
          0.665,
          0.6699999999999999,
          0.75,
          0.8,
          0.8000000000000002,
          0.7666666666666666,
          0.88,
          0.75,
          0.65,
          0.8240000000000002,
          0.75,
          0.75,
          0.9333333333333332,
          0.7433333333333333,
          0.935,
          0.725,
          0.8142857142857143,
          0.665,
          0.6121052631578947,
          0.5433333333333333,
          0.72,
          0.65,
          0.792,
          0.79,
          0.88,
          0.885,
          0.65,
          0.855,
          0.7979999999999999,
          1,
          0.63,
          0.825,
          0.9500000000000001,
          0.85375,
          0.75,
          0.8056779661016947,
          0.3751851851851851,
          0.85,
          0.84,
          0.9,
          0.9099999999999999,
          1,
          0.8266666666666667,
          0.7849999999999999,
          1,
          0.82,
          0.14,
          0.9100000000000001,
          0.7,
          0.85,
          0.54,
          0.755,
          0.82,
          0.68,
          0.89,
          0.8833333333333333,
          0.95,
          1,
          0.7,
          0.52,
          0.9199999999999999,
          0.78,
          0.68,
          0.84,
          0.38,
          0.885,
          0.92,
          0.85,
          0.645,
          0.04,
          0.772,
          0.82,
          0.875,
          0.8,
          0.7,
          0.7749999999999999,
          0.7,
          0.87,
          0.33,
          0.7200000000000001,
          0.63,
          0.84,
          0.93,
          0.8,
          0.4,
          0.7723076923076923,
          0.8281250000000001,
          0.85,
          0.7649999999999999,
          0.25,
          0.65,
          0.92,
          0.75,
          0.58,
          0.88,
          0.96,
          0.5,
          0.87,
          0.852,
          0.7666666666666666,
          0.71,
          0.766,
          0.7600000000000001,
          0.875,
          0.78,
          0.825,
          0.55,
          0.87,
          0.8,
          0.62,
          0.8199999999999998,
          0.839090909090909,
          0.7650000000000001,
          0.81,
          0.8273333333333334,
          0.8999999999999999,
          0.51,
          0.8733333333333334,
          0.8661538461538463,
          0.7575000000000001,
          0.62,
          0.7978409090909092,
          0.7563636363636363,
          0.8816666666666667,
          0.79,
          0.8,
          0.92,
          0.8,
          0.75,
          0.68,
          0.85,
          0.85,
          0.75,
          0.75,
          0.6875,
          0.6433333333333332,
          0.8,
          0.8,
          0.62,
          0.6000000000000001,
          0.62,
          0.9,
          0.78,
          0.9,
          0.55,
          0.7666666666666666,
          0.7381818181818183,
          0.95,
          0.6683333333333333,
          0.6,
          0.84,
          0.675,
          0.83,
          0.7600000000000001,
          0.7175,
          0.8,
          0.806,
          0.8,
          0.825,
          0.28,
          0.8,
          0.72,
          0.765,
          0.73,
          0.75,
          0.92,
          0.71,
          0.765,
          0.83,
          0.82,
          0.86,
          0.7,
          0.79,
          0.95,
          0.8720000000000001,
          0.8975,
          0.79,
          0.78,
          0.8775000000000001,
          0.85,
          0.7466666666666667,
          0.736,
          0.7966666666666667,
          0.9125000000000001,
          0.73,
          0.75,
          0.85,
          0.99,
          0.9087500000000001,
          0.96,
          0.79,
          0.85,
          0.8,
          0.905,
          0.6,
          0.6749999999999999,
          0.94,
          0.7616666666666667,
          0.7,
          0.7728571428571429,
          1,
          0.8,
          0.7855555555555556,
          0.7657142857142858,
          0.89,
          0.93,
          0.7675,
          0.84,
          0.55,
          0.865,
          0.915,
          1,
          0.95,
          0.7966666666666667,
          0.8,
          0.7849999999999999,
          0.9,
          0.8300000000000001,
          0.8766666666666666,
          0.79,
          0.815,
          0.85,
          0.8,
          0.76,
          0.9259999999999999,
          0.88,
          0.825,
          0.865,
          0.8433333333333334,
          0.49,
          0.83,
          0.75,
          0.9,
          0.7,
          0.93,
          0.8719999999999999,
          0.7925,
          0.73,
          0.8300000000000001,
          0.85,
          0.79,
          0.7,
          0.9,
          0.93,
          0.6875,
          0.8,
          0.8526666666666667,
          0.8366666666666666,
          0.9500000000000001,
          0.625,
          0.9,
          0.95,
          0.85,
          0.88,
          0.79,
          0.6,
          0.8020689655172416,
          0.55,
          0.9,
          0.8371428571428571,
          0.72,
          0.57,
          0.89,
          0.7,
          0.76,
          0.23,
          0.8999999999999999,
          0.96,
          0.8500000000000001,
          0.8733333333333334,
          0.87,
          0.79,
          0.8511111111111112,
          0.9,
          0.79,
          0.92,
          0.73,
          1,
          0.85,
          0.8225,
          0.85,
          0.86,
          0.665,
          0.775,
          0.9033333333333333,
          0.755,
          0.56,
          0.42,
          0.705,
          0.825,
          0.8,
          0.8,
          0.75,
          0.7,
          0.75,
          0.385,
          0.87,
          0.914,
          0.8285714285714285,
          0.8999999999999999,
          0.8400000000000001,
          0.98,
          0.75,
          0.8200000000000001,
          0.65,
          0.8,
          0.68,
          0.65,
          0.8,
          0.7166666666666668,
          0.85,
          0.95,
          0.94,
          0.75,
          0.67,
          0.9003333333333334,
          0.8441666666666666,
          0.73,
          0.826,
          0.8049999999999999,
          0.68,
          0.9,
          0.7999999999999999,
          0.88,
          0.76,
          0.86,
          0.79,
          0.65,
          0.9,
          0.87,
          0.82,
          0.8,
          0.5,
          0.92,
          0.43,
          0.8500000000000001,
          0.835,
          0.7133333333333334,
          0.69,
          0.7,
          0.7,
          0.82,
          0.735,
          0.89,
          0.78,
          0.885,
          0.84,
          0.9,
          0.675,
          0.659,
          0.7399999999999999,
          0.8,
          0.75,
          0.74,
          0.8042857142857143,
          0.85,
          0.68,
          0.9,
          0.7400000000000001,
          0.83,
          0.76,
          0.89,
          0.8,
          0.65,
          0.9,
          0.79,
          0.7200000000000001,
          0.8560000000000001,
          0.7666666666666666,
          0.98,
          0.8866666666666666,
          0.88,
          0.9099999999999999,
          0.4,
          0.8204081632653062,
          0.8225,
          0.82,
          0.89,
          1,
          0.8566666666666668,
          0.7911111111111111,
          0.94,
          0.43000000000000005,
          0.8,
          0.8,
          0.8200000000000001,
          0.75,
          0.6000000000000001,
          0.89,
          0.99,
          0.95,
          0.6,
          0.89,
          0.8,
          0.9,
          0.47,
          0.6,
          0.8233333333333333,
          0.85,
          0.861282051282051,
          0.581111111111111,
          0.766,
          0.685,
          0.885,
          0.7366666666666667,
          0.6666666666666666,
          0.8366666666666668,
          0.7825,
          0.7314285714285714,
          0.6,
          0.85,
          0.77,
          0.6,
          0.6475,
          0.9,
          0.89,
          0.63,
          0.75,
          0.88,
          0.76,
          0.965,
          0.95,
          0.485,
          0.94,
          0.7,
          0.77,
          0.95,
          0.62,
          0.85,
          0.78,
          0.8366666666666668,
          0.95,
          0.67,
          0.81,
          0.9366666666666666,
          0.9550000000000001,
          0.85,
          0.75,
          0.7242857142857143,
          0.67,
          0.9175000000000001,
          0.7014285714285714,
          0.665,
          0.45,
          0.7333333333333334,
          0.9033333333333333,
          0.845,
          0.84,
          0.7949999999999999,
          0.8500000000000001,
          0.7,
          0.9,
          0.72,
          0.8,
          0.9033333333333332,
          0.83,
          0.7749999999999999,
          1,
          0.3949999999999999,
          0.8029999999999999,
          0.9,
          0.7,
          0.75,
          0.4,
          0.82,
          0.68,
          0.89,
          0.8925000000000001,
          0.9,
          0.535,
          0.78,
          0.575,
          0.9,
          0.575,
          0.65,
          0.8,
          0.02,
          0.75,
          0.84,
          0.83,
          0.87,
          0.65,
          0.8,
          0.75,
          0.69,
          0.7050000000000001,
          0.51,
          0.84,
          0.8160000000000001,
          0.41,
          0.95,
          0.85,
          0.775,
          0.8240579710144927,
          0.7081818181818181,
          0.7,
          0.58,
          0.5914285714285715,
          0.525,
          0.89,
          0.5,
          0.605,
          0.8450000000000001,
          0.8827272727272729,
          0.9,
          0.8156521739130436,
          0.5740000000000001,
          0.87,
          0.9,
          0.28,
          0.63,
          0.865,
          0.48,
          0.7999999999999999,
          0.87,
          0.8266666666666667,
          0.825,
          0.7208771929824562,
          0.5591666666666667,
          0.97,
          0.84,
          0.61,
          0.8116666666666666,
          0.6100000000000001,
          0.8300000000000001,
          0.83,
          0.7150000000000001,
          0.7,
          0.8085714285714284,
          0.712,
          0.52,
          0.4166666666666667,
          0.7933333333333333,
          0.65,
          0.6499999999999999,
          0.7,
          0.55,
          0.665,
          0.2,
          0.7834000000000002,
          0.7544444444444445,
          0.48,
          0.89,
          0.7050000000000001,
          0.9333333333333332,
          0.9163636363636365,
          0.8799999999999999,
          0.9,
          0.85,
          0.79,
          0.495,
          0.36,
          0.75125,
          0.88,
          0.8721428571428572,
          0.75,
          1,
          0.75,
          0.325,
          0.79,
          0.85,
          0.85,
          0.85,
          0.88,
          0.77,
          0.515,
          0.96,
          0.82,
          0.27,
          0.76,
          0.65,
          0.8,
          0.91,
          0.8700000000000001,
          0.71,
          0.72,
          0.88,
          0.9299999999999999,
          0.65,
          0.49,
          0.6333333333333334,
          0.9,
          0.95,
          0.63,
          0.7,
          0.57,
          0.88,
          0.8075,
          0.725,
          0.9650000000000001,
          0.7779999999999999,
          0.5499999999999999,
          0.6,
          0.8,
          0.7200000000000001,
          0.2,
          0.73,
          0.6875,
          0.68,
          0.8250000000000001,
          0.8300000000000001,
          0.865,
          0.75,
          0.685,
          0.62,
          0.8,
          0.825,
          0.89,
          1,
          0.8533333333333334,
          0.77,
          0.8300000000000001,
          0.775,
          0.915,
          0.8676923076923077,
          0.98,
          0.5800000000000001,
          0.87,
          0.8,
          0.5166666666666667,
          0.955,
          0.85,
          0.82,
          0.6,
          0.79625,
          0.72,
          0.57,
          0.8353846153846154,
          0.5800000000000001,
          0.95,
          0.618,
          0.86,
          0.63,
          0.7,
          0.4,
          0.8766666666666666,
          0.9299999999999999,
          0.71,
          0.9,
          0.85,
          0.77,
          0.625,
          0.93,
          0.8,
          0.8000000000000002,
          0.535,
          0.78,
          0.52,
          0.55,
          0.915,
          0.07,
          0.7,
          0.75,
          0.545,
          0.8300000000000001,
          0.95,
          0.8,
          0.94,
          0.74,
          0.755,
          0.7,
          0.8633333333333333,
          0.7849999999999999,
          0.75,
          0.81,
          0.9,
          0.87,
          0.6,
          0.84,
          0.875,
          0.75,
          0.88,
          0.99,
          0.665,
          0.758,
          0.9525,
          0.8,
          0.95,
          0.44999999999999996,
          0.5,
          0.8,
          0.525,
          0.75,
          0.9,
          0.5900000000000001,
          0.65,
          0.82,
          0.8300000000000001,
          0.88,
          0.67,
          0.7767889908256883,
          0.02,
          0.48000000000000004,
          0.685,
          0.55,
          0.81,
          0.8416666666666668,
          0.89,
          0.915,
          0.84,
          0.5,
          0.85,
          0.825,
          0.6633333333333333,
          0.7,
          0.5,
          0.4,
          0.65,
          0.7666666666666666,
          0.7,
          0.89,
          0.775,
          0.9,
          0.58,
          0.625,
          0.9199999999999999,
          0.635,
          0.7617857142857141,
          0.8033333333333333,
          0.8752380952380951,
          0.6925,
          0.92,
          0.8,
          0.7,
          0.93,
          0.755,
          0.7777777777777778,
          0.8125,
          0.58,
          0.9,
          0.78,
          0.9321052631578945,
          0.68,
          0.82,
          0.8218181818181818,
          0.8800000000000001,
          0.8,
          0.8666666666666667,
          0.94,
          0.75,
          0.875,
          0.66,
          0.91,
          0.7,
          0.865,
          0.62,
          0.7110000000000002,
          0.9033333333333333,
          0.84,
          0.75,
          0.85,
          0.6733333333333333,
          0.4,
          0.8049999999999999,
          0.8170833333333332,
          0.6462500000000001,
          0.8,
          0.825,
          0.72,
          0.7474999999999999,
          0.8,
          0.83,
          0.78,
          0.62,
          0.815,
          0.98,
          0.8,
          0.9033333333333334,
          0.8,
          0.845,
          0.86,
          0.8,
          0.85,
          0.72,
          0.895,
          0.745,
          0.7,
          0.98,
          0.73,
          0.8033333333333333,
          0.88,
          0.71,
          0.7,
          0.7,
          0.73,
          0.8,
          0.6,
          0.65,
          0.82,
          0.8914285714285716,
          0.2,
          0.73,
          0.7,
          1,
          0.5,
          0.86,
          0.65,
          0.794,
          0.87,
          0.75,
          0.95,
          0.7633333333333333,
          0.6,
          0.3,
          0.8192307692307692,
          0.8571428571428571,
          0.5,
          0.81,
          0.8,
          0.75,
          0.8522222222222222,
          0.81,
          0.9,
          0.9650000000000001,
          0.8,
          0.95,
          0.95,
          0.9400000000000001,
          0.72,
          0.65,
          0.8,
          0.93,
          0.49222222222222217,
          0.285,
          0.7799999999999999,
          0.5,
          0.8039999999999999,
          0.815,
          0.86,
          0.72,
          0.745,
          0.66,
          0.95,
          0.85,
          0.45,
          0.26,
          0.95,
          0.8260000000000002,
          0.8700000000000001,
          0.7666666666666666,
          0.61,
          0.91,
          0.55,
          0.7999999999999999,
          0.8320000000000001,
          0.21,
          0.8133333333333334,
          0.75,
          0.99,
          0.88,
          0.7849999999999999,
          0.7,
          1,
          0.96,
          0.75,
          0.6,
          0.26,
          0.93,
          0.6766666666666667,
          0.835,
          0.8,
          0.65,
          0.69,
          0.81,
          0.9,
          0.5,
          0.8049999999999999,
          0.47,
          0.89,
          0.5566666666666666,
          0.89,
          0.63,
          0.8300000000000001,
          1,
          0.78,
          0.75,
          0.63,
          0.835,
          0.66,
          0.99,
          0.8775000000000001,
          0.8166666666666668,
          0.7933333333333333,
          0.62,
          0.776,
          0.7,
          0.92,
          0.93,
          0.99,
          0.75,
          0.6,
          0.475,
          0.8925000000000001,
          0.82,
          0.66125,
          0.88,
          0.6,
          0.86,
          0.83,
          0.7749999999999999,
          0.8,
          0.65,
          0.1,
          0.7375,
          0.5,
          0.7,
          0.79,
          0.8440000000000001,
          0.6333333333333333,
          0.6,
          0.8,
          0.8500000000000001,
          0.8733333333333334,
          0.825,
          0.7,
          0.8681481481481483,
          0.8225,
          0.6266666666666666,
          0.72,
          0.935,
          0.68,
          0.63,
          0.9,
          0.85,
          0.55,
          0.7275,
          0.6912499999999999,
          0.8068421052631579,
          0.7849999999999999,
          0.77,
          0.8075,
          0.8059999999999998,
          0.8,
          0.54,
          0.74,
          0.87,
          0.7749999999999999,
          0.8,
          0.87,
          0.67,
          0.8166666666666668,
          0.725,
          0.675,
          0.75,
          0.7050000000000001,
          0.79,
          0.75,
          0.75,
          0.3,
          0.5700000000000001,
          0.7,
          0.8,
          0.85,
          0.8,
          0.94,
          0.8500000000000001,
          0.91,
          0.7625,
          0.7,
          0.76,
          0.84,
          0.75,
          0.63,
          0.51,
          0.7,
          0.7,
          0.475,
          0.67,
          0.414,
          0.79,
          0.8400000000000001,
          0.71,
          0.8,
          1,
          0.835,
          0.7,
          0.65,
          0.75,
          0.6,
          0.525,
          0.68,
          0.89,
          0.9,
          0.95,
          0.7733333333333333,
          0.8,
          0.905,
          0.02,
          0.8,
          0.69,
          0.55,
          0.68,
          0.9,
          0.925,
          1,
          0.92,
          0.77,
          0.78,
          0.9166666666666666,
          0.45,
          0.7,
          0.9633333333333333,
          0.725,
          0.6,
          0.5,
          0.77,
          0.75,
          0.6799999999999999,
          0.73,
          0.87,
          0.704,
          0.925,
          0.9,
          1,
          0.7366666666666667,
          0.8300000000000001,
          0.81,
          0.8,
          0.8580000000000002,
          0.95,
          0.8850000000000001,
          0.8525,
          0.66,
          0.7661538461538461,
          0.8861016949152543,
          0.84,
          0.67,
          1,
          0.8690000000000001,
          0.9440000000000002,
          0.92,
          0.83,
          0.8,
          0.84,
          0.9025000000000001,
          0.85,
          0.34,
          0.8,
          0.85,
          0.9450000000000001,
          0.68,
          0.8756363636363639,
          0.8900000000000001,
          0.7,
          0.6499999999999999,
          0.63,
          0.7,
          0.7,
          0.75,
          0.6,
          0.95,
          0.71,
          0.675,
          0.777,
          1,
          0.7,
          0.78,
          0.8,
          0.859090909090909,
          0.83,
          0.44000000000000006,
          0.9,
          0.88,
          0.64,
          0.7749999999999999,
          0.9,
          0.82,
          0.5575,
          0.7200000000000001,
          0.98,
          0.825,
          0.865,
          0.74,
          0.39,
          0.72,
          0.8,
          0.62,
          0.75,
          0.55,
          0.785,
          0.885,
          0.85,
          0.7,
          0.65,
          0.8733333333333334,
          0.96,
          0.8699999999999999,
          0.8,
          0.6,
          0.99,
          0.538,
          0.55,
          0.9,
          0.625,
          0.9314285714285714,
          0.7866666666666667,
          0.73,
          0.9361538461538461,
          0.99,
          0.6575,
          0.8645454545454545,
          0.8733333333333334,
          0.85,
          0.85,
          0.65,
          0.65,
          0.635,
          0.85,
          0.7275,
          0.58,
          0.92,
          0.9,
          0.8,
          0.68,
          0.8200000000000001,
          0.8,
          0.775,
          0.84,
          0.9166666666666666,
          0.9120000000000001,
          0.94,
          0.6333333333333333,
          0.8443750000000001,
          0.7,
          0.7,
          0.95,
          0.775,
          0.7,
          0.7250000000000001,
          0.7,
          0.8576190476190477,
          0.75,
          0.75,
          0.65,
          0.93,
          0.1,
          0.9175,
          0.75,
          0.8472727272727272,
          0.75,
          0.74,
          0.8,
          0.7999999999999999,
          0.72,
          0.8,
          0.86,
          0.8453846153846154,
          0.43,
          0.7849999999999999,
          0.8,
          0.75,
          0.7,
          0.8846666666666668,
          0.7434782608695651,
          0.95,
          0.79,
          0.7,
          0.68,
          0.68,
          0.75,
          0.84,
          0.9,
          0.8775000000000001,
          0.92,
          0.8541666666666666,
          0.8425,
          0.9,
          0.8,
          0.825,
          0.8466666666666667,
          0.825,
          0.8160714285714284,
          0.85,
          0.905,
          0.74,
          0.7,
          0.75,
          0.76,
          0.77,
          0.7108823529411763,
          0.46888888888888886,
          0.8166666666666668,
          0.85,
          0.7966666666666666,
          0.925,
          0.45,
          0.4,
          0.9,
          0.765,
          0.83,
          0.86,
          0.95,
          0.8720000000000001,
          0.75,
          0.8,
          0.8,
          0.75,
          0.8,
          0.9324999999999999,
          0.895,
          0.7613888888888889,
          0.645,
          0.73,
          0.6,
          0.8,
          0.845,
          0.8,
          0.95,
          0.8975000000000001,
          0.8279310344827584,
          0.5333333333333333,
          0.94,
          0.9,
          0.92,
          0.85,
          0.8300000000000001,
          0.85,
          0.65,
          0.97,
          0.73,
          0.7149999999999999,
          0.54,
          0.62,
          0.98,
          1,
          0.985,
          0.48,
          0.4,
          0.69,
          0.75,
          0.75,
          0.75,
          0.4166666666666667,
          0.75,
          0.83,
          0.74,
          0.8200000000000001,
          0.835,
          0.88,
          0.7740000000000001,
          0.7125,
          0.9,
          0.675,
          0.85,
          0.74,
          0.9,
          0.85,
          0.875,
          0.95,
          0.015000000000000001,
          0.7569999999999999,
          0.7649999999999999,
          0.5,
          0.77,
          0.84,
          0.7,
          0.827,
          0.7,
          0.925,
          0.82,
          0.96,
          0.775,
          0.63,
          0.79,
          0.7333333333333334,
          0.7649999999999999,
          0.8963636363636364,
          0.6860000000000002,
          0.935,
          0.65,
          0.858,
          0.78,
          0.8666666666666666,
          0.665,
          0.77,
          0.8113333333333335,
          0.8607692307692307,
          0.5,
          0.775,
          0.825,
          0.86,
          0.7,
          0.71,
          0.6,
          0.79,
          0.55,
          0.75,
          0.91,
          0.97,
          0.75,
          0.52,
          0.86,
          0.89,
          0.5,
          0.77,
          1,
          0.8999999999999999,
          0.755,
          0.65,
          0.8566666666666668,
          0.92,
          0.86,
          0.4,
          0.81,
          0.8,
          0.8866666666666667,
          0.935,
          0.852,
          0.9199999999999999,
          0.6,
          0.75,
          0.6825,
          0.91,
          0.5,
          0.7816666666666666,
          0.8,
          0.7183333333333333,
          0.7666666666666666,
          0.7637499999999999,
          0.8049999999999999,
          0.9199999999999999,
          0.725,
          0.9550000000000001,
          0.625,
          0.95,
          0.925,
          0.9,
          0.7933333333333333,
          0.85,
          1,
          0.9,
          0.675,
          0.895,
          0.6625000000000001,
          0.85,
          0.71,
          1,
          0.8633333333333333,
          0.96,
          0.92,
          0.7225,
          0.75,
          1,
          0.82,
          0.6,
          0.85,
          0.97,
          0.77,
          0.725,
          1,
          0.86,
          0.86,
          0.89,
          0.6,
          0.95,
          0.8200000000000001,
          0.79,
          0.87,
          0.6275000000000001,
          0.775,
          0.8,
          0.78,
          0.87,
          0,
          0.95,
          0.5,
          0.8335294117647059,
          0.7999999999999999,
          0.85,
          0.78,
          0.79,
          0.7,
          0.7775,
          0.4,
          0.625,
          0.83,
          0.8,
          0.93,
          0.87,
          0.5,
          0.86,
          0.72,
          0.8049999999999999,
          0.8866666666666667,
          0.8,
          0.5666666666666665,
          0.7,
          1,
          0.55,
          0.7775,
          0.89,
          0.6333333333333333,
          0.83,
          0.74,
          0.7,
          0.9046153846153846,
          0.8963636363636365,
          0.35,
          0.11,
          0.7949999999999999,
          0.6,
          0.89,
          0.97,
          0.75,
          0.88,
          0.8,
          0.97,
          0.9,
          0.82,
          0.62,
          0.96,
          0.85,
          0.55,
          0.735,
          0.8219999999999998,
          0.97,
          0.7849999999999999,
          0.9,
          0.95,
          0.6,
          0.8600000000000001,
          0.9,
          0.75,
          0.8539999999999999,
          0.7733333333333334,
          0.8,
          0.86,
          0.8,
          0.5640000000000001,
          0.55,
          0.8699999999999998,
          0.55,
          0.8619999999999999,
          1,
          0.8082758620689655,
          0.8566666666666666,
          0.6792307692307691,
          0.61,
          0.6999999999999998,
          0.9,
          0.96,
          0.75,
          0.87,
          0.75,
          0.5,
          0.75,
          0.65,
          0.9152941176470587,
          0.25,
          0.75,
          0.6566666666666666,
          0.68,
          0.9,
          0.84,
          0.66,
          0.8,
          0.5349999999999999,
          0.62,
          0.84,
          0.9,
          0.875,
          0.8475,
          0.7766666666666667,
          0.85,
          0.89,
          0.8,
          0.83,
          0.795,
          0.6499999999999999,
          0.76,
          0.8,
          0.9,
          0.815,
          0.5700000000000001,
          0.3,
          0.9,
          0.75,
          0.75,
          0.8482352941176472,
          0.68,
          0.81,
          0.75,
          0.4,
          0.6,
          0.845,
          0.69,
          0.88,
          0.95,
          0.87,
          0.31000000000000005,
          0.64,
          0.85,
          0.875,
          0.85,
          0.7250000000000001,
          0.85,
          0.51,
          0.7,
          0.8,
          0.9,
          0.95,
          0.85,
          0.7,
          0.85,
          0.6733333333333333,
          0.83,
          0.6968749999999999,
          0.8375,
          0.85,
          0.75,
          0.85,
          0.8766666666666666,
          0.55,
          0.64,
          0.8500000000000001,
          0.62,
          0.85,
          0.84,
          0.7566666666666667,
          0.6875,
          0.86,
          0.73,
          0.8033333333333333,
          0.935,
          0.8975,
          1,
          0.7,
          0.7628571428571428,
          0.6033333333333334,
          0.92,
          0.7,
          0.655,
          0.905,
          0.5700000000000001,
          0.85,
          0.4166666666666667,
          0.85,
          0.3,
          0.75,
          0.8,
          0.6625,
          0.8,
          0.806896551724138,
          0.6978378378378377,
          0.25,
          0.84,
          0.7419999999999999,
          0.885,
          0.93,
          0.86,
          0.9700000000000001,
          0.935,
          0.7050000000000001,
          0.84,
          0.875,
          0.7666666666666666,
          0.8366666666666666,
          0.8,
          0.84,
          0.9,
          0.7542857142857143,
          0.775,
          0.7949999999999999,
          0.92,
          0.8,
          0.87375,
          0.75,
          0.6233333333333334,
          0.675,
          0.9,
          0.7,
          0.8,
          0.7,
          0.792,
          0.8,
          0.91,
          0.9,
          0.6799999999999999,
          0.83,
          0.8460563380281693,
          0.8066666666666666,
          0.7409615384615387,
          0.4,
          0.8275,
          0.8283333333333335,
          0.9075,
          0.5900000000000001,
          0.8433333333333333,
          0.4,
          0.89,
          0.89,
          0.68,
          0.9940000000000001,
          1,
          0.4,
          0.7,
          0.88,
          0.5,
          0.52,
          0.95,
          0.85,
          0.8,
          0.8600000000000001,
          0.72,
          0.68,
          0.5,
          0.7109090909090908,
          0.8033333333333333,
          0.785,
          0.765,
          0.725,
          0.6699999999999999,
          0.9,
          0.66,
          0.6857894736842104,
          0.7833333333333333,
          0.8500000000000001,
          0.9,
          0.625,
          0.64,
          0.825,
          0.65,
          0.05,
          0.7,
          0.8,
          0.7,
          0.784,
          0.685,
          0.9,
          0.86,
          0.84,
          0.74,
          0.9,
          0.9400000000000001,
          0.675,
          0.91,
          0.77,
          0.77,
          0.89,
          0.7825000000000001,
          0.8700000000000001,
          0.8666666666666667,
          0.75,
          0.85,
          0.7366666666666667,
          0.835,
          0.6699999999999999,
          0.7,
          0.8,
          0.7866666666666666,
          0.65,
          0.815,
          0.9275,
          0.8666666666666667,
          0.9450000000000001,
          0.7466666666666666,
          0.8,
          0.83,
          0.74,
          0.8,
          0.9,
          0.79,
          0.66,
          0.55,
          0.94,
          0.96,
          0.75,
          0.8333333333333334,
          0.6,
          0.69,
          0.7515384615384615,
          0.8825000000000001,
          0.9071428571428573,
          0.6849999999999999,
          0.45,
          0.71,
          0.6842857142857143,
          0.8825000000000001,
          0.7,
          0.88,
          0.675,
          0.95,
          0.99,
          0.865,
          0.9199999999999999,
          0.75,
          0.811111111111111,
          0.75,
          0.76,
          0.98,
          0.87,
          0.9239999999999998,
          0.902857142857143,
          0.8,
          0.7250000000000001,
          0.8,
          0.6,
          0.7288888888888889,
          0.785,
          0.9483333333333334,
          0.855,
          0.736,
          0.9066666666666667,
          0.9177777777777779,
          0.9233333333333333,
          0.76,
          0.85,
          0.885,
          0.9,
          0.85,
          0.8,
          0.37999999999999995,
          0.92,
          0.6,
          0.6,
          0.35,
          0.93,
          0.8,
          0.9,
          0.8314285714285713,
          0.88,
          0.92,
          0.75,
          0.8413559322033896,
          0.61,
          0.95,
          0.8275,
          0.855,
          0.7636363636363637,
          0.705,
          0.73,
          0.79,
          0.7528571428571429,
          0.815,
          0.885,
          0.45,
          0.6633333333333332,
          0.735,
          0.995,
          0.7666666666666666,
          0.8,
          0.6920000000000001,
          0.8166666666666665,
          0.95,
          0.8700000000000001,
          0.7233333333333333,
          0.8350000000000001,
          0.7933333333333333,
          0.5,
          0.7466666666666667,
          0.725,
          0.62,
          0.8,
          0.9266666666666666,
          0.85,
          0.87,
          0.8480000000000001,
          0.775,
          0.05,
          0.9,
          0.77,
          0.75,
          0.325,
          0.792,
          0.75,
          0.7999999999999999,
          1,
          0.7,
          0.8,
          0.6950000000000001,
          0.72,
          0.55,
          0.8529411764705882,
          0.8169230769230769,
          0.6833333333333335,
          0.69,
          0,
          0.75,
          0.70125,
          0.83,
          0.9,
          0.8687499999999999,
          0.9,
          0.9,
          0.68,
          0.796111111111111,
          0.365,
          0.85,
          1,
          0.95,
          0.5983333333333333,
          0.775,
          0.3925,
          0.94,
          0.9,
          0.93,
          0.85,
          0.84,
          0.7250000000000001,
          0.8,
          0.775,
          0.8966666666666666,
          0.78,
          0.75,
          0.7525,
          0.89,
          0,
          0.735,
          0.7649999999999999,
          0.99,
          0.8,
          0.88,
          0.885,
          0.8483333333333333,
          0.6833333333333332,
          0.865,
          0.96,
          0.8285714285714285,
          0.5800000000000001,
          0.9,
          0.71,
          0.8,
          0.62125,
          0.68,
          0.9933333333333333,
          0.55,
          0.8,
          0.52,
          0.646,
          0.55,
          0.66,
          0.73,
          0.555,
          0.66,
          1,
          0.525,
          1,
          0.766,
          0.675,
          0.61,
          0.7,
          0.77,
          0.7849999999999999,
          0.6625,
          0.98,
          0.8600000000000001,
          0.6000000000000001,
          0.83,
          0.7,
          0.6599999999999999,
          0.45,
          0.75,
          0.7,
          0.83,
          0.8500000000000001,
          0.8866666666666667,
          1,
          0.79,
          0.575,
          0.9,
          0.5,
          0.6,
          0.725,
          0.93,
          0.75,
          0.7250000000000001,
          0.78,
          0.86,
          0.865,
          0.82,
          0.7400000000000001,
          0.75,
          0.75,
          0.7483333333333334,
          0.67,
          0.475,
          0.92,
          0.4,
          0.8663636363636363,
          0.938,
          0.79,
          0.84,
          0.86,
          0.8,
          0.775,
          0.69,
          0.8460000000000001,
          0.89,
          0.65,
          0.651,
          0.6,
          0.52,
          0.818,
          0.8280000000000001,
          0.865,
          0.47,
          0.68,
          0.75,
          0.82,
          0.8175,
          0.8,
          0.7849999999999999,
          0.8171428571428573,
          0.8,
          0.9,
          0.85,
          0.882,
          1,
          1,
          0.9,
          0.835,
          0.9,
          0.7,
          0.84,
          0.7912499999999999,
          0.7749999999999999,
          0.57,
          0.75,
          0.8266666666666667,
          0.8624999999999999,
          0.8025,
          0.7845454545454547,
          0.81,
          0.75,
          0.75,
          0.95,
          0.7400000000000001,
          0.65,
          0.8525,
          0.8133333333333334,
          0.92,
          0.78,
          0.65,
          0.808,
          0.8,
          0.9116666666666665,
          0.48,
          0.88,
          0.8,
          0.78,
          0.7725,
          0.79,
          0.85,
          0.75,
          0.8,
          0.7,
          0.8,
          0.83,
          0.65,
          0.73,
          0.87,
          0.87,
          0.85,
          0.865,
          0.8,
          0.8,
          0.73,
          0.81,
          0.895,
          0.5,
          0.875,
          0.95,
          0.89,
          0.77,
          0.485,
          0.935,
          0.86,
          0.8183333333333334,
          0.6,
          0.525,
          0.6,
          0.6699999999999999,
          0.6,
          0.8480000000000001,
          0.6,
          0.85,
          0.726,
          0.78,
          0.55,
          0.75,
          0.95,
          0.23,
          0.93,
          0.708,
          0.8966666666666666,
          0.6000000000000001,
          0.82,
          0.8,
          0.87,
          0.74,
          0.7233333333333333,
          0.765,
          0.89,
          0.85,
          0.6333333333333333,
          0.73,
          0.7866666666666667,
          0.8285185185185185,
          0.64,
          0.75,
          0.6,
          0.8366666666666666,
          0.45,
          0.01,
          0.85,
          0.7949999999999999,
          0.8766666666666666,
          0.7260000000000001,
          0.71,
          0.5566666666666666,
          0.82,
          0.77,
          0.67,
          0.8,
          0.6,
          0.8,
          0.8400000000000001,
          0.68,
          0.8,
          0.64,
          0.85,
          0.7,
          0.9,
          0.35,
          0.78,
          0.85,
          0.925,
          0.9199999999999999,
          0.51,
          0.93,
          0.77,
          0.47500000000000003,
          0.9,
          0.6433333333333334,
          0.92,
          0.78,
          0.9,
          0.8,
          0.85,
          0.8400000000000001,
          0.8,
          0.6,
          0.9,
          0.68,
          0.82,
          0.835,
          0.95,
          0.525,
          0.94,
          0.59,
          0.6,
          0.865,
          0.86,
          0.9,
          0.75,
          0.925,
          0.4,
          0.9,
          0.01,
          0.83,
          0.65,
          0.82,
          0.7250000000000001,
          0.8,
          0.9,
          0.71,
          0.485,
          0.7,
          0.852,
          0.85,
          0.7169230769230768,
          0.65,
          0.75,
          0.9199999999999999,
          0.8457142857142858,
          0,
          0.65,
          0.8,
          0.708,
          0.68,
          0.75,
          0.845,
          0.8333333333333334,
          0.78,
          0.9028571428571428,
          0.89,
          0.28,
          0.8,
          0.6,
          0.95,
          0.9233333333333333,
          0.73,
          0.9,
          0.53,
          0.8500000000000001,
          0.7971428571428572,
          0.725,
          0.84,
          0.7799999999999999,
          0.85,
          0.655,
          0.75,
          0.87,
          0.85,
          0.65,
          0.775,
          0.4,
          0.12,
          0.8592307692307691,
          0.82,
          0.7275,
          0.8466666666666667,
          0.8,
          0.86,
          0.74,
          0.41000000000000003,
          0.55,
          0.65,
          0.7,
          0.77,
          0.6,
          0.68,
          0.795,
          0.7566666666666667,
          0.82,
          0.82,
          0.825,
          0.75,
          0.5,
          0.64,
          0.794,
          0.9442857142857143,
          0.7200000000000001,
          0.75,
          0.865,
          0.77,
          0.8,
          0.87,
          0.75,
          0.88,
          0.78,
          0.95,
          0.76,
          0.8566666666666666,
          0.925,
          0.8,
          0.99,
          0.55,
          0.9,
          0.9,
          0.625,
          0.83,
          0.97,
          0.79,
          0.81,
          0.75,
          0.98,
          0.6833333333333332,
          0.875,
          0.62,
          0.8500000000000001,
          0.6866666666666666,
          0.915,
          0.97,
          0.78,
          0.85,
          0.96,
          0.8,
          0.8,
          0.875,
          0.775,
          0.8,
          0.9,
          0.86,
          1,
          0.6633333333333333,
          0.55,
          0.7683333333333334,
          0.7250000000000001,
          0.755,
          0.9,
          0.9,
          0.82,
          1,
          0.78,
          0.7649999999999999,
          0.89,
          0.8566666666666666,
          0.8,
          0.9,
          0.7,
          0.65,
          0.7,
          0.7849999999999999,
          0.765,
          0.85,
          0.865,
          0.7,
          0.79,
          0.8133333333333335,
          0.915,
          0.87,
          0.42500000000000004,
          0.45,
          0.8325,
          0.71,
          0.14,
          0.15,
          0.74,
          0.8733333333333334,
          0.7050000000000001,
          0.6,
          0.8218181818181818,
          0.81,
          0.7,
          0.7,
          0.87,
          0.78,
          0.65,
          0.62,
          0.7733333333333333,
          0.75,
          0.68,
          0.9057142857142858,
          0.75,
          0.75,
          0.6933333333333334,
          0.685,
          0.8,
          0.8240000000000001,
          0.75,
          0.49,
          0.35,
          0.88,
          0.9066666666666667,
          0.9066666666666666,
          0.6,
          1,
          0.5,
          0.9899999999999999,
          0.7600000000000001,
          0.99,
          0.7,
          0.315,
          0.8,
          0.6950000000000001,
          0.4,
          0.7,
          0.7,
          0.8133333333333335,
          0.7166666666666667,
          0.5449999999999999,
          0.8350000000000001,
          0.7,
          0.35,
          0.7,
          0.8315384615384616,
          0.89,
          0.7066666666666667,
          0.275,
          0.7150000000000001,
          0.7949999999999999,
          0.74,
          0.894375,
          0.745,
          0.49666666666666676,
          0.6977777777777778,
          0.7876923076923077,
          0.435,
          0.7,
          0.7466666666666666,
          0.6,
          0.8,
          0.625,
          0.96,
          0.9,
          0.9149999999999999,
          0.89,
          0.86,
          0.8500000000000001,
          0.55,
          0.85,
          0.85,
          0.55,
          0.85,
          0.8,
          0.53,
          0.9,
          0.93,
          0.67,
          0.8,
          0.8450000000000001,
          0.86,
          0.9266666666666667,
          0.75,
          0.6799999999999998,
          0.9,
          0.8377777777777777,
          0.95,
          0.675,
          0.8233333333333333,
          0.72,
          0.9009090909090909,
          0.735,
          0.27,
          0.85,
          0.7,
          0.75,
          0.39,
          0.92,
          0.55,
          0.8,
          0.87,
          0.9091666666666667,
          0.9,
          0.83,
          0.8899999999999999,
          0.65,
          0.625,
          0.85,
          0.8049999999999999,
          1,
          0.95,
          0.71,
          0.58,
          0.9,
          0.8969696969696973,
          0.725,
          0.76,
          0.8400000000000001,
          0.86,
          0.45,
          0.56,
          0.9,
          0.83,
          0.855,
          0.895,
          0.8,
          0.75,
          0.8300000000000001,
          0.6666666666666666,
          0.88,
          0.7,
          0.796,
          0.6366666666666666,
          0.7,
          0.9066666666666666,
          0.89,
          0.46,
          0.65,
          0.92,
          0.7142857142857144,
          0.8466666666666667,
          0.8,
          0.69,
          0.9,
          0.8,
          0.78,
          1,
          0.8438461538461538,
          0.7566666666666665,
          0.99,
          0.77,
          0.85,
          0.6100000000000001,
          0.95,
          0.7166666666666668,
          0.8166666666666665,
          0.7,
          1,
          0.665,
          0.9,
          0.8966666666666666,
          0.8366666666666668,
          0.71,
          0.77,
          0.7999999999999999,
          0.78,
          0.75,
          0.6922222222222223,
          0.73,
          0.87,
          0.9163636363636362,
          0.83,
          0.9,
          0.9166666666666665,
          0.99,
          0.8320000000000001,
          0.9,
          0.85,
          0.82,
          0.8566666666666666,
          0.5633333333333334,
          0.8053333333333333,
          0.525,
          0.63,
          0.825,
          0.7825,
          0.75,
          0.9,
          0.8687500000000001,
          0.805,
          0.8333333333333333,
          0.7633333333333333,
          0.925,
          0.96,
          0.85,
          0.7333333333333334,
          0.74,
          0.74,
          0.9,
          0.6100000000000001,
          0.675,
          0.7,
          0.95,
          0.65,
          0.83,
          0.885,
          0.82,
          0.9199999999999999,
          0.8275,
          0.71,
          0.8,
          0.9,
          0.7,
          0.8899999999999998,
          0.81,
          0.54,
          0.7725,
          0.8233333333333333,
          0.8,
          0.7871428571428573,
          0.765625,
          0.825,
          0.93,
          0.65,
          0.94,
          0.9099999999999999,
          0.8099999999999999,
          0.63,
          0.74,
          0.85,
          0.92,
          0.8075,
          1,
          0.85,
          0.75,
          0.5299999999999999,
          0.8333333333333334,
          0.7,
          0.8,
          0.855,
          0.85,
          0.95,
          0.5,
          0.85,
          0.88,
          0.95,
          0.83,
          0.95,
          0.79,
          0.9,
          0.9733333333333333,
          0.908125,
          0.19,
          0.9133333333333332,
          0.892,
          0.7494444444444444,
          0.6,
          0.8,
          0.86,
          0.8649999999999999,
          1,
          1,
          0.9342857142857144,
          0.9,
          0.91,
          0.79625,
          0.6666666666666666,
          0.7,
          0.75,
          0.6,
          0.7,
          0.92,
          0.7250000000000001,
          0.7,
          0.94,
          0.92,
          0.3,
          0.83,
          0.7766666666666667,
          0.72,
          0.73,
          0.69,
          0.91125,
          0.91,
          0.9,
          0.65,
          0.84,
          0.845,
          0.87,
          0.85,
          0.79,
          0.7849999999999999,
          0.7250000000000001,
          0.76,
          0.84,
          0.75,
          0.4,
          0.5,
          0.73,
          0.87,
          0.9,
          0.95,
          0.625,
          0.55,
          0.895,
          0.7666666666666666,
          0.91,
          0.7,
          0.8,
          0.765,
          0.8,
          0.8,
          0.63,
          0.68,
          0.766,
          0.8,
          1,
          0.88,
          0.6,
          0.825,
          0.74,
          0.5,
          0.71,
          0.81,
          0.71,
          0.87,
          0.8200000000000001,
          0.4,
          0.665,
          0.9,
          0.8,
          0.7000000000000001,
          0.665,
          0.9,
          0.7459999999999999,
          0.75,
          0.79,
          0.8163636363636364,
          0.75,
          0.98,
          0.825,
          0.9,
          0.8600000000000001,
          0.77,
          0.8977777777777778,
          0.88,
          0.7,
          0.855,
          0.835,
          0.87,
          0.85,
          0.9019999999999999,
          0.7859999999999999,
          0.6900000000000001,
          0.85,
          0.78,
          1,
          0.95,
          0.855,
          0.7,
          0.35,
          0.7581818181818182,
          0.8999999999999999,
          0.84,
          0.5,
          0.73,
          0.875,
          0.89,
          0.85,
          0.5,
          1,
          0.5800000000000001,
          0.75,
          0.92,
          0.825,
          0.8450000000000001,
          0.8,
          0.8637500000000001,
          0.6825,
          0.8025,
          0.94,
          0.8200000000000001,
          0.7016666666666667,
          0.55,
          0.2,
          0.71,
          0.72,
          0.7666666666666666,
          0.5,
          0.94,
          0.9171428571428571,
          0.8800000000000001,
          0.89,
          0.91,
          0.8,
          0.85,
          0.8649999999999999,
          0.635,
          0.8,
          0.855,
          0.6,
          0.7,
          0.8918181818181818,
          0.7125,
          0.8333333333333334,
          0.85,
          0.01,
          0.7,
          0.94,
          0.95,
          0.65,
          0.55,
          0.6999999999999998,
          0.81,
          0.58,
          0.74,
          0.7,
          0.745,
          0.8500000000000001,
          0.75,
          0.6833333333333332,
          0.6566666666666666,
          0.81,
          0.9133333333333334,
          0.525,
          0.52,
          0.8814285714285716,
          0.7,
          0.64,
          1,
          0.7,
          0.74,
          0.6066666666666667,
          0.47,
          0.71,
          0.7433333333333333,
          0.83875,
          0.6675,
          0.8,
          0.83,
          0.6,
          0.76,
          0.75,
          0.88,
          0.5,
          0.8544444444444443,
          0.9,
          0.65,
          0.38,
          0.8,
          0.89,
          0.8333333333333334,
          0.72,
          0.92,
          0.9450000000000001,
          0.6933333333333334,
          0.81,
          0.9,
          0.61,
          0.855,
          0.7,
          0.9485714285714285,
          0.8999999999999999,
          0.35,
          0.8,
          0.8400000000000001,
          0.86,
          0.8472151898734178,
          0.93,
          0.7433333333333333,
          0.744,
          0.8033333333333333,
          0.7166666666666667,
          0.7,
          0.71,
          0.89,
          0.7000000000000001,
          0.8425,
          0.89,
          0.87,
          0.895,
          0.82,
          0.71,
          0.6299999999999999,
          0.81,
          0.75,
          0.91,
          0.7633333333333333,
          0.82,
          0.895,
          0.65,
          0.35,
          0.75,
          0.87,
          0.85,
          0.895,
          0.7749999999999999,
          0.6,
          0.8,
          0.6,
          0.8666666666666667,
          0.8753846153846152,
          0.8442857142857143,
          0.53,
          0.6,
          0.95,
          0.515,
          0.86,
          0.9333333333333332,
          0.85,
          0.7,
          0.65,
          0.82,
          0.72,
          0.8828571428571429,
          0.8779999999999999,
          0.89,
          0.7,
          0.6,
          0.52,
          0.87,
          0.875,
          0.15,
          0.61,
          0.89,
          0.8407142857142859,
          0.8433333333333333,
          0.9,
          0.78,
          0.89,
          0.7324999999999999,
          0.765,
          0.73,
          0.785,
          0.75,
          0.85,
          0.7485714285714288,
          0.85,
          0.44,
          0.6,
          0.68,
          0.71,
          0.81,
          0.85,
          0.663,
          0.8559259259259258,
          0.65,
          0.7933333333333333,
          0.8166666666666667,
          0.9,
          0.915,
          0.9,
          0.85,
          0.5376923076923077,
          0.005,
          0.74,
          0.5666666666666667,
          0.9034210526315791,
          0.7434999999999999,
          0.875,
          0.65,
          0.8566666666666668,
          0.7474999999999999,
          0.79,
          0.73,
          0.5066666666666667,
          0.8966666666666666,
          0.835,
          0.5599999999999999,
          0.8257142857142856,
          0.75,
          0.845,
          0.9566666666666667,
          0.71,
          0.7799999999999999,
          0.876,
          0.73,
          0.66,
          0.62,
          0.8833333333333334,
          0.9166666666666666,
          0.9,
          0.9,
          0.7949999999999999,
          0.7324999999999999,
          0.8333333333333335,
          0.6,
          0.7,
          0.875,
          0.8266666666666667,
          0.7166666666666668,
          0.8366666666666666,
          0.825,
          0.95,
          0.915,
          0.7599999999999999,
          0.8,
          0.73,
          1,
          0.835,
          0.75,
          0.8200000000000001,
          0.71,
          0.85,
          0.85,
          0.86,
          0.829310344827586,
          0.8626315789473684,
          0.9149999999999999,
          0.835,
          0.8,
          0.85,
          0.65,
          0.3,
          0.8,
          0.9,
          0.9299999999999999,
          0.9,
          0.86,
          0.21,
          0.5683333333333332,
          0.75,
          0.8999999999999999,
          0.8522222222222222,
          0.8775,
          0.6599999999999999,
          0.785,
          0.8575,
          0.75,
          0.75,
          0.88,
          0.8,
          0.7999999999999999,
          0.85,
          0.84,
          0.97,
          0.6900000000000001,
          0.73,
          0.7,
          0.86,
          0.675,
          0.8,
          0.5,
          0.6,
          0.6,
          0.895,
          0.855,
          0.7,
          0.91,
          0.7914285714285715,
          0.77,
          0.865,
          0.5,
          0.81,
          0.875,
          0.87,
          0.74,
          0.83,
          0.7400000000000001,
          0.8366666666666666,
          0.87,
          0.96,
          0.8,
          0.7,
          0.9199999999999999,
          0.52,
          0.81,
          0.675,
          0.8366666666666666,
          0.9566666666666667,
          0.8033333333333333,
          0.77,
          0.7,
          0.7355555555555556,
          0.79,
          0.79,
          0.76,
          0.8355555555555556,
          0.8925000000000001,
          0.7916666666666666,
          0.716,
          0.705,
          0.75,
          0.8,
          0.88,
          0.95,
          0.75,
          0.725,
          0.7608333333333334,
          0.84,
          0.8680000000000001,
          0.6000000000000001,
          0.9666666666666667,
          0.658,
          0.5,
          0.785,
          0.53,
          0.7,
          1,
          0.75,
          0.7,
          0.05,
          0.38000000000000006,
          0.65,
          0.85,
          0,
          0.41999999999999993,
          0.875,
          0.78,
          0.61,
          0.88,
          0.8,
          0.79,
          0.575,
          0.49,
          0.7749999999999999,
          0.6,
          0.78,
          0.7,
          0.9,
          0.56,
          0.95,
          0.75,
          0.9,
          0.97,
          0.58,
          0.7739999999999999,
          0.91,
          0.45,
          0.75,
          0.6,
          0.91,
          0.5,
          0.7739285714285715,
          0.8799999999999999,
          0.718,
          0.7124999999999999,
          0.775,
          0.9,
          0.86,
          0.6963636363636364,
          0.7766666666666667,
          0.6,
          0.6,
          0.975,
          0.925,
          0.85,
          0.85,
          1,
          0.7242753623188409,
          0.6525000000000001,
          0.8,
          0.7,
          0.95,
          0.7,
          0.87,
          0.8233333333333333,
          0.53,
          0.48,
          0.8,
          0.8,
          0.87,
          0.9,
          1,
          0.745,
          0.742,
          0.7,
          0.8766666666666666,
          0.8766666666666668,
          0.9075,
          0.95,
          0.845,
          0.7766666666666667,
          0.96,
          0.95,
          0.6,
          0.8540000000000001,
          0.8088888888888889,
          0.94,
          0.77,
          0.8049999999999999,
          0.6833333333333332,
          0.77,
          1,
          0.9,
          0.8166666666666668,
          0.83,
          0.86,
          0.93,
          0.6666666666666669,
          0.665,
          0.83,
          0.87875,
          0.884,
          1,
          0.85,
          0.93,
          0.7840909090909091,
          0.885,
          0.8223809523809523,
          0.82,
          0.675,
          0.92,
          0.7600000000000001,
          0.74,
          0.95,
          0.8893750000000001,
          0.925,
          0.9,
          0.8875,
          0.9,
          0.7,
          0.41333333333333333,
          0.7,
          0.611,
          0.93,
          0.7725,
          0.312,
          0.8,
          1,
          0.7266666666666666,
          0.78,
          1,
          0.7166666666666667,
          0.745,
          0.95,
          0.76,
          0.9,
          0.8548148148148148,
          0.925,
          0.75,
          0.5475,
          0.65,
          0.45,
          0.9,
          0.95,
          0.91,
          0.78,
          0.28600000000000003,
          0.7,
          0.85,
          0.73,
          0.32,
          0.85,
          0.8,
          0.8,
          0.7949999999999999,
          0.775,
          0.776,
          0.84,
          0.77,
          0.68,
          0.83,
          0.7480000000000001,
          0.64625,
          0.8,
          0.79,
          0.85,
          0.7494736842105263,
          0.7,
          0.8219999999999998,
          0.7,
          0.6,
          0.72,
          0.7883333333333334,
          0.745,
          0.7759999999999999,
          0.87,
          0.8614285714285714,
          0.45,
          0.8,
          0.845,
          0.8333333333333334,
          0.85,
          0.765,
          0.5866666666666667,
          0.6066666666666667,
          0.86,
          0.75,
          0.785,
          0.65,
          0.9611111111111109,
          0.732,
          0.7,
          0.7933333333333333,
          0.84,
          0.78,
          0.75,
          0.8833333333333333,
          0.8033333333333332,
          0.8527272727272728,
          0.765,
          0.8624999999999999,
          0.89,
          0.75,
          0.7724324324324325,
          0.8800000000000001,
          0.92,
          0.75,
          0.83,
          0.7,
          0.75,
          0.4,
          0.78,
          0.9,
          0.86,
          0.8,
          0.7983333333333332,
          0.9299999999999999,
          0.08,
          0.6775,
          0.8,
          1,
          0.6972916666666662,
          0.7424999999999999,
          0.825,
          0.7649999999999999,
          0.6,
          0.84,
          0.68,
          0.8500000000000001,
          0.905,
          0.765,
          0.575,
          0.7,
          0.85,
          0.925,
          0.33,
          0.22,
          0.75,
          0.975,
          0.7555555555555555,
          0.83,
          0.8,
          0.7,
          0.8500000000000001,
          0.855,
          0.81,
          1,
          0.9271428571428569,
          0.8699999999999999,
          0.7466666666666667,
          0.6,
          0.9,
          0.86,
          0.9,
          0.87,
          0.8300000000000001,
          0.875,
          0.5750000000000001,
          1,
          0.875,
          0.9362500000000002,
          0.9833333333333334,
          0.8039999999999999,
          0.815,
          0.9,
          0.76,
          0.95,
          0.7863636363636364,
          0.95,
          0.8,
          0.8,
          0.7,
          0.95,
          0.6,
          0.39,
          0.21,
          0.6,
          0.8,
          0.86,
          0.638,
          0.9,
          0.76,
          0.75,
          0,
          0.55,
          0.6,
          0.78,
          0.7885714285714285,
          0.7649999999999999,
          0.8300000000000001,
          0.89,
          0.94,
          0.425,
          0.5800000000000001,
          0.63,
          0.85,
          0.7630232558139534,
          0.6319999999999999,
          0.805,
          0.915,
          0.675,
          0.435,
          0.89,
          0.5475,
          0.86,
          0.45999999999999996,
          0.3,
          0.9,
          0.21,
          0.84,
          0.86,
          0.875,
          0.77,
          0.4,
          0.535,
          0.7,
          0.655,
          0.63,
          0.938,
          0.81,
          0.83,
          0.85,
          0.7125,
          0.9266666666666667,
          0.776,
          0.4,
          0.39,
          0.8859999999999999,
          0.8859999999999999,
          0.7775862068965518,
          0.8700000000000001,
          0.83,
          0.73,
          0.7931249999999999,
          0.6514285714285714,
          0.65,
          0.8,
          0.77,
          0.36,
          0.5766666666666667,
          0.74,
          0.93,
          0.8593999999999999,
          0.7866666666666667,
          0.75,
          0.6775,
          0.49,
          0.73,
          0.7533333333333333,
          0.7,
          0.975,
          0.6555555555555556,
          0.7,
          0.87,
          0.62,
          0.81,
          0.665,
          0.8,
          0.9,
          0.75,
          0.705,
          0.8766666666666666,
          0.74,
          0.45,
          0.815,
          0.7185714285714285,
          0.8560000000000001,
          0.8175,
          0.87,
          0.83,
          0.8,
          0.7475,
          0.8,
          0.87,
          0.65,
          0.83,
          0.7299999999999999,
          0.8683333333333335,
          0.61,
          0.7,
          0.7599999999999999,
          0.67,
          0.8427272727272729,
          0.8,
          0.8,
          1,
          0.95,
          0.88,
          0.92,
          0.9,
          0.735,
          0.1,
          0.6,
          0.815,
          0.86,
          0.8879999999999999,
          0.8624999999999999,
          0.7,
          0.82,
          0.86,
          0.7,
          0.7166666666666667,
          0.8865217391304349,
          0.45,
          0.7474999999999999,
          0.825,
          0.85,
          0.93,
          0.75,
          0.44,
          1,
          0.8,
          0.78,
          0.9,
          0.89,
          0.7645454545454545,
          0.6425,
          0.55,
          0.85,
          0.65,
          0.8,
          0.55,
          0.92,
          0.7566666666666667,
          0.8850000000000001,
          0.6,
          0.705,
          0.95,
          0.91,
          0.9466666666666667,
          0.89,
          0.7081818181818182,
          0.7925,
          0.8966666666666666,
          0.8640000000000001,
          0.835,
          0.59,
          0.12,
          0.8347058823529413,
          0.6046153846153846,
          0.95,
          0.4833333333333334,
          0.75,
          0.06,
          0.38,
          0.63,
          0.7,
          0.7,
          0.8,
          0.85,
          0.86,
          0.57,
          0.8833333333333333,
          0.75,
          0.8,
          0.915,
          0.8,
          0.7,
          0.73,
          0.84,
          0.41333333333333333,
          0.36,
          0.8000000000000002,
          0.81,
          0.85,
          0.7,
          0.8,
          0.4,
          0.66,
          0.88,
          0.3,
          0.9,
          0.68,
          0.7825,
          1,
          0.975,
          0.8,
          0.81,
          0.8,
          0.65,
          0.79,
          1,
          0.81,
          0.7000000000000001,
          0.96,
          0.91,
          0.7375,
          0.9534999999999998,
          0.7333333333333334,
          0.78,
          0.7,
          0.79,
          0.66,
          0.9177777777777778,
          0.8333333333333334,
          0.76,
          0.5,
          0.99,
          0.5,
          0.78,
          0.975,
          0.77,
          0.8009090909090909,
          0.95,
          0.874,
          0.685,
          0.9333333333333332,
          0.75,
          0.56,
          0.65,
          0.791111111111111,
          0.73,
          0.8733333333333332,
          0.745,
          0.7250000000000001,
          0.56,
          0.9199999999999999,
          0.8,
          0.8433333333333333,
          0.75,
          0.68,
          0.675,
          0.6930769230769231,
          0.75,
          0.6900000000000001,
          0.91,
          0.85,
          0.74,
          0.76,
          0.885,
          0.4,
          0.8028571428571428,
          0.9133333333333332,
          0.79,
          0.73,
          0.42,
          0.96,
          0.99,
          0.7227777777777779,
          0.17500000000000002,
          0.95,
          0.86,
          0.7333333333333334,
          0.3277777777777777,
          0.67,
          0.94,
          0.504,
          0.835,
          0.83,
          0.8685714285714285,
          0.77,
          0.75,
          0.8500000000000001,
          0.49,
          0.8999999999999999,
          0.825,
          0.7,
          0.72,
          0.68,
          0.7,
          0.75,
          0.7937037037037037,
          0.79,
          0.77,
          0.04,
          0.5,
          0.87,
          0.965,
          0.89,
          0.8733333333333333,
          0.925,
          0.3,
          0.9,
          0.5,
          0.6749999999999999,
          0.89,
          0.8009708737864082,
          0.8374999999999999,
          0.815,
          0.8250000000000001,
          0.4666666666666666,
          0.9,
          0.8,
          0.8300000000000001,
          0.75,
          0.74,
          0.7,
          0.85,
          0.965,
          0.788709677419355,
          0.93,
          0.75,
          0.98,
          0.94,
          0.91,
          0.59,
          0.7485714285714283,
          0.8575,
          0.8221428571428572,
          0.7300000000000001,
          0.8999999999999999,
          0.8200000000000001,
          0.8,
          0.8378947368421051,
          0.875,
          0.675,
          0.73,
          0.6,
          0.67,
          0.725,
          0.86,
          0.8,
          0.7836150234741787,
          0.6475,
          0.76,
          0.79,
          0.79,
          0.8424999999999999,
          0.77,
          0.87,
          0.9,
          0.9099999999999999,
          0.8,
          0.74,
          1,
          0.9,
          0.8033333333333333,
          0.4,
          0.87,
          0.92,
          0.57,
          0.7,
          0.94,
          0.79,
          0.8115789473684212,
          0.75,
          0.9,
          0.9,
          0.8083333333333335,
          0.8224999999999999,
          0.75,
          0.9,
          0.65,
          0.925,
          0.87,
          0.87,
          0.75,
          0.7,
          0.8075,
          0.7800000000000001,
          0.9524999999999999,
          0.925,
          0.93,
          0.8,
          0.95,
          0.85,
          0.8066666666666666,
          0.98,
          0.625,
          0.44,
          0.95,
          0.78,
          0.7016666666666667,
          0.98,
          0.775,
          0.7475,
          0.6,
          0.68,
          0.9049999999999999,
          0.7466666666666667,
          0.75,
          0.8,
          0.91,
          0.98,
          0.6,
          0.54,
          0.6675,
          0.74,
          0.65,
          0.8049999999999999,
          0.83,
          0.7430434782608696,
          0.885,
          0.7733333333333333,
          0.5,
          0.79,
          0.9,
          0.65,
          0.84,
          0.81,
          0.4,
          0.7775,
          0.9121428571428571,
          0.8799999999999999,
          0.88,
          0.7833333333333332,
          0.8633333333333333,
          0.5233333333333333,
          0.95,
          0.88,
          0.8,
          0.95,
          0.45,
          0.8833333333333334,
          0.395,
          0.95,
          0.85,
          0.81,
          0.81,
          0.933,
          0.8300000000000001,
          0.875,
          0.6,
          0.4,
          0.73375,
          0.8999999999999999,
          0.9333333333333332,
          0.8666666666666666,
          0.8030000000000002,
          0.7525000000000001,
          0.96,
          0.89,
          0.8,
          0.4,
          0.842,
          0.7174999999999999,
          0.28,
          0.5,
          0.96,
          0.75,
          0.84,
          0.8,
          0.9550000000000001,
          0.7,
          0.8781632653061227,
          0.6475,
          0.77,
          0.8,
          0.7,
          0.45,
          0.8020000000000002,
          0.875,
          0.8500000000000001,
          0.65,
          0.73,
          0.72,
          0.605,
          0.72,
          0.9,
          0.8,
          0.91,
          0.86,
          0.88,
          0.8,
          0.7,
          0.62,
          0.7,
          0.9,
          0.7,
          0.95,
          1,
          0.45999999999999996,
          0.4,
          0.57,
          0.77,
          0.98,
          0.8508823529411762,
          0.7787499999999999,
          0.84,
          0.828421052631579,
          0.7580000000000001,
          0.96,
          0.71,
          0.935,
          0.87,
          0.9528571428571428,
          0.72,
          0.7849999999999999,
          0.69,
          0.39,
          0.85,
          0.8725,
          0.825,
          0.7266666666666666,
          0.775,
          0.9199999999999999,
          0.9133333333333334,
          0.77,
          0.87,
          0.6,
          0.7949999999999999,
          0.85,
          0.85,
          0.82,
          0.76,
          0.82,
          0.71,
          0.73,
          0.61,
          0.8858441558441555,
          0.8243333333333335,
          0.335,
          0.7675,
          0.9075,
          0.77,
          0.8,
          0.825,
          0.8269696969696966,
          0.9325,
          0.88,
          0.7242857142857143,
          0.7400000000000001,
          0.75,
          0.89,
          0.64,
          0.85,
          0.85,
          0.95,
          0.8666666666666666,
          0.65,
          0.92,
          0.75,
          0.33,
          0.79,
          0.2,
          0.87,
          0.65,
          0.7,
          0.89375,
          0.895,
          0.7266666666666666,
          0.8,
          0.94,
          0.7262500000000001,
          0.7599999999999999,
          1,
          0.79,
          0.75,
          0.97,
          0.575,
          0.7072222222222223,
          0.5966666666666666,
          0.8,
          0.9657142857142856,
          1,
          0.7675000000000001,
          0.7749999999999999,
          0.595,
          0.7888888888888889,
          0.84,
          0.9,
          0.75,
          0.8954761904761904,
          0.32,
          0.48333333333333334,
          0.9266666666666667,
          0.8733333333333334,
          0.585,
          0.82,
          0.95,
          0.745,
          0.9,
          0.6933333333333334,
          0.8166666666666668,
          0.75,
          0.688157894736842,
          0.5349999999999999,
          0.6,
          0.8,
          0.75,
          0.48,
          0.9149999999999999,
          0.77,
          0.7928571428571428,
          0.9,
          0.8,
          0.725,
          0.815,
          0.8311538461538462,
          0.7779999999999999,
          0.52,
          0.9,
          0.92,
          0.84,
          1,
          0.9075,
          0.8779999999999999,
          0.67,
          0.35,
          0.75,
          0.74,
          0.845,
          0.765,
          0.6,
          0.8,
          0.8,
          0.8675,
          0.88,
          0.9,
          0.9,
          0.97,
          0.8,
          0.7,
          0.7981818181818183,
          0.775,
          0.787,
          0.65,
          0.8,
          0.78,
          0.88,
          0.7366666666666667,
          0.95,
          0.5885714285714286,
          0.87,
          0.6,
          0.74,
          0.78,
          0.8705882352941174,
          0.9225,
          0.924,
          0.88375,
          0.6499999999999999,
          0.91,
          0.98,
          0.76,
          0.666,
          0.8400000000000001,
          0.86125,
          0.85,
          0.83,
          0.8,
          0.7,
          0.8,
          0.7450000000000001,
          0.95,
          0.8,
          0.75,
          0.78,
          0.815,
          0.7150000000000001,
          0.65,
          0.66,
          0.935,
          0.8,
          0.8200000000000001,
          0.8,
          0.8554545454545456,
          0.5,
          0.75,
          0.88,
          0.67,
          0.52,
          0.89,
          0.95,
          0.8,
          0.9179999999999999,
          0.79,
          0.8524999999999999,
          0.745,
          0.9,
          0.99,
          0.54,
          0.7493750000000001,
          0.59,
          0.9500000000000001,
          0.8116666666666666,
          0.8,
          0.77,
          0.8283333333333333,
          0.95,
          0.6,
          0.8300000000000001,
          0.9033333333333333,
          0.67,
          0.7,
          1,
          0.9,
          0.85,
          0.81,
          0.65,
          0.8,
          0.8566666666666668,
          0.7625000000000001,
          0.85,
          0.9199999999999999,
          0.83,
          0.6,
          0.7,
          0.8675,
          0.9,
          0.64,
          0.95,
          0.64,
          0.8154166666666667,
          0.99,
          0.6,
          0.7,
          0.725,
          0.74,
          1,
          0.9,
          0.75,
          0.81,
          0.88,
          0.6,
          0.8,
          0.835,
          0.7200000000000001,
          1,
          0.585,
          0.2833333333333333,
          0.825,
          0.81,
          0.91,
          0.81,
          0.7289999999999999,
          0.6925,
          0.8049999999999999,
          0.82,
          0.8,
          0.79,
          0.61,
          0.8833333333333333,
          0.74,
          0.8557142857142858,
          0.8958333333333334,
          0.8,
          0.8355,
          0.42300000000000004,
          0.75,
          0.875,
          0.96,
          0.635,
          0.7683333333333332,
          0.8578571428571429,
          0.8184615384615384,
          0.1,
          0.81,
          0.74,
          0.64,
          0.8,
          0.7208333333333333,
          0.7858333333333333,
          0.8780000000000001,
          0.47500000000000003,
          0.63,
          0.6333333333333334,
          0.508,
          0.7650000000000001,
          0.55,
          0.8938059701492538,
          0.789,
          0.7907575757575757,
          0.7066666666666667,
          0.4,
          0.975,
          0.97,
          0.63,
          0.85,
          0.788,
          0.8,
          0.54,
          0.825,
          0.8616666666666667,
          0.8447058823529412,
          0.9,
          0.8049999999999999,
          0.807142857142857,
          0.975,
          0.6441463414634144,
          0.7485714285714286,
          0.7461538461538463,
          0.72,
          0.7045454545454546,
          0.6,
          0.7283333333333332,
          0.72,
          0.8475,
          0.9,
          0.81,
          0.75,
          0.75,
          0.47,
          0.97,
          0.665,
          0.8,
          0.75,
          0.7,
          0.5,
          0.74,
          0.794,
          0.9,
          0.6,
          1,
          0.7,
          0.75,
          0.9199999999999999,
          0.6950000000000001,
          0.9,
          0.875,
          0.8,
          0.737142857142857,
          0.7033333333333333,
          0.725,
          0.6749999999999999,
          0.8,
          0.2,
          0.8640000000000001,
          0.87,
          0.28769230769230775,
          0.7725,
          0.6,
          0.8052941176470589,
          0.4,
          0.7199999999999999,
          0.8066666666666666,
          0.7969230769230771,
          0.81,
          0.6950000000000001,
          0.95,
          0.8466666666666667,
          0.9466666666666667,
          0.9,
          0.235,
          0.76,
          0.75,
          0.84,
          0.925,
          0.8516666666666666,
          0.85,
          0.93,
          0.76,
          0.8875,
          0.185,
          0.49,
          0.6499999999999999,
          0.7,
          0.79,
          0.76,
          0.875,
          0.8566666666666668,
          0.26,
          0.855,
          0.92,
          0.6266666666666666,
          0.94,
          0.89,
          0.73,
          0.85,
          0.93,
          0.7966666666666667,
          0.6833333333333332,
          0.94,
          0.7819999999999999,
          0.89125,
          0.8,
          0.745,
          0.75,
          0.8667647058823529,
          0.5208333333333334,
          0.9914285714285713,
          0.81,
          0.8125,
          0.84,
          0.72,
          0.75,
          0.93,
          0.58,
          0.87,
          0.8866666666666667,
          0.675,
          0.7333333333333334,
          0.8833333333333333,
          0.7,
          0.9,
          0.76,
          0.585,
          0.8933333333333332,
          0.63,
          0.75,
          0.7949999999999999,
          0.5957142857142859,
          0.6666666666666666,
          0.78,
          0.8625,
          0.8,
          0.7975000000000001,
          0.726,
          0.8666666666666667,
          0.55,
          0.8,
          0.95,
          0.85,
          0.8,
          0.85,
          0.8975,
          0.6,
          0.7,
          0.85,
          0.9,
          0.6333333333333334,
          0.735,
          0.91,
          0.96,
          0.9161538461538459,
          0.7400000000000001,
          0.775,
          0.71,
          0.8200000000000001,
          0.95,
          0.9,
          0.7994117647058824,
          0.88,
          0.6499999999999999,
          0.9,
          0.9233333333333333,
          0.6733333333333333,
          0.17,
          0.33,
          0.7,
          0.7649999999999999,
          0.6000000000000001,
          0.39999999999999997,
          0.9325,
          0.84,
          0.4,
          0.49,
          0.83,
          0.82,
          0.7,
          0.6988073394495412,
          0.74875,
          0.95,
          0.96,
          0.78,
          0.85,
          0.9,
          0.8,
          0.96,
          0.78,
          0.50625,
          0.7,
          0.95,
          0.91,
          0.8200000000000001,
          0.32,
          0.15333333333333332,
          0.79,
          0.89,
          0.795,
          0.9400000000000001,
          0.87,
          0.8704545454545456,
          0.75,
          0.7649999999999999,
          0.82,
          0.86,
          0.9,
          0.74,
          0.6,
          0.7,
          0.35,
          0.89,
          0.88,
          1,
          0.95,
          0.7833333333333333,
          0.86,
          0.94,
          0.77,
          0.85,
          0.8,
          0.6950000000000001,
          0.6866666666666666,
          0.772,
          0.8,
          0.95,
          0.5166666666666667,
          0.86,
          0.8923076923076921,
          0.7871428571428571,
          0.9,
          0.78,
          0.9022222222222224,
          0.8233333333333334,
          0.6466666666666666,
          0.69,
          0.875,
          0.6987499999999999,
          0.75,
          0.77,
          0.8275000000000001,
          0.7,
          0.8,
          0.76,
          0.7,
          0.44999999999999996,
          0.595,
          0.78,
          0.8000000000000002,
          0.7849999999999999,
          0.83,
          0.69,
          0.66,
          0.86,
          0.6925,
          0.835,
          0.25,
          0.7033333333333333,
          0.7,
          0.74,
          0.6466666666666666,
          0.93,
          0.9,
          0.46,
          0.895,
          0.88,
          0.75,
          0.5533333333333333,
          0.6,
          0.845,
          0.6,
          0.7742105263157896,
          0.8,
          0.775,
          0.92,
          0.75,
          0.8200000000000001,
          0.9,
          0.5,
          0.458,
          0.3,
          0.8,
          0.5,
          0.709,
          0.7825,
          0.8919999999999998,
          0.87125,
          0.87,
          0.7979487179487179,
          0.8550000000000001,
          0.75,
          0.79,
          0.64,
          0.7,
          0.85,
          1,
          0.96,
          0.875,
          0.785,
          0.3,
          0.82,
          0.7075,
          0.9066666666666667,
          0.93,
          0.85,
          0.8999999999999999,
          0.6559999999999999,
          0.95,
          0.8,
          0.9199999999999999,
          0.807,
          0.7491666666666666,
          0.97,
          0.83,
          0.355,
          0.6533333333333333,
          0.65,
          0.9199999999999999,
          0.8448148148148149,
          0.88,
          0.898,
          0.785,
          0.8233333333333333,
          0.9164705882352943,
          0.8354666666666666,
          0.7639999999999999,
          0.7220833333333335,
          0.7292198581560282,
          0.7858536585365855,
          0.7775000000000001,
          0.7748684210526315,
          0.6849999999999999,
          0.7264705882352941,
          0.831891891891892,
          0.8063636363636365,
          0.8250000000000001,
          0.3,
          0.89,
          0.8333333333333334,
          0.8200000000000001,
          0.825,
          0.32,
          0.79,
          0.5,
          0.95,
          0.8255737704918028,
          0.8442857142857143,
          0.8194444444444444,
          0.725,
          0.7575000000000001,
          0.75,
          0.72,
          0.6775,
          0.7929999999999999,
          0.9,
          0.8,
          0.525,
          0.6,
          0.75,
          0.6439999999999999,
          0.736,
          1,
          0.8242268041237114,
          0.7916,
          0.8684999999999998,
          0.87,
          0.868,
          0.7592105263157896,
          0.94,
          0.7197222222222222,
          0.8109090909090909,
          0.8166666666666668,
          0.95,
          0.685,
          0.7,
          0.15,
          0.914,
          0.71,
          0.7495652173913044,
          0.9175000000000001,
          0.85,
          0.8049999999999999,
          0.30000000000000004,
          0.6842857142857143,
          0.91,
          0.8137500000000001,
          0.7,
          0.718,
          0.895,
          0.7362500000000001,
          0.79,
          0.7866666666666667,
          0.6763636363636363,
          0.7485714285714284,
          0.55,
          0.9133333333333332,
          0.75,
          0.7775000000000001,
          0.8566666666666668,
          0.95,
          0.825,
          0.78,
          0.9,
          0.7795652173913044,
          0.8675,
          0.79,
          0.87,
          0.6,
          0.89,
          0.15,
          0.8257142857142857,
          0.425,
          0.6743750000000001,
          0.86,
          0.7042857142857144,
          0.79,
          0.78,
          0.8135714285714286,
          0.88,
          0.7,
          0.794375,
          0.8500000000000001,
          0.79,
          0.7736842105263159,
          0.745,
          0.6766666666666667,
          0.8528571428571426,
          0.7985714285714287,
          0.8228571428571428,
          0.62,
          0.84,
          0.89,
          0.9466666666666667,
          0.7025,
          0.6072839506172838,
          0.71,
          0.8560000000000001,
          0.8014285714285714,
          0.8434959349593496,
          0.8190624999999999,
          0.75,
          0.87,
          0.8361904761904763,
          0.785,
          0.8216666666666667,
          0.57,
          0.6999999999999998,
          0.9550000000000001,
          0.9,
          0.96,
          0.875,
          0.9,
          0.8525,
          0.7,
          0.785,
          0.7999999999999999,
          0.8863636363636364,
          0.8029357798165141,
          0.775,
          0.835,
          0.713076923076923,
          0.7,
          0.52,
          0.875,
          0.884,
          0.735,
          0.55,
          0.9,
          0.9425,
          0.8363636363636363,
          0.82,
          0.8461627906976744,
          0.885,
          0.829375,
          0.94,
          0.8275,
          0.65,
          0.875,
          0.8815,
          0.46699999999999997,
          0.35,
          0.8500000000000001,
          0.94,
          0.75,
          0.7124418604651162,
          0.69,
          0.81,
          0.8630769230769231,
          0.82,
          0.65,
          0.6950000000000001,
          0.82,
          0.7428571428571428,
          0.8266666666666668,
          0.95,
          0.8248571428571426,
          0.7966666666666665,
          0.7933333333333334,
          0.8999999999999999,
          0.8372413793103448,
          0.8999999999999999,
          0.7,
          0.6,
          0.91,
          0.74,
          0.5,
          0.8,
          0.88,
          0.8300000000000001,
          0.82,
          0.6131428571428573,
          0.6,
          0.8020289855072463,
          0.73,
          0.915,
          0.7666666666666666,
          0.05,
          0.8500000000000001,
          0.3,
          0.98,
          0.752,
          0.92,
          0.65,
          0.75,
          0.8375,
          0.6949999999999998,
          0.742,
          0.6475,
          0.87,
          0.6269999999999999,
          0.035,
          0.06,
          0.93,
          0.8274999999999999,
          0.35,
          0.6166666666666666,
          0.7886065573770498,
          0.7399999999999999,
          0.8666666666666667,
          0.8266666666666667,
          0.85,
          0.5,
          0.83,
          0.8,
          0.7,
          0.853333333333333,
          0.7771428571428572,
          0.89,
          0.815,
          0.893181818181818,
          0.718692810457516,
          0.8000000000000002,
          0.7,
          0.8071428571428572,
          0.8023076923076923,
          0.7966666666666667,
          0.85,
          0.873,
          0.6666666666666666,
          0.8882142857142856,
          0.7257142857142858,
          0.4788888888888889,
          0.7150000000000001,
          0.646,
          0.8267857142857142,
          0.6699999999999999,
          0.88,
          0.8166666666666668
         ],
         "xbins": {
          "end": 1,
          "size": 0.05,
          "start": 0
         }
        }
       ],
       "layout": {
        "template": {
         "data": {
          "bar": [
           {
            "error_x": {
             "color": "#2a3f5f"
            },
            "error_y": {
             "color": "#2a3f5f"
            },
            "marker": {
             "line": {
              "color": "#E5ECF6",
              "width": 0.5
             }
            },
            "type": "bar"
           }
          ],
          "barpolar": [
           {
            "marker": {
             "line": {
              "color": "#E5ECF6",
              "width": 0.5
             }
            },
            "type": "barpolar"
           }
          ],
          "carpet": [
           {
            "aaxis": {
             "endlinecolor": "#2a3f5f",
             "gridcolor": "white",
             "linecolor": "white",
             "minorgridcolor": "white",
             "startlinecolor": "#2a3f5f"
            },
            "baxis": {
             "endlinecolor": "#2a3f5f",
             "gridcolor": "white",
             "linecolor": "white",
             "minorgridcolor": "white",
             "startlinecolor": "#2a3f5f"
            },
            "type": "carpet"
           }
          ],
          "choropleth": [
           {
            "colorbar": {
             "outlinewidth": 0,
             "ticks": ""
            },
            "type": "choropleth"
           }
          ],
          "contour": [
           {
            "colorbar": {
             "outlinewidth": 0,
             "ticks": ""
            },
            "colorscale": [
             [
              0,
              "#0d0887"
             ],
             [
              0.1111111111111111,
              "#46039f"
             ],
             [
              0.2222222222222222,
              "#7201a8"
             ],
             [
              0.3333333333333333,
              "#9c179e"
             ],
             [
              0.4444444444444444,
              "#bd3786"
             ],
             [
              0.5555555555555556,
              "#d8576b"
             ],
             [
              0.6666666666666666,
              "#ed7953"
             ],
             [
              0.7777777777777778,
              "#fb9f3a"
             ],
             [
              0.8888888888888888,
              "#fdca26"
             ],
             [
              1,
              "#f0f921"
             ]
            ],
            "type": "contour"
           }
          ],
          "contourcarpet": [
           {
            "colorbar": {
             "outlinewidth": 0,
             "ticks": ""
            },
            "type": "contourcarpet"
           }
          ],
          "heatmap": [
           {
            "colorbar": {
             "outlinewidth": 0,
             "ticks": ""
            },
            "colorscale": [
             [
              0,
              "#0d0887"
             ],
             [
              0.1111111111111111,
              "#46039f"
             ],
             [
              0.2222222222222222,
              "#7201a8"
             ],
             [
              0.3333333333333333,
              "#9c179e"
             ],
             [
              0.4444444444444444,
              "#bd3786"
             ],
             [
              0.5555555555555556,
              "#d8576b"
             ],
             [
              0.6666666666666666,
              "#ed7953"
             ],
             [
              0.7777777777777778,
              "#fb9f3a"
             ],
             [
              0.8888888888888888,
              "#fdca26"
             ],
             [
              1,
              "#f0f921"
             ]
            ],
            "type": "heatmap"
           }
          ],
          "heatmapgl": [
           {
            "colorbar": {
             "outlinewidth": 0,
             "ticks": ""
            },
            "colorscale": [
             [
              0,
              "#0d0887"
             ],
             [
              0.1111111111111111,
              "#46039f"
             ],
             [
              0.2222222222222222,
              "#7201a8"
             ],
             [
              0.3333333333333333,
              "#9c179e"
             ],
             [
              0.4444444444444444,
              "#bd3786"
             ],
             [
              0.5555555555555556,
              "#d8576b"
             ],
             [
              0.6666666666666666,
              "#ed7953"
             ],
             [
              0.7777777777777778,
              "#fb9f3a"
             ],
             [
              0.8888888888888888,
              "#fdca26"
             ],
             [
              1,
              "#f0f921"
             ]
            ],
            "type": "heatmapgl"
           }
          ],
          "histogram": [
           {
            "marker": {
             "colorbar": {
              "outlinewidth": 0,
              "ticks": ""
             }
            },
            "type": "histogram"
           }
          ],
          "histogram2d": [
           {
            "colorbar": {
             "outlinewidth": 0,
             "ticks": ""
            },
            "colorscale": [
             [
              0,
              "#0d0887"
             ],
             [
              0.1111111111111111,
              "#46039f"
             ],
             [
              0.2222222222222222,
              "#7201a8"
             ],
             [
              0.3333333333333333,
              "#9c179e"
             ],
             [
              0.4444444444444444,
              "#bd3786"
             ],
             [
              0.5555555555555556,
              "#d8576b"
             ],
             [
              0.6666666666666666,
              "#ed7953"
             ],
             [
              0.7777777777777778,
              "#fb9f3a"
             ],
             [
              0.8888888888888888,
              "#fdca26"
             ],
             [
              1,
              "#f0f921"
             ]
            ],
            "type": "histogram2d"
           }
          ],
          "histogram2dcontour": [
           {
            "colorbar": {
             "outlinewidth": 0,
             "ticks": ""
            },
            "colorscale": [
             [
              0,
              "#0d0887"
             ],
             [
              0.1111111111111111,
              "#46039f"
             ],
             [
              0.2222222222222222,
              "#7201a8"
             ],
             [
              0.3333333333333333,
              "#9c179e"
             ],
             [
              0.4444444444444444,
              "#bd3786"
             ],
             [
              0.5555555555555556,
              "#d8576b"
             ],
             [
              0.6666666666666666,
              "#ed7953"
             ],
             [
              0.7777777777777778,
              "#fb9f3a"
             ],
             [
              0.8888888888888888,
              "#fdca26"
             ],
             [
              1,
              "#f0f921"
             ]
            ],
            "type": "histogram2dcontour"
           }
          ],
          "mesh3d": [
           {
            "colorbar": {
             "outlinewidth": 0,
             "ticks": ""
            },
            "type": "mesh3d"
           }
          ],
          "parcoords": [
           {
            "line": {
             "colorbar": {
              "outlinewidth": 0,
              "ticks": ""
             }
            },
            "type": "parcoords"
           }
          ],
          "scatter": [
           {
            "marker": {
             "colorbar": {
              "outlinewidth": 0,
              "ticks": ""
             }
            },
            "type": "scatter"
           }
          ],
          "scatter3d": [
           {
            "line": {
             "colorbar": {
              "outlinewidth": 0,
              "ticks": ""
             }
            },
            "marker": {
             "colorbar": {
              "outlinewidth": 0,
              "ticks": ""
             }
            },
            "type": "scatter3d"
           }
          ],
          "scattercarpet": [
           {
            "marker": {
             "colorbar": {
              "outlinewidth": 0,
              "ticks": ""
             }
            },
            "type": "scattercarpet"
           }
          ],
          "scattergeo": [
           {
            "marker": {
             "colorbar": {
              "outlinewidth": 0,
              "ticks": ""
             }
            },
            "type": "scattergeo"
           }
          ],
          "scattergl": [
           {
            "marker": {
             "colorbar": {
              "outlinewidth": 0,
              "ticks": ""
             }
            },
            "type": "scattergl"
           }
          ],
          "scattermapbox": [
           {
            "marker": {
             "colorbar": {
              "outlinewidth": 0,
              "ticks": ""
             }
            },
            "type": "scattermapbox"
           }
          ],
          "scatterpolar": [
           {
            "marker": {
             "colorbar": {
              "outlinewidth": 0,
              "ticks": ""
             }
            },
            "type": "scatterpolar"
           }
          ],
          "scatterpolargl": [
           {
            "marker": {
             "colorbar": {
              "outlinewidth": 0,
              "ticks": ""
             }
            },
            "type": "scatterpolargl"
           }
          ],
          "scatterternary": [
           {
            "marker": {
             "colorbar": {
              "outlinewidth": 0,
              "ticks": ""
             }
            },
            "type": "scatterternary"
           }
          ],
          "surface": [
           {
            "colorbar": {
             "outlinewidth": 0,
             "ticks": ""
            },
            "colorscale": [
             [
              0,
              "#0d0887"
             ],
             [
              0.1111111111111111,
              "#46039f"
             ],
             [
              0.2222222222222222,
              "#7201a8"
             ],
             [
              0.3333333333333333,
              "#9c179e"
             ],
             [
              0.4444444444444444,
              "#bd3786"
             ],
             [
              0.5555555555555556,
              "#d8576b"
             ],
             [
              0.6666666666666666,
              "#ed7953"
             ],
             [
              0.7777777777777778,
              "#fb9f3a"
             ],
             [
              0.8888888888888888,
              "#fdca26"
             ],
             [
              1,
              "#f0f921"
             ]
            ],
            "type": "surface"
           }
          ],
          "table": [
           {
            "cells": {
             "fill": {
              "color": "#EBF0F8"
             },
             "line": {
              "color": "white"
             }
            },
            "header": {
             "fill": {
              "color": "#C8D4E3"
             },
             "line": {
              "color": "white"
             }
            },
            "type": "table"
           }
          ]
         },
         "layout": {
          "annotationdefaults": {
           "arrowcolor": "#2a3f5f",
           "arrowhead": 0,
           "arrowwidth": 1
          },
          "colorscale": {
           "diverging": [
            [
             0,
             "#8e0152"
            ],
            [
             0.1,
             "#c51b7d"
            ],
            [
             0.2,
             "#de77ae"
            ],
            [
             0.3,
             "#f1b6da"
            ],
            [
             0.4,
             "#fde0ef"
            ],
            [
             0.5,
             "#f7f7f7"
            ],
            [
             0.6,
             "#e6f5d0"
            ],
            [
             0.7,
             "#b8e186"
            ],
            [
             0.8,
             "#7fbc41"
            ],
            [
             0.9,
             "#4d9221"
            ],
            [
             1,
             "#276419"
            ]
           ],
           "sequential": [
            [
             0,
             "#0d0887"
            ],
            [
             0.1111111111111111,
             "#46039f"
            ],
            [
             0.2222222222222222,
             "#7201a8"
            ],
            [
             0.3333333333333333,
             "#9c179e"
            ],
            [
             0.4444444444444444,
             "#bd3786"
            ],
            [
             0.5555555555555556,
             "#d8576b"
            ],
            [
             0.6666666666666666,
             "#ed7953"
            ],
            [
             0.7777777777777778,
             "#fb9f3a"
            ],
            [
             0.8888888888888888,
             "#fdca26"
            ],
            [
             1,
             "#f0f921"
            ]
           ],
           "sequentialminus": [
            [
             0,
             "#0d0887"
            ],
            [
             0.1111111111111111,
             "#46039f"
            ],
            [
             0.2222222222222222,
             "#7201a8"
            ],
            [
             0.3333333333333333,
             "#9c179e"
            ],
            [
             0.4444444444444444,
             "#bd3786"
            ],
            [
             0.5555555555555556,
             "#d8576b"
            ],
            [
             0.6666666666666666,
             "#ed7953"
            ],
            [
             0.7777777777777778,
             "#fb9f3a"
            ],
            [
             0.8888888888888888,
             "#fdca26"
            ],
            [
             1,
             "#f0f921"
            ]
           ]
          },
          "colorway": [
           "#636efa",
           "#EF553B",
           "#00cc96",
           "#ab63fa",
           "#FFA15A",
           "#19d3f3",
           "#FF6692",
           "#B6E880",
           "#FF97FF",
           "#FECB52"
          ],
          "font": {
           "color": "#2a3f5f"
          },
          "geo": {
           "bgcolor": "white",
           "lakecolor": "white",
           "landcolor": "#E5ECF6",
           "showlakes": true,
           "showland": true,
           "subunitcolor": "white"
          },
          "hoverlabel": {
           "align": "left"
          },
          "hovermode": "closest",
          "mapbox": {
           "style": "light"
          },
          "paper_bgcolor": "white",
          "plot_bgcolor": "#E5ECF6",
          "polar": {
           "angularaxis": {
            "gridcolor": "white",
            "linecolor": "white",
            "ticks": ""
           },
           "bgcolor": "#E5ECF6",
           "radialaxis": {
            "gridcolor": "white",
            "linecolor": "white",
            "ticks": ""
           }
          },
          "scene": {
           "xaxis": {
            "backgroundcolor": "#E5ECF6",
            "gridcolor": "white",
            "gridwidth": 2,
            "linecolor": "white",
            "showbackground": true,
            "ticks": "",
            "zerolinecolor": "white"
           },
           "yaxis": {
            "backgroundcolor": "#E5ECF6",
            "gridcolor": "white",
            "gridwidth": 2,
            "linecolor": "white",
            "showbackground": true,
            "ticks": "",
            "zerolinecolor": "white"
           },
           "zaxis": {
            "backgroundcolor": "#E5ECF6",
            "gridcolor": "white",
            "gridwidth": 2,
            "linecolor": "white",
            "showbackground": true,
            "ticks": "",
            "zerolinecolor": "white"
           }
          },
          "shapedefaults": {
           "line": {
            "color": "#2a3f5f"
           }
          },
          "ternary": {
           "aaxis": {
            "gridcolor": "white",
            "linecolor": "white",
            "ticks": ""
           },
           "baxis": {
            "gridcolor": "white",
            "linecolor": "white",
            "ticks": ""
           },
           "bgcolor": "#E5ECF6",
           "caxis": {
            "gridcolor": "white",
            "linecolor": "white",
            "ticks": ""
           }
          },
          "title": {
           "x": 0.05
          },
          "xaxis": {
           "automargin": true,
           "gridcolor": "white",
           "linecolor": "white",
           "ticks": "",
           "zerolinecolor": "white",
           "zerolinewidth": 2
          },
          "yaxis": {
           "automargin": true,
           "gridcolor": "white",
           "linecolor": "white",
           "ticks": "",
           "zerolinecolor": "white",
           "zerolinewidth": 2
          }
         }
        },
        "title": {
         "text": "Score Distribution"
        },
        "xaxis": {
         "title": {
          "text": "Score"
         }
        }
       }
      },
      "text/html": [
       "<div>\n",
       "        \n",
       "        \n",
       "            <div id=\"466f5d08-8a18-4b31-ac42-0b18565f566b\" class=\"plotly-graph-div\" style=\"height:525px; width:100%;\"></div>\n",
       "            <script type=\"text/javascript\">\n",
       "                require([\"plotly\"], function(Plotly) {\n",
       "                    window.PLOTLYENV=window.PLOTLYENV || {};\n",
       "                    \n",
       "                if (document.getElementById(\"466f5d08-8a18-4b31-ac42-0b18565f566b\")) {\n",
       "                    Plotly.newPlot(\n",
       "                        '466f5d08-8a18-4b31-ac42-0b18565f566b',\n",
       "                        [{\"autobinx\": false, \"type\": \"histogram\", \"x\": [0.89, 0.8, 0.92, 0.575, 0.7786274509803923, 0.8, 0.8, 0.8, 0.83, 0.7, 0.7949999999999999, 0.87, 0.7366666666666667, 0.74, 0.8500000000000001, 0.83, 0.925, 0.6000000000000001, 0.7, 0.752, 0.9019999999999999, 0.69, 0.7047058823529411, 0.725, 0.175, 0.75, 0.7, 0.6940000000000002, 0.85, 0.8533333333333332, 0.05, 0.95, 0.7057142857142857, 0.55, 0.7, 0.835, 0.8, 0.77, 0.575, 0.8, 0.65, 0.8779999999999999, 0.915, 0.85, 0.7, 0.65, 0.8, 0.75, 0.71, 0.75, 0.6, 0.72, 0.8566666666666668, 0.6, 0.2, 0.76, 0.9, 0.53, 0.73, 0.73, 0.8133333333333334, 0.7, 0.79, 0.53, 0.74, 0.9, 0.84, 0.85, 0.8292187499999997, 0.7016666666666667, 0.8463636363636362, 0.8400000000000001, 0.8166666666666668, 0.855, 0.3, 0.8333333333333334, 0.9, 0.8433333333333333, 0.86125, 0.8, 0.8999999999999999, 0.7825, 0.69, 0.71, 0.6, 0.8242105263157892, 0.702, 0.9099999999999999, 0.72, 0.88, 0.8, 0.6, 0.9, 0.65, 0.72, 0.784, 0.8, 0.95, 0.6, 0.7800000000000001, 0.83, 0.96, 0.7623076923076924, 0.7600000000000001, 0.7843333333333333, 0.8157142857142857, 0.895, 0.7, 0.7, 0.8, 0.7933333333333333, 0.8600000000000002, 0.9225000000000001, 0.5333333333333333, 0.8200000000000001, 0.8049999999999999, 0.8, 0.6276470588235296, 0.565, 0.85, 0.8, 0.8869999999999999, 0.805, 0.8, 0.94, 0.8866666666666667, 0.65, 0.8, 0.7433333333333333, 0.81, 0.975, 0.7833333333333333, 0.9, 0.8916666666666667, 0.7789325842696629, 0.8607142857142857, 0.7879999999999999, 0.95, 0.8779999999999999, 0.815, 0.8, 0.9, 0.72, 0.5966666666666667, 0.9, 0.75, 0.7804999999999999, 0.8133333333333334, 0.8833333333333333, 0.7042857142857143, 0.81, 0.65, 0.9, 0.65, 0.732, 0.825, 0.8400000000000001, 0.7, 0.6, 0.844, 0.786, 0.825, 0.8, 0.67, 0.9, 0.8, 0.7, 0.7875, 0.735, 0.65, 0.85, 0.82, 0.79, 0.08, 0.9, 0.5, 0.81, 0.7133333333333333, 0.8333333333333334, 0.86, 0.87, 0.8, 0.5, 0.8166666666666668, 0.9, 0.2, 0.75, 0.8, 0.845, 0.8590909090909092, 0.6, 0.85, 0.8, 0.8, 0.8833333333333333, 0.765, 0.675, 0.8325, 0.7833333333333333, 0.6833333333333332, 0.5249999999999999, 0.7, 0.65, 0.9499999999999998, 0.9, 0.925, 0.87, 0.95, 0.7, 0.755, 1.0, 0.45, 0.6375, 0.7566666666666667, 0.79125, 0.7849999999999999, 0.785, 0.65, 0.65, 0.6433333333333334, 0.79, 0.8, 0.68, 0.64, 0.72, 0.65, 0.7, 0.6, 0.84, 0.575, 0.8655555555555555, 0.715, 0.68, 0.65, 0.73, 0.7933333333333333, 0.8, 0.8992307692307692, 0.884, 0.785, 0.8, 0.75, 0.93, 0.7657142857142858, 0.3, 0.0, 0.83, 0.85, 1.0, 0.7999999999999999, 0.7, 0.9633333333333334, 0.63, 0.52, 0.7350000000000001, 0.65, 0.86, 0.825, 0.775, 0.87, 0.86, 0.7, 0.8240000000000001, 0.8633333333333333, 0.34, 0.57, 0.7, 0.7, 0.7, 0.95, 0.85, 0.675, 1.0, 0.7769230769230774, 0.8233333333333333, 0.8, 0.44, 0.8, 0.9344444444444444, 0.86, 0.72, 0.7, 0.85, 0.59, 0.7, 0.85, 0.8407142857142859, 0.794, 0.8724999999999999, 0.85, 0.71, 0.7899999999999999, 0.91, 0.79, 0.8360000000000001, 0.81, 0.775, 0.81, 0.7983333333333333, 0.695, 0.8300000000000001, 0.8, 0.9650000000000001, 0.82, 0.6, 0.7, 0.7615384615384616, 0.6825, 0.75, 0.8, 0.925, 0.75, 0.8200000000000001, 0.575, 0.7233333333333335, 0.85, 0.75, 0.6233333333333334, 0.7, 0.8, 0.7999999999999999, 0.43, 0.9333333333333332, 0.81, 0.7274999999999999, 0.75, 0.725, 0.5, 0.8250000000000001, 0.68, 0.86, 0.59, 0.8636619718309857, 0.8185714285714286, 1.0, 0.75, 0.85, 0.8400000000000001, 0.7066666666666667, 0.75, 0.85, 0.85, 0.91, 0.88, 0.85, 0.7775000000000001, 0.7166666666666667, 0.8125, 0.855, 0.7925000000000001, 0.9, 0.8083333333333335, 0.87, 0.93, 0.7, 0.47, 0.95, 0.78, 0.6599999999999999, 0.59, 0.95, 0.65, 0.8233333333333333, 0.8, 0.5, 0.67, 0.85, 0.8085714285714286, 0.84, 0.792, 0.77, 0.4925, 0.57, 0.83, 0.8, 0.8, 0.96, 0.6499999999999999, 0.97, 0.45, 0.7399999999999999, 1.0, 0.9, 0.7250000000000001, 0.78, 0.84, 0.8280000000000001, 0.6599999999999999, 0.61, 0.65, 0.86, 0.81, 0.92, 0.15, 0.8220000000000001, 0.78, 0.76, 0.7549999999999999, 0.8, 0.8500000000000001, 0.72, 0.845, 0.9, 0.89, 0.8, 0.75, 0.6749999999999999, 0.7733333333333334, 0.6, 0.7999999999999999, 0.7875, 0.7, 0.8, 0.74, 0.7333333333333334, 0.85, 0.725, 0.656, 0.48, 0.65, 0.857142857142857, 0.7949999999999999, 0.75, 0.6499999999999999, 0.6, 0.6, 0.49, 0.7, 0.805, 0.9, 0.9133333333333332, 0.8125, 0.8028571428571427, 0.71, 0.8049999999999999, 0.8300000000000001, 0.4, 0.95, 0.5, 0.6666666666666666, 0.8, 0.66, 0.8, 0.5425, 0.89, 0.9199999999999999, 0.6699999999999999, 0.8, 0.94, 0.83, 0.72, 0.7599999999999999, 0.83, 0.65, 0.85, 0.88, 0.825, 0.77, 1.0, 0.8300000000000001, 0.65, 0.76, 0.6, 0.845, 0.85, 0.766470588235294, 0.825, 0.755, 0.78, 0.8, 0.8, 0.9049999999999999, 0.75, 0.82, 0.75, 0.78, 0.8157142857142857, 0.9, 0.98, 0.876, 0.65, 0.685, 0.85, 0.6328571428571428, 0.8706666666666668, 0.726, 0.8, 0.88, 0.8145454545454545, 0.7346153846153847, 0.8, 0.7533333333333334, 0.77, 0.79, 0.7983333333333333, 0.91, 0.7775, 0.65, 0.866, 0.79, 0.77, 0.7516666666666666, 0.75, 0.75, 0.54, 0.8, 0.0, 0.8873333333333334, 0.7799999999999999, 0.65, 0.8, 0.865, 0.8140000000000001, 0.6, 0.75, 0.6799999999999999, 0.7333333333333334, 0.78, 0.82, 0.9, 0.865, 0.9, 0.8897402597402599, 0.7750000000000001, 0.84, 0.9286666666666666, 0.58, 0.7600000000000001, 0.8324999999999999, 0.95, 0.89, 0.915, 0.83, 0.92, 0.75, 0.35, 0.45, 0.95, 0.8848780487804877, 0.84, 0.75, 0.78, 0.7350000000000001, 0.8625, 0.71, 0.7, 0.7, 0.6, 0.65, 0.8, 0.82, 0.73, 0.895, 0.93, 0.8300000000000001, 0.2, 1.0, 0.8, 0.8500000000000001, 0.825, 0.7, 0.8016666666666666, 0.77, 0.76, 0.855, 0.7949999999999999, 0.93, 0.83, 0.59, 0.7599999999999999, 0.93, 0.85, 0.7250000000000001, 0.821851851851852, 0.7375, 0.7, 0.8625, 0.83375, 0.7, 0.85, 0.8999999999999999, 0.45, 0.7033333333333335, 0.68, 0.785, 0.85, 0.7, 0.7, 0.8284615384615386, 0.5, 0.7885714285714285, 0.78, 0.85, 0.675, 0.875, 0.5133333333333333, 0.89, 0.7266666666666667, 0.75, 0.7, 0.85, 0.65, 0.76, 0.64, 0.5533333333333333, 0.7266666666666666, 0.8160000000000001, 0.47, 0.85, 0.6066666666666666, 0.68, 0.7, 0.57, 0.7, 0.8, 0.8, 0.8500000000000001, 0.7433333333333333, 0.91, 0.745, 0.77, 0.665, 0.6699999999999999, 0.75, 0.8, 0.8000000000000002, 0.7666666666666666, 0.88, 0.75, 0.65, 0.8240000000000002, 0.75, 0.75, 0.9333333333333332, 0.7433333333333333, 0.935, 0.725, 0.8142857142857143, 0.665, 0.6121052631578947, 0.5433333333333333, 0.72, 0.65, 0.792, 0.79, 0.88, 0.885, 0.65, 0.855, 0.7979999999999999, 1.0, 0.63, 0.825, 0.9500000000000001, 0.85375, 0.75, 0.8056779661016947, 0.3751851851851851, 0.85, 0.84, 0.9, 0.9099999999999999, 1.0, 0.8266666666666667, 0.7849999999999999, 1.0, 0.82, 0.14, 0.9100000000000001, 0.7, 0.85, 0.54, 0.755, 0.82, 0.68, 0.89, 0.8833333333333333, 0.95, 1.0, 0.7, 0.52, 0.9199999999999999, 0.78, 0.68, 0.84, 0.38, 0.885, 0.92, 0.85, 0.645, 0.04, 0.772, 0.82, 0.875, 0.8, 0.7, 0.7749999999999999, 0.7, 0.87, 0.33, 0.7200000000000001, 0.63, 0.84, 0.93, 0.8, 0.4, 0.7723076923076923, 0.8281250000000001, 0.85, 0.7649999999999999, 0.25, 0.65, 0.92, 0.75, 0.58, 0.88, 0.96, 0.5, 0.87, 0.852, 0.7666666666666666, 0.71, 0.766, 0.7600000000000001, 0.875, 0.78, 0.825, 0.55, 0.87, 0.8, 0.62, 0.8199999999999998, 0.839090909090909, 0.7650000000000001, 0.81, 0.8273333333333334, 0.8999999999999999, 0.51, 0.8733333333333334, 0.8661538461538463, 0.7575000000000001, 0.62, 0.7978409090909092, 0.7563636363636363, 0.8816666666666667, 0.79, 0.8, 0.92, 0.8, 0.75, 0.68, 0.85, 0.85, 0.75, 0.75, 0.6875, 0.6433333333333332, 0.8, 0.8, 0.62, 0.6000000000000001, 0.62, 0.9, 0.78, 0.9, 0.55, 0.7666666666666666, 0.7381818181818183, 0.95, 0.6683333333333333, 0.6, 0.84, 0.675, 0.83, 0.7600000000000001, 0.7175, 0.8, 0.806, 0.8, 0.825, 0.28, 0.8, 0.72, 0.765, 0.73, 0.75, 0.92, 0.71, 0.765, 0.83, 0.82, 0.86, 0.7, 0.79, 0.95, 0.8720000000000001, 0.8975, 0.79, 0.78, 0.8775000000000001, 0.85, 0.7466666666666667, 0.736, 0.7966666666666667, 0.9125000000000001, 0.73, 0.75, 0.85, 0.99, 0.9087500000000001, 0.96, 0.79, 0.85, 0.8, 0.905, 0.6, 0.6749999999999999, 0.94, 0.7616666666666667, 0.7, 0.7728571428571429, 1.0, 0.8, 0.7855555555555556, 0.7657142857142858, 0.89, 0.93, 0.7675, 0.84, 0.55, 0.865, 0.915, 1.0, 0.95, 0.7966666666666667, 0.8, 0.7849999999999999, 0.9, 0.8300000000000001, 0.8766666666666666, 0.79, 0.815, 0.85, 0.8, 0.76, 0.9259999999999999, 0.88, 0.825, 0.865, 0.8433333333333334, 0.49, 0.83, 0.75, 0.9, 0.7, 0.93, 0.8719999999999999, 0.7925, 0.73, 0.8300000000000001, 0.85, 0.79, 0.7, 0.9, 0.93, 0.6875, 0.8, 0.8526666666666667, 0.8366666666666666, 0.9500000000000001, 0.625, 0.9, 0.95, 0.85, 0.88, 0.79, 0.6, 0.8020689655172416, 0.55, 0.9, 0.8371428571428571, 0.72, 0.57, 0.89, 0.7, 0.76, 0.23, 0.8999999999999999, 0.96, 0.8500000000000001, 0.8733333333333334, 0.87, 0.79, 0.8511111111111112, 0.9, 0.79, 0.92, 0.73, 1.0, 0.85, 0.8225, 0.85, 0.86, 0.665, 0.775, 0.9033333333333333, 0.755, 0.56, 0.42, 0.705, 0.825, 0.8, 0.8, 0.75, 0.7, 0.75, 0.385, 0.87, 0.914, 0.8285714285714285, 0.8999999999999999, 0.8400000000000001, 0.98, 0.75, 0.8200000000000001, 0.65, 0.8, 0.68, 0.65, 0.8, 0.7166666666666668, 0.85, 0.95, 0.94, 0.75, 0.67, 0.9003333333333334, 0.8441666666666666, 0.73, 0.826, 0.8049999999999999, 0.68, 0.9, 0.7999999999999999, 0.88, 0.76, 0.86, 0.79, 0.65, 0.9, 0.87, 0.82, 0.8, 0.5, 0.92, 0.43, 0.8500000000000001, 0.835, 0.7133333333333334, 0.69, 0.7, 0.7, 0.82, 0.735, 0.89, 0.78, 0.885, 0.84, 0.9, 0.675, 0.659, 0.7399999999999999, 0.8, 0.75, 0.74, 0.8042857142857143, 0.85, 0.68, 0.9, 0.7400000000000001, 0.83, 0.76, 0.89, 0.8, 0.65, 0.9, 0.79, 0.7200000000000001, 0.8560000000000001, 0.7666666666666666, 0.98, 0.8866666666666666, 0.88, 0.9099999999999999, 0.4, 0.8204081632653062, 0.8225, 0.82, 0.89, 1.0, 0.8566666666666668, 0.7911111111111111, 0.94, 0.43000000000000005, 0.8, 0.8, 0.8200000000000001, 0.75, 0.6000000000000001, 0.89, 0.99, 0.95, 0.6, 0.89, 0.8, 0.9, 0.47, 0.6, 0.8233333333333333, 0.85, 0.861282051282051, 0.581111111111111, 0.766, 0.685, 0.885, 0.7366666666666667, 0.6666666666666666, 0.8366666666666668, 0.7825, 0.7314285714285714, 0.6, 0.85, 0.77, 0.6, 0.6475, 0.9, 0.89, 0.63, 0.75, 0.88, 0.76, 0.965, 0.95, 0.485, 0.94, 0.7, 0.77, 0.95, 0.62, 0.85, 0.78, 0.8366666666666668, 0.95, 0.67, 0.81, 0.9366666666666666, 0.9550000000000001, 0.85, 0.75, 0.7242857142857143, 0.67, 0.9175000000000001, 0.7014285714285714, 0.665, 0.45, 0.7333333333333334, 0.9033333333333333, 0.845, 0.84, 0.7949999999999999, 0.8500000000000001, 0.7, 0.9, 0.72, 0.8, 0.9033333333333332, 0.83, 0.7749999999999999, 1.0, 0.3949999999999999, 0.8029999999999999, 0.9, 0.7, 0.75, 0.4, 0.82, 0.68, 0.89, 0.8925000000000001, 0.9, 0.535, 0.78, 0.575, 0.9, 0.575, 0.65, 0.8, 0.02, 0.75, 0.84, 0.83, 0.87, 0.65, 0.8, 0.75, 0.69, 0.7050000000000001, 0.51, 0.84, 0.8160000000000001, 0.41, 0.95, 0.85, 0.775, 0.8240579710144927, 0.7081818181818181, 0.7, 0.58, 0.5914285714285715, 0.525, 0.89, 0.5, 0.605, 0.8450000000000001, 0.8827272727272729, 0.9, 0.8156521739130436, 0.5740000000000001, 0.87, 0.9, 0.28, 0.63, 0.865, 0.48, 0.7999999999999999, 0.87, 0.8266666666666667, 0.825, 0.7208771929824562, 0.5591666666666667, 0.97, 0.84, 0.61, 0.8116666666666666, 0.6100000000000001, 0.8300000000000001, 0.83, 0.7150000000000001, 0.7, 0.8085714285714284, 0.712, 0.52, 0.4166666666666667, 0.7933333333333333, 0.65, 0.6499999999999999, 0.7, 0.55, 0.665, 0.2, 0.7834000000000002, 0.7544444444444445, 0.48, 0.89, 0.7050000000000001, 0.9333333333333332, 0.9163636363636365, 0.8799999999999999, 0.9, 0.85, 0.79, 0.495, 0.36, 0.75125, 0.88, 0.8721428571428572, 0.75, 1.0, 0.75, 0.325, 0.79, 0.85, 0.85, 0.85, 0.88, 0.77, 0.515, 0.96, 0.82, 0.27, 0.76, 0.65, 0.8, 0.91, 0.8700000000000001, 0.71, 0.72, 0.88, 0.9299999999999999, 0.65, 0.49, 0.6333333333333334, 0.9, 0.95, 0.63, 0.7, 0.57, 0.88, 0.8075, 0.725, 0.9650000000000001, 0.7779999999999999, 0.5499999999999999, 0.6, 0.8, 0.7200000000000001, 0.2, 0.73, 0.6875, 0.68, 0.8250000000000001, 0.8300000000000001, 0.865, 0.75, 0.685, 0.62, 0.8, 0.825, 0.89, 1.0, 0.8533333333333334, 0.77, 0.8300000000000001, 0.775, 0.915, 0.8676923076923077, 0.98, 0.5800000000000001, 0.87, 0.8, 0.5166666666666667, 0.955, 0.85, 0.82, 0.6, 0.79625, 0.72, 0.57, 0.8353846153846154, 0.5800000000000001, 0.95, 0.618, 0.86, 0.63, 0.7, 0.4, 0.8766666666666666, 0.9299999999999999, 0.71, 0.9, 0.85, 0.77, 0.625, 0.93, 0.8, 0.8000000000000002, 0.535, 0.78, 0.52, 0.55, 0.915, 0.07, 0.7, 0.75, 0.545, 0.8300000000000001, 0.95, 0.8, 0.94, 0.74, 0.755, 0.7, 0.8633333333333333, 0.7849999999999999, 0.75, 0.81, 0.9, 0.87, 0.6, 0.84, 0.875, 0.75, 0.88, 0.99, 0.665, 0.758, 0.9525, 0.8, 0.95, 0.44999999999999996, 0.5, 0.8, 0.525, 0.75, 0.9, 0.5900000000000001, 0.65, 0.82, 0.8300000000000001, 0.88, 0.67, 0.7767889908256883, 0.02, 0.48000000000000004, 0.685, 0.55, 0.81, 0.8416666666666668, 0.89, 0.915, 0.84, 0.5, 0.85, 0.825, 0.6633333333333333, 0.7, 0.5, 0.4, 0.65, 0.7666666666666666, 0.7, 0.89, 0.775, 0.9, 0.58, 0.625, 0.9199999999999999, 0.635, 0.7617857142857141, 0.8033333333333333, 0.8752380952380951, 0.6925, 0.92, 0.8, 0.7, 0.93, 0.755, 0.7777777777777778, 0.8125, 0.58, 0.9, 0.78, 0.9321052631578945, 0.68, 0.82, 0.8218181818181818, 0.8800000000000001, 0.8, 0.8666666666666667, 0.94, 0.75, 0.875, 0.66, 0.91, 0.7, 0.865, 0.62, 0.7110000000000002, 0.9033333333333333, 0.84, 0.75, 0.85, 0.6733333333333333, 0.4, 0.8049999999999999, 0.8170833333333332, 0.6462500000000001, 0.8, 0.825, 0.72, 0.7474999999999999, 0.8, 0.83, 0.78, 0.62, 0.815, 0.98, 0.8, 0.9033333333333334, 0.8, 0.845, 0.86, 0.8, 0.85, 0.72, 0.895, 0.745, 0.7, 0.98, 0.73, 0.8033333333333333, 0.88, 0.71, 0.7, 0.7, 0.73, 0.8, 0.6, 0.65, 0.82, 0.8914285714285716, 0.2, 0.73, 0.7, 1.0, 0.5, 0.86, 0.65, 0.794, 0.87, 0.75, 0.95, 0.7633333333333333, 0.6, 0.3, 0.8192307692307692, 0.8571428571428571, 0.5, 0.81, 0.8, 0.75, 0.8522222222222222, 0.81, 0.9, 0.9650000000000001, 0.8, 0.95, 0.95, 0.9400000000000001, 0.72, 0.65, 0.8, 0.93, 0.49222222222222217, 0.285, 0.7799999999999999, 0.5, 0.8039999999999999, 0.815, 0.86, 0.72, 0.745, 0.66, 0.95, 0.85, 0.45, 0.26, 0.95, 0.8260000000000002, 0.8700000000000001, 0.7666666666666666, 0.61, 0.91, 0.55, 0.7999999999999999, 0.8320000000000001, 0.21, 0.8133333333333334, 0.75, 0.99, 0.88, 0.7849999999999999, 0.7, 1.0, 0.96, 0.75, 0.6, 0.26, 0.93, 0.6766666666666667, 0.835, 0.8, 0.65, 0.69, 0.81, 0.9, 0.5, 0.8049999999999999, 0.47, 0.89, 0.5566666666666666, 0.89, 0.63, 0.8300000000000001, 1.0, 0.78, 0.75, 0.63, 0.835, 0.66, 0.99, 0.8775000000000001, 0.8166666666666668, 0.7933333333333333, 0.62, 0.776, 0.7, 0.92, 0.93, 0.99, 0.75, 0.6, 0.475, 0.8925000000000001, 0.82, 0.66125, 0.88, 0.6, 0.86, 0.83, 0.7749999999999999, 0.8, 0.65, 0.1, 0.7375, 0.5, 0.7, 0.79, 0.8440000000000001, 0.6333333333333333, 0.6, 0.8, 0.8500000000000001, 0.8733333333333334, 0.825, 0.7, 0.8681481481481483, 0.8225, 0.6266666666666666, 0.72, 0.935, 0.68, 0.63, 0.9, 0.85, 0.55, 0.7275, 0.6912499999999999, 0.8068421052631579, 0.7849999999999999, 0.77, 0.8075, 0.8059999999999998, 0.8, 0.54, 0.74, 0.87, 0.7749999999999999, 0.8, 0.87, 0.67, 0.8166666666666668, 0.725, 0.675, 0.75, 0.7050000000000001, 0.79, 0.75, 0.75, 0.3, 0.5700000000000001, 0.7, 0.8, 0.85, 0.8, 0.94, 0.8500000000000001, 0.91, 0.7625, 0.7, 0.76, 0.84, 0.75, 0.63, 0.51, 0.7, 0.7, 0.475, 0.67, 0.414, 0.79, 0.8400000000000001, 0.71, 0.8, 1.0, 0.835, 0.7, 0.65, 0.75, 0.6, 0.525, 0.68, 0.89, 0.9, 0.95, 0.7733333333333333, 0.8, 0.905, 0.02, 0.8, 0.69, 0.55, 0.68, 0.9, 0.925, 1.0, 0.92, 0.77, 0.78, 0.9166666666666666, 0.45, 0.7, 0.9633333333333333, 0.725, 0.6, 0.5, 0.77, 0.75, 0.6799999999999999, 0.73, 0.87, 0.704, 0.925, 0.9, 1.0, 0.7366666666666667, 0.8300000000000001, 0.81, 0.8, 0.8580000000000002, 0.95, 0.8850000000000001, 0.8525, 0.66, 0.7661538461538461, 0.8861016949152543, 0.84, 0.67, 1.0, 0.8690000000000001, 0.9440000000000002, 0.92, 0.83, 0.8, 0.84, 0.9025000000000001, 0.85, 0.34, 0.8, 0.85, 0.9450000000000001, 0.68, 0.8756363636363639, 0.8900000000000001, 0.7, 0.6499999999999999, 0.63, 0.7, 0.7, 0.75, 0.6, 0.95, 0.71, 0.675, 0.777, 1.0, 0.7, 0.78, 0.8, 0.859090909090909, 0.83, 0.44000000000000006, 0.9, 0.88, 0.64, 0.7749999999999999, 0.9, 0.82, 0.5575, 0.7200000000000001, 0.98, 0.825, 0.865, 0.74, 0.39, 0.72, 0.8, 0.62, 0.75, 0.55, 0.785, 0.885, 0.85, 0.7, 0.65, 0.8733333333333334, 0.96, 0.8699999999999999, 0.8, 0.6, 0.99, 0.538, 0.55, 0.9, 0.625, 0.9314285714285714, 0.7866666666666667, 0.73, 0.9361538461538461, 0.99, 0.6575, 0.8645454545454545, 0.8733333333333334, 0.85, 0.85, 0.65, 0.65, 0.635, 0.85, 0.7275, 0.58, 0.92, 0.9, 0.8, 0.68, 0.8200000000000001, 0.8, 0.775, 0.84, 0.9166666666666666, 0.9120000000000001, 0.94, 0.6333333333333333, 0.8443750000000001, 0.7, 0.7, 0.95, 0.775, 0.7, 0.7250000000000001, 0.7, 0.8576190476190477, 0.75, 0.75, 0.65, 0.93, 0.1, 0.9175, 0.75, 0.8472727272727272, 0.75, 0.74, 0.8, 0.7999999999999999, 0.72, 0.8, 0.86, 0.8453846153846154, 0.43, 0.7849999999999999, 0.8, 0.75, 0.7, 0.8846666666666668, 0.7434782608695651, 0.95, 0.79, 0.7, 0.68, 0.68, 0.75, 0.84, 0.9, 0.8775000000000001, 0.92, 0.8541666666666666, 0.8425, 0.9, 0.8, 0.825, 0.8466666666666667, 0.825, 0.8160714285714284, 0.85, 0.905, 0.74, 0.7, 0.75, 0.76, 0.77, 0.7108823529411763, 0.46888888888888886, 0.8166666666666668, 0.85, 0.7966666666666666, 0.925, 0.45, 0.4, 0.9, 0.765, 0.83, 0.86, 0.95, 0.8720000000000001, 0.75, 0.8, 0.8, 0.75, 0.8, 0.9324999999999999, 0.895, 0.7613888888888889, 0.645, 0.73, 0.6, 0.8, 0.845, 0.8, 0.95, 0.8975000000000001, 0.8279310344827584, 0.5333333333333333, 0.94, 0.9, 0.92, 0.85, 0.8300000000000001, 0.85, 0.65, 0.97, 0.73, 0.7149999999999999, 0.54, 0.62, 0.98, 1.0, 0.985, 0.48, 0.4, 0.69, 0.75, 0.75, 0.75, 0.4166666666666667, 0.75, 0.83, 0.74, 0.8200000000000001, 0.835, 0.88, 0.7740000000000001, 0.7125, 0.9, 0.675, 0.85, 0.74, 0.9, 0.85, 0.875, 0.95, 0.015000000000000001, 0.7569999999999999, 0.7649999999999999, 0.5, 0.77, 0.84, 0.7, 0.827, 0.7, 0.925, 0.82, 0.96, 0.775, 0.63, 0.79, 0.7333333333333334, 0.7649999999999999, 0.8963636363636364, 0.6860000000000002, 0.935, 0.65, 0.858, 0.78, 0.8666666666666666, 0.665, 0.77, 0.8113333333333335, 0.8607692307692307, 0.5, 0.775, 0.825, 0.86, 0.7, 0.71, 0.6, 0.79, 0.55, 0.75, 0.91, 0.97, 0.75, 0.52, 0.86, 0.89, 0.5, 0.77, 1.0, 0.8999999999999999, 0.755, 0.65, 0.8566666666666668, 0.92, 0.86, 0.4, 0.81, 0.8, 0.8866666666666667, 0.935, 0.852, 0.9199999999999999, 0.6, 0.75, 0.6825, 0.91, 0.5, 0.7816666666666666, 0.8, 0.7183333333333333, 0.7666666666666666, 0.7637499999999999, 0.8049999999999999, 0.9199999999999999, 0.725, 0.9550000000000001, 0.625, 0.95, 0.925, 0.9, 0.7933333333333333, 0.85, 1.0, 0.9, 0.675, 0.895, 0.6625000000000001, 0.85, 0.71, 1.0, 0.8633333333333333, 0.96, 0.92, 0.7225, 0.75, 1.0, 0.82, 0.6, 0.85, 0.97, 0.77, 0.725, 1.0, 0.86, 0.86, 0.89, 0.6, 0.95, 0.8200000000000001, 0.79, 0.87, 0.6275000000000001, 0.775, 0.8, 0.78, 0.87, 0.0, 0.95, 0.5, 0.8335294117647059, 0.7999999999999999, 0.85, 0.78, 0.79, 0.7, 0.7775, 0.4, 0.625, 0.83, 0.8, 0.93, 0.87, 0.5, 0.86, 0.72, 0.8049999999999999, 0.8866666666666667, 0.8, 0.5666666666666665, 0.7, 1.0, 0.55, 0.7775, 0.89, 0.6333333333333333, 0.83, 0.74, 0.7, 0.9046153846153846, 0.8963636363636365, 0.35, 0.11, 0.7949999999999999, 0.6, 0.89, 0.97, 0.75, 0.88, 0.8, 0.97, 0.9, 0.82, 0.62, 0.96, 0.85, 0.55, 0.735, 0.8219999999999998, 0.97, 0.7849999999999999, 0.9, 0.95, 0.6, 0.8600000000000001, 0.9, 0.75, 0.8539999999999999, 0.7733333333333334, 0.8, 0.86, 0.8, 0.5640000000000001, 0.55, 0.8699999999999998, 0.55, 0.8619999999999999, 1.0, 0.8082758620689655, 0.8566666666666666, 0.6792307692307691, 0.61, 0.6999999999999998, 0.9, 0.96, 0.75, 0.87, 0.75, 0.5, 0.75, 0.65, 0.9152941176470587, 0.25, 0.75, 0.6566666666666666, 0.68, 0.9, 0.84, 0.66, 0.8, 0.5349999999999999, 0.62, 0.84, 0.9, 0.875, 0.8475, 0.7766666666666667, 0.85, 0.89, 0.8, 0.83, 0.795, 0.6499999999999999, 0.76, 0.8, 0.9, 0.815, 0.5700000000000001, 0.3, 0.9, 0.75, 0.75, 0.8482352941176472, 0.68, 0.81, 0.75, 0.4, 0.6, 0.845, 0.69, 0.88, 0.95, 0.87, 0.31000000000000005, 0.64, 0.85, 0.875, 0.85, 0.7250000000000001, 0.85, 0.51, 0.7, 0.8, 0.9, 0.95, 0.85, 0.7, 0.85, 0.6733333333333333, 0.83, 0.6968749999999999, 0.8375, 0.85, 0.75, 0.85, 0.8766666666666666, 0.55, 0.64, 0.8500000000000001, 0.62, 0.85, 0.84, 0.7566666666666667, 0.6875, 0.86, 0.73, 0.8033333333333333, 0.935, 0.8975, 1.0, 0.7, 0.7628571428571428, 0.6033333333333334, 0.92, 0.7, 0.655, 0.905, 0.5700000000000001, 0.85, 0.4166666666666667, 0.85, 0.3, 0.75, 0.8, 0.6625, 0.8, 0.806896551724138, 0.6978378378378377, 0.25, 0.84, 0.7419999999999999, 0.885, 0.93, 0.86, 0.9700000000000001, 0.935, 0.7050000000000001, 0.84, 0.875, 0.7666666666666666, 0.8366666666666666, 0.8, 0.84, 0.9, 0.7542857142857143, 0.775, 0.7949999999999999, 0.92, 0.8, 0.87375, 0.75, 0.6233333333333334, 0.675, 0.9, 0.7, 0.8, 0.7, 0.792, 0.8, 0.91, 0.9, 0.6799999999999999, 0.83, 0.8460563380281693, 0.8066666666666666, 0.7409615384615387, 0.4, 0.8275, 0.8283333333333335, 0.9075, 0.5900000000000001, 0.8433333333333333, 0.4, 0.89, 0.89, 0.68, 0.9940000000000001, 1.0, 0.4, 0.7, 0.88, 0.5, 0.52, 0.95, 0.85, 0.8, 0.8600000000000001, 0.72, 0.68, 0.5, 0.7109090909090908, 0.8033333333333333, 0.785, 0.765, 0.725, 0.6699999999999999, 0.9, 0.66, 0.6857894736842104, 0.7833333333333333, 0.8500000000000001, 0.9, 0.625, 0.64, 0.825, 0.65, 0.05, 0.7, 0.8, 0.7, 0.784, 0.685, 0.9, 0.86, 0.84, 0.74, 0.9, 0.9400000000000001, 0.675, 0.91, 0.77, 0.77, 0.89, 0.7825000000000001, 0.8700000000000001, 0.8666666666666667, 0.75, 0.85, 0.7366666666666667, 0.835, 0.6699999999999999, 0.7, 0.8, 0.7866666666666666, 0.65, 0.815, 0.9275, 0.8666666666666667, 0.9450000000000001, 0.7466666666666666, 0.8, 0.83, 0.74, 0.8, 0.9, 0.79, 0.66, 0.55, 0.94, 0.96, 0.75, 0.8333333333333334, 0.6, 0.69, 0.7515384615384615, 0.8825000000000001, 0.9071428571428573, 0.6849999999999999, 0.45, 0.71, 0.6842857142857143, 0.8825000000000001, 0.7, 0.88, 0.675, 0.95, 0.99, 0.865, 0.9199999999999999, 0.75, 0.811111111111111, 0.75, 0.76, 0.98, 0.87, 0.9239999999999998, 0.902857142857143, 0.8, 0.7250000000000001, 0.8, 0.6, 0.7288888888888889, 0.785, 0.9483333333333334, 0.855, 0.736, 0.9066666666666667, 0.9177777777777779, 0.9233333333333333, 0.76, 0.85, 0.885, 0.9, 0.85, 0.8, 0.37999999999999995, 0.92, 0.6, 0.6, 0.35, 0.93, 0.8, 0.9, 0.8314285714285713, 0.88, 0.92, 0.75, 0.8413559322033896, 0.61, 0.95, 0.8275, 0.855, 0.7636363636363637, 0.705, 0.73, 0.79, 0.7528571428571429, 0.815, 0.885, 0.45, 0.6633333333333332, 0.735, 0.995, 0.7666666666666666, 0.8, 0.6920000000000001, 0.8166666666666665, 0.95, 0.8700000000000001, 0.7233333333333333, 0.8350000000000001, 0.7933333333333333, 0.5, 0.7466666666666667, 0.725, 0.62, 0.8, 0.9266666666666666, 0.85, 0.87, 0.8480000000000001, 0.775, 0.05, 0.9, 0.77, 0.75, 0.325, 0.792, 0.75, 0.7999999999999999, 1.0, 0.7, 0.8, 0.6950000000000001, 0.72, 0.55, 0.8529411764705882, 0.8169230769230769, 0.6833333333333335, 0.69, 0.0, 0.75, 0.70125, 0.83, 0.9, 0.8687499999999999, 0.9, 0.9, 0.68, 0.796111111111111, 0.365, 0.85, 1.0, 0.95, 0.5983333333333333, 0.775, 0.3925, 0.94, 0.9, 0.93, 0.85, 0.84, 0.7250000000000001, 0.8, 0.775, 0.8966666666666666, 0.78, 0.75, 0.7525, 0.89, 0.0, 0.735, 0.7649999999999999, 0.99, 0.8, 0.88, 0.885, 0.8483333333333333, 0.6833333333333332, 0.865, 0.96, 0.8285714285714285, 0.5800000000000001, 0.9, 0.71, 0.8, 0.62125, 0.68, 0.9933333333333333, 0.55, 0.8, 0.52, 0.646, 0.55, 0.66, 0.73, 0.555, 0.66, 1.0, 0.525, 1.0, 0.766, 0.675, 0.61, 0.7, 0.77, 0.7849999999999999, 0.6625, 0.98, 0.8600000000000001, 0.6000000000000001, 0.83, 0.7, 0.6599999999999999, 0.45, 0.75, 0.7, 0.83, 0.8500000000000001, 0.8866666666666667, 1.0, 0.79, 0.575, 0.9, 0.5, 0.6, 0.725, 0.93, 0.75, 0.7250000000000001, 0.78, 0.86, 0.865, 0.82, 0.7400000000000001, 0.75, 0.75, 0.7483333333333334, 0.67, 0.475, 0.92, 0.4, 0.8663636363636363, 0.938, 0.79, 0.84, 0.86, 0.8, 0.775, 0.69, 0.8460000000000001, 0.89, 0.65, 0.651, 0.6, 0.52, 0.818, 0.8280000000000001, 0.865, 0.47, 0.68, 0.75, 0.82, 0.8175, 0.8, 0.7849999999999999, 0.8171428571428573, 0.8, 0.9, 0.85, 0.882, 1.0, 1.0, 0.9, 0.835, 0.9, 0.7, 0.84, 0.7912499999999999, 0.7749999999999999, 0.57, 0.75, 0.8266666666666667, 0.8624999999999999, 0.8025, 0.7845454545454547, 0.81, 0.75, 0.75, 0.95, 0.7400000000000001, 0.65, 0.8525, 0.8133333333333334, 0.92, 0.78, 0.65, 0.808, 0.8, 0.9116666666666665, 0.48, 0.88, 0.8, 0.78, 0.7725, 0.79, 0.85, 0.75, 0.8, 0.7, 0.8, 0.83, 0.65, 0.73, 0.87, 0.87, 0.85, 0.865, 0.8, 0.8, 0.73, 0.81, 0.895, 0.5, 0.875, 0.95, 0.89, 0.77, 0.485, 0.935, 0.86, 0.8183333333333334, 0.6, 0.525, 0.6, 0.6699999999999999, 0.6, 0.8480000000000001, 0.6, 0.85, 0.726, 0.78, 0.55, 0.75, 0.95, 0.23, 0.93, 0.708, 0.8966666666666666, 0.6000000000000001, 0.82, 0.8, 0.87, 0.74, 0.7233333333333333, 0.765, 0.89, 0.85, 0.6333333333333333, 0.73, 0.7866666666666667, 0.8285185185185185, 0.64, 0.75, 0.6, 0.8366666666666666, 0.45, 0.01, 0.85, 0.7949999999999999, 0.8766666666666666, 0.7260000000000001, 0.71, 0.5566666666666666, 0.82, 0.77, 0.67, 0.8, 0.6, 0.8, 0.8400000000000001, 0.68, 0.8, 0.64, 0.85, 0.7, 0.9, 0.35, 0.78, 0.85, 0.925, 0.9199999999999999, 0.51, 0.93, 0.77, 0.47500000000000003, 0.9, 0.6433333333333334, 0.92, 0.78, 0.9, 0.8, 0.85, 0.8400000000000001, 0.8, 0.6, 0.9, 0.68, 0.82, 0.835, 0.95, 0.525, 0.94, 0.59, 0.6, 0.865, 0.86, 0.9, 0.75, 0.925, 0.4, 0.9, 0.01, 0.83, 0.65, 0.82, 0.7250000000000001, 0.8, 0.9, 0.71, 0.485, 0.7, 0.852, 0.85, 0.7169230769230768, 0.65, 0.75, 0.9199999999999999, 0.8457142857142858, 0.0, 0.65, 0.8, 0.708, 0.68, 0.75, 0.845, 0.8333333333333334, 0.78, 0.9028571428571428, 0.89, 0.28, 0.8, 0.6, 0.95, 0.9233333333333333, 0.73, 0.9, 0.53, 0.8500000000000001, 0.7971428571428572, 0.725, 0.84, 0.7799999999999999, 0.85, 0.655, 0.75, 0.87, 0.85, 0.65, 0.775, 0.4, 0.12, 0.8592307692307691, 0.82, 0.7275, 0.8466666666666667, 0.8, 0.86, 0.74, 0.41000000000000003, 0.55, 0.65, 0.7, 0.77, 0.6, 0.68, 0.795, 0.7566666666666667, 0.82, 0.82, 0.825, 0.75, 0.5, 0.64, 0.794, 0.9442857142857143, 0.7200000000000001, 0.75, 0.865, 0.77, 0.8, 0.87, 0.75, 0.88, 0.78, 0.95, 0.76, 0.8566666666666666, 0.925, 0.8, 0.99, 0.55, 0.9, 0.9, 0.625, 0.83, 0.97, 0.79, 0.81, 0.75, 0.98, 0.6833333333333332, 0.875, 0.62, 0.8500000000000001, 0.6866666666666666, 0.915, 0.97, 0.78, 0.85, 0.96, 0.8, 0.8, 0.875, 0.775, 0.8, 0.9, 0.86, 1.0, 0.6633333333333333, 0.55, 0.7683333333333334, 0.7250000000000001, 0.755, 0.9, 0.9, 0.82, 1.0, 0.78, 0.7649999999999999, 0.89, 0.8566666666666666, 0.8, 0.9, 0.7, 0.65, 0.7, 0.7849999999999999, 0.765, 0.85, 0.865, 0.7, 0.79, 0.8133333333333335, 0.915, 0.87, 0.42500000000000004, 0.45, 0.8325, 0.71, 0.14, 0.15, 0.74, 0.8733333333333334, 0.7050000000000001, 0.6, 0.8218181818181818, 0.81, 0.7, 0.7, 0.87, 0.78, 0.65, 0.62, 0.7733333333333333, 0.75, 0.68, 0.9057142857142858, 0.75, 0.75, 0.6933333333333334, 0.685, 0.8, 0.8240000000000001, 0.75, 0.49, 0.35, 0.88, 0.9066666666666667, 0.9066666666666666, 0.6, 1.0, 0.5, 0.9899999999999999, 0.7600000000000001, 0.99, 0.7, 0.315, 0.8, 0.6950000000000001, 0.4, 0.7, 0.7, 0.8133333333333335, 0.7166666666666667, 0.5449999999999999, 0.8350000000000001, 0.7, 0.35, 0.7, 0.8315384615384616, 0.89, 0.7066666666666667, 0.275, 0.7150000000000001, 0.7949999999999999, 0.74, 0.894375, 0.745, 0.49666666666666676, 0.6977777777777778, 0.7876923076923077, 0.435, 0.7, 0.7466666666666666, 0.6, 0.8, 0.625, 0.96, 0.9, 0.9149999999999999, 0.89, 0.86, 0.8500000000000001, 0.55, 0.85, 0.85, 0.55, 0.85, 0.8, 0.53, 0.9, 0.93, 0.67, 0.8, 0.8450000000000001, 0.86, 0.9266666666666667, 0.75, 0.6799999999999998, 0.9, 0.8377777777777777, 0.95, 0.675, 0.8233333333333333, 0.72, 0.9009090909090909, 0.735, 0.27, 0.85, 0.7, 0.75, 0.39, 0.92, 0.55, 0.8, 0.87, 0.9091666666666667, 0.9, 0.83, 0.8899999999999999, 0.65, 0.625, 0.85, 0.8049999999999999, 1.0, 0.95, 0.71, 0.58, 0.9, 0.8969696969696973, 0.725, 0.76, 0.8400000000000001, 0.86, 0.45, 0.56, 0.9, 0.83, 0.855, 0.895, 0.8, 0.75, 0.8300000000000001, 0.6666666666666666, 0.88, 0.7, 0.796, 0.6366666666666666, 0.7, 0.9066666666666666, 0.89, 0.46, 0.65, 0.92, 0.7142857142857144, 0.8466666666666667, 0.8, 0.69, 0.9, 0.8, 0.78, 1.0, 0.8438461538461538, 0.7566666666666665, 0.99, 0.77, 0.85, 0.6100000000000001, 0.95, 0.7166666666666668, 0.8166666666666665, 0.7, 1.0, 0.665, 0.9, 0.8966666666666666, 0.8366666666666668, 0.71, 0.77, 0.7999999999999999, 0.78, 0.75, 0.6922222222222223, 0.73, 0.87, 0.9163636363636362, 0.83, 0.9, 0.9166666666666665, 0.99, 0.8320000000000001, 0.9, 0.85, 0.82, 0.8566666666666666, 0.5633333333333334, 0.8053333333333333, 0.525, 0.63, 0.825, 0.7825, 0.75, 0.9, 0.8687500000000001, 0.805, 0.8333333333333333, 0.7633333333333333, 0.925, 0.96, 0.85, 0.7333333333333334, 0.74, 0.74, 0.9, 0.6100000000000001, 0.675, 0.7, 0.95, 0.65, 0.83, 0.885, 0.82, 0.9199999999999999, 0.8275, 0.71, 0.8, 0.9, 0.7, 0.8899999999999998, 0.81, 0.54, 0.7725, 0.8233333333333333, 0.8, 0.7871428571428573, 0.765625, 0.825, 0.93, 0.65, 0.94, 0.9099999999999999, 0.8099999999999999, 0.63, 0.74, 0.85, 0.92, 0.8075, 1.0, 0.85, 0.75, 0.5299999999999999, 0.8333333333333334, 0.7, 0.8, 0.855, 0.85, 0.95, 0.5, 0.85, 0.88, 0.95, 0.83, 0.95, 0.79, 0.9, 0.9733333333333333, 0.908125, 0.19, 0.9133333333333332, 0.892, 0.7494444444444444, 0.6, 0.8, 0.86, 0.8649999999999999, 1.0, 1.0, 0.9342857142857144, 0.9, 0.91, 0.79625, 0.6666666666666666, 0.7, 0.75, 0.6, 0.7, 0.92, 0.7250000000000001, 0.7, 0.94, 0.92, 0.3, 0.83, 0.7766666666666667, 0.72, 0.73, 0.69, 0.91125, 0.91, 0.9, 0.65, 0.84, 0.845, 0.87, 0.85, 0.79, 0.7849999999999999, 0.7250000000000001, 0.76, 0.84, 0.75, 0.4, 0.5, 0.73, 0.87, 0.9, 0.95, 0.625, 0.55, 0.895, 0.7666666666666666, 0.91, 0.7, 0.8, 0.765, 0.8, 0.8, 0.63, 0.68, 0.766, 0.8, 1.0, 0.88, 0.6, 0.825, 0.74, 0.5, 0.71, 0.81, 0.71, 0.87, 0.8200000000000001, 0.4, 0.665, 0.9, 0.8, 0.7000000000000001, 0.665, 0.9, 0.7459999999999999, 0.75, 0.79, 0.8163636363636364, 0.75, 0.98, 0.825, 0.9, 0.8600000000000001, 0.77, 0.8977777777777778, 0.88, 0.7, 0.855, 0.835, 0.87, 0.85, 0.9019999999999999, 0.7859999999999999, 0.6900000000000001, 0.85, 0.78, 1.0, 0.95, 0.855, 0.7, 0.35, 0.7581818181818182, 0.8999999999999999, 0.84, 0.5, 0.73, 0.875, 0.89, 0.85, 0.5, 1.0, 0.5800000000000001, 0.75, 0.92, 0.825, 0.8450000000000001, 0.8, 0.8637500000000001, 0.6825, 0.8025, 0.94, 0.8200000000000001, 0.7016666666666667, 0.55, 0.2, 0.71, 0.72, 0.7666666666666666, 0.5, 0.94, 0.9171428571428571, 0.8800000000000001, 0.89, 0.91, 0.8, 0.85, 0.8649999999999999, 0.635, 0.8, 0.855, 0.6, 0.7, 0.8918181818181818, 0.7125, 0.8333333333333334, 0.85, 0.01, 0.7, 0.94, 0.95, 0.65, 0.55, 0.6999999999999998, 0.81, 0.58, 0.74, 0.7, 0.745, 0.8500000000000001, 0.75, 0.6833333333333332, 0.6566666666666666, 0.81, 0.9133333333333334, 0.525, 0.52, 0.8814285714285716, 0.7, 0.64, 1.0, 0.7, 0.74, 0.6066666666666667, 0.47, 0.71, 0.7433333333333333, 0.83875, 0.6675, 0.8, 0.83, 0.6, 0.76, 0.75, 0.88, 0.5, 0.8544444444444443, 0.9, 0.65, 0.38, 0.8, 0.89, 0.8333333333333334, 0.72, 0.92, 0.9450000000000001, 0.6933333333333334, 0.81, 0.9, 0.61, 0.855, 0.7, 0.9485714285714285, 0.8999999999999999, 0.35, 0.8, 0.8400000000000001, 0.86, 0.8472151898734178, 0.93, 0.7433333333333333, 0.744, 0.8033333333333333, 0.7166666666666667, 0.7, 0.71, 0.89, 0.7000000000000001, 0.8425, 0.89, 0.87, 0.895, 0.82, 0.71, 0.6299999999999999, 0.81, 0.75, 0.91, 0.7633333333333333, 0.82, 0.895, 0.65, 0.35, 0.75, 0.87, 0.85, 0.895, 0.7749999999999999, 0.6, 0.8, 0.6, 0.8666666666666667, 0.8753846153846152, 0.8442857142857143, 0.53, 0.6, 0.95, 0.515, 0.86, 0.9333333333333332, 0.85, 0.7, 0.65, 0.82, 0.72, 0.8828571428571429, 0.8779999999999999, 0.89, 0.7, 0.6, 0.52, 0.87, 0.875, 0.15, 0.61, 0.89, 0.8407142857142859, 0.8433333333333333, 0.9, 0.78, 0.89, 0.7324999999999999, 0.765, 0.73, 0.785, 0.75, 0.85, 0.7485714285714288, 0.85, 0.44, 0.6, 0.68, 0.71, 0.81, 0.85, 0.663, 0.8559259259259258, 0.65, 0.7933333333333333, 0.8166666666666667, 0.9, 0.915, 0.9, 0.85, 0.5376923076923077, 0.005, 0.74, 0.5666666666666667, 0.9034210526315791, 0.7434999999999999, 0.875, 0.65, 0.8566666666666668, 0.7474999999999999, 0.79, 0.73, 0.5066666666666667, 0.8966666666666666, 0.835, 0.5599999999999999, 0.8257142857142856, 0.75, 0.845, 0.9566666666666667, 0.71, 0.7799999999999999, 0.876, 0.73, 0.66, 0.62, 0.8833333333333334, 0.9166666666666666, 0.9, 0.9, 0.7949999999999999, 0.7324999999999999, 0.8333333333333335, 0.6, 0.7, 0.875, 0.8266666666666667, 0.7166666666666668, 0.8366666666666666, 0.825, 0.95, 0.915, 0.7599999999999999, 0.8, 0.73, 1.0, 0.835, 0.75, 0.8200000000000001, 0.71, 0.85, 0.85, 0.86, 0.829310344827586, 0.8626315789473684, 0.9149999999999999, 0.835, 0.8, 0.85, 0.65, 0.3, 0.8, 0.9, 0.9299999999999999, 0.9, 0.86, 0.21, 0.5683333333333332, 0.75, 0.8999999999999999, 0.8522222222222222, 0.8775, 0.6599999999999999, 0.785, 0.8575, 0.75, 0.75, 0.88, 0.8, 0.7999999999999999, 0.85, 0.84, 0.97, 0.6900000000000001, 0.73, 0.7, 0.86, 0.675, 0.8, 0.5, 0.6, 0.6, 0.895, 0.855, 0.7, 0.91, 0.7914285714285715, 0.77, 0.865, 0.5, 0.81, 0.875, 0.87, 0.74, 0.83, 0.7400000000000001, 0.8366666666666666, 0.87, 0.96, 0.8, 0.7, 0.9199999999999999, 0.52, 0.81, 0.675, 0.8366666666666666, 0.9566666666666667, 0.8033333333333333, 0.77, 0.7, 0.7355555555555556, 0.79, 0.79, 0.76, 0.8355555555555556, 0.8925000000000001, 0.7916666666666666, 0.716, 0.705, 0.75, 0.8, 0.88, 0.95, 0.75, 0.725, 0.7608333333333334, 0.84, 0.8680000000000001, 0.6000000000000001, 0.9666666666666667, 0.658, 0.5, 0.785, 0.53, 0.7, 1.0, 0.75, 0.7, 0.05, 0.38000000000000006, 0.65, 0.85, 0.0, 0.41999999999999993, 0.875, 0.78, 0.61, 0.88, 0.8, 0.79, 0.575, 0.49, 0.7749999999999999, 0.6, 0.78, 0.7, 0.9, 0.56, 0.95, 0.75, 0.9, 0.97, 0.58, 0.7739999999999999, 0.91, 0.45, 0.75, 0.6, 0.91, 0.5, 0.7739285714285715, 0.8799999999999999, 0.718, 0.7124999999999999, 0.775, 0.9, 0.86, 0.6963636363636364, 0.7766666666666667, 0.6, 0.6, 0.975, 0.925, 0.85, 0.85, 1.0, 0.7242753623188409, 0.6525000000000001, 0.8, 0.7, 0.95, 0.7, 0.87, 0.8233333333333333, 0.53, 0.48, 0.8, 0.8, 0.87, 0.9, 1.0, 0.745, 0.742, 0.7, 0.8766666666666666, 0.8766666666666668, 0.9075, 0.95, 0.845, 0.7766666666666667, 0.96, 0.95, 0.6, 0.8540000000000001, 0.8088888888888889, 0.94, 0.77, 0.8049999999999999, 0.6833333333333332, 0.77, 1.0, 0.9, 0.8166666666666668, 0.83, 0.86, 0.93, 0.6666666666666669, 0.665, 0.83, 0.87875, 0.884, 1.0, 0.85, 0.93, 0.7840909090909091, 0.885, 0.8223809523809523, 0.82, 0.675, 0.92, 0.7600000000000001, 0.74, 0.95, 0.8893750000000001, 0.925, 0.9, 0.8875, 0.9, 0.7, 0.41333333333333333, 0.7, 0.611, 0.93, 0.7725, 0.312, 0.8, 1.0, 0.7266666666666666, 0.78, 1.0, 0.7166666666666667, 0.745, 0.95, 0.76, 0.9, 0.8548148148148148, 0.925, 0.75, 0.5475, 0.65, 0.45, 0.9, 0.95, 0.91, 0.78, 0.28600000000000003, 0.7, 0.85, 0.73, 0.32, 0.85, 0.8, 0.8, 0.7949999999999999, 0.775, 0.776, 0.84, 0.77, 0.68, 0.83, 0.7480000000000001, 0.64625, 0.8, 0.79, 0.85, 0.7494736842105263, 0.7, 0.8219999999999998, 0.7, 0.6, 0.72, 0.7883333333333334, 0.745, 0.7759999999999999, 0.87, 0.8614285714285714, 0.45, 0.8, 0.845, 0.8333333333333334, 0.85, 0.765, 0.5866666666666667, 0.6066666666666667, 0.86, 0.75, 0.785, 0.65, 0.9611111111111109, 0.732, 0.7, 0.7933333333333333, 0.84, 0.78, 0.75, 0.8833333333333333, 0.8033333333333332, 0.8527272727272728, 0.765, 0.8624999999999999, 0.89, 0.75, 0.7724324324324325, 0.8800000000000001, 0.92, 0.75, 0.83, 0.7, 0.75, 0.4, 0.78, 0.9, 0.86, 0.8, 0.7983333333333332, 0.9299999999999999, 0.08, 0.6775, 0.8, 1.0, 0.6972916666666662, 0.7424999999999999, 0.825, 0.7649999999999999, 0.6, 0.84, 0.68, 0.8500000000000001, 0.905, 0.765, 0.575, 0.7, 0.85, 0.925, 0.33, 0.22, 0.75, 0.975, 0.7555555555555555, 0.83, 0.8, 0.7, 0.8500000000000001, 0.855, 0.81, 1.0, 0.9271428571428569, 0.8699999999999999, 0.7466666666666667, 0.6, 0.9, 0.86, 0.9, 0.87, 0.8300000000000001, 0.875, 0.5750000000000001, 1.0, 0.875, 0.9362500000000002, 0.9833333333333334, 0.8039999999999999, 0.815, 0.9, 0.76, 0.95, 0.7863636363636364, 0.95, 0.8, 0.8, 0.7, 0.95, 0.6, 0.39, 0.21, 0.6, 0.8, 0.86, 0.638, 0.9, 0.76, 0.75, 0.0, 0.55, 0.6, 0.78, 0.7885714285714285, 0.7649999999999999, 0.8300000000000001, 0.89, 0.94, 0.425, 0.5800000000000001, 0.63, 0.85, 0.7630232558139534, 0.6319999999999999, 0.805, 0.915, 0.675, 0.435, 0.89, 0.5475, 0.86, 0.45999999999999996, 0.3, 0.9, 0.21, 0.84, 0.86, 0.875, 0.77, 0.4, 0.535, 0.7, 0.655, 0.63, 0.938, 0.81, 0.83, 0.85, 0.7125, 0.9266666666666667, 0.776, 0.4, 0.39, 0.8859999999999999, 0.8859999999999999, 0.7775862068965518, 0.8700000000000001, 0.83, 0.73, 0.7931249999999999, 0.6514285714285714, 0.65, 0.8, 0.77, 0.36, 0.5766666666666667, 0.74, 0.93, 0.8593999999999999, 0.7866666666666667, 0.75, 0.6775, 0.49, 0.73, 0.7533333333333333, 0.7, 0.975, 0.6555555555555556, 0.7, 0.87, 0.62, 0.81, 0.665, 0.8, 0.9, 0.75, 0.705, 0.8766666666666666, 0.74, 0.45, 0.815, 0.7185714285714285, 0.8560000000000001, 0.8175, 0.87, 0.83, 0.8, 0.7475, 0.8, 0.87, 0.65, 0.83, 0.7299999999999999, 0.8683333333333335, 0.61, 0.7, 0.7599999999999999, 0.67, 0.8427272727272729, 0.8, 0.8, 1.0, 0.95, 0.88, 0.92, 0.9, 0.735, 0.1, 0.6, 0.815, 0.86, 0.8879999999999999, 0.8624999999999999, 0.7, 0.82, 0.86, 0.7, 0.7166666666666667, 0.8865217391304349, 0.45, 0.7474999999999999, 0.825, 0.85, 0.93, 0.75, 0.44, 1.0, 0.8, 0.78, 0.9, 0.89, 0.7645454545454545, 0.6425, 0.55, 0.85, 0.65, 0.8, 0.55, 0.92, 0.7566666666666667, 0.8850000000000001, 0.6, 0.705, 0.95, 0.91, 0.9466666666666667, 0.89, 0.7081818181818182, 0.7925, 0.8966666666666666, 0.8640000000000001, 0.835, 0.59, 0.12, 0.8347058823529413, 0.6046153846153846, 0.95, 0.4833333333333334, 0.75, 0.06, 0.38, 0.63, 0.7, 0.7, 0.8, 0.85, 0.86, 0.57, 0.8833333333333333, 0.75, 0.8, 0.915, 0.8, 0.7, 0.73, 0.84, 0.41333333333333333, 0.36, 0.8000000000000002, 0.81, 0.85, 0.7, 0.8, 0.4, 0.66, 0.88, 0.3, 0.9, 0.68, 0.7825, 1.0, 0.975, 0.8, 0.81, 0.8, 0.65, 0.79, 1.0, 0.81, 0.7000000000000001, 0.96, 0.91, 0.7375, 0.9534999999999998, 0.7333333333333334, 0.78, 0.7, 0.79, 0.66, 0.9177777777777778, 0.8333333333333334, 0.76, 0.5, 0.99, 0.5, 0.78, 0.975, 0.77, 0.8009090909090909, 0.95, 0.874, 0.685, 0.9333333333333332, 0.75, 0.56, 0.65, 0.791111111111111, 0.73, 0.8733333333333332, 0.745, 0.7250000000000001, 0.56, 0.9199999999999999, 0.8, 0.8433333333333333, 0.75, 0.68, 0.675, 0.6930769230769231, 0.75, 0.6900000000000001, 0.91, 0.85, 0.74, 0.76, 0.885, 0.4, 0.8028571428571428, 0.9133333333333332, 0.79, 0.73, 0.42, 0.96, 0.99, 0.7227777777777779, 0.17500000000000002, 0.95, 0.86, 0.7333333333333334, 0.3277777777777777, 0.67, 0.94, 0.504, 0.835, 0.83, 0.8685714285714285, 0.77, 0.75, 0.8500000000000001, 0.49, 0.8999999999999999, 0.825, 0.7, 0.72, 0.68, 0.7, 0.75, 0.7937037037037037, 0.79, 0.77, 0.04, 0.5, 0.87, 0.965, 0.89, 0.8733333333333333, 0.925, 0.3, 0.9, 0.5, 0.6749999999999999, 0.89, 0.8009708737864082, 0.8374999999999999, 0.815, 0.8250000000000001, 0.4666666666666666, 0.9, 0.8, 0.8300000000000001, 0.75, 0.74, 0.7, 0.85, 0.965, 0.788709677419355, 0.93, 0.75, 0.98, 0.94, 0.91, 0.59, 0.7485714285714283, 0.8575, 0.8221428571428572, 0.7300000000000001, 0.8999999999999999, 0.8200000000000001, 0.8, 0.8378947368421051, 0.875, 0.675, 0.73, 0.6, 0.67, 0.725, 0.86, 0.8, 0.7836150234741787, 0.6475, 0.76, 0.79, 0.79, 0.8424999999999999, 0.77, 0.87, 0.9, 0.9099999999999999, 0.8, 0.74, 1.0, 0.9, 0.8033333333333333, 0.4, 0.87, 0.92, 0.57, 0.7, 0.94, 0.79, 0.8115789473684212, 0.75, 0.9, 0.9, 0.8083333333333335, 0.8224999999999999, 0.75, 0.9, 0.65, 0.925, 0.87, 0.87, 0.75, 0.7, 0.8075, 0.7800000000000001, 0.9524999999999999, 0.925, 0.93, 0.8, 0.95, 0.85, 0.8066666666666666, 0.98, 0.625, 0.44, 0.95, 0.78, 0.7016666666666667, 0.98, 0.775, 0.7475, 0.6, 0.68, 0.9049999999999999, 0.7466666666666667, 0.75, 0.8, 0.91, 0.98, 0.6, 0.54, 0.6675, 0.74, 0.65, 0.8049999999999999, 0.83, 0.7430434782608696, 0.885, 0.7733333333333333, 0.5, 0.79, 0.9, 0.65, 0.84, 0.81, 0.4, 0.7775, 0.9121428571428571, 0.8799999999999999, 0.88, 0.7833333333333332, 0.8633333333333333, 0.5233333333333333, 0.95, 0.88, 0.8, 0.95, 0.45, 0.8833333333333334, 0.395, 0.95, 0.85, 0.81, 0.81, 0.933, 0.8300000000000001, 0.875, 0.6, 0.4, 0.73375, 0.8999999999999999, 0.9333333333333332, 0.8666666666666666, 0.8030000000000002, 0.7525000000000001, 0.96, 0.89, 0.8, 0.4, 0.842, 0.7174999999999999, 0.28, 0.5, 0.96, 0.75, 0.84, 0.8, 0.9550000000000001, 0.7, 0.8781632653061227, 0.6475, 0.77, 0.8, 0.7, 0.45, 0.8020000000000002, 0.875, 0.8500000000000001, 0.65, 0.73, 0.72, 0.605, 0.72, 0.9, 0.8, 0.91, 0.86, 0.88, 0.8, 0.7, 0.62, 0.7, 0.9, 0.7, 0.95, 1.0, 0.45999999999999996, 0.4, 0.57, 0.77, 0.98, 0.8508823529411762, 0.7787499999999999, 0.84, 0.828421052631579, 0.7580000000000001, 0.96, 0.71, 0.935, 0.87, 0.9528571428571428, 0.72, 0.7849999999999999, 0.69, 0.39, 0.85, 0.8725, 0.825, 0.7266666666666666, 0.775, 0.9199999999999999, 0.9133333333333334, 0.77, 0.87, 0.6, 0.7949999999999999, 0.85, 0.85, 0.82, 0.76, 0.82, 0.71, 0.73, 0.61, 0.8858441558441555, 0.8243333333333335, 0.335, 0.7675, 0.9075, 0.77, 0.8, 0.825, 0.8269696969696966, 0.9325, 0.88, 0.7242857142857143, 0.7400000000000001, 0.75, 0.89, 0.64, 0.85, 0.85, 0.95, 0.8666666666666666, 0.65, 0.92, 0.75, 0.33, 0.79, 0.2, 0.87, 0.65, 0.7, 0.89375, 0.895, 0.7266666666666666, 0.8, 0.94, 0.7262500000000001, 0.7599999999999999, 1.0, 0.79, 0.75, 0.97, 0.575, 0.7072222222222223, 0.5966666666666666, 0.8, 0.9657142857142856, 1.0, 0.7675000000000001, 0.7749999999999999, 0.595, 0.7888888888888889, 0.84, 0.9, 0.75, 0.8954761904761904, 0.32, 0.48333333333333334, 0.9266666666666667, 0.8733333333333334, 0.585, 0.82, 0.95, 0.745, 0.9, 0.6933333333333334, 0.8166666666666668, 0.75, 0.688157894736842, 0.5349999999999999, 0.6, 0.8, 0.75, 0.48, 0.9149999999999999, 0.77, 0.7928571428571428, 0.9, 0.8, 0.725, 0.815, 0.8311538461538462, 0.7779999999999999, 0.52, 0.9, 0.92, 0.84, 1.0, 0.9075, 0.8779999999999999, 0.67, 0.35, 0.75, 0.74, 0.845, 0.765, 0.6, 0.8, 0.8, 0.8675, 0.88, 0.9, 0.9, 0.97, 0.8, 0.7, 0.7981818181818183, 0.775, 0.787, 0.65, 0.8, 0.78, 0.88, 0.7366666666666667, 0.95, 0.5885714285714286, 0.87, 0.6, 0.74, 0.78, 0.8705882352941174, 0.9225, 0.924, 0.88375, 0.6499999999999999, 0.91, 0.98, 0.76, 0.666, 0.8400000000000001, 0.86125, 0.85, 0.83, 0.8, 0.7, 0.8, 0.7450000000000001, 0.95, 0.8, 0.75, 0.78, 0.815, 0.7150000000000001, 0.65, 0.66, 0.935, 0.8, 0.8200000000000001, 0.8, 0.8554545454545456, 0.5, 0.75, 0.88, 0.67, 0.52, 0.89, 0.95, 0.8, 0.9179999999999999, 0.79, 0.8524999999999999, 0.745, 0.9, 0.99, 0.54, 0.7493750000000001, 0.59, 0.9500000000000001, 0.8116666666666666, 0.8, 0.77, 0.8283333333333333, 0.95, 0.6, 0.8300000000000001, 0.9033333333333333, 0.67, 0.7, 1.0, 0.9, 0.85, 0.81, 0.65, 0.8, 0.8566666666666668, 0.7625000000000001, 0.85, 0.9199999999999999, 0.83, 0.6, 0.7, 0.8675, 0.9, 0.64, 0.95, 0.64, 0.8154166666666667, 0.99, 0.6, 0.7, 0.725, 0.74, 1.0, 0.9, 0.75, 0.81, 0.88, 0.6, 0.8, 0.835, 0.7200000000000001, 1.0, 0.585, 0.2833333333333333, 0.825, 0.81, 0.91, 0.81, 0.7289999999999999, 0.6925, 0.8049999999999999, 0.82, 0.8, 0.79, 0.61, 0.8833333333333333, 0.74, 0.8557142857142858, 0.8958333333333334, 0.8, 0.8355, 0.42300000000000004, 0.75, 0.875, 0.96, 0.635, 0.7683333333333332, 0.8578571428571429, 0.8184615384615384, 0.1, 0.81, 0.74, 0.64, 0.8, 0.7208333333333333, 0.7858333333333333, 0.8780000000000001, 0.47500000000000003, 0.63, 0.6333333333333334, 0.508, 0.7650000000000001, 0.55, 0.8938059701492538, 0.789, 0.7907575757575757, 0.7066666666666667, 0.4, 0.975, 0.97, 0.63, 0.85, 0.788, 0.8, 0.54, 0.825, 0.8616666666666667, 0.8447058823529412, 0.9, 0.8049999999999999, 0.807142857142857, 0.975, 0.6441463414634144, 0.7485714285714286, 0.7461538461538463, 0.72, 0.7045454545454546, 0.6, 0.7283333333333332, 0.72, 0.8475, 0.9, 0.81, 0.75, 0.75, 0.47, 0.97, 0.665, 0.8, 0.75, 0.7, 0.5, 0.74, 0.794, 0.9, 0.6, 1.0, 0.7, 0.75, 0.9199999999999999, 0.6950000000000001, 0.9, 0.875, 0.8, 0.737142857142857, 0.7033333333333333, 0.725, 0.6749999999999999, 0.8, 0.2, 0.8640000000000001, 0.87, 0.28769230769230775, 0.7725, 0.6, 0.8052941176470589, 0.4, 0.7199999999999999, 0.8066666666666666, 0.7969230769230771, 0.81, 0.6950000000000001, 0.95, 0.8466666666666667, 0.9466666666666667, 0.9, 0.235, 0.76, 0.75, 0.84, 0.925, 0.8516666666666666, 0.85, 0.93, 0.76, 0.8875, 0.185, 0.49, 0.6499999999999999, 0.7, 0.79, 0.76, 0.875, 0.8566666666666668, 0.26, 0.855, 0.92, 0.6266666666666666, 0.94, 0.89, 0.73, 0.85, 0.93, 0.7966666666666667, 0.6833333333333332, 0.94, 0.7819999999999999, 0.89125, 0.8, 0.745, 0.75, 0.8667647058823529, 0.5208333333333334, 0.9914285714285713, 0.81, 0.8125, 0.84, 0.72, 0.75, 0.93, 0.58, 0.87, 0.8866666666666667, 0.675, 0.7333333333333334, 0.8833333333333333, 0.7, 0.9, 0.76, 0.585, 0.8933333333333332, 0.63, 0.75, 0.7949999999999999, 0.5957142857142859, 0.6666666666666666, 0.78, 0.8625, 0.8, 0.7975000000000001, 0.726, 0.8666666666666667, 0.55, 0.8, 0.95, 0.85, 0.8, 0.85, 0.8975, 0.6, 0.7, 0.85, 0.9, 0.6333333333333334, 0.735, 0.91, 0.96, 0.9161538461538459, 0.7400000000000001, 0.775, 0.71, 0.8200000000000001, 0.95, 0.9, 0.7994117647058824, 0.88, 0.6499999999999999, 0.9, 0.9233333333333333, 0.6733333333333333, 0.17, 0.33, 0.7, 0.7649999999999999, 0.6000000000000001, 0.39999999999999997, 0.9325, 0.84, 0.4, 0.49, 0.83, 0.82, 0.7, 0.6988073394495412, 0.74875, 0.95, 0.96, 0.78, 0.85, 0.9, 0.8, 0.96, 0.78, 0.50625, 0.7, 0.95, 0.91, 0.8200000000000001, 0.32, 0.15333333333333332, 0.79, 0.89, 0.795, 0.9400000000000001, 0.87, 0.8704545454545456, 0.75, 0.7649999999999999, 0.82, 0.86, 0.9, 0.74, 0.6, 0.7, 0.35, 0.89, 0.88, 1.0, 0.95, 0.7833333333333333, 0.86, 0.94, 0.77, 0.85, 0.8, 0.6950000000000001, 0.6866666666666666, 0.772, 0.8, 0.95, 0.5166666666666667, 0.86, 0.8923076923076921, 0.7871428571428571, 0.9, 0.78, 0.9022222222222224, 0.8233333333333334, 0.6466666666666666, 0.69, 0.875, 0.6987499999999999, 0.75, 0.77, 0.8275000000000001, 0.7, 0.8, 0.76, 0.7, 0.44999999999999996, 0.595, 0.78, 0.8000000000000002, 0.7849999999999999, 0.83, 0.69, 0.66, 0.86, 0.6925, 0.835, 0.25, 0.7033333333333333, 0.7, 0.74, 0.6466666666666666, 0.93, 0.9, 0.46, 0.895, 0.88, 0.75, 0.5533333333333333, 0.6, 0.845, 0.6, 0.7742105263157896, 0.8, 0.775, 0.92, 0.75, 0.8200000000000001, 0.9, 0.5, 0.458, 0.3, 0.8, 0.5, 0.709, 0.7825, 0.8919999999999998, 0.87125, 0.87, 0.7979487179487179, 0.8550000000000001, 0.75, 0.79, 0.64, 0.7, 0.85, 1.0, 0.96, 0.875, 0.785, 0.3, 0.82, 0.7075, 0.9066666666666667, 0.93, 0.85, 0.8999999999999999, 0.6559999999999999, 0.95, 0.8, 0.9199999999999999, 0.807, 0.7491666666666666, 0.97, 0.83, 0.355, 0.6533333333333333, 0.65, 0.9199999999999999, 0.8448148148148149, 0.88, 0.898, 0.785, 0.8233333333333333, 0.9164705882352943, 0.8354666666666666, 0.7639999999999999, 0.7220833333333335, 0.7292198581560282, 0.7858536585365855, 0.7775000000000001, 0.7748684210526315, 0.6849999999999999, 0.7264705882352941, 0.831891891891892, 0.8063636363636365, 0.8250000000000001, 0.3, 0.89, 0.8333333333333334, 0.8200000000000001, 0.825, 0.32, 0.79, 0.5, 0.95, 0.8255737704918028, 0.8442857142857143, 0.8194444444444444, 0.725, 0.7575000000000001, 0.75, 0.72, 0.6775, 0.7929999999999999, 0.9, 0.8, 0.525, 0.6, 0.75, 0.6439999999999999, 0.736, 1.0, 0.8242268041237114, 0.7916, 0.8684999999999998, 0.87, 0.868, 0.7592105263157896, 0.94, 0.7197222222222222, 0.8109090909090909, 0.8166666666666668, 0.95, 0.685, 0.7, 0.15, 0.914, 0.71, 0.7495652173913044, 0.9175000000000001, 0.85, 0.8049999999999999, 0.30000000000000004, 0.6842857142857143, 0.91, 0.8137500000000001, 0.7, 0.718, 0.895, 0.7362500000000001, 0.79, 0.7866666666666667, 0.6763636363636363, 0.7485714285714284, 0.55, 0.9133333333333332, 0.75, 0.7775000000000001, 0.8566666666666668, 0.95, 0.825, 0.78, 0.9, 0.7795652173913044, 0.8675, 0.79, 0.87, 0.6, 0.89, 0.15, 0.8257142857142857, 0.425, 0.6743750000000001, 0.86, 0.7042857142857144, 0.79, 0.78, 0.8135714285714286, 0.88, 0.7, 0.794375, 0.8500000000000001, 0.79, 0.7736842105263159, 0.745, 0.6766666666666667, 0.8528571428571426, 0.7985714285714287, 0.8228571428571428, 0.62, 0.84, 0.89, 0.9466666666666667, 0.7025, 0.6072839506172838, 0.71, 0.8560000000000001, 0.8014285714285714, 0.8434959349593496, 0.8190624999999999, 0.75, 0.87, 0.8361904761904763, 0.785, 0.8216666666666667, 0.57, 0.6999999999999998, 0.9550000000000001, 0.9, 0.96, 0.875, 0.9, 0.8525, 0.7, 0.785, 0.7999999999999999, 0.8863636363636364, 0.8029357798165141, 0.775, 0.835, 0.713076923076923, 0.7, 0.52, 0.875, 0.884, 0.735, 0.55, 0.9, 0.9425, 0.8363636363636363, 0.82, 0.8461627906976744, 0.885, 0.829375, 0.94, 0.8275, 0.65, 0.875, 0.8815, 0.46699999999999997, 0.35, 0.8500000000000001, 0.94, 0.75, 0.7124418604651162, 0.69, 0.81, 0.8630769230769231, 0.82, 0.65, 0.6950000000000001, 0.82, 0.7428571428571428, 0.8266666666666668, 0.95, 0.8248571428571426, 0.7966666666666665, 0.7933333333333334, 0.8999999999999999, 0.8372413793103448, 0.8999999999999999, 0.7, 0.6, 0.91, 0.74, 0.5, 0.8, 0.88, 0.8300000000000001, 0.82, 0.6131428571428573, 0.6, 0.8020289855072463, 0.73, 0.915, 0.7666666666666666, 0.05, 0.8500000000000001, 0.3, 0.98, 0.752, 0.92, 0.65, 0.75, 0.8375, 0.6949999999999998, 0.742, 0.6475, 0.87, 0.6269999999999999, 0.035, 0.06, 0.93, 0.8274999999999999, 0.35, 0.6166666666666666, 0.7886065573770498, 0.7399999999999999, 0.8666666666666667, 0.8266666666666667, 0.85, 0.5, 0.83, 0.8, 0.7, 0.853333333333333, 0.7771428571428572, 0.89, 0.815, 0.893181818181818, 0.718692810457516, 0.8000000000000002, 0.7, 0.8071428571428572, 0.8023076923076923, 0.7966666666666667, 0.85, 0.873, 0.6666666666666666, 0.8882142857142856, 0.7257142857142858, 0.4788888888888889, 0.7150000000000001, 0.646, 0.8267857142857142, 0.6699999999999999, 0.88, 0.8166666666666668], \"xbins\": {\"end\": 1, \"size\": 0.05, \"start\": 0}}],\n",
       "                        {\"template\": {\"data\": {\"bar\": [{\"error_x\": {\"color\": \"#2a3f5f\"}, \"error_y\": {\"color\": \"#2a3f5f\"}, \"marker\": {\"line\": {\"color\": \"#E5ECF6\", \"width\": 0.5}}, \"type\": \"bar\"}], \"barpolar\": [{\"marker\": {\"line\": {\"color\": \"#E5ECF6\", \"width\": 0.5}}, \"type\": \"barpolar\"}], \"carpet\": [{\"aaxis\": {\"endlinecolor\": \"#2a3f5f\", \"gridcolor\": \"white\", \"linecolor\": \"white\", \"minorgridcolor\": \"white\", \"startlinecolor\": \"#2a3f5f\"}, \"baxis\": {\"endlinecolor\": \"#2a3f5f\", \"gridcolor\": \"white\", \"linecolor\": \"white\", \"minorgridcolor\": \"white\", \"startlinecolor\": \"#2a3f5f\"}, \"type\": \"carpet\"}], \"choropleth\": [{\"colorbar\": {\"outlinewidth\": 0, \"ticks\": \"\"}, \"type\": \"choropleth\"}], \"contour\": [{\"colorbar\": {\"outlinewidth\": 0, \"ticks\": \"\"}, \"colorscale\": [[0.0, \"#0d0887\"], [0.1111111111111111, \"#46039f\"], [0.2222222222222222, \"#7201a8\"], [0.3333333333333333, \"#9c179e\"], [0.4444444444444444, \"#bd3786\"], [0.5555555555555556, \"#d8576b\"], [0.6666666666666666, \"#ed7953\"], [0.7777777777777778, \"#fb9f3a\"], [0.8888888888888888, \"#fdca26\"], [1.0, \"#f0f921\"]], \"type\": \"contour\"}], \"contourcarpet\": [{\"colorbar\": {\"outlinewidth\": 0, \"ticks\": \"\"}, \"type\": \"contourcarpet\"}], \"heatmap\": [{\"colorbar\": {\"outlinewidth\": 0, \"ticks\": \"\"}, \"colorscale\": [[0.0, \"#0d0887\"], [0.1111111111111111, \"#46039f\"], [0.2222222222222222, \"#7201a8\"], [0.3333333333333333, \"#9c179e\"], [0.4444444444444444, \"#bd3786\"], [0.5555555555555556, \"#d8576b\"], [0.6666666666666666, \"#ed7953\"], [0.7777777777777778, \"#fb9f3a\"], [0.8888888888888888, \"#fdca26\"], [1.0, \"#f0f921\"]], \"type\": \"heatmap\"}], \"heatmapgl\": [{\"colorbar\": {\"outlinewidth\": 0, \"ticks\": \"\"}, \"colorscale\": [[0.0, \"#0d0887\"], [0.1111111111111111, \"#46039f\"], [0.2222222222222222, \"#7201a8\"], [0.3333333333333333, \"#9c179e\"], [0.4444444444444444, \"#bd3786\"], [0.5555555555555556, \"#d8576b\"], [0.6666666666666666, \"#ed7953\"], [0.7777777777777778, \"#fb9f3a\"], [0.8888888888888888, \"#fdca26\"], [1.0, \"#f0f921\"]], \"type\": \"heatmapgl\"}], \"histogram\": [{\"marker\": {\"colorbar\": {\"outlinewidth\": 0, \"ticks\": \"\"}}, \"type\": \"histogram\"}], \"histogram2d\": [{\"colorbar\": {\"outlinewidth\": 0, \"ticks\": \"\"}, \"colorscale\": [[0.0, \"#0d0887\"], [0.1111111111111111, \"#46039f\"], [0.2222222222222222, \"#7201a8\"], [0.3333333333333333, \"#9c179e\"], [0.4444444444444444, \"#bd3786\"], [0.5555555555555556, \"#d8576b\"], [0.6666666666666666, \"#ed7953\"], [0.7777777777777778, \"#fb9f3a\"], [0.8888888888888888, \"#fdca26\"], [1.0, \"#f0f921\"]], \"type\": \"histogram2d\"}], \"histogram2dcontour\": [{\"colorbar\": {\"outlinewidth\": 0, \"ticks\": \"\"}, \"colorscale\": [[0.0, \"#0d0887\"], [0.1111111111111111, \"#46039f\"], [0.2222222222222222, \"#7201a8\"], [0.3333333333333333, \"#9c179e\"], [0.4444444444444444, \"#bd3786\"], [0.5555555555555556, \"#d8576b\"], [0.6666666666666666, \"#ed7953\"], [0.7777777777777778, \"#fb9f3a\"], [0.8888888888888888, \"#fdca26\"], [1.0, \"#f0f921\"]], \"type\": \"histogram2dcontour\"}], \"mesh3d\": [{\"colorbar\": {\"outlinewidth\": 0, \"ticks\": \"\"}, \"type\": \"mesh3d\"}], \"parcoords\": [{\"line\": {\"colorbar\": {\"outlinewidth\": 0, \"ticks\": \"\"}}, \"type\": \"parcoords\"}], \"scatter\": [{\"marker\": {\"colorbar\": {\"outlinewidth\": 0, \"ticks\": \"\"}}, \"type\": \"scatter\"}], \"scatter3d\": [{\"line\": {\"colorbar\": {\"outlinewidth\": 0, \"ticks\": \"\"}}, \"marker\": {\"colorbar\": {\"outlinewidth\": 0, \"ticks\": \"\"}}, \"type\": \"scatter3d\"}], \"scattercarpet\": [{\"marker\": {\"colorbar\": {\"outlinewidth\": 0, \"ticks\": \"\"}}, \"type\": \"scattercarpet\"}], \"scattergeo\": [{\"marker\": {\"colorbar\": {\"outlinewidth\": 0, \"ticks\": \"\"}}, \"type\": \"scattergeo\"}], \"scattergl\": [{\"marker\": {\"colorbar\": {\"outlinewidth\": 0, \"ticks\": \"\"}}, \"type\": \"scattergl\"}], \"scattermapbox\": [{\"marker\": {\"colorbar\": {\"outlinewidth\": 0, \"ticks\": \"\"}}, \"type\": \"scattermapbox\"}], \"scatterpolar\": [{\"marker\": {\"colorbar\": {\"outlinewidth\": 0, \"ticks\": \"\"}}, \"type\": \"scatterpolar\"}], \"scatterpolargl\": [{\"marker\": {\"colorbar\": {\"outlinewidth\": 0, \"ticks\": \"\"}}, \"type\": \"scatterpolargl\"}], \"scatterternary\": [{\"marker\": {\"colorbar\": {\"outlinewidth\": 0, \"ticks\": \"\"}}, \"type\": \"scatterternary\"}], \"surface\": [{\"colorbar\": {\"outlinewidth\": 0, \"ticks\": \"\"}, \"colorscale\": [[0.0, \"#0d0887\"], [0.1111111111111111, \"#46039f\"], [0.2222222222222222, \"#7201a8\"], [0.3333333333333333, \"#9c179e\"], [0.4444444444444444, \"#bd3786\"], [0.5555555555555556, \"#d8576b\"], [0.6666666666666666, \"#ed7953\"], [0.7777777777777778, \"#fb9f3a\"], [0.8888888888888888, \"#fdca26\"], [1.0, \"#f0f921\"]], \"type\": \"surface\"}], \"table\": [{\"cells\": {\"fill\": {\"color\": \"#EBF0F8\"}, \"line\": {\"color\": \"white\"}}, \"header\": {\"fill\": {\"color\": \"#C8D4E3\"}, \"line\": {\"color\": \"white\"}}, \"type\": \"table\"}]}, \"layout\": {\"annotationdefaults\": {\"arrowcolor\": \"#2a3f5f\", \"arrowhead\": 0, \"arrowwidth\": 1}, \"colorscale\": {\"diverging\": [[0, \"#8e0152\"], [0.1, \"#c51b7d\"], [0.2, \"#de77ae\"], [0.3, \"#f1b6da\"], [0.4, \"#fde0ef\"], [0.5, \"#f7f7f7\"], [0.6, \"#e6f5d0\"], [0.7, \"#b8e186\"], [0.8, \"#7fbc41\"], [0.9, \"#4d9221\"], [1, \"#276419\"]], \"sequential\": [[0.0, \"#0d0887\"], [0.1111111111111111, \"#46039f\"], [0.2222222222222222, \"#7201a8\"], [0.3333333333333333, \"#9c179e\"], [0.4444444444444444, \"#bd3786\"], [0.5555555555555556, \"#d8576b\"], [0.6666666666666666, \"#ed7953\"], [0.7777777777777778, \"#fb9f3a\"], [0.8888888888888888, \"#fdca26\"], [1.0, \"#f0f921\"]], \"sequentialminus\": [[0.0, \"#0d0887\"], [0.1111111111111111, \"#46039f\"], [0.2222222222222222, \"#7201a8\"], [0.3333333333333333, \"#9c179e\"], [0.4444444444444444, \"#bd3786\"], [0.5555555555555556, \"#d8576b\"], [0.6666666666666666, \"#ed7953\"], [0.7777777777777778, \"#fb9f3a\"], [0.8888888888888888, \"#fdca26\"], [1.0, \"#f0f921\"]]}, \"colorway\": [\"#636efa\", \"#EF553B\", \"#00cc96\", \"#ab63fa\", \"#FFA15A\", \"#19d3f3\", \"#FF6692\", \"#B6E880\", \"#FF97FF\", \"#FECB52\"], \"font\": {\"color\": \"#2a3f5f\"}, \"geo\": {\"bgcolor\": \"white\", \"lakecolor\": \"white\", \"landcolor\": \"#E5ECF6\", \"showlakes\": true, \"showland\": true, \"subunitcolor\": \"white\"}, \"hoverlabel\": {\"align\": \"left\"}, \"hovermode\": \"closest\", \"mapbox\": {\"style\": \"light\"}, \"paper_bgcolor\": \"white\", \"plot_bgcolor\": \"#E5ECF6\", \"polar\": {\"angularaxis\": {\"gridcolor\": \"white\", \"linecolor\": \"white\", \"ticks\": \"\"}, \"bgcolor\": \"#E5ECF6\", \"radialaxis\": {\"gridcolor\": \"white\", \"linecolor\": \"white\", \"ticks\": \"\"}}, \"scene\": {\"xaxis\": {\"backgroundcolor\": \"#E5ECF6\", \"gridcolor\": \"white\", \"gridwidth\": 2, \"linecolor\": \"white\", \"showbackground\": true, \"ticks\": \"\", \"zerolinecolor\": \"white\"}, \"yaxis\": {\"backgroundcolor\": \"#E5ECF6\", \"gridcolor\": \"white\", \"gridwidth\": 2, \"linecolor\": \"white\", \"showbackground\": true, \"ticks\": \"\", \"zerolinecolor\": \"white\"}, \"zaxis\": {\"backgroundcolor\": \"#E5ECF6\", \"gridcolor\": \"white\", \"gridwidth\": 2, \"linecolor\": \"white\", \"showbackground\": true, \"ticks\": \"\", \"zerolinecolor\": \"white\"}}, \"shapedefaults\": {\"line\": {\"color\": \"#2a3f5f\"}}, \"ternary\": {\"aaxis\": {\"gridcolor\": \"white\", \"linecolor\": \"white\", \"ticks\": \"\"}, \"baxis\": {\"gridcolor\": \"white\", \"linecolor\": \"white\", \"ticks\": \"\"}, \"bgcolor\": \"#E5ECF6\", \"caxis\": {\"gridcolor\": \"white\", \"linecolor\": \"white\", \"ticks\": \"\"}}, \"title\": {\"x\": 0.05}, \"xaxis\": {\"automargin\": true, \"gridcolor\": \"white\", \"linecolor\": \"white\", \"ticks\": \"\", \"zerolinecolor\": \"white\", \"zerolinewidth\": 2}, \"yaxis\": {\"automargin\": true, \"gridcolor\": \"white\", \"linecolor\": \"white\", \"ticks\": \"\", \"zerolinecolor\": \"white\", \"zerolinewidth\": 2}}}, \"title\": {\"text\": \"Score Distribution\"}, \"xaxis\": {\"title\": {\"text\": \"Score\"}}},\n",
       "                        {\"responsive\": true}\n",
       "                    ).then(function(){\n",
       "                            \n",
       "var gd = document.getElementById('466f5d08-8a18-4b31-ac42-0b18565f566b');\n",
       "var x = new MutationObserver(function (mutations, observer) {{\n",
       "        var display = window.getComputedStyle(gd).display;\n",
       "        if (!display || display === 'none') {{\n",
       "            console.log([gd, 'removed!']);\n",
       "            Plotly.purge(gd);\n",
       "            observer.disconnect();\n",
       "        }}\n",
       "}});\n",
       "\n",
       "// Listen for the removal of the full notebook cells\n",
       "var notebookContainer = gd.closest('#notebook-container');\n",
       "if (notebookContainer) {{\n",
       "    x.observe(notebookContainer, {childList: true});\n",
       "}}\n",
       "\n",
       "// Listen for the clearing of the current output cell\n",
       "var outputEl = gd.closest('.output');\n",
       "if (outputEl) {{\n",
       "    x.observe(outputEl, {childList: true});\n",
       "}}\n",
       "\n",
       "                        })\n",
       "                };\n",
       "                });\n",
       "            </script>\n",
       "        </div>"
      ]
     },
     "metadata": {},
     "output_type": "display_data"
    }
   ],
   "source": [
    "data_plot = go.Histogram(\n",
    "            x=data.groupby('band').agg({'score':'mean'}).reset_index()['score'],\n",
    "            xbins=dict(\n",
    "                      start=0,\n",
    "                      end=1,\n",
    "                      size=0.05),\n",
    "                      autobinx=False\n",
    ")\n",
    "\n",
    "\n",
    "layout = go.Layout(\n",
    "    title='Score Distribution',\n",
    "    xaxis=dict(title='Score')    \n",
    ")\n",
    "\n",
    "fig = go.Figure(data=data_plot, layout=layout)\n",
    "\n",
    "py.iplot(fig)"
   ]
  },
  {
   "cell_type": "code",
   "execution_count": 162,
   "metadata": {},
   "outputs": [
    {
     "data": {
      "application/vnd.plotly.v1+json": {
       "config": {
        "linkText": "Export to plot.ly",
        "plotlyServerURL": "https://plot.ly",
        "showLink": false
       },
       "data": [
        {
         "text": [
          0.792,
          0.792,
          0.815,
          0.771,
          0.632,
          0.771
         ],
         "textposition": "outside",
         "type": "bar",
         "x": [
          "Black/Death Metal",
          "Death Metal",
          "Doom/Death Metal",
          "Other Genre",
          "Symphonic Death Metal",
          "Thrash/Death Metal"
         ],
         "y": [
          0.7920903954802271,
          0.792289742343217,
          0.814901574803155,
          0.7706990532657425,
          0.6323684210526316,
          0.7709193548387139
         ]
        }
       ],
       "layout": {
        "template": {
         "data": {
          "bar": [
           {
            "error_x": {
             "color": "#2a3f5f"
            },
            "error_y": {
             "color": "#2a3f5f"
            },
            "marker": {
             "line": {
              "color": "#E5ECF6",
              "width": 0.5
             }
            },
            "type": "bar"
           }
          ],
          "barpolar": [
           {
            "marker": {
             "line": {
              "color": "#E5ECF6",
              "width": 0.5
             }
            },
            "type": "barpolar"
           }
          ],
          "carpet": [
           {
            "aaxis": {
             "endlinecolor": "#2a3f5f",
             "gridcolor": "white",
             "linecolor": "white",
             "minorgridcolor": "white",
             "startlinecolor": "#2a3f5f"
            },
            "baxis": {
             "endlinecolor": "#2a3f5f",
             "gridcolor": "white",
             "linecolor": "white",
             "minorgridcolor": "white",
             "startlinecolor": "#2a3f5f"
            },
            "type": "carpet"
           }
          ],
          "choropleth": [
           {
            "colorbar": {
             "outlinewidth": 0,
             "ticks": ""
            },
            "type": "choropleth"
           }
          ],
          "contour": [
           {
            "colorbar": {
             "outlinewidth": 0,
             "ticks": ""
            },
            "colorscale": [
             [
              0,
              "#0d0887"
             ],
             [
              0.1111111111111111,
              "#46039f"
             ],
             [
              0.2222222222222222,
              "#7201a8"
             ],
             [
              0.3333333333333333,
              "#9c179e"
             ],
             [
              0.4444444444444444,
              "#bd3786"
             ],
             [
              0.5555555555555556,
              "#d8576b"
             ],
             [
              0.6666666666666666,
              "#ed7953"
             ],
             [
              0.7777777777777778,
              "#fb9f3a"
             ],
             [
              0.8888888888888888,
              "#fdca26"
             ],
             [
              1,
              "#f0f921"
             ]
            ],
            "type": "contour"
           }
          ],
          "contourcarpet": [
           {
            "colorbar": {
             "outlinewidth": 0,
             "ticks": ""
            },
            "type": "contourcarpet"
           }
          ],
          "heatmap": [
           {
            "colorbar": {
             "outlinewidth": 0,
             "ticks": ""
            },
            "colorscale": [
             [
              0,
              "#0d0887"
             ],
             [
              0.1111111111111111,
              "#46039f"
             ],
             [
              0.2222222222222222,
              "#7201a8"
             ],
             [
              0.3333333333333333,
              "#9c179e"
             ],
             [
              0.4444444444444444,
              "#bd3786"
             ],
             [
              0.5555555555555556,
              "#d8576b"
             ],
             [
              0.6666666666666666,
              "#ed7953"
             ],
             [
              0.7777777777777778,
              "#fb9f3a"
             ],
             [
              0.8888888888888888,
              "#fdca26"
             ],
             [
              1,
              "#f0f921"
             ]
            ],
            "type": "heatmap"
           }
          ],
          "heatmapgl": [
           {
            "colorbar": {
             "outlinewidth": 0,
             "ticks": ""
            },
            "colorscale": [
             [
              0,
              "#0d0887"
             ],
             [
              0.1111111111111111,
              "#46039f"
             ],
             [
              0.2222222222222222,
              "#7201a8"
             ],
             [
              0.3333333333333333,
              "#9c179e"
             ],
             [
              0.4444444444444444,
              "#bd3786"
             ],
             [
              0.5555555555555556,
              "#d8576b"
             ],
             [
              0.6666666666666666,
              "#ed7953"
             ],
             [
              0.7777777777777778,
              "#fb9f3a"
             ],
             [
              0.8888888888888888,
              "#fdca26"
             ],
             [
              1,
              "#f0f921"
             ]
            ],
            "type": "heatmapgl"
           }
          ],
          "histogram": [
           {
            "marker": {
             "colorbar": {
              "outlinewidth": 0,
              "ticks": ""
             }
            },
            "type": "histogram"
           }
          ],
          "histogram2d": [
           {
            "colorbar": {
             "outlinewidth": 0,
             "ticks": ""
            },
            "colorscale": [
             [
              0,
              "#0d0887"
             ],
             [
              0.1111111111111111,
              "#46039f"
             ],
             [
              0.2222222222222222,
              "#7201a8"
             ],
             [
              0.3333333333333333,
              "#9c179e"
             ],
             [
              0.4444444444444444,
              "#bd3786"
             ],
             [
              0.5555555555555556,
              "#d8576b"
             ],
             [
              0.6666666666666666,
              "#ed7953"
             ],
             [
              0.7777777777777778,
              "#fb9f3a"
             ],
             [
              0.8888888888888888,
              "#fdca26"
             ],
             [
              1,
              "#f0f921"
             ]
            ],
            "type": "histogram2d"
           }
          ],
          "histogram2dcontour": [
           {
            "colorbar": {
             "outlinewidth": 0,
             "ticks": ""
            },
            "colorscale": [
             [
              0,
              "#0d0887"
             ],
             [
              0.1111111111111111,
              "#46039f"
             ],
             [
              0.2222222222222222,
              "#7201a8"
             ],
             [
              0.3333333333333333,
              "#9c179e"
             ],
             [
              0.4444444444444444,
              "#bd3786"
             ],
             [
              0.5555555555555556,
              "#d8576b"
             ],
             [
              0.6666666666666666,
              "#ed7953"
             ],
             [
              0.7777777777777778,
              "#fb9f3a"
             ],
             [
              0.8888888888888888,
              "#fdca26"
             ],
             [
              1,
              "#f0f921"
             ]
            ],
            "type": "histogram2dcontour"
           }
          ],
          "mesh3d": [
           {
            "colorbar": {
             "outlinewidth": 0,
             "ticks": ""
            },
            "type": "mesh3d"
           }
          ],
          "parcoords": [
           {
            "line": {
             "colorbar": {
              "outlinewidth": 0,
              "ticks": ""
             }
            },
            "type": "parcoords"
           }
          ],
          "scatter": [
           {
            "marker": {
             "colorbar": {
              "outlinewidth": 0,
              "ticks": ""
             }
            },
            "type": "scatter"
           }
          ],
          "scatter3d": [
           {
            "line": {
             "colorbar": {
              "outlinewidth": 0,
              "ticks": ""
             }
            },
            "marker": {
             "colorbar": {
              "outlinewidth": 0,
              "ticks": ""
             }
            },
            "type": "scatter3d"
           }
          ],
          "scattercarpet": [
           {
            "marker": {
             "colorbar": {
              "outlinewidth": 0,
              "ticks": ""
             }
            },
            "type": "scattercarpet"
           }
          ],
          "scattergeo": [
           {
            "marker": {
             "colorbar": {
              "outlinewidth": 0,
              "ticks": ""
             }
            },
            "type": "scattergeo"
           }
          ],
          "scattergl": [
           {
            "marker": {
             "colorbar": {
              "outlinewidth": 0,
              "ticks": ""
             }
            },
            "type": "scattergl"
           }
          ],
          "scattermapbox": [
           {
            "marker": {
             "colorbar": {
              "outlinewidth": 0,
              "ticks": ""
             }
            },
            "type": "scattermapbox"
           }
          ],
          "scatterpolar": [
           {
            "marker": {
             "colorbar": {
              "outlinewidth": 0,
              "ticks": ""
             }
            },
            "type": "scatterpolar"
           }
          ],
          "scatterpolargl": [
           {
            "marker": {
             "colorbar": {
              "outlinewidth": 0,
              "ticks": ""
             }
            },
            "type": "scatterpolargl"
           }
          ],
          "scatterternary": [
           {
            "marker": {
             "colorbar": {
              "outlinewidth": 0,
              "ticks": ""
             }
            },
            "type": "scatterternary"
           }
          ],
          "surface": [
           {
            "colorbar": {
             "outlinewidth": 0,
             "ticks": ""
            },
            "colorscale": [
             [
              0,
              "#0d0887"
             ],
             [
              0.1111111111111111,
              "#46039f"
             ],
             [
              0.2222222222222222,
              "#7201a8"
             ],
             [
              0.3333333333333333,
              "#9c179e"
             ],
             [
              0.4444444444444444,
              "#bd3786"
             ],
             [
              0.5555555555555556,
              "#d8576b"
             ],
             [
              0.6666666666666666,
              "#ed7953"
             ],
             [
              0.7777777777777778,
              "#fb9f3a"
             ],
             [
              0.8888888888888888,
              "#fdca26"
             ],
             [
              1,
              "#f0f921"
             ]
            ],
            "type": "surface"
           }
          ],
          "table": [
           {
            "cells": {
             "fill": {
              "color": "#EBF0F8"
             },
             "line": {
              "color": "white"
             }
            },
            "header": {
             "fill": {
              "color": "#C8D4E3"
             },
             "line": {
              "color": "white"
             }
            },
            "type": "table"
           }
          ]
         },
         "layout": {
          "annotationdefaults": {
           "arrowcolor": "#2a3f5f",
           "arrowhead": 0,
           "arrowwidth": 1
          },
          "colorscale": {
           "diverging": [
            [
             0,
             "#8e0152"
            ],
            [
             0.1,
             "#c51b7d"
            ],
            [
             0.2,
             "#de77ae"
            ],
            [
             0.3,
             "#f1b6da"
            ],
            [
             0.4,
             "#fde0ef"
            ],
            [
             0.5,
             "#f7f7f7"
            ],
            [
             0.6,
             "#e6f5d0"
            ],
            [
             0.7,
             "#b8e186"
            ],
            [
             0.8,
             "#7fbc41"
            ],
            [
             0.9,
             "#4d9221"
            ],
            [
             1,
             "#276419"
            ]
           ],
           "sequential": [
            [
             0,
             "#0d0887"
            ],
            [
             0.1111111111111111,
             "#46039f"
            ],
            [
             0.2222222222222222,
             "#7201a8"
            ],
            [
             0.3333333333333333,
             "#9c179e"
            ],
            [
             0.4444444444444444,
             "#bd3786"
            ],
            [
             0.5555555555555556,
             "#d8576b"
            ],
            [
             0.6666666666666666,
             "#ed7953"
            ],
            [
             0.7777777777777778,
             "#fb9f3a"
            ],
            [
             0.8888888888888888,
             "#fdca26"
            ],
            [
             1,
             "#f0f921"
            ]
           ],
           "sequentialminus": [
            [
             0,
             "#0d0887"
            ],
            [
             0.1111111111111111,
             "#46039f"
            ],
            [
             0.2222222222222222,
             "#7201a8"
            ],
            [
             0.3333333333333333,
             "#9c179e"
            ],
            [
             0.4444444444444444,
             "#bd3786"
            ],
            [
             0.5555555555555556,
             "#d8576b"
            ],
            [
             0.6666666666666666,
             "#ed7953"
            ],
            [
             0.7777777777777778,
             "#fb9f3a"
            ],
            [
             0.8888888888888888,
             "#fdca26"
            ],
            [
             1,
             "#f0f921"
            ]
           ]
          },
          "colorway": [
           "#636efa",
           "#EF553B",
           "#00cc96",
           "#ab63fa",
           "#FFA15A",
           "#19d3f3",
           "#FF6692",
           "#B6E880",
           "#FF97FF",
           "#FECB52"
          ],
          "font": {
           "color": "#2a3f5f"
          },
          "geo": {
           "bgcolor": "white",
           "lakecolor": "white",
           "landcolor": "#E5ECF6",
           "showlakes": true,
           "showland": true,
           "subunitcolor": "white"
          },
          "hoverlabel": {
           "align": "left"
          },
          "hovermode": "closest",
          "mapbox": {
           "style": "light"
          },
          "paper_bgcolor": "white",
          "plot_bgcolor": "#E5ECF6",
          "polar": {
           "angularaxis": {
            "gridcolor": "white",
            "linecolor": "white",
            "ticks": ""
           },
           "bgcolor": "#E5ECF6",
           "radialaxis": {
            "gridcolor": "white",
            "linecolor": "white",
            "ticks": ""
           }
          },
          "scene": {
           "xaxis": {
            "backgroundcolor": "#E5ECF6",
            "gridcolor": "white",
            "gridwidth": 2,
            "linecolor": "white",
            "showbackground": true,
            "ticks": "",
            "zerolinecolor": "white"
           },
           "yaxis": {
            "backgroundcolor": "#E5ECF6",
            "gridcolor": "white",
            "gridwidth": 2,
            "linecolor": "white",
            "showbackground": true,
            "ticks": "",
            "zerolinecolor": "white"
           },
           "zaxis": {
            "backgroundcolor": "#E5ECF6",
            "gridcolor": "white",
            "gridwidth": 2,
            "linecolor": "white",
            "showbackground": true,
            "ticks": "",
            "zerolinecolor": "white"
           }
          },
          "shapedefaults": {
           "line": {
            "color": "#2a3f5f"
           }
          },
          "ternary": {
           "aaxis": {
            "gridcolor": "white",
            "linecolor": "white",
            "ticks": ""
           },
           "baxis": {
            "gridcolor": "white",
            "linecolor": "white",
            "ticks": ""
           },
           "bgcolor": "#E5ECF6",
           "caxis": {
            "gridcolor": "white",
            "linecolor": "white",
            "ticks": ""
           }
          },
          "title": {
           "x": 0.05
          },
          "xaxis": {
           "automargin": true,
           "gridcolor": "white",
           "linecolor": "white",
           "ticks": "",
           "zerolinecolor": "white",
           "zerolinewidth": 2
          },
          "yaxis": {
           "automargin": true,
           "gridcolor": "white",
           "linecolor": "white",
           "ticks": "",
           "zerolinecolor": "white",
           "zerolinewidth": 2
          }
         }
        },
        "title": {
         "text": "Avg Score by Sub-Genre"
        },
        "xaxis": {
         "title": {
          "text": "Sub-Genre"
         }
        },
        "yaxis": {
         "title": {
          "text": "Score"
         }
        }
       }
      },
      "text/html": [
       "<div>\n",
       "        \n",
       "        \n",
       "            <div id=\"22776528-7748-4ffd-9df7-f9168d03926f\" class=\"plotly-graph-div\" style=\"height:525px; width:100%;\"></div>\n",
       "            <script type=\"text/javascript\">\n",
       "                require([\"plotly\"], function(Plotly) {\n",
       "                    window.PLOTLYENV=window.PLOTLYENV || {};\n",
       "                    \n",
       "                if (document.getElementById(\"22776528-7748-4ffd-9df7-f9168d03926f\")) {\n",
       "                    Plotly.newPlot(\n",
       "                        '22776528-7748-4ffd-9df7-f9168d03926f',\n",
       "                        [{\"text\": [0.792, 0.792, 0.815, 0.771, 0.632, 0.771], \"textposition\": \"outside\", \"type\": \"bar\", \"x\": [\"Black/Death Metal\", \"Death Metal\", \"Doom/Death Metal\", \"Other Genre\", \"Symphonic Death Metal\", \"Thrash/Death Metal\"], \"y\": [0.7920903954802271, 0.792289742343217, 0.814901574803155, 0.7706990532657425, 0.6323684210526316, 0.7709193548387139]}],\n",
       "                        {\"template\": {\"data\": {\"bar\": [{\"error_x\": {\"color\": \"#2a3f5f\"}, \"error_y\": {\"color\": \"#2a3f5f\"}, \"marker\": {\"line\": {\"color\": \"#E5ECF6\", \"width\": 0.5}}, \"type\": \"bar\"}], \"barpolar\": [{\"marker\": {\"line\": {\"color\": \"#E5ECF6\", \"width\": 0.5}}, \"type\": \"barpolar\"}], \"carpet\": [{\"aaxis\": {\"endlinecolor\": \"#2a3f5f\", \"gridcolor\": \"white\", \"linecolor\": \"white\", \"minorgridcolor\": \"white\", \"startlinecolor\": \"#2a3f5f\"}, \"baxis\": {\"endlinecolor\": \"#2a3f5f\", \"gridcolor\": \"white\", \"linecolor\": \"white\", \"minorgridcolor\": \"white\", \"startlinecolor\": \"#2a3f5f\"}, \"type\": \"carpet\"}], \"choropleth\": [{\"colorbar\": {\"outlinewidth\": 0, \"ticks\": \"\"}, \"type\": \"choropleth\"}], \"contour\": [{\"colorbar\": {\"outlinewidth\": 0, \"ticks\": \"\"}, \"colorscale\": [[0.0, \"#0d0887\"], [0.1111111111111111, \"#46039f\"], [0.2222222222222222, \"#7201a8\"], [0.3333333333333333, \"#9c179e\"], [0.4444444444444444, \"#bd3786\"], [0.5555555555555556, \"#d8576b\"], [0.6666666666666666, \"#ed7953\"], [0.7777777777777778, \"#fb9f3a\"], [0.8888888888888888, \"#fdca26\"], [1.0, \"#f0f921\"]], \"type\": \"contour\"}], \"contourcarpet\": [{\"colorbar\": {\"outlinewidth\": 0, \"ticks\": \"\"}, \"type\": \"contourcarpet\"}], \"heatmap\": [{\"colorbar\": {\"outlinewidth\": 0, \"ticks\": \"\"}, \"colorscale\": [[0.0, \"#0d0887\"], [0.1111111111111111, \"#46039f\"], [0.2222222222222222, \"#7201a8\"], [0.3333333333333333, \"#9c179e\"], [0.4444444444444444, \"#bd3786\"], [0.5555555555555556, \"#d8576b\"], [0.6666666666666666, \"#ed7953\"], [0.7777777777777778, \"#fb9f3a\"], [0.8888888888888888, \"#fdca26\"], [1.0, \"#f0f921\"]], \"type\": \"heatmap\"}], \"heatmapgl\": [{\"colorbar\": {\"outlinewidth\": 0, \"ticks\": \"\"}, \"colorscale\": [[0.0, \"#0d0887\"], [0.1111111111111111, \"#46039f\"], [0.2222222222222222, \"#7201a8\"], [0.3333333333333333, \"#9c179e\"], [0.4444444444444444, \"#bd3786\"], [0.5555555555555556, \"#d8576b\"], [0.6666666666666666, \"#ed7953\"], [0.7777777777777778, \"#fb9f3a\"], [0.8888888888888888, \"#fdca26\"], [1.0, \"#f0f921\"]], \"type\": \"heatmapgl\"}], \"histogram\": [{\"marker\": {\"colorbar\": {\"outlinewidth\": 0, \"ticks\": \"\"}}, \"type\": \"histogram\"}], \"histogram2d\": [{\"colorbar\": {\"outlinewidth\": 0, \"ticks\": \"\"}, \"colorscale\": [[0.0, \"#0d0887\"], [0.1111111111111111, \"#46039f\"], [0.2222222222222222, \"#7201a8\"], [0.3333333333333333, \"#9c179e\"], [0.4444444444444444, \"#bd3786\"], [0.5555555555555556, \"#d8576b\"], [0.6666666666666666, \"#ed7953\"], [0.7777777777777778, \"#fb9f3a\"], [0.8888888888888888, \"#fdca26\"], [1.0, \"#f0f921\"]], \"type\": \"histogram2d\"}], \"histogram2dcontour\": [{\"colorbar\": {\"outlinewidth\": 0, \"ticks\": \"\"}, \"colorscale\": [[0.0, \"#0d0887\"], [0.1111111111111111, \"#46039f\"], [0.2222222222222222, \"#7201a8\"], [0.3333333333333333, \"#9c179e\"], [0.4444444444444444, \"#bd3786\"], [0.5555555555555556, \"#d8576b\"], [0.6666666666666666, \"#ed7953\"], [0.7777777777777778, \"#fb9f3a\"], [0.8888888888888888, \"#fdca26\"], [1.0, \"#f0f921\"]], \"type\": \"histogram2dcontour\"}], \"mesh3d\": [{\"colorbar\": {\"outlinewidth\": 0, \"ticks\": \"\"}, \"type\": \"mesh3d\"}], \"parcoords\": [{\"line\": {\"colorbar\": {\"outlinewidth\": 0, \"ticks\": \"\"}}, \"type\": \"parcoords\"}], \"scatter\": [{\"marker\": {\"colorbar\": {\"outlinewidth\": 0, \"ticks\": \"\"}}, \"type\": \"scatter\"}], \"scatter3d\": [{\"line\": {\"colorbar\": {\"outlinewidth\": 0, \"ticks\": \"\"}}, \"marker\": {\"colorbar\": {\"outlinewidth\": 0, \"ticks\": \"\"}}, \"type\": \"scatter3d\"}], \"scattercarpet\": [{\"marker\": {\"colorbar\": {\"outlinewidth\": 0, \"ticks\": \"\"}}, \"type\": \"scattercarpet\"}], \"scattergeo\": [{\"marker\": {\"colorbar\": {\"outlinewidth\": 0, \"ticks\": \"\"}}, \"type\": \"scattergeo\"}], \"scattergl\": [{\"marker\": {\"colorbar\": {\"outlinewidth\": 0, \"ticks\": \"\"}}, \"type\": \"scattergl\"}], \"scattermapbox\": [{\"marker\": {\"colorbar\": {\"outlinewidth\": 0, \"ticks\": \"\"}}, \"type\": \"scattermapbox\"}], \"scatterpolar\": [{\"marker\": {\"colorbar\": {\"outlinewidth\": 0, \"ticks\": \"\"}}, \"type\": \"scatterpolar\"}], \"scatterpolargl\": [{\"marker\": {\"colorbar\": {\"outlinewidth\": 0, \"ticks\": \"\"}}, \"type\": \"scatterpolargl\"}], \"scatterternary\": [{\"marker\": {\"colorbar\": {\"outlinewidth\": 0, \"ticks\": \"\"}}, \"type\": \"scatterternary\"}], \"surface\": [{\"colorbar\": {\"outlinewidth\": 0, \"ticks\": \"\"}, \"colorscale\": [[0.0, \"#0d0887\"], [0.1111111111111111, \"#46039f\"], [0.2222222222222222, \"#7201a8\"], [0.3333333333333333, \"#9c179e\"], [0.4444444444444444, \"#bd3786\"], [0.5555555555555556, \"#d8576b\"], [0.6666666666666666, \"#ed7953\"], [0.7777777777777778, \"#fb9f3a\"], [0.8888888888888888, \"#fdca26\"], [1.0, \"#f0f921\"]], \"type\": \"surface\"}], \"table\": [{\"cells\": {\"fill\": {\"color\": \"#EBF0F8\"}, \"line\": {\"color\": \"white\"}}, \"header\": {\"fill\": {\"color\": \"#C8D4E3\"}, \"line\": {\"color\": \"white\"}}, \"type\": \"table\"}]}, \"layout\": {\"annotationdefaults\": {\"arrowcolor\": \"#2a3f5f\", \"arrowhead\": 0, \"arrowwidth\": 1}, \"colorscale\": {\"diverging\": [[0, \"#8e0152\"], [0.1, \"#c51b7d\"], [0.2, \"#de77ae\"], [0.3, \"#f1b6da\"], [0.4, \"#fde0ef\"], [0.5, \"#f7f7f7\"], [0.6, \"#e6f5d0\"], [0.7, \"#b8e186\"], [0.8, \"#7fbc41\"], [0.9, \"#4d9221\"], [1, \"#276419\"]], \"sequential\": [[0.0, \"#0d0887\"], [0.1111111111111111, \"#46039f\"], [0.2222222222222222, \"#7201a8\"], [0.3333333333333333, \"#9c179e\"], [0.4444444444444444, \"#bd3786\"], [0.5555555555555556, \"#d8576b\"], [0.6666666666666666, \"#ed7953\"], [0.7777777777777778, \"#fb9f3a\"], [0.8888888888888888, \"#fdca26\"], [1.0, \"#f0f921\"]], \"sequentialminus\": [[0.0, \"#0d0887\"], [0.1111111111111111, \"#46039f\"], [0.2222222222222222, \"#7201a8\"], [0.3333333333333333, \"#9c179e\"], [0.4444444444444444, \"#bd3786\"], [0.5555555555555556, \"#d8576b\"], [0.6666666666666666, \"#ed7953\"], [0.7777777777777778, \"#fb9f3a\"], [0.8888888888888888, \"#fdca26\"], [1.0, \"#f0f921\"]]}, \"colorway\": [\"#636efa\", \"#EF553B\", \"#00cc96\", \"#ab63fa\", \"#FFA15A\", \"#19d3f3\", \"#FF6692\", \"#B6E880\", \"#FF97FF\", \"#FECB52\"], \"font\": {\"color\": \"#2a3f5f\"}, \"geo\": {\"bgcolor\": \"white\", \"lakecolor\": \"white\", \"landcolor\": \"#E5ECF6\", \"showlakes\": true, \"showland\": true, \"subunitcolor\": \"white\"}, \"hoverlabel\": {\"align\": \"left\"}, \"hovermode\": \"closest\", \"mapbox\": {\"style\": \"light\"}, \"paper_bgcolor\": \"white\", \"plot_bgcolor\": \"#E5ECF6\", \"polar\": {\"angularaxis\": {\"gridcolor\": \"white\", \"linecolor\": \"white\", \"ticks\": \"\"}, \"bgcolor\": \"#E5ECF6\", \"radialaxis\": {\"gridcolor\": \"white\", \"linecolor\": \"white\", \"ticks\": \"\"}}, \"scene\": {\"xaxis\": {\"backgroundcolor\": \"#E5ECF6\", \"gridcolor\": \"white\", \"gridwidth\": 2, \"linecolor\": \"white\", \"showbackground\": true, \"ticks\": \"\", \"zerolinecolor\": \"white\"}, \"yaxis\": {\"backgroundcolor\": \"#E5ECF6\", \"gridcolor\": \"white\", \"gridwidth\": 2, \"linecolor\": \"white\", \"showbackground\": true, \"ticks\": \"\", \"zerolinecolor\": \"white\"}, \"zaxis\": {\"backgroundcolor\": \"#E5ECF6\", \"gridcolor\": \"white\", \"gridwidth\": 2, \"linecolor\": \"white\", \"showbackground\": true, \"ticks\": \"\", \"zerolinecolor\": \"white\"}}, \"shapedefaults\": {\"line\": {\"color\": \"#2a3f5f\"}}, \"ternary\": {\"aaxis\": {\"gridcolor\": \"white\", \"linecolor\": \"white\", \"ticks\": \"\"}, \"baxis\": {\"gridcolor\": \"white\", \"linecolor\": \"white\", \"ticks\": \"\"}, \"bgcolor\": \"#E5ECF6\", \"caxis\": {\"gridcolor\": \"white\", \"linecolor\": \"white\", \"ticks\": \"\"}}, \"title\": {\"x\": 0.05}, \"xaxis\": {\"automargin\": true, \"gridcolor\": \"white\", \"linecolor\": \"white\", \"ticks\": \"\", \"zerolinecolor\": \"white\", \"zerolinewidth\": 2}, \"yaxis\": {\"automargin\": true, \"gridcolor\": \"white\", \"linecolor\": \"white\", \"ticks\": \"\", \"zerolinecolor\": \"white\", \"zerolinewidth\": 2}}}, \"title\": {\"text\": \"Avg Score by Sub-Genre\"}, \"xaxis\": {\"title\": {\"text\": \"Sub-Genre\"}}, \"yaxis\": {\"title\": {\"text\": \"Score\"}}},\n",
       "                        {\"responsive\": true}\n",
       "                    ).then(function(){\n",
       "                            \n",
       "var gd = document.getElementById('22776528-7748-4ffd-9df7-f9168d03926f');\n",
       "var x = new MutationObserver(function (mutations, observer) {{\n",
       "        var display = window.getComputedStyle(gd).display;\n",
       "        if (!display || display === 'none') {{\n",
       "            console.log([gd, 'removed!']);\n",
       "            Plotly.purge(gd);\n",
       "            observer.disconnect();\n",
       "        }}\n",
       "}});\n",
       "\n",
       "// Listen for the removal of the full notebook cells\n",
       "var notebookContainer = gd.closest('#notebook-container');\n",
       "if (notebookContainer) {{\n",
       "    x.observe(notebookContainer, {childList: true});\n",
       "}}\n",
       "\n",
       "// Listen for the clearing of the current output cell\n",
       "var outputEl = gd.closest('.output');\n",
       "if (outputEl) {{\n",
       "    x.observe(outputEl, {childList: true});\n",
       "}}\n",
       "\n",
       "                        })\n",
       "                };\n",
       "                });\n",
       "            </script>\n",
       "        </div>"
      ]
     },
     "metadata": {},
     "output_type": "display_data"
    }
   ],
   "source": [
    "data_plot = go.Bar(\n",
    "    x=data.groupby('genre').agg({'score':'mean'})['score'].index,\n",
    "    y=data.groupby('genre').agg({'score':'mean'})['score'].values,\n",
    "    text=data.groupby('genre').agg({'score':'mean'}).round(3)['score'].values,\n",
    "    textposition='outside'\n",
    ")\n",
    "\n",
    "layout = go.Layout(\n",
    "    title='Avg Score by Sub-Genre',\n",
    "    xaxis=dict(title='Sub-Genre'),\n",
    "    yaxis={'title':'Score'}\n",
    ")\n",
    "\n",
    "fig = go.Figure(data=data_plot, layout=layout)\n",
    "\n",
    "py.iplot(fig)"
   ]
  },
  {
   "cell_type": "markdown",
   "metadata": {},
   "source": [
    "## Best death metal band ever and forever\n",
    "\n",
    "### R.I.P 'Evil Chuck' Schuldiner"
   ]
  },
  {
   "cell_type": "code",
   "execution_count": 23,
   "metadata": {},
   "outputs": [],
   "source": [
    "#Table for album and review count for each band\n",
    "review_album_cnt = pd.DataFrame(albums['band'].value_counts()).reset_index().rename(columns={'index':'band_id','band':'album_cnt'})\\\n",
    ".merge(bands[['id','name']],left_on='band_id',right_on='id').drop(columns='id')\\\n",
    ".merge(pd.DataFrame(data['band'].value_counts()).rename(columns={'band':'review_cnt'}),\n",
    "       left_on='band_id',right_index=True,how='left')"
   ]
  },
  {
   "cell_type": "code",
   "execution_count": 25,
   "metadata": {},
   "outputs": [
    {
     "data": {
      "text/html": [
       "<div>\n",
       "<style scoped>\n",
       "    .dataframe tbody tr th:only-of-type {\n",
       "        vertical-align: middle;\n",
       "    }\n",
       "\n",
       "    .dataframe tbody tr th {\n",
       "        vertical-align: top;\n",
       "    }\n",
       "\n",
       "    .dataframe thead th {\n",
       "        text-align: right;\n",
       "    }\n",
       "</style>\n",
       "<table border=\"1\" class=\"dataframe\">\n",
       "  <thead>\n",
       "    <tr style=\"text-align: right;\">\n",
       "      <th></th>\n",
       "      <th>score</th>\n",
       "      <th>band_id</th>\n",
       "      <th>album_cnt</th>\n",
       "      <th>name</th>\n",
       "      <th>review_cnt</th>\n",
       "    </tr>\n",
       "  </thead>\n",
       "  <tbody>\n",
       "    <tr>\n",
       "      <td>217</td>\n",
       "      <td>0.893806</td>\n",
       "      <td>35522</td>\n",
       "      <td>7</td>\n",
       "      <td>Death</td>\n",
       "      <td>134.0</td>\n",
       "    </tr>\n",
       "  </tbody>\n",
       "</table>\n",
       "</div>"
      ],
      "text/plain": [
       "        score  band_id  album_cnt   name  review_cnt\n",
       "217  0.893806    35522          7  Death       134.0"
      ]
     },
     "execution_count": 25,
     "metadata": {},
     "output_type": "execute_result"
    }
   ],
   "source": [
    "#Best of the best:\n",
    "#Highest average score for each band with over 6 albums and 50 reviews\n",
    "data.groupby('band').agg({'score':'mean'}).merge(\n",
    "    review_album_cnt[(review_album_cnt['album_cnt']>6) & (review_album_cnt['review_cnt']>50)],\n",
    "    left_index=True,right_on='band_id',how='right')\\\n",
    "    .sort_values(by='score',ascending=False).head(1)"
   ]
  },
  {
   "attachments": {
    "pyg8bixB7A94JPJXR9gugV.jpg": {
     "image/jpeg": "[encoded data removed]"
    }
   },
   "cell_type": "markdown",
   "metadata": {},
   "source": [
    "![pyg8bixB7A94JPJXR9gugV.jpg](attachment:pyg8bixB7A94JPJXR9gugV.jpg)"
   ]
  },
  {
   "cell_type": "markdown",
   "metadata": {},
   "source": [
    "## Feature Engineering"
   ]
  },
  {
   "cell_type": "markdown",
   "metadata": {},
   "source": [
    "- NLP process for review title and review content\n"
   ]
  },
  {
   "cell_type": "code",
   "execution_count": 26,
   "metadata": {},
   "outputs": [],
   "source": [
    "#Tokenizing the content and title\n",
    "data['nlp_title'] = data['review_title'].str.lower().replace('\\W+', ' ').apply(nltk.word_tokenize)\n",
    "data['nlp_content'] = data['content'].str.lower().replace('\\W+', ' ').apply(nltk.word_tokenize)"
   ]
  },
  {
   "cell_type": "code",
   "execution_count": 27,
   "metadata": {},
   "outputs": [],
   "source": [
    "#Try both stemming and lemmatizing\n",
    "lemmatizer = nltk.stem.wordnet.WordNetLemmatizer()\n",
    "stemmer = nltk.stem.porter.PorterStemmer()"
   ]
  },
  {
   "cell_type": "code",
   "execution_count": 28,
   "metadata": {},
   "outputs": [],
   "source": [
    "data['nlp_content_stem'] = data['nlp_content'].apply(lambda x:[stemmer.stem(word) for word in x])\n",
    "data['nlp_title_stem'] = data['nlp_title'].apply(lambda x:[stemmer.stem(word) for word in x])"
   ]
  },
  {
   "cell_type": "code",
   "execution_count": 29,
   "metadata": {},
   "outputs": [],
   "source": [
    "data['nlp_content_lemm'] = data['nlp_content'].apply(lambda x:[lemmatizer.lemmatize(word) for word in x])\n",
    "data['nlp_title_lemm'] = data['nlp_title'].apply(lambda x:[lemmatizer.lemmatize(word) for word in x])"
   ]
  },
  {
   "cell_type": "code",
   "execution_count": 30,
   "metadata": {},
   "outputs": [],
   "source": [
    "data['nlp_content'] = data['nlp_content'].apply(lambda x:' '.join(x))\n",
    "data['nlp_title'] = data['nlp_title'].apply(lambda x:' '.join(x))\n",
    "data['nlp_content_stem'] = data['nlp_content_stem'].apply(lambda x:' '.join(x))\n",
    "data['nlp_title_stem'] = data['nlp_title_stem'].apply(lambda x:' '.join(x))\n",
    "data['nlp_content_lemm'] = data['nlp_content_lemm'].apply(lambda x:' '.join(x))\n",
    "data['nlp_title_lemm'] = data['nlp_title_lemm'].apply(lambda x:' '.join(x))"
   ]
  },
  {
   "cell_type": "code",
   "execution_count": 31,
   "metadata": {},
   "outputs": [],
   "source": [
    "#Add my stop words\n",
    "my_stop_words=['death','metal','guitar','drum','riff','riffs','bass','album','band','genre']"
   ]
  },
  {
   "cell_type": "code",
   "execution_count": 32,
   "metadata": {},
   "outputs": [],
   "source": [
    "#Vectorizing the text\n",
    "tfidf = TfidfVectorizer(max_features=500,\n",
    "                        ngram_range=(1,2), \n",
    "                        stop_words=stopwords.words('english') + my_stop_words\n",
    "                        )"
   ]
  },
  {
   "cell_type": "code",
   "execution_count": 33,
   "metadata": {},
   "outputs": [],
   "source": [
    "tfidf_matrix = pd.DataFrame(tfidf.fit_transform(data['nlp_title_stem'].map(str)+' '+ data['nlp_content_stem']).toarray(),\n",
    "                         columns=tfidf.vocabulary_)"
   ]
  },
  {
   "cell_type": "markdown",
   "metadata": {},
   "source": [
    "- Sentiment analysis\n",
    "- Need to manually remove some 'negative' words, since for death metal some negative words are actually positive like 'brutal'"
   ]
  },
  {
   "cell_type": "code",
   "execution_count": 34,
   "metadata": {},
   "outputs": [],
   "source": [
    "sid = SentimentIntensityAnalyzer()"
   ]
  },
  {
   "cell_type": "code",
   "execution_count": 35,
   "metadata": {},
   "outputs": [],
   "source": [
    "neutral = ['aggressive','aggressively','aggressivity','agony','amorphous','anger','angry','anti','assault','attack','attacked',\n",
    "        'badass','bastard','battle','battlefield','betray','betrayal','brutal','brutality','catastrophic',\n",
    "       'chaos','chaotic','corpse','crazy','cruel','crueler','cruelty','crush','crushed','cynic','cynical','dangerous',\n",
    "       'darkness','darkest','death','depress','depressed','depression','depressive','despair','despaired','destroy',\n",
    "       'destroyed','destruction','destructions','destructive','devastating','devil','devils','doom','evil','fear',\n",
    "       'fearful','fearfully','freaking','furious','furiously','harsh','hate','hatred','hell','hellish','insane','kill',\n",
    "       'killer','maniac','offensive','offensively','outrage','outrageous','rage','raged','rages','revenge','revenged','savage',\n",
    "       'savages','scary','slam','sin','sinister','terror','terrors','war','wars','wicked']"
   ]
  },
  {
   "cell_type": "code",
   "execution_count": 36,
   "metadata": {},
   "outputs": [],
   "source": [
    "for word in neutral:\n",
    "    sid.lexicon.pop(word)"
   ]
  },
  {
   "cell_type": "code",
   "execution_count": 37,
   "metadata": {},
   "outputs": [],
   "source": [
    "data['sentiment'] = data['content'].apply(lambda x:sid.polarity_scores(x)['compound'])"
   ]
  },
  {
   "cell_type": "markdown",
   "metadata": {},
   "source": [
    "- Get active years for each band\n",
    "- Define style: released before 2000 -> old school, after 2000 -> new style\n",
    "- Album release time: first 1/3 of the band career -> early album, 2/3 of the career -> mid album, last 1/3 -> late album\n",
    "- Convert score to 3 labels"
   ]
  },
  {
   "cell_type": "code",
   "execution_count": 38,
   "metadata": {},
   "outputs": [],
   "source": [
    "data['active_years'] = data['ended_in']-data['formed_in']"
   ]
  },
  {
   "cell_type": "code",
   "execution_count": 39,
   "metadata": {},
   "outputs": [],
   "source": [
    "data['old_new'] = data['formed_in'].apply(lambda x:'old_school' if x<2000 else 'new_style')"
   ]
  },
  {
   "cell_type": "code",
   "execution_count": 40,
   "metadata": {},
   "outputs": [],
   "source": [
    "def album_time(x):\n",
    "    if x['year']-x['formed_in']<=x['active_years']*0.4:\n",
    "        return 'early_album'\n",
    "    elif x['active_years']*0.4<x['year']-x['formed_in']<=x['active_years']*0.7:\n",
    "        return 'mid_album'\n",
    "    else:\n",
    "        return 'late_album'\n",
    "data['time_of_career'] = data.apply(album_time,axis=1)"
   ]
  },
  {
   "cell_type": "code",
   "execution_count": 41,
   "metadata": {},
   "outputs": [],
   "source": [
    "def score_lvl(x):\n",
    "    if x>0.85:\n",
    "        return 'Must Listen'\n",
    "    elif 0.85>=x>0.6:\n",
    "        return 'Average Metal'\n",
    "    else:\n",
    "        return 'Garbage'"
   ]
  },
  {
   "cell_type": "code",
   "execution_count": 42,
   "metadata": {},
   "outputs": [],
   "source": [
    "data['label'] = data['score'].apply(score_lvl)"
   ]
  },
  {
   "cell_type": "code",
   "execution_count": 43,
   "metadata": {},
   "outputs": [
    {
     "data": {
      "text/html": [
       "<div>\n",
       "<style scoped>\n",
       "    .dataframe tbody tr th:only-of-type {\n",
       "        vertical-align: middle;\n",
       "    }\n",
       "\n",
       "    .dataframe tbody tr th {\n",
       "        vertical-align: top;\n",
       "    }\n",
       "\n",
       "    .dataframe thead th {\n",
       "        text-align: right;\n",
       "    }\n",
       "</style>\n",
       "<table border=\"1\" class=\"dataframe\">\n",
       "  <thead>\n",
       "    <tr style=\"text-align: right;\">\n",
       "      <th></th>\n",
       "      <th>album</th>\n",
       "      <th>review_title</th>\n",
       "      <th>score</th>\n",
       "      <th>content</th>\n",
       "      <th>band</th>\n",
       "      <th>album_title</th>\n",
       "      <th>year</th>\n",
       "      <th>band_name</th>\n",
       "      <th>country</th>\n",
       "      <th>status</th>\n",
       "      <th>...</th>\n",
       "      <th>nlp_content</th>\n",
       "      <th>nlp_content_stem</th>\n",
       "      <th>nlp_title_stem</th>\n",
       "      <th>nlp_content_lemm</th>\n",
       "      <th>nlp_title_lemm</th>\n",
       "      <th>sentiment</th>\n",
       "      <th>active_years</th>\n",
       "      <th>old_new</th>\n",
       "      <th>time_of_career</th>\n",
       "      <th>label</th>\n",
       "    </tr>\n",
       "  </thead>\n",
       "  <tbody>\n",
       "    <tr>\n",
       "      <td>0</td>\n",
       "      <td>4</td>\n",
       "      <td>The Killer Count Just Keeps Rising</td>\n",
       "      <td>0.88</td>\n",
       "      <td>When I first threw this on I really didnt know...</td>\n",
       "      <td>7</td>\n",
       "      <td>Génesis &amp; horror</td>\n",
       "      <td>2002</td>\n",
       "      <td>1917</td>\n",
       "      <td>Other</td>\n",
       "      <td>Active</td>\n",
       "      <td>...</td>\n",
       "      <td>when i first threw this on i really didnt know...</td>\n",
       "      <td>when i first threw thi on i realli didnt know ...</td>\n",
       "      <td>the killer count just keep rise</td>\n",
       "      <td>when i first threw this on i really didnt know...</td>\n",
       "      <td>the killer count just keep rising</td>\n",
       "      <td>0.9936</td>\n",
       "      <td>25</td>\n",
       "      <td>old_school</td>\n",
       "      <td>early_album</td>\n",
       "      <td>Must Listen</td>\n",
       "    </tr>\n",
       "    <tr>\n",
       "      <td>1</td>\n",
       "      <td>5</td>\n",
       "      <td>A gem of heterogeneous death metal...</td>\n",
       "      <td>0.96</td>\n",
       "      <td>Several years ago I bought from a band member,...</td>\n",
       "      <td>7</td>\n",
       "      <td>Vision</td>\n",
       "      <td>2004</td>\n",
       "      <td>1917</td>\n",
       "      <td>Other</td>\n",
       "      <td>Active</td>\n",
       "      <td>...</td>\n",
       "      <td>several years ago i bought from a band member ...</td>\n",
       "      <td>sever year ago i bought from a band member , t...</td>\n",
       "      <td>a gem of heterogen death metal ...</td>\n",
       "      <td>several year ago i bought from a band member ,...</td>\n",
       "      <td>a gem of heterogeneous death metal ...</td>\n",
       "      <td>0.9824</td>\n",
       "      <td>25</td>\n",
       "      <td>old_school</td>\n",
       "      <td>early_album</td>\n",
       "      <td>Must Listen</td>\n",
       "    </tr>\n",
       "    <tr>\n",
       "      <td>2</td>\n",
       "      <td>8</td>\n",
       "      <td>Fantasic, if mostly for its influences</td>\n",
       "      <td>0.83</td>\n",
       "      <td>What a wonderful release this is. ‘Vox Fatum’ ...</td>\n",
       "      <td>7</td>\n",
       "      <td>Brutal Miserable Drama</td>\n",
       "      <td>2010</td>\n",
       "      <td>1917</td>\n",
       "      <td>Other</td>\n",
       "      <td>Active</td>\n",
       "      <td>...</td>\n",
       "      <td>what a wonderful release this is . ‘ vox fatum...</td>\n",
       "      <td>what a wonder releas thi is . ‘ vox fatum ’ is...</td>\n",
       "      <td>fantas , if mostli for it influenc</td>\n",
       "      <td>what a wonderful release this is . ‘ vox fatum...</td>\n",
       "      <td>fantasic , if mostly for it influence</td>\n",
       "      <td>0.9957</td>\n",
       "      <td>25</td>\n",
       "      <td>old_school</td>\n",
       "      <td>mid_album</td>\n",
       "      <td>Average Metal</td>\n",
       "    </tr>\n",
       "    <tr>\n",
       "      <td>3</td>\n",
       "      <td>45</td>\n",
       "      <td>A rare, lost hidden gem</td>\n",
       "      <td>0.80</td>\n",
       "      <td>Picture this: crushing, brutal death metal, wi...</td>\n",
       "      <td>43</td>\n",
       "      <td>Virtus Diaboli</td>\n",
       "      <td>2013</td>\n",
       "      <td>Abdicated</td>\n",
       "      <td>Other</td>\n",
       "      <td>Active</td>\n",
       "      <td>...</td>\n",
       "      <td>picture this : crushing , brutal death metal ,...</td>\n",
       "      <td>pictur thi : crush , brutal death metal , with...</td>\n",
       "      <td>a rare , lost hidden gem</td>\n",
       "      <td>picture this : crushing , brutal death metal ,...</td>\n",
       "      <td>a rare , lost hidden gem</td>\n",
       "      <td>-0.4926</td>\n",
       "      <td>10</td>\n",
       "      <td>new_style</td>\n",
       "      <td>early_album</td>\n",
       "      <td>Average Metal</td>\n",
       "    </tr>\n",
       "    <tr>\n",
       "      <td>4</td>\n",
       "      <td>54</td>\n",
       "      <td>Pure, but flayed and covered in soot</td>\n",
       "      <td>0.92</td>\n",
       "      <td>Abhordium's When Depravity Incarnates is an ex...</td>\n",
       "      <td>60</td>\n",
       "      <td>You Only Die Once</td>\n",
       "      <td>2015</td>\n",
       "      <td>Abhorrent Aggression</td>\n",
       "      <td>United States</td>\n",
       "      <td>Split-up</td>\n",
       "      <td>...</td>\n",
       "      <td>abhordium 's when depravity incarnates is an e...</td>\n",
       "      <td>abhordium 's when deprav incarn is an extrem p...</td>\n",
       "      <td>pure , but flay and cover in soot</td>\n",
       "      <td>abhordium 's when depravity incarnates is an e...</td>\n",
       "      <td>pure , but flayed and covered in soot</td>\n",
       "      <td>0.9989</td>\n",
       "      <td>3</td>\n",
       "      <td>new_style</td>\n",
       "      <td>late_album</td>\n",
       "      <td>Must Listen</td>\n",
       "    </tr>\n",
       "    <tr>\n",
       "      <td>...</td>\n",
       "      <td>...</td>\n",
       "      <td>...</td>\n",
       "      <td>...</td>\n",
       "      <td>...</td>\n",
       "      <td>...</td>\n",
       "      <td>...</td>\n",
       "      <td>...</td>\n",
       "      <td>...</td>\n",
       "      <td>...</td>\n",
       "      <td>...</td>\n",
       "      <td>...</td>\n",
       "      <td>...</td>\n",
       "      <td>...</td>\n",
       "      <td>...</td>\n",
       "      <td>...</td>\n",
       "      <td>...</td>\n",
       "      <td>...</td>\n",
       "      <td>...</td>\n",
       "      <td>...</td>\n",
       "      <td>...</td>\n",
       "      <td>...</td>\n",
       "    </tr>\n",
       "    <tr>\n",
       "      <td>21505</td>\n",
       "      <td>28061</td>\n",
       "      <td>Delightful</td>\n",
       "      <td>0.89</td>\n",
       "      <td>What can a man accomplish in two years? Well, ...</td>\n",
       "      <td>37723</td>\n",
       "      <td>Sapphiric</td>\n",
       "      <td>2006</td>\n",
       "      <td>Frozen Mist</td>\n",
       "      <td>United States</td>\n",
       "      <td>Active</td>\n",
       "      <td>...</td>\n",
       "      <td>what can a man accomplish in two years ? well ...</td>\n",
       "      <td>what can a man accomplish in two year ? well ,...</td>\n",
       "      <td>delight</td>\n",
       "      <td>what can a man accomplish in two year ? well ,...</td>\n",
       "      <td>delightful</td>\n",
       "      <td>0.8408</td>\n",
       "      <td>15</td>\n",
       "      <td>new_style</td>\n",
       "      <td>early_album</td>\n",
       "      <td>Must Listen</td>\n",
       "    </tr>\n",
       "    <tr>\n",
       "      <td>21506</td>\n",
       "      <td>28065</td>\n",
       "      <td>Frozen Mist White Noise Paranormal</td>\n",
       "      <td>0.80</td>\n",
       "      <td>Every now and then I stumble upon a really coo...</td>\n",
       "      <td>37723</td>\n",
       "      <td>Anomalies of the Forest</td>\n",
       "      <td>2011</td>\n",
       "      <td>Frozen Mist</td>\n",
       "      <td>United States</td>\n",
       "      <td>Active</td>\n",
       "      <td>...</td>\n",
       "      <td>every now and then i stumble upon a really coo...</td>\n",
       "      <td>everi now and then i stumbl upon a realli cool...</td>\n",
       "      <td>frozen mist white nois paranorm</td>\n",
       "      <td>every now and then i stumble upon a really coo...</td>\n",
       "      <td>frozen mist white noise paranormal</td>\n",
       "      <td>0.9810</td>\n",
       "      <td>15</td>\n",
       "      <td>new_style</td>\n",
       "      <td>mid_album</td>\n",
       "      <td>Average Metal</td>\n",
       "    </tr>\n",
       "    <tr>\n",
       "      <td>21507</td>\n",
       "      <td>28065</td>\n",
       "      <td>Terrifying experimental death metal</td>\n",
       "      <td>0.80</td>\n",
       "      <td>Crawling out from Montoursville Pennysylvania ...</td>\n",
       "      <td>37723</td>\n",
       "      <td>Anomalies of the Forest</td>\n",
       "      <td>2011</td>\n",
       "      <td>Frozen Mist</td>\n",
       "      <td>United States</td>\n",
       "      <td>Active</td>\n",
       "      <td>...</td>\n",
       "      <td>crawling out from montoursville pennysylvania ...</td>\n",
       "      <td>crawl out from montoursvil pennysylvania usa f...</td>\n",
       "      <td>terrifi experiment death metal</td>\n",
       "      <td>crawling out from montoursville pennysylvania ...</td>\n",
       "      <td>terrifying experimental death metal</td>\n",
       "      <td>0.9803</td>\n",
       "      <td>15</td>\n",
       "      <td>new_style</td>\n",
       "      <td>mid_album</td>\n",
       "      <td>Average Metal</td>\n",
       "    </tr>\n",
       "    <tr>\n",
       "      <td>21508</td>\n",
       "      <td>28066</td>\n",
       "      <td>Frozen Mist Anomalies Of The Forest</td>\n",
       "      <td>0.80</td>\n",
       "      <td>Deep in the mountain forest of Pennsylvania lu...</td>\n",
       "      <td>37723</td>\n",
       "      <td>Mother Earth Pantheon</td>\n",
       "      <td>2012</td>\n",
       "      <td>Frozen Mist</td>\n",
       "      <td>United States</td>\n",
       "      <td>Active</td>\n",
       "      <td>...</td>\n",
       "      <td>deep in the mountain forest of pennsylvania lu...</td>\n",
       "      <td>deep in the mountain forest of pennsylvania lu...</td>\n",
       "      <td>frozen mist anomali of the forest</td>\n",
       "      <td>deep in the mountain forest of pennsylvania lu...</td>\n",
       "      <td>frozen mist anomaly of the forest</td>\n",
       "      <td>-0.4188</td>\n",
       "      <td>15</td>\n",
       "      <td>new_style</td>\n",
       "      <td>mid_album</td>\n",
       "      <td>Average Metal</td>\n",
       "    </tr>\n",
       "    <tr>\n",
       "      <td>21509</td>\n",
       "      <td>28067</td>\n",
       "      <td>Frozen Mist - Mother Earth Pantheon</td>\n",
       "      <td>0.70</td>\n",
       "      <td>I'm not really familiarized with the Pennsylva...</td>\n",
       "      <td>37723</td>\n",
       "      <td>Paganwinds</td>\n",
       "      <td>2014</td>\n",
       "      <td>Frozen Mist</td>\n",
       "      <td>United States</td>\n",
       "      <td>Active</td>\n",
       "      <td>...</td>\n",
       "      <td>i 'm not really familiarized with the pennsylv...</td>\n",
       "      <td>i 'm not realli familiar with the pennsylvania...</td>\n",
       "      <td>frozen mist - mother earth pantheon</td>\n",
       "      <td>i 'm not really familiarized with the pennsylv...</td>\n",
       "      <td>frozen mist - mother earth pantheon</td>\n",
       "      <td>0.9958</td>\n",
       "      <td>15</td>\n",
       "      <td>new_style</td>\n",
       "      <td>mid_album</td>\n",
       "      <td>Average Metal</td>\n",
       "    </tr>\n",
       "  </tbody>\n",
       "</table>\n",
       "<p>21510 rows × 28 columns</p>\n",
       "</div>"
      ],
      "text/plain": [
       "       album                            review_title  score  \\\n",
       "0          4      The Killer Count Just Keeps Rising   0.88   \n",
       "1          5   A gem of heterogeneous death metal...   0.96   \n",
       "2          8  Fantasic, if mostly for its influences   0.83   \n",
       "3         45                 A rare, lost hidden gem   0.80   \n",
       "4         54    Pure, but flayed and covered in soot   0.92   \n",
       "...      ...                                     ...    ...   \n",
       "21505  28061                              Delightful   0.89   \n",
       "21506  28065      Frozen Mist White Noise Paranormal   0.80   \n",
       "21507  28065     Terrifying experimental death metal   0.80   \n",
       "21508  28066     Frozen Mist Anomalies Of The Forest   0.80   \n",
       "21509  28067     Frozen Mist - Mother Earth Pantheon   0.70   \n",
       "\n",
       "                                                 content   band  \\\n",
       "0      When I first threw this on I really didnt know...      7   \n",
       "1      Several years ago I bought from a band member,...      7   \n",
       "2      What a wonderful release this is. ‘Vox Fatum’ ...      7   \n",
       "3      Picture this: crushing, brutal death metal, wi...     43   \n",
       "4      Abhordium's When Depravity Incarnates is an ex...     60   \n",
       "...                                                  ...    ...   \n",
       "21505  What can a man accomplish in two years? Well, ...  37723   \n",
       "21506  Every now and then I stumble upon a really coo...  37723   \n",
       "21507  Crawling out from Montoursville Pennysylvania ...  37723   \n",
       "21508  Deep in the mountain forest of Pennsylvania lu...  37723   \n",
       "21509  I'm not really familiarized with the Pennsylva...  37723   \n",
       "\n",
       "                   album_title  year             band_name        country  \\\n",
       "0             Génesis & horror  2002                  1917          Other   \n",
       "1                       Vision  2004                  1917          Other   \n",
       "2       Brutal Miserable Drama  2010                  1917          Other   \n",
       "3               Virtus Diaboli  2013             Abdicated          Other   \n",
       "4            You Only Die Once  2015  Abhorrent Aggression  United States   \n",
       "...                        ...   ...                   ...            ...   \n",
       "21505                Sapphiric  2006           Frozen Mist  United States   \n",
       "21506  Anomalies of the Forest  2011           Frozen Mist  United States   \n",
       "21507  Anomalies of the Forest  2011           Frozen Mist  United States   \n",
       "21508    Mother Earth Pantheon  2012           Frozen Mist  United States   \n",
       "21509               Paganwinds  2014           Frozen Mist  United States   \n",
       "\n",
       "         status  ...                                        nlp_content  \\\n",
       "0        Active  ...  when i first threw this on i really didnt know...   \n",
       "1        Active  ...  several years ago i bought from a band member ...   \n",
       "2        Active  ...  what a wonderful release this is . ‘ vox fatum...   \n",
       "3        Active  ...  picture this : crushing , brutal death metal ,...   \n",
       "4      Split-up  ...  abhordium 's when depravity incarnates is an e...   \n",
       "...         ...  ...                                                ...   \n",
       "21505    Active  ...  what can a man accomplish in two years ? well ...   \n",
       "21506    Active  ...  every now and then i stumble upon a really coo...   \n",
       "21507    Active  ...  crawling out from montoursville pennysylvania ...   \n",
       "21508    Active  ...  deep in the mountain forest of pennsylvania lu...   \n",
       "21509    Active  ...  i 'm not really familiarized with the pennsylv...   \n",
       "\n",
       "                                        nlp_content_stem  \\\n",
       "0      when i first threw thi on i realli didnt know ...   \n",
       "1      sever year ago i bought from a band member , t...   \n",
       "2      what a wonder releas thi is . ‘ vox fatum ’ is...   \n",
       "3      pictur thi : crush , brutal death metal , with...   \n",
       "4      abhordium 's when deprav incarn is an extrem p...   \n",
       "...                                                  ...   \n",
       "21505  what can a man accomplish in two year ? well ,...   \n",
       "21506  everi now and then i stumbl upon a realli cool...   \n",
       "21507  crawl out from montoursvil pennysylvania usa f...   \n",
       "21508  deep in the mountain forest of pennsylvania lu...   \n",
       "21509  i 'm not realli familiar with the pennsylvania...   \n",
       "\n",
       "                            nlp_title_stem  \\\n",
       "0          the killer count just keep rise   \n",
       "1       a gem of heterogen death metal ...   \n",
       "2       fantas , if mostli for it influenc   \n",
       "3                 a rare , lost hidden gem   \n",
       "4        pure , but flay and cover in soot   \n",
       "...                                    ...   \n",
       "21505                              delight   \n",
       "21506      frozen mist white nois paranorm   \n",
       "21507       terrifi experiment death metal   \n",
       "21508    frozen mist anomali of the forest   \n",
       "21509  frozen mist - mother earth pantheon   \n",
       "\n",
       "                                        nlp_content_lemm  \\\n",
       "0      when i first threw this on i really didnt know...   \n",
       "1      several year ago i bought from a band member ,...   \n",
       "2      what a wonderful release this is . ‘ vox fatum...   \n",
       "3      picture this : crushing , brutal death metal ,...   \n",
       "4      abhordium 's when depravity incarnates is an e...   \n",
       "...                                                  ...   \n",
       "21505  what can a man accomplish in two year ? well ,...   \n",
       "21506  every now and then i stumble upon a really coo...   \n",
       "21507  crawling out from montoursville pennysylvania ...   \n",
       "21508  deep in the mountain forest of pennsylvania lu...   \n",
       "21509  i 'm not really familiarized with the pennsylv...   \n",
       "\n",
       "                               nlp_title_lemm sentiment  active_years  \\\n",
       "0           the killer count just keep rising    0.9936            25   \n",
       "1      a gem of heterogeneous death metal ...    0.9824            25   \n",
       "2       fantasic , if mostly for it influence    0.9957            25   \n",
       "3                    a rare , lost hidden gem   -0.4926            10   \n",
       "4       pure , but flayed and covered in soot    0.9989             3   \n",
       "...                                       ...       ...           ...   \n",
       "21505                              delightful    0.8408            15   \n",
       "21506      frozen mist white noise paranormal    0.9810            15   \n",
       "21507     terrifying experimental death metal    0.9803            15   \n",
       "21508       frozen mist anomaly of the forest   -0.4188            15   \n",
       "21509     frozen mist - mother earth pantheon    0.9958            15   \n",
       "\n",
       "          old_new time_of_career          label  \n",
       "0      old_school    early_album    Must Listen  \n",
       "1      old_school    early_album    Must Listen  \n",
       "2      old_school      mid_album  Average Metal  \n",
       "3       new_style    early_album  Average Metal  \n",
       "4       new_style     late_album    Must Listen  \n",
       "...           ...            ...            ...  \n",
       "21505   new_style    early_album    Must Listen  \n",
       "21506   new_style      mid_album  Average Metal  \n",
       "21507   new_style      mid_album  Average Metal  \n",
       "21508   new_style      mid_album  Average Metal  \n",
       "21509   new_style      mid_album  Average Metal  \n",
       "\n",
       "[21510 rows x 28 columns]"
      ]
     },
     "execution_count": 43,
     "metadata": {},
     "output_type": "execute_result"
    }
   ],
   "source": [
    "data"
   ]
  },
  {
   "cell_type": "markdown",
   "metadata": {},
   "source": [
    "## Models and Predictions"
   ]
  },
  {
   "cell_type": "markdown",
   "metadata": {},
   "source": [
    "- Try GridSearch with LogisticRegression and RandomForest\n",
    "- KFold validation for every model"
   ]
  },
  {
   "cell_type": "code",
   "execution_count": 44,
   "metadata": {},
   "outputs": [],
   "source": [
    "data_test = data[['country','active_status','genre','year_cate','sentiment','active_years','old_new','time_of_career']]"
   ]
  },
  {
   "cell_type": "code",
   "execution_count": 45,
   "metadata": {},
   "outputs": [],
   "source": [
    "test = pd.get_dummies(data_test)"
   ]
  },
  {
   "cell_type": "code",
   "execution_count": 46,
   "metadata": {},
   "outputs": [],
   "source": [
    "X=pd.concat([tfidf_matrix,test],axis=1)\n",
    "y=data['label']"
   ]
  },
  {
   "cell_type": "code",
   "execution_count": 47,
   "metadata": {
    "scrolled": true
   },
   "outputs": [],
   "source": [
    "X_train, X_test, y_train, y_test = train_test_split(X, y, test_size=0.3, random_state=42)"
   ]
  },
  {
   "cell_type": "markdown",
   "metadata": {},
   "source": [
    "#### LogisticRegression"
   ]
  },
  {
   "cell_type": "code",
   "execution_count": 48,
   "metadata": {},
   "outputs": [],
   "source": [
    "lr_clf = LogisticRegression(C = 0.5, penalty='l2',multi_class='ovr',solver='liblinear')"
   ]
  },
  {
   "cell_type": "code",
   "execution_count": 49,
   "metadata": {},
   "outputs": [
    {
     "data": {
      "text/plain": [
       "LogisticRegression(C=0.5, class_weight=None, dual=False, fit_intercept=True,\n",
       "                   intercept_scaling=1, l1_ratio=None, max_iter=100,\n",
       "                   multi_class='ovr', n_jobs=None, penalty='l2',\n",
       "                   random_state=None, solver='liblinear', tol=0.0001, verbose=0,\n",
       "                   warm_start=False)"
      ]
     },
     "execution_count": 49,
     "metadata": {},
     "output_type": "execute_result"
    }
   ],
   "source": [
    "lr_clf.fit(X_train,y_train)"
   ]
  },
  {
   "cell_type": "code",
   "execution_count": 50,
   "metadata": {},
   "outputs": [
    {
     "name": "stdout",
     "output_type": "stream",
     "text": [
      "               precision    recall  f1-score   support\n",
      "\n",
      "Average Metal       0.64      0.67      0.66      2667\n",
      "      Garbage       0.70      0.46      0.55       952\n",
      "  Must Listen       0.72      0.78      0.75      2834\n",
      "\n",
      "     accuracy                           0.69      6453\n",
      "    macro avg       0.69      0.64      0.65      6453\n",
      " weighted avg       0.69      0.69      0.68      6453\n",
      "\n"
     ]
    }
   ],
   "source": [
    "y_pred_lr = lr_clf.predict(X_test)\n",
    "print(classification_report(y_test, y_pred_lr))"
   ]
  },
  {
   "cell_type": "code",
   "execution_count": 51,
   "metadata": {},
   "outputs": [],
   "source": [
    "parameters = {'C':[0.1,0.5,1.0], 'penalty':['l1','l2']}"
   ]
  },
  {
   "cell_type": "code",
   "execution_count": 52,
   "metadata": {},
   "outputs": [],
   "source": [
    "lr_CV = GridSearchCV(estimator=lr_clf, param_grid=parameters, cv= 5)"
   ]
  },
  {
   "cell_type": "code",
   "execution_count": 53,
   "metadata": {},
   "outputs": [
    {
     "data": {
      "text/plain": [
       "GridSearchCV(cv=5, error_score='raise-deprecating',\n",
       "             estimator=LogisticRegression(C=0.5, class_weight=None, dual=False,\n",
       "                                          fit_intercept=True,\n",
       "                                          intercept_scaling=1, l1_ratio=None,\n",
       "                                          max_iter=100, multi_class='ovr',\n",
       "                                          n_jobs=None, penalty='l2',\n",
       "                                          random_state=None, solver='liblinear',\n",
       "                                          tol=0.0001, verbose=0,\n",
       "                                          warm_start=False),\n",
       "             iid='warn', n_jobs=None,\n",
       "             param_grid={'C': [0.1, 0.5, 1.0], 'penalty': ['l1', 'l2']},\n",
       "             pre_dispatch='2*n_jobs', refit=True, return_train_score=False,\n",
       "             scoring=None, verbose=0)"
      ]
     },
     "execution_count": 53,
     "metadata": {},
     "output_type": "execute_result"
    }
   ],
   "source": [
    "lr_CV.fit(X,y)"
   ]
  },
  {
   "cell_type": "code",
   "execution_count": 54,
   "metadata": {},
   "outputs": [
    {
     "data": {
      "text/plain": [
       "{'mean_fit_time': array([1.19126081, 1.56625524, 5.73989649, 2.00652924, 7.46617279,\n",
       "        2.41439843]),\n",
       " 'std_fit_time': array([0.11074475, 0.06477378, 0.7677845 , 0.02038265, 0.84835911,\n",
       "        0.05138734]),\n",
       " 'mean_score_time': array([0.01163044, 0.01848345, 0.01060982, 0.01884093, 0.01118178,\n",
       "        0.01901503]),\n",
       " 'std_score_time': array([0.00043423, 0.00024131, 0.00078129, 0.00048132, 0.00013753,\n",
       "        0.0011453 ]),\n",
       " 'param_C': masked_array(data=[0.1, 0.1, 0.5, 0.5, 1.0, 1.0],\n",
       "              mask=[False, False, False, False, False, False],\n",
       "        fill_value='?',\n",
       "             dtype=object),\n",
       " 'param_penalty': masked_array(data=['l1', 'l2', 'l1', 'l2', 'l1', 'l2'],\n",
       "              mask=[False, False, False, False, False, False],\n",
       "        fill_value='?',\n",
       "             dtype=object),\n",
       " 'params': [{'C': 0.1, 'penalty': 'l1'},\n",
       "  {'C': 0.1, 'penalty': 'l2'},\n",
       "  {'C': 0.5, 'penalty': 'l1'},\n",
       "  {'C': 0.5, 'penalty': 'l2'},\n",
       "  {'C': 1.0, 'penalty': 'l1'},\n",
       "  {'C': 1.0, 'penalty': 'l2'}],\n",
       " 'split0_test_score': array([0.46641878, 0.47478503, 0.46758076, 0.47013711, 0.46618638,\n",
       "        0.46758076]),\n",
       " 'split1_test_score': array([0.65504417, 0.66527197, 0.69293352, 0.68456532, 0.68781962,\n",
       "        0.68456532]),\n",
       " 'split2_test_score': array([0.65434682, 0.65760112, 0.69270107, 0.68154347, 0.69130637,\n",
       "        0.68596002]),\n",
       " 'split3_test_score': array([0.66899117, 0.67410507, 0.69502557, 0.68758717, 0.69107392,\n",
       "        0.68921432]),\n",
       " 'split4_test_score': array([0.64450128, 0.65031388, 0.67821437, 0.6744943 , 0.67333178,\n",
       "        0.6744943 ]),\n",
       " 'mean_test_score': array([0.61785216, 0.62440725, 0.64528126, 0.63965597, 0.64193398,\n",
       "        0.64035332]),\n",
       " 'std_test_score': array([0.07612846, 0.07523914, 0.08906517, 0.08488293, 0.08813382,\n",
       "        0.08653866]),\n",
       " 'rank_test_score': array([6, 5, 1, 4, 2, 3], dtype=int32)}"
      ]
     },
     "execution_count": 54,
     "metadata": {},
     "output_type": "execute_result"
    }
   ],
   "source": [
    "lr_CV.cv_results_"
   ]
  },
  {
   "cell_type": "markdown",
   "metadata": {},
   "source": [
    "#### DecisionTree"
   ]
  },
  {
   "cell_type": "code",
   "execution_count": 55,
   "metadata": {},
   "outputs": [],
   "source": [
    "dt_clf = DecisionTreeClassifier(criterion='entropy')"
   ]
  },
  {
   "cell_type": "code",
   "execution_count": 56,
   "metadata": {},
   "outputs": [
    {
     "data": {
      "text/plain": [
       "DecisionTreeClassifier(class_weight=None, criterion='entropy', max_depth=None,\n",
       "                       max_features=None, max_leaf_nodes=None,\n",
       "                       min_impurity_decrease=0.0, min_impurity_split=None,\n",
       "                       min_samples_leaf=1, min_samples_split=2,\n",
       "                       min_weight_fraction_leaf=0.0, presort=False,\n",
       "                       random_state=None, splitter='best')"
      ]
     },
     "execution_count": 56,
     "metadata": {},
     "output_type": "execute_result"
    }
   ],
   "source": [
    "dt_clf.fit(X_train,y_train)"
   ]
  },
  {
   "cell_type": "code",
   "execution_count": 57,
   "metadata": {},
   "outputs": [
    {
     "name": "stdout",
     "output_type": "stream",
     "text": [
      "               precision    recall  f1-score   support\n",
      "\n",
      "Average Metal       0.50      0.51      0.50      2667\n",
      "      Garbage       0.33      0.35      0.34       952\n",
      "  Must Listen       0.59      0.57      0.58      2834\n",
      "\n",
      "     accuracy                           0.51      6453\n",
      "    macro avg       0.47      0.47      0.47      6453\n",
      " weighted avg       0.51      0.51      0.51      6453\n",
      "\n"
     ]
    }
   ],
   "source": [
    "y_pred_dt = dt_clf.predict(X_test)\n",
    "print(classification_report(y_test, y_pred_dt))"
   ]
  },
  {
   "cell_type": "markdown",
   "metadata": {},
   "source": [
    "#### RandomForest"
   ]
  },
  {
   "cell_type": "code",
   "execution_count": 58,
   "metadata": {},
   "outputs": [],
   "source": [
    "rf_clf = RandomForestClassifier(criterion='entropy',max_depth=100,n_estimators=100,n_jobs=-1)"
   ]
  },
  {
   "cell_type": "code",
   "execution_count": 59,
   "metadata": {},
   "outputs": [
    {
     "data": {
      "text/plain": [
       "RandomForestClassifier(bootstrap=True, class_weight=None, criterion='entropy',\n",
       "                       max_depth=100, max_features='auto', max_leaf_nodes=None,\n",
       "                       min_impurity_decrease=0.0, min_impurity_split=None,\n",
       "                       min_samples_leaf=1, min_samples_split=2,\n",
       "                       min_weight_fraction_leaf=0.0, n_estimators=100,\n",
       "                       n_jobs=-1, oob_score=False, random_state=None, verbose=0,\n",
       "                       warm_start=False)"
      ]
     },
     "execution_count": 59,
     "metadata": {},
     "output_type": "execute_result"
    }
   ],
   "source": [
    "rf_clf.fit(X_train,y_train)"
   ]
  },
  {
   "cell_type": "code",
   "execution_count": 60,
   "metadata": {},
   "outputs": [
    {
     "name": "stdout",
     "output_type": "stream",
     "text": [
      "               precision    recall  f1-score   support\n",
      "\n",
      "Average Metal       0.58      0.67      0.62      2667\n",
      "      Garbage       0.84      0.20      0.33       952\n",
      "  Must Listen       0.68      0.75      0.71      2834\n",
      "\n",
      "     accuracy                           0.64      6453\n",
      "    macro avg       0.70      0.54      0.55      6453\n",
      " weighted avg       0.66      0.64      0.62      6453\n",
      "\n"
     ]
    }
   ],
   "source": [
    "y_pred_rf = rf_clf.predict(X_test)\n",
    "print(classification_report(y_test, y_pred_rf))"
   ]
  },
  {
   "cell_type": "code",
   "execution_count": 61,
   "metadata": {},
   "outputs": [],
   "source": [
    "parameters = {'criterion':['entropy', 'gini'], 'max_depth':[75,100],'n_estimators':[75,100]}"
   ]
  },
  {
   "cell_type": "code",
   "execution_count": 62,
   "metadata": {},
   "outputs": [],
   "source": [
    "rf_CV = GridSearchCV(estimator=rf_clf, param_grid=parameters, cv=5)"
   ]
  },
  {
   "cell_type": "code",
   "execution_count": 63,
   "metadata": {},
   "outputs": [
    {
     "data": {
      "text/plain": [
       "GridSearchCV(cv=5, error_score='raise-deprecating',\n",
       "             estimator=RandomForestClassifier(bootstrap=True, class_weight=None,\n",
       "                                              criterion='entropy',\n",
       "                                              max_depth=100,\n",
       "                                              max_features='auto',\n",
       "                                              max_leaf_nodes=None,\n",
       "                                              min_impurity_decrease=0.0,\n",
       "                                              min_impurity_split=None,\n",
       "                                              min_samples_leaf=1,\n",
       "                                              min_samples_split=2,\n",
       "                                              min_weight_fraction_leaf=0.0,\n",
       "                                              n_estimators=100, n_jobs=-1,\n",
       "                                              oob_score=False,\n",
       "                                              random_state=None, verbose=0,\n",
       "                                              warm_start=False),\n",
       "             iid='warn', n_jobs=None,\n",
       "             param_grid={'criterion': ['entropy', 'gini'],\n",
       "                         'max_depth': [75, 100], 'n_estimators': [75, 100]},\n",
       "             pre_dispatch='2*n_jobs', refit=True, return_train_score=False,\n",
       "             scoring=None, verbose=0)"
      ]
     },
     "execution_count": 63,
     "metadata": {},
     "output_type": "execute_result"
    }
   ],
   "source": [
    "rf_CV.fit(X,y)"
   ]
  },
  {
   "cell_type": "code",
   "execution_count": 64,
   "metadata": {},
   "outputs": [
    {
     "data": {
      "text/plain": [
       "{'mean_fit_time': array([3.24439335, 4.02689967, 2.83343725, 3.70779905, 2.2296361 ,\n",
       "        2.8933547 , 2.20210395, 2.8808352 ]),\n",
       " 'std_fit_time': array([0.78524473, 0.53619432, 0.02026665, 0.05329094, 0.01578809,\n",
       "        0.01227208, 0.01591209, 0.02086935]),\n",
       " 'mean_score_time': array([0.13499479, 0.13144341, 0.13035793, 0.12856059, 0.12724681,\n",
       "        0.12953906, 0.12902527, 0.13011279]),\n",
       " 'std_score_time': array([0.00964147, 0.00318751, 0.00275847, 0.00354907, 0.00250043,\n",
       "        0.0030931 , 0.00300434, 0.00334837]),\n",
       " 'param_criterion': masked_array(data=['entropy', 'entropy', 'entropy', 'entropy', 'gini',\n",
       "                    'gini', 'gini', 'gini'],\n",
       "              mask=[False, False, False, False, False, False, False, False],\n",
       "        fill_value='?',\n",
       "             dtype=object),\n",
       " 'param_max_depth': masked_array(data=[75, 75, 100, 100, 75, 75, 100, 100],\n",
       "              mask=[False, False, False, False, False, False, False, False],\n",
       "        fill_value='?',\n",
       "             dtype=object),\n",
       " 'param_n_estimators': masked_array(data=[75, 100, 75, 100, 75, 100, 75, 100],\n",
       "              mask=[False, False, False, False, False, False, False, False],\n",
       "        fill_value='?',\n",
       "             dtype=object),\n",
       " 'params': [{'criterion': 'entropy', 'max_depth': 75, 'n_estimators': 75},\n",
       "  {'criterion': 'entropy', 'max_depth': 75, 'n_estimators': 100},\n",
       "  {'criterion': 'entropy', 'max_depth': 100, 'n_estimators': 75},\n",
       "  {'criterion': 'entropy', 'max_depth': 100, 'n_estimators': 100},\n",
       "  {'criterion': 'gini', 'max_depth': 75, 'n_estimators': 75},\n",
       "  {'criterion': 'gini', 'max_depth': 75, 'n_estimators': 100},\n",
       "  {'criterion': 'gini', 'max_depth': 100, 'n_estimators': 75},\n",
       "  {'criterion': 'gini', 'max_depth': 100, 'n_estimators': 100}],\n",
       " 'split0_test_score': array([0.61561701, 0.63769463, 0.62653962, 0.62886358, 0.59818731,\n",
       "        0.62282129, 0.62607483, 0.59353939]),\n",
       " 'split1_test_score': array([0.64760576, 0.64481636, 0.64272431, 0.64202696, 0.64388656,\n",
       "        0.64621106, 0.63133426, 0.64249186]),\n",
       " 'split2_test_score': array([0.63668061, 0.63598326, 0.64876801, 0.64830311, 0.63063691,\n",
       "        0.64086471, 0.63714551, 0.64504881]),\n",
       " 'split3_test_score': array([0.63807531, 0.64109716, 0.64435146, 0.64318921, 0.64435146,\n",
       "        0.65643887, 0.64039981, 0.64597861]),\n",
       " 'split4_test_score': array([0.63008603, 0.6345036 , 0.62590095, 0.63752616, 0.62404092,\n",
       "        0.63171355, 0.62706347, 0.62520344]),\n",
       " 'mean_test_score': array([0.63361227, 0.63881915, 0.6376569 , 0.6399814 , 0.62821943,\n",
       "        0.63960948, 0.63240353, 0.63045095]),\n",
       " 'std_test_score': array([0.01059705, 0.00371706, 0.0095472 , 0.00653279, 0.01691827,\n",
       "        0.01159849, 0.00558823, 0.01994743]),\n",
       " 'rank_test_score': array([5, 3, 4, 1, 8, 2, 6, 7], dtype=int32)}"
      ]
     },
     "execution_count": 64,
     "metadata": {},
     "output_type": "execute_result"
    }
   ],
   "source": [
    "rf_CV.cv_results_"
   ]
  },
  {
   "cell_type": "markdown",
   "metadata": {},
   "source": [
    "#### XGBoost"
   ]
  },
  {
   "cell_type": "code",
   "execution_count": 65,
   "metadata": {},
   "outputs": [],
   "source": [
    "xgb=XGBClassifier(max_depth=5,n_estimators=100,n_jobs=-1)"
   ]
  },
  {
   "cell_type": "code",
   "execution_count": 66,
   "metadata": {},
   "outputs": [
    {
     "data": {
      "text/plain": [
       "XGBClassifier(base_score=0.5, booster='gbtree', colsample_bylevel=1,\n",
       "              colsample_bynode=1, colsample_bytree=1, gamma=0,\n",
       "              learning_rate=0.1, max_delta_step=0, max_depth=5,\n",
       "              min_child_weight=1, missing=None, n_estimators=100, n_jobs=-1,\n",
       "              nthread=None, objective='multi:softprob', random_state=0,\n",
       "              reg_alpha=0, reg_lambda=1, scale_pos_weight=1, seed=None,\n",
       "              silent=None, subsample=1, verbosity=1)"
      ]
     },
     "execution_count": 66,
     "metadata": {},
     "output_type": "execute_result"
    }
   ],
   "source": [
    "xgb.fit(X_train,y_train)"
   ]
  },
  {
   "cell_type": "code",
   "execution_count": 67,
   "metadata": {},
   "outputs": [
    {
     "name": "stdout",
     "output_type": "stream",
     "text": [
      "               precision    recall  f1-score   support\n",
      "\n",
      "Average Metal       0.63      0.68      0.65      2667\n",
      "      Garbage       0.71      0.41      0.52       952\n",
      "  Must Listen       0.71      0.76      0.73      2834\n",
      "\n",
      "     accuracy                           0.67      6453\n",
      "    macro avg       0.68      0.62      0.64      6453\n",
      " weighted avg       0.68      0.67      0.67      6453\n",
      "\n"
     ]
    }
   ],
   "source": [
    "y_pred_xgb = xgb.predict(X_test)\n",
    "print(classification_report(y_test, y_pred_xgb))"
   ]
  },
  {
   "cell_type": "markdown",
   "metadata": {},
   "source": [
    "- KFold Validation\n"
   ]
  },
  {
   "cell_type": "code",
   "execution_count": 68,
   "metadata": {},
   "outputs": [
    {
     "name": "stdout",
     "output_type": "stream",
     "text": [
      "LogisticRegression(C=0.5, class_weight=None, dual=False, fit_intercept=True,\n",
      "                   intercept_scaling=1, l1_ratio=None, max_iter=100,\n",
      "                   multi_class='ovr', n_jobs=None, penalty='l2',\n",
      "                   random_state=None, solver='liblinear', tol=0.0001, verbose=0,\n",
      "                   warm_start=False)\n",
      "Training f1 score is 0.6882645426572077\n",
      "Training precision score is 0.7246493093469945\n",
      "Cross-validation f1 score is 0.6665910530638948\n",
      "Cross-validation precision score is 0.7036927571286276\n",
      "DecisionTreeClassifier(class_weight=None, criterion='gini', max_depth=100,\n",
      "                       max_features=None, max_leaf_nodes=None,\n",
      "                       min_impurity_decrease=0.0, min_impurity_split=None,\n",
      "                       min_samples_leaf=1, min_samples_split=2,\n",
      "                       min_weight_fraction_leaf=0.0, presort=False,\n",
      "                       random_state=None, splitter='best')\n",
      "Training f1 score is 0.8441322713286039\n",
      "Training precision score is 0.8623246546734973\n",
      "Cross-validation f1 score is 0.572479115080557\n",
      "Cross-validation precision score is 0.5911478019962778\n",
      "RandomForestClassifier(bootstrap=True, class_weight=None, criterion='gini',\n",
      "                       max_depth=100, max_features='auto', max_leaf_nodes=None,\n",
      "                       min_impurity_decrease=0.0, min_impurity_split=None,\n",
      "                       min_samples_leaf=1, min_samples_split=2,\n",
      "                       min_weight_fraction_leaf=0.0, n_estimators=100,\n",
      "                       n_jobs=-1, oob_score=False, random_state=None, verbose=0,\n",
      "                       warm_start=False)\n",
      "Training f1 score is 0.8960881808857359\n",
      "Training precision score is 0.9082164364489982\n",
      "Cross-validation f1 score is 0.5673569196603339\n",
      "Cross-validation precision score is 0.6319247297040145\n",
      "XGBClassifier(base_score=0.5, booster='gbtree', colsample_bylevel=1,\n",
      "              colsample_bynode=1, colsample_bytree=1, gamma=0,\n",
      "              learning_rate=0.1, max_delta_step=0, max_depth=5,\n",
      "              min_child_weight=1, missing=None, n_estimators=100, n_jobs=-1,\n",
      "              nthread=None, objective='multi:softprob', random_state=0,\n",
      "              reg_alpha=0, reg_lambda=1, scale_pos_weight=1, seed=None,\n",
      "              silent=None, subsample=1, verbosity=1)\n",
      "Training f1 score is 0.8755006699426859\n",
      "Training precision score is 0.8945525704350683\n",
      "Cross-validation f1 score is 0.5864253577316076\n",
      "Cross-validation precision score is 0.646920803544675\n"
     ]
    }
   ],
   "source": [
    "f1_score_train_all = []\n",
    "accu_score_train_all = []\n",
    "f1_score_cv_all = []\n",
    "accu_score_cv_all = []\n",
    "\n",
    "kf = KFold(n_splits=5,random_state=42,shuffle=True)\n",
    "\n",
    "X=pd.concat([tfidf_matrix,test],axis=1)\n",
    "y=data['label']\n",
    "\n",
    "models = [LogisticRegression(C = 0.5, penalty='l2',multi_class='ovr',solver='liblinear'),\n",
    "        DecisionTreeClassifier(criterion='gini',max_depth=100),\n",
    "        RandomForestClassifier(criterion='gini',max_depth=100,n_estimators=100,n_jobs=-1),\n",
    "        XGBClassifier(max_depth=5,n_estimators=100,n_jobs=-1)]\n",
    "\n",
    "\n",
    "for i in range(len(models)):\n",
    "    model = models[i]\n",
    "    f1_score_cv = []\n",
    "    accu_score_cv = []\n",
    "    f1_score_train = []\n",
    "    accu_score_train = []\n",
    "\n",
    "    for train_index, test_index in kf.split(X,y):\n",
    "        X_train, X_test = X.iloc[train_index], X.iloc[test_index]\n",
    "        y_train, y_test = y[train_index], y[test_index]\n",
    "\n",
    "        model.fit(X_train,y_train)\n",
    "        y_pred = model.predict(X_test)\n",
    "        y_pred_train = model.predict(X_train)\n",
    "\n",
    "        f1_score_train.append(np.mean(f1_score(y_train,y_pred_train,average=None)))\n",
    "        accu_score_train.append(np.mean(precision_score(y_train,y_pred_train,average=None)))\n",
    "        f1_score_cv.append(np.mean(f1_score(y_test,y_pred,average=None)))\n",
    "        accu_score_cv.append(np.mean(precision_score(y_test,y_pred,average=None)))\n",
    "\n",
    "    f1_score_train_all.append(np.mean(f1_score_train))\n",
    "    accu_score_train_all.append(np.mean(accu_score_train))\n",
    "    f1_score_cv_all.append(np.mean(f1_score_cv))\n",
    "    accu_score_cv_all.append(np.mean(accu_score_cv))\n",
    "    print(models[i])\n",
    "    print(f'Training f1 score is {np.mean(f1_score_train_all)}')\n",
    "    print(f'Training precision score is {np.mean(accu_score_train_all)}')\n",
    "    print(f'Cross-validation f1 score is {np.mean(f1_score_cv_all)}')\n",
    "    print(f'Cross-validation precision score is {np.mean(accu_score_cv_all)}')"
   ]
  },
  {
   "cell_type": "code",
   "execution_count": 69,
   "metadata": {},
   "outputs": [
    {
     "data": {
      "image/png": "[encoded data removed]",
      "text/plain": [
       "<Figure size 576x360 with 1 Axes>"
      ]
     },
     "metadata": {
      "needs_background": "light"
     },
     "output_type": "display_data"
    }
   ],
   "source": [
    "ymin = np.min(accu_score_cv_all)-0.05\n",
    "ymax = np.max(accu_score_train_all)+0.05\n",
    "\n",
    "x_ticks = ['LR','DT','RF','XGB']\n",
    "\n",
    "plt.figure(figsize=(8,5))\n",
    "plt.plot(range(len(x_ticks)), accu_score_train_all, 'ro-', label = 'Training')\n",
    "plt.plot(range(len(x_ticks)), accu_score_cv_all, 'bo-', label = 'Cross-validation')\n",
    "\n",
    "plt.xticks(range(len(\n",
    "    x_ticks)),x_ticks,rotation = 45, fontsize = 10)\n",
    "plt.xlabel(\"Algorithm\", fontsize = 12)\n",
    "plt.ylabel(\"Score\", fontsize = 12)\n",
    "plt.xlim(-0.5, 3.5)\n",
    "plt.ylim(ymin, ymax)\n",
    "\n",
    "plt.legend(loc = 'best', fontsize = 12)\n",
    "plt.title(\"Precision Score for Different methods\")\n",
    "\n",
    "plt.tight_layout()"
   ]
  }
 ],
 "metadata": {
  "kernelspec": {
   "display_name": "Python 3",
   "language": "python",
   "name": "python3"
  },
  "language_info": {
   "codemirror_mode": {
    "name": "ipython",
    "version": 3
   },
   "file_extension": ".py",
   "mimetype": "text/x-python",
   "name": "python",
   "nbconvert_exporter": "python",
   "pygments_lexer": "ipython3",
   "version": "3.7.3"
  }
 },
 "nbformat": 4,
 "nbformat_minor": 2
}
